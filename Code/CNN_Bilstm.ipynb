{
  "cells": [
    {
      "cell_type": "code",
      "execution_count": 1,
      "metadata": {
        "colab": {
          "base_uri": "https://localhost:8080/",
          "height": 983
        },
        "id": "-zI1pLbHwfJx",
        "outputId": "f14d0106-4c70-49a4-fd0e-326f52d40abc"
      },
      "outputs": [
        {
          "name": "stdout",
          "output_type": "stream",
          "text": [
            "Collecting git+https://github.com/roshan-research/hazm.git\n",
            "  Cloning https://github.com/roshan-research/hazm.git to /tmp/pip-req-build-oplwcj0_\n",
            "  Running command git clone --filter=blob:none --quiet https://github.com/roshan-research/hazm.git /tmp/pip-req-build-oplwcj0_\n",
            "  Resolved https://github.com/roshan-research/hazm.git to commit 410e5f3e98bc267648b1f8c9e024c15c49c514b7\n",
            "  Installing build dependencies ... \u001b[?25l\u001b[?25hdone\n",
            "  Getting requirements to build wheel ... \u001b[?25l\u001b[?25hdone\n",
            "  Preparing metadata (pyproject.toml) ... \u001b[?25l\u001b[?25hdone\n",
            "Collecting fasttext-wheel<0.10.0,>=0.9.2 (from hazm==0.9.4)\n",
            "  Downloading fasttext_wheel-0.9.2-cp310-cp310-manylinux_2_17_x86_64.manylinux2014_x86_64.whl (4.4 MB)\n",
            "\u001b[2K     \u001b[90m━━━━━━━━━━━━━━━━━━━━━━━━━━━━━━━━━━━━━━━━\u001b[0m \u001b[32m4.4/4.4 MB\u001b[0m \u001b[31m15.2 MB/s\u001b[0m eta \u001b[36m0:00:00\u001b[0m\n",
            "\u001b[?25hCollecting flashtext<3.0,>=2.7 (from hazm==0.9.4)\n",
            "  Downloading flashtext-2.7.tar.gz (14 kB)\n",
            "  Preparing metadata (setup.py) ... \u001b[?25l\u001b[?25hdone\n",
            "Requirement already satisfied: gensim<5.0.0,>=4.3.1 in /usr/local/lib/python3.10/dist-packages (from hazm==0.9.4) (4.3.2)\n",
            "Requirement already satisfied: nltk<4.0.0,>=3.8.1 in /usr/local/lib/python3.10/dist-packages (from hazm==0.9.4) (3.8.1)\n",
            "Collecting numpy==1.24.3 (from hazm==0.9.4)\n",
            "  Downloading numpy-1.24.3-cp310-cp310-manylinux_2_17_x86_64.manylinux2014_x86_64.whl (17.3 MB)\n",
            "\u001b[2K     \u001b[90m━━━━━━━━━━━━━━━━━━━━━━━━━━━━━━━━━━━━━━━━\u001b[0m \u001b[32m17.3/17.3 MB\u001b[0m \u001b[31m27.1 MB/s\u001b[0m eta \u001b[36m0:00:00\u001b[0m\n",
            "\u001b[?25hCollecting python-crfsuite<0.10.0,>=0.9.9 (from hazm==0.9.4)\n",
            "  Downloading python_crfsuite-0.9.9-cp310-cp310-manylinux_2_17_x86_64.manylinux2014_x86_64.whl (993 kB)\n",
            "\u001b[2K     \u001b[90m━━━━━━━━━━━━━━━━━━━━━━━━━━━━━━━━━━━━━━━━\u001b[0m \u001b[32m993.5/993.5 kB\u001b[0m \u001b[31m75.1 MB/s\u001b[0m eta \u001b[36m0:00:00\u001b[0m\n",
            "\u001b[?25hRequirement already satisfied: scikit-learn<2.0.0,>=1.2.2 in /usr/local/lib/python3.10/dist-packages (from hazm==0.9.4) (1.2.2)\n",
            "Collecting pybind11>=2.2 (from fasttext-wheel<0.10.0,>=0.9.2->hazm==0.9.4)\n",
            "  Downloading pybind11-2.11.1-py3-none-any.whl (227 kB)\n",
            "\u001b[2K     \u001b[90m━━━━━━━━━━━━━━━━━━━━━━━━━━━━━━━━━━━━━━━━\u001b[0m \u001b[32m227.7/227.7 kB\u001b[0m \u001b[31m31.0 MB/s\u001b[0m eta \u001b[36m0:00:00\u001b[0m\n",
            "\u001b[?25hRequirement already satisfied: setuptools>=0.7.0 in /usr/local/lib/python3.10/dist-packages (from fasttext-wheel<0.10.0,>=0.9.2->hazm==0.9.4) (67.7.2)\n",
            "Requirement already satisfied: scipy>=1.7.0 in /usr/local/lib/python3.10/dist-packages (from gensim<5.0.0,>=4.3.1->hazm==0.9.4) (1.11.3)\n",
            "Requirement already satisfied: smart-open>=1.8.1 in /usr/local/lib/python3.10/dist-packages (from gensim<5.0.0,>=4.3.1->hazm==0.9.4) (6.4.0)\n",
            "Requirement already satisfied: click in /usr/local/lib/python3.10/dist-packages (from nltk<4.0.0,>=3.8.1->hazm==0.9.4) (8.1.7)\n",
            "Requirement already satisfied: joblib in /usr/local/lib/python3.10/dist-packages (from nltk<4.0.0,>=3.8.1->hazm==0.9.4) (1.3.2)\n",
            "Requirement already satisfied: regex>=2021.8.3 in /usr/local/lib/python3.10/dist-packages (from nltk<4.0.0,>=3.8.1->hazm==0.9.4) (2023.6.3)\n",
            "Requirement already satisfied: tqdm in /usr/local/lib/python3.10/dist-packages (from nltk<4.0.0,>=3.8.1->hazm==0.9.4) (4.66.1)\n",
            "Requirement already satisfied: threadpoolctl>=2.0.0 in /usr/local/lib/python3.10/dist-packages (from scikit-learn<2.0.0,>=1.2.2->hazm==0.9.4) (3.2.0)\n",
            "Building wheels for collected packages: hazm, flashtext\n",
            "  Building wheel for hazm (pyproject.toml) ... \u001b[?25l\u001b[?25hdone\n",
            "  Created wheel for hazm: filename=hazm-0.9.4-py3-none-any.whl size=882187 sha256=15782b5926e7ada6594bcfa7273e671192fb7d19d2f0d9f7bc5ae79c889912f6\n",
            "  Stored in directory: /tmp/pip-ephem-wheel-cache-ovvby9ca/wheels/55/89/b4/56e12f36fffd749eba685e3c99fbb1d69a9029a8e0dac2a0f1\n",
            "  Building wheel for flashtext (setup.py) ... \u001b[?25l\u001b[?25hdone\n",
            "  Created wheel for flashtext: filename=flashtext-2.7-py2.py3-none-any.whl size=9297 sha256=2f3904011bd5e5f4ff5bf9cb2f064f7a55ecba26b1baf5809e2b7d3decddeff9\n",
            "  Stored in directory: /root/.cache/pip/wheels/bc/be/39/c37ad168eb2ff644c9685f52554440372129450f0b8ed203dd\n",
            "Successfully built hazm flashtext\n",
            "Installing collected packages: python-crfsuite, flashtext, pybind11, numpy, fasttext-wheel, hazm\n",
            "  Attempting uninstall: numpy\n",
            "    Found existing installation: numpy 1.23.5\n",
            "    Uninstalling numpy-1.23.5:\n",
            "      Successfully uninstalled numpy-1.23.5\n",
            "\u001b[31mERROR: pip's dependency resolver does not currently take into account all the packages that are installed. This behaviour is the source of the following dependency conflicts.\n",
            "numba 0.56.4 requires numpy<1.24,>=1.18, but you have numpy 1.24.3 which is incompatible.\u001b[0m\u001b[31m\n",
            "\u001b[0mSuccessfully installed fasttext-wheel-0.9.2 flashtext-2.7 hazm-0.9.4 numpy-1.24.3 pybind11-2.11.1 python-crfsuite-0.9.9\n"
          ]
        },
        {
          "data": {
            "application/vnd.colab-display-data+json": {
              "pip_warning": {
                "packages": [
                  "numpy"
                ]
              }
            }
          },
          "metadata": {},
          "output_type": "display_data"
        }
      ],
      "source": [
        "!pip install git+https://github.com/roshan-research/hazm.git"
      ]
    },
    {
      "cell_type": "code",
      "execution_count": 1,
      "metadata": {
        "id": "Ms2ld7R4whHA"
      },
      "outputs": [],
      "source": [
        "!pip install -q hazm\n",
        "!pip install -q scikit-plot"
      ]
    },
    {
      "cell_type": "code",
      "execution_count": 2,
      "metadata": {
        "id": "fPNsSw0twhDq"
      },
      "outputs": [],
      "source": [
        "import pandas as pd\n",
        "import numpy as np\n",
        "from sklearn.utils import shuffle\n",
        "import re\n",
        "from __future__ import unicode_literals\n",
        "from hazm import Normalizer, word_tokenize\n",
        "import plotly.express as px\n",
        "import plotly.graph_objects as go\n",
        "from sklearn.utils import class_weight\n",
        "import torch\n",
        "from torch.nn.utils.rnn import pad_sequence\n",
        "from torch.utils.data import DataLoader,Dataset\n",
        "import matplotlib.pyplot as plt\n",
        "import torch.nn as nn\n",
        "import torch.nn.functional as F\n",
        "import torch.optim as optim\n",
        "from sklearn.metrics import f1_score\n",
        "from sklearn.metrics import precision_score\n",
        "from sklearn.metrics import recall_score\n",
        "from sklearn.metrics import accuracy_score\n",
        "from sklearn.metrics import confusion_matrix,classification_report\n",
        "import warnings\n",
        "warnings.filterwarnings(action='ignore')\n"
      ]
    },
    {
      "cell_type": "code",
      "execution_count": 3,
      "metadata": {
        "id": "AJ_1S7XqwhAx"
      },
      "outputs": [],
      "source": [
        "train_df = pd.read_csv('/content/train.csv',encoding ='utf-8')\n",
        "test_df = pd.read_csv('/content/test.csv',encoding ='utf-8')\n",
        "train_related_df = pd.read_csv('/content/train_related.csv',encoding ='utf-8')\n",
        "test_related_df= pd.read_csv('/content/test_related.csv',encoding ='utf-8')\n",
        "train_related_specific_df = pd.read_csv('/content/train_related_specific.csv',encoding ='utf-8')\n",
        "test_related_specific_df = pd.read_csv('/content/test_related_specific.csv',encoding ='utf-8')\n",
        "\n",
        "\n",
        "data_classes_= [-1,0,1]\n",
        "d=dict(zip(data_classes_, range(0,3)))\n",
        "train_related_df['InRelationship']=train_related_df['InRelationship'].map(d, na_action='ignore')\n",
        "test_related_df['InRelationship']=test_related_df['InRelationship'].map(d, na_action='ignore')\n",
        "\n",
        "\n",
        "\n",
        "train_df.drop(['Unnamed: 0'], axis=1,inplace=True)\n",
        "test_df.drop(['Unnamed: 0'], axis=1,inplace=True)\n",
        "train_related_df.drop(['Unnamed: 0'], axis=1,inplace=True)\n",
        "test_related_df.drop(['Unnamed: 0'], axis=1,inplace=True)\n",
        "train_related_specific_df.drop(['Unnamed: 0'], axis=1,inplace=True)\n",
        "test_related_specific_df.drop(['Unnamed: 0'], axis=1,inplace=True)"
      ]
    },
    {
      "cell_type": "code",
      "execution_count": 6,
      "metadata": {
        "id": "LGT3Tcpzwg-Q"
      },
      "outputs": [],
      "source": [
        "def get_tokens(text):\n",
        "  tokens = word_tokenize(text) # tokenize\n",
        "  # without_stopwords = [token for token in tokens if token not in stopwords] # remove stopwords\n",
        "  return tokens"
      ]
    },
    {
      "cell_type": "code",
      "execution_count": 7,
      "metadata": {
        "id": "Xs789m4Ux9GQ"
      },
      "outputs": [],
      "source": [
        "train_df['tokens'] = train_df['Record_text'].apply(lambda t: get_tokens(t))\n",
        "test_df['tokens'] = test_df['Record_text'].apply(lambda t: get_tokens(t))\n",
        "train_related_df['tokens'] = train_related_df['Record_text'].apply(lambda t: get_tokens(t))\n",
        "test_related_df['tokens'] = test_related_df['Record_text'].apply(lambda t: get_tokens(t))\n",
        "train_related_specific_df['tokens'] = train_related_specific_df['Record_text'].apply(lambda t: get_tokens(t))\n",
        "test_related_specific_df['tokens'] = test_related_specific_df['Record_text'].apply(lambda t: get_tokens(t))"
      ]
    },
    {
      "cell_type": "code",
      "execution_count": 8,
      "metadata": {
        "colab": {
          "base_uri": "https://localhost:8080/",
          "height": 820
        },
        "id": "gPZ6HcAEx9C5",
        "outputId": "36fdf2d0-4428-402d-8c08-93640c1d5381"
      },
      "outputs": [
        {
          "data": {
            "text/html": [
              "\n",
              "  <div id=\"df-5f6ae82a-0546-4ad8-85ac-9a31100890e3\" class=\"colab-df-container\">\n",
              "    <div>\n",
              "<style scoped>\n",
              "    .dataframe tbody tr th:only-of-type {\n",
              "        vertical-align: middle;\n",
              "    }\n",
              "\n",
              "    .dataframe tbody tr th {\n",
              "        vertical-align: top;\n",
              "    }\n",
              "\n",
              "    .dataframe thead th {\n",
              "        text-align: right;\n",
              "    }\n",
              "</style>\n",
              "<table border=\"1\" class=\"dataframe\">\n",
              "  <thead>\n",
              "    <tr style=\"text-align: right;\">\n",
              "      <th></th>\n",
              "      <th>Record_text</th>\n",
              "      <th>InRelationship</th>\n",
              "      <th>General_comment_binary</th>\n",
              "      <th>General_comment</th>\n",
              "      <th>Specific_comment_binary</th>\n",
              "      <th>Specific_comment</th>\n",
              "      <th>Comment</th>\n",
              "      <th>Relevance</th>\n",
              "      <th>tokens</th>\n",
              "    </tr>\n",
              "  </thead>\n",
              "  <tbody>\n",
              "    <tr>\n",
              "      <th>1</th>\n",
              "      <td>تو سال جدید تصمیم گرفتم دور دوستای متاهلم رو خ...</td>\n",
              "      <td>0</td>\n",
              "      <td>1</td>\n",
              "      <td>1</td>\n",
              "      <td>0.0</td>\n",
              "      <td>3</td>\n",
              "      <td>بد</td>\n",
              "      <td>1</td>\n",
              "      <td>[تو, سال, جدید, تصمیم, گرفتم, دور, دوستای, متا...</td>\n",
              "    </tr>\n",
              "    <tr>\n",
              "      <th>2</th>\n",
              "      <td>[PLEADING_][PLEADING_][PLEADING_][PLEADING_][P...</td>\n",
              "      <td>2</td>\n",
              "      <td>1</td>\n",
              "      <td>0</td>\n",
              "      <td>1.0</td>\n",
              "      <td>0</td>\n",
              "      <td>خوب</td>\n",
              "      <td>1</td>\n",
              "      <td>[[, PLEADING_, ], [, PLEADING_, ], [, PLEADING...</td>\n",
              "    </tr>\n",
              "    <tr>\n",
              "      <th>3</th>\n",
              "      <td>اقا دو روزه کاملا اینجا توسط همگان شدم، امروز ...</td>\n",
              "      <td>2</td>\n",
              "      <td>1</td>\n",
              "      <td>2</td>\n",
              "      <td>1.0</td>\n",
              "      <td>2</td>\n",
              "      <td>کامنت</td>\n",
              "      <td>1</td>\n",
              "      <td>[اقا, دو, روزه, کاملا, اینجا, توسط, همگان, شدم...</td>\n",
              "    </tr>\n",
              "    <tr>\n",
              "      <th>4</th>\n",
              "      <td>الکی به خانمم گفتم من قبل تو با یه خانم   ساله...</td>\n",
              "      <td>2</td>\n",
              "      <td>1</td>\n",
              "      <td>2</td>\n",
              "      <td>1.0</td>\n",
              "      <td>2</td>\n",
              "      <td>کامنت</td>\n",
              "      <td>1</td>\n",
              "      <td>[الکی, به, خانمم, گفتم, من, قبل, تو, با, یه, خ...</td>\n",
              "    </tr>\n",
              "    <tr>\n",
              "      <th>5</th>\n",
              "      <td>دلم میخواد اینو بفرستم به پارتنر سابقم و دوبار...</td>\n",
              "      <td>1</td>\n",
              "      <td>1</td>\n",
              "      <td>1</td>\n",
              "      <td>1.0</td>\n",
              "      <td>1</td>\n",
              "      <td>سابق</td>\n",
              "      <td>1</td>\n",
              "      <td>[دلم, میخواد, اینو, بفرستم, به, پارتنر, سابقم,...</td>\n",
              "    </tr>\n",
              "    <tr>\n",
              "      <th>6</th>\n",
              "      <td>برای گفتن از شب های اخر برای این شانس بی مروتِ...</td>\n",
              "      <td>0</td>\n",
              "      <td>1</td>\n",
              "      <td>2</td>\n",
              "      <td>0.0</td>\n",
              "      <td>3</td>\n",
              "      <td>کامنت</td>\n",
              "      <td>1</td>\n",
              "      <td>[برای, گفتن, از, شب, های, اخر, برای, این, شانس...</td>\n",
              "    </tr>\n",
              "    <tr>\n",
              "      <th>7</th>\n",
              "      <td>افرین به شما که روی شوهر تون غیرت و تعصب دارید...</td>\n",
              "      <td>2</td>\n",
              "      <td>1</td>\n",
              "      <td>0</td>\n",
              "      <td>1.0</td>\n",
              "      <td>0</td>\n",
              "      <td>افرین غیرت</td>\n",
              "      <td>1</td>\n",
              "      <td>[افرین, به, شما, که, روی, شوهر, تون, غیرت, و, ...</td>\n",
              "    </tr>\n",
              "    <tr>\n",
              "      <th>8</th>\n",
              "      <td>یه بار دوست دخترم پریود بود، واسش خوراکی گرفتم...</td>\n",
              "      <td>2</td>\n",
              "      <td>1</td>\n",
              "      <td>0</td>\n",
              "      <td>1.0</td>\n",
              "      <td>0</td>\n",
              "      <td>خوب</td>\n",
              "      <td>1</td>\n",
              "      <td>[یه, بار, دوست, دخترم, پریود, بود, ،, واسش, خو...</td>\n",
              "    </tr>\n",
              "    <tr>\n",
              "      <th>9</th>\n",
              "      <td>موقع خدمت خیلی راحت سُفره دلشونو پیشت پهن میکر...</td>\n",
              "      <td>0</td>\n",
              "      <td>1</td>\n",
              "      <td>1</td>\n",
              "      <td>0.0</td>\n",
              "      <td>3</td>\n",
              "      <td>بد</td>\n",
              "      <td>1</td>\n",
              "      <td>[موقع, خدمت, خیلی, راحت, سُفره, دلشونو, پیشت, ...</td>\n",
              "    </tr>\n",
              "  </tbody>\n",
              "</table>\n",
              "</div>\n",
              "    <div class=\"colab-df-buttons\">\n",
              "\n",
              "  <div class=\"colab-df-container\">\n",
              "    <button class=\"colab-df-convert\" onclick=\"convertToInteractive('df-5f6ae82a-0546-4ad8-85ac-9a31100890e3')\"\n",
              "            title=\"Convert this dataframe to an interactive table.\"\n",
              "            style=\"display:none;\">\n",
              "\n",
              "  <svg xmlns=\"http://www.w3.org/2000/svg\" height=\"24px\" viewBox=\"0 -960 960 960\">\n",
              "    <path d=\"M120-120v-720h720v720H120Zm60-500h600v-160H180v160Zm220 220h160v-160H400v160Zm0 220h160v-160H400v160ZM180-400h160v-160H180v160Zm440 0h160v-160H620v160ZM180-180h160v-160H180v160Zm440 0h160v-160H620v160Z\"/>\n",
              "  </svg>\n",
              "    </button>\n",
              "\n",
              "  <style>\n",
              "    .colab-df-container {\n",
              "      display:flex;\n",
              "      gap: 12px;\n",
              "    }\n",
              "\n",
              "    .colab-df-convert {\n",
              "      background-color: #E8F0FE;\n",
              "      border: none;\n",
              "      border-radius: 50%;\n",
              "      cursor: pointer;\n",
              "      display: none;\n",
              "      fill: #1967D2;\n",
              "      height: 32px;\n",
              "      padding: 0 0 0 0;\n",
              "      width: 32px;\n",
              "    }\n",
              "\n",
              "    .colab-df-convert:hover {\n",
              "      background-color: #E2EBFA;\n",
              "      box-shadow: 0px 1px 2px rgba(60, 64, 67, 0.3), 0px 1px 3px 1px rgba(60, 64, 67, 0.15);\n",
              "      fill: #174EA6;\n",
              "    }\n",
              "\n",
              "    .colab-df-buttons div {\n",
              "      margin-bottom: 4px;\n",
              "    }\n",
              "\n",
              "    [theme=dark] .colab-df-convert {\n",
              "      background-color: #3B4455;\n",
              "      fill: #D2E3FC;\n",
              "    }\n",
              "\n",
              "    [theme=dark] .colab-df-convert:hover {\n",
              "      background-color: #434B5C;\n",
              "      box-shadow: 0px 1px 3px 1px rgba(0, 0, 0, 0.15);\n",
              "      filter: drop-shadow(0px 1px 2px rgba(0, 0, 0, 0.3));\n",
              "      fill: #FFFFFF;\n",
              "    }\n",
              "  </style>\n",
              "\n",
              "    <script>\n",
              "      const buttonEl =\n",
              "        document.querySelector('#df-5f6ae82a-0546-4ad8-85ac-9a31100890e3 button.colab-df-convert');\n",
              "      buttonEl.style.display =\n",
              "        google.colab.kernel.accessAllowed ? 'block' : 'none';\n",
              "\n",
              "      async function convertToInteractive(key) {\n",
              "        const element = document.querySelector('#df-5f6ae82a-0546-4ad8-85ac-9a31100890e3');\n",
              "        const dataTable =\n",
              "          await google.colab.kernel.invokeFunction('convertToInteractive',\n",
              "                                                    [key], {});\n",
              "        if (!dataTable) return;\n",
              "\n",
              "        const docLinkHtml = 'Like what you see? Visit the ' +\n",
              "          '<a target=\"_blank\" href=https://colab.research.google.com/notebooks/data_table.ipynb>data table notebook</a>'\n",
              "          + ' to learn more about interactive tables.';\n",
              "        element.innerHTML = '';\n",
              "        dataTable['output_type'] = 'display_data';\n",
              "        await google.colab.output.renderOutput(dataTable, element);\n",
              "        const docLink = document.createElement('div');\n",
              "        docLink.innerHTML = docLinkHtml;\n",
              "        element.appendChild(docLink);\n",
              "      }\n",
              "    </script>\n",
              "  </div>\n",
              "\n",
              "\n",
              "<div id=\"df-537a4a1d-dd95-4fb8-a6ac-088c8c131dd3\">\n",
              "  <button class=\"colab-df-quickchart\" onclick=\"quickchart('df-537a4a1d-dd95-4fb8-a6ac-088c8c131dd3')\"\n",
              "            title=\"Suggest charts.\"\n",
              "            style=\"display:none;\">\n",
              "\n",
              "<svg xmlns=\"http://www.w3.org/2000/svg\" height=\"24px\"viewBox=\"0 0 24 24\"\n",
              "     width=\"24px\">\n",
              "    <g>\n",
              "        <path d=\"M19 3H5c-1.1 0-2 .9-2 2v14c0 1.1.9 2 2 2h14c1.1 0 2-.9 2-2V5c0-1.1-.9-2-2-2zM9 17H7v-7h2v7zm4 0h-2V7h2v10zm4 0h-2v-4h2v4z\"/>\n",
              "    </g>\n",
              "</svg>\n",
              "  </button>\n",
              "\n",
              "<style>\n",
              "  .colab-df-quickchart {\n",
              "      --bg-color: #E8F0FE;\n",
              "      --fill-color: #1967D2;\n",
              "      --hover-bg-color: #E2EBFA;\n",
              "      --hover-fill-color: #174EA6;\n",
              "      --disabled-fill-color: #AAA;\n",
              "      --disabled-bg-color: #DDD;\n",
              "  }\n",
              "\n",
              "  [theme=dark] .colab-df-quickchart {\n",
              "      --bg-color: #3B4455;\n",
              "      --fill-color: #D2E3FC;\n",
              "      --hover-bg-color: #434B5C;\n",
              "      --hover-fill-color: #FFFFFF;\n",
              "      --disabled-bg-color: #3B4455;\n",
              "      --disabled-fill-color: #666;\n",
              "  }\n",
              "\n",
              "  .colab-df-quickchart {\n",
              "    background-color: var(--bg-color);\n",
              "    border: none;\n",
              "    border-radius: 50%;\n",
              "    cursor: pointer;\n",
              "    display: none;\n",
              "    fill: var(--fill-color);\n",
              "    height: 32px;\n",
              "    padding: 0;\n",
              "    width: 32px;\n",
              "  }\n",
              "\n",
              "  .colab-df-quickchart:hover {\n",
              "    background-color: var(--hover-bg-color);\n",
              "    box-shadow: 0 1px 2px rgba(60, 64, 67, 0.3), 0 1px 3px 1px rgba(60, 64, 67, 0.15);\n",
              "    fill: var(--button-hover-fill-color);\n",
              "  }\n",
              "\n",
              "  .colab-df-quickchart-complete:disabled,\n",
              "  .colab-df-quickchart-complete:disabled:hover {\n",
              "    background-color: var(--disabled-bg-color);\n",
              "    fill: var(--disabled-fill-color);\n",
              "    box-shadow: none;\n",
              "  }\n",
              "\n",
              "  .colab-df-spinner {\n",
              "    border: 2px solid var(--fill-color);\n",
              "    border-color: transparent;\n",
              "    border-bottom-color: var(--fill-color);\n",
              "    animation:\n",
              "      spin 1s steps(1) infinite;\n",
              "  }\n",
              "\n",
              "  @keyframes spin {\n",
              "    0% {\n",
              "      border-color: transparent;\n",
              "      border-bottom-color: var(--fill-color);\n",
              "      border-left-color: var(--fill-color);\n",
              "    }\n",
              "    20% {\n",
              "      border-color: transparent;\n",
              "      border-left-color: var(--fill-color);\n",
              "      border-top-color: var(--fill-color);\n",
              "    }\n",
              "    30% {\n",
              "      border-color: transparent;\n",
              "      border-left-color: var(--fill-color);\n",
              "      border-top-color: var(--fill-color);\n",
              "      border-right-color: var(--fill-color);\n",
              "    }\n",
              "    40% {\n",
              "      border-color: transparent;\n",
              "      border-right-color: var(--fill-color);\n",
              "      border-top-color: var(--fill-color);\n",
              "    }\n",
              "    60% {\n",
              "      border-color: transparent;\n",
              "      border-right-color: var(--fill-color);\n",
              "    }\n",
              "    80% {\n",
              "      border-color: transparent;\n",
              "      border-right-color: var(--fill-color);\n",
              "      border-bottom-color: var(--fill-color);\n",
              "    }\n",
              "    90% {\n",
              "      border-color: transparent;\n",
              "      border-bottom-color: var(--fill-color);\n",
              "    }\n",
              "  }\n",
              "</style>\n",
              "\n",
              "  <script>\n",
              "    async function quickchart(key) {\n",
              "      const quickchartButtonEl =\n",
              "        document.querySelector('#' + key + ' button');\n",
              "      quickchartButtonEl.disabled = true;  // To prevent multiple clicks.\n",
              "      quickchartButtonEl.classList.add('colab-df-spinner');\n",
              "      try {\n",
              "        const charts = await google.colab.kernel.invokeFunction(\n",
              "            'suggestCharts', [key], {});\n",
              "      } catch (error) {\n",
              "        console.error('Error during call to suggestCharts:', error);\n",
              "      }\n",
              "      quickchartButtonEl.classList.remove('colab-df-spinner');\n",
              "      quickchartButtonEl.classList.add('colab-df-quickchart-complete');\n",
              "    }\n",
              "    (() => {\n",
              "      let quickchartButtonEl =\n",
              "        document.querySelector('#df-537a4a1d-dd95-4fb8-a6ac-088c8c131dd3 button');\n",
              "      quickchartButtonEl.style.display =\n",
              "        google.colab.kernel.accessAllowed ? 'block' : 'none';\n",
              "    })();\n",
              "  </script>\n",
              "</div>\n",
              "    </div>\n",
              "  </div>\n"
            ],
            "text/plain": [
              "                                         Record_text  InRelationship  \\\n",
              "1  تو سال جدید تصمیم گرفتم دور دوستای متاهلم رو خ...               0   \n",
              "2  [PLEADING_][PLEADING_][PLEADING_][PLEADING_][P...               2   \n",
              "3  اقا دو روزه کاملا اینجا توسط همگان شدم، امروز ...               2   \n",
              "4  الکی به خانمم گفتم من قبل تو با یه خانم   ساله...               2   \n",
              "5  دلم میخواد اینو بفرستم به پارتنر سابقم و دوبار...               1   \n",
              "6  برای گفتن از شب های اخر برای این شانس بی مروتِ...               0   \n",
              "7  افرین به شما که روی شوهر تون غیرت و تعصب دارید...               2   \n",
              "8  یه بار دوست دخترم پریود بود، واسش خوراکی گرفتم...               2   \n",
              "9  موقع خدمت خیلی راحت سُفره دلشونو پیشت پهن میکر...               0   \n",
              "\n",
              "   General_comment_binary  General_comment Specific_comment_binary  \\\n",
              "1                       1                1                     0.0   \n",
              "2                       1                0                     1.0   \n",
              "3                       1                2                     1.0   \n",
              "4                       1                2                     1.0   \n",
              "5                       1                1                     1.0   \n",
              "6                       1                2                     0.0   \n",
              "7                       1                0                     1.0   \n",
              "8                       1                0                     1.0   \n",
              "9                       1                1                     0.0   \n",
              "\n",
              "   Specific_comment     Comment  Relevance  \\\n",
              "1                 3          بد          1   \n",
              "2                 0         خوب          1   \n",
              "3                 2       کامنت          1   \n",
              "4                 2       کامنت          1   \n",
              "5                 1        سابق          1   \n",
              "6                 3       کامنت          1   \n",
              "7                 0  افرین غیرت          1   \n",
              "8                 0         خوب          1   \n",
              "9                 3          بد          1   \n",
              "\n",
              "                                              tokens  \n",
              "1  [تو, سال, جدید, تصمیم, گرفتم, دور, دوستای, متا...  \n",
              "2  [[, PLEADING_, ], [, PLEADING_, ], [, PLEADING...  \n",
              "3  [اقا, دو, روزه, کاملا, اینجا, توسط, همگان, شدم...  \n",
              "4  [الکی, به, خانمم, گفتم, من, قبل, تو, با, یه, خ...  \n",
              "5  [دلم, میخواد, اینو, بفرستم, به, پارتنر, سابقم,...  \n",
              "6  [برای, گفتن, از, شب, های, اخر, برای, این, شانس...  \n",
              "7  [افرین, به, شما, که, روی, شوهر, تون, غیرت, و, ...  \n",
              "8  [یه, بار, دوست, دخترم, پریود, بود, ،, واسش, خو...  \n",
              "9  [موقع, خدمت, خیلی, راحت, سُفره, دلشونو, پیشت, ...  "
            ]
          },
          "execution_count": 8,
          "metadata": {},
          "output_type": "execute_result"
        }
      ],
      "source": [
        "train_related_df[1:10]"
      ]
    },
    {
      "cell_type": "code",
      "execution_count": 9,
      "metadata": {
        "colab": {
          "base_uri": "https://localhost:8080/",
          "height": 964
        },
        "id": "pdamiUrtx9AW",
        "outputId": "ecebcd14-05ac-46df-c682-06d1497c2a5d"
      },
      "outputs": [
        {
          "data": {
            "text/html": [
              "\n",
              "  <div id=\"df-1cd0837b-1774-497a-aa48-7df86f7ff613\" class=\"colab-df-container\">\n",
              "    <div>\n",
              "<style scoped>\n",
              "    .dataframe tbody tr th:only-of-type {\n",
              "        vertical-align: middle;\n",
              "    }\n",
              "\n",
              "    .dataframe tbody tr th {\n",
              "        vertical-align: top;\n",
              "    }\n",
              "\n",
              "    .dataframe thead th {\n",
              "        text-align: right;\n",
              "    }\n",
              "</style>\n",
              "<table border=\"1\" class=\"dataframe\">\n",
              "  <thead>\n",
              "    <tr style=\"text-align: right;\">\n",
              "      <th></th>\n",
              "      <th>Record_text</th>\n",
              "      <th>InRelationship</th>\n",
              "      <th>General_comment_binary</th>\n",
              "      <th>General_comment</th>\n",
              "      <th>Specific_comment_binary</th>\n",
              "      <th>Specific_comment</th>\n",
              "      <th>Comment</th>\n",
              "      <th>Relevance</th>\n",
              "      <th>tokens</th>\n",
              "    </tr>\n",
              "  </thead>\n",
              "  <tbody>\n",
              "    <tr>\n",
              "      <th>0</th>\n",
              "      <td>داشتیم چیزکیک میخوردیم گفتم حال میکنی دوست دخت...</td>\n",
              "      <td>1</td>\n",
              "      <td>1</td>\n",
              "      <td>0</td>\n",
              "      <td>1.0</td>\n",
              "      <td>0</td>\n",
              "      <td>کامنت</td>\n",
              "      <td>1</td>\n",
              "      <td>[داشتیم, چیزکیک, میخوردیم, گفتم, حال, میکنی, د...</td>\n",
              "    </tr>\n",
              "    <tr>\n",
              "      <th>1</th>\n",
              "      <td>[PLEADING_][PLEADING_][PLEADING_][PLEADING_][P...</td>\n",
              "      <td>1</td>\n",
              "      <td>1</td>\n",
              "      <td>0</td>\n",
              "      <td>1.0</td>\n",
              "      <td>0</td>\n",
              "      <td>خوب</td>\n",
              "      <td>1</td>\n",
              "      <td>[[, PLEADING_, ], [, PLEADING_, ], [, PLEADING...</td>\n",
              "    </tr>\n",
              "    <tr>\n",
              "      <th>2</th>\n",
              "      <td>اقا دو روزه کاملا اینجا توسط همگان شدم، امروز ...</td>\n",
              "      <td>1</td>\n",
              "      <td>1</td>\n",
              "      <td>2</td>\n",
              "      <td>1.0</td>\n",
              "      <td>2</td>\n",
              "      <td>کامنت</td>\n",
              "      <td>1</td>\n",
              "      <td>[اقا, دو, روزه, کاملا, اینجا, توسط, همگان, شدم...</td>\n",
              "    </tr>\n",
              "    <tr>\n",
              "      <th>3</th>\n",
              "      <td>الکی به خانمم گفتم من قبل تو با یه خانم   ساله...</td>\n",
              "      <td>1</td>\n",
              "      <td>1</td>\n",
              "      <td>2</td>\n",
              "      <td>1.0</td>\n",
              "      <td>2</td>\n",
              "      <td>کامنت</td>\n",
              "      <td>1</td>\n",
              "      <td>[الکی, به, خانمم, گفتم, من, قبل, تو, با, یه, خ...</td>\n",
              "    </tr>\n",
              "    <tr>\n",
              "      <th>4</th>\n",
              "      <td>دلم میخواد اینو بفرستم به پارتنر سابقم و دوبار...</td>\n",
              "      <td>0</td>\n",
              "      <td>1</td>\n",
              "      <td>1</td>\n",
              "      <td>1.0</td>\n",
              "      <td>1</td>\n",
              "      <td>سابق</td>\n",
              "      <td>1</td>\n",
              "      <td>[دلم, میخواد, اینو, بفرستم, به, پارتنر, سابقم,...</td>\n",
              "    </tr>\n",
              "    <tr>\n",
              "      <th>...</th>\n",
              "      <td>...</td>\n",
              "      <td>...</td>\n",
              "      <td>...</td>\n",
              "      <td>...</td>\n",
              "      <td>...</td>\n",
              "      <td>...</td>\n",
              "      <td>...</td>\n",
              "      <td>...</td>\n",
              "      <td>...</td>\n",
              "    </tr>\n",
              "    <tr>\n",
              "      <th>2448</th>\n",
              "      <td>دقیقا، چند روز پیش که ازش رد شدیم، همسرم همینو...</td>\n",
              "      <td>1</td>\n",
              "      <td>1</td>\n",
              "      <td>0</td>\n",
              "      <td>1.0</td>\n",
              "      <td>0</td>\n",
              "      <td>تجربه خوب</td>\n",
              "      <td>1</td>\n",
              "      <td>[دقیقا, ،, چند, روز, پیش, که, ازش, رد, شدیم, ،...</td>\n",
              "    </tr>\n",
              "    <tr>\n",
              "      <th>2449</th>\n",
              "      <td>این بابامهههههه میخواد منو به فرزندی قبول کنه ...</td>\n",
              "      <td>1</td>\n",
              "      <td>1</td>\n",
              "      <td>2</td>\n",
              "      <td>1.0</td>\n",
              "      <td>2</td>\n",
              "      <td>نظری نداره</td>\n",
              "      <td>1</td>\n",
              "      <td>[این, بابامهههههه, میخواد, منو, به, فرزندی, قب...</td>\n",
              "    </tr>\n",
              "    <tr>\n",
              "      <th>2450</th>\n",
              "      <td>شما چه پولدارید میرید تنیس با همسر جان :))))) ...</td>\n",
              "      <td>1</td>\n",
              "      <td>1</td>\n",
              "      <td>1</td>\n",
              "      <td>1.0</td>\n",
              "      <td>1</td>\n",
              "      <td>مقایسه</td>\n",
              "      <td>1</td>\n",
              "      <td>[شما, چه, پولدارید, میرید, تنیس, با, همسر, جان...</td>\n",
              "    </tr>\n",
              "    <tr>\n",
              "      <th>2451</th>\n",
              "      <td>با اینکه در تاریخ  / /  بزرگترین و کوچکترین فر...</td>\n",
              "      <td>1</td>\n",
              "      <td>1</td>\n",
              "      <td>2</td>\n",
              "      <td>1.0</td>\n",
              "      <td>2</td>\n",
              "      <td>نظری نداره</td>\n",
              "      <td>1</td>\n",
              "      <td>[با, اینکه, در, تاریخ, /, /, بزرگترین, و, کوچک...</td>\n",
              "    </tr>\n",
              "    <tr>\n",
              "      <th>2452</th>\n",
              "      <td>پام عفونت کرده باید انتی بیوتیک بخورم ولی برای...</td>\n",
              "      <td>1</td>\n",
              "      <td>1</td>\n",
              "      <td>1</td>\n",
              "      <td>1.0</td>\n",
              "      <td>1</td>\n",
              "      <td>کامنت</td>\n",
              "      <td>1</td>\n",
              "      <td>[پام, عفونت, کرده, باید, انتی, بیوتیک, بخورم, ...</td>\n",
              "    </tr>\n",
              "  </tbody>\n",
              "</table>\n",
              "<p>2453 rows × 9 columns</p>\n",
              "</div>\n",
              "    <div class=\"colab-df-buttons\">\n",
              "\n",
              "  <div class=\"colab-df-container\">\n",
              "    <button class=\"colab-df-convert\" onclick=\"convertToInteractive('df-1cd0837b-1774-497a-aa48-7df86f7ff613')\"\n",
              "            title=\"Convert this dataframe to an interactive table.\"\n",
              "            style=\"display:none;\">\n",
              "\n",
              "  <svg xmlns=\"http://www.w3.org/2000/svg\" height=\"24px\" viewBox=\"0 -960 960 960\">\n",
              "    <path d=\"M120-120v-720h720v720H120Zm60-500h600v-160H180v160Zm220 220h160v-160H400v160Zm0 220h160v-160H400v160ZM180-400h160v-160H180v160Zm440 0h160v-160H620v160ZM180-180h160v-160H180v160Zm440 0h160v-160H620v160Z\"/>\n",
              "  </svg>\n",
              "    </button>\n",
              "\n",
              "  <style>\n",
              "    .colab-df-container {\n",
              "      display:flex;\n",
              "      gap: 12px;\n",
              "    }\n",
              "\n",
              "    .colab-df-convert {\n",
              "      background-color: #E8F0FE;\n",
              "      border: none;\n",
              "      border-radius: 50%;\n",
              "      cursor: pointer;\n",
              "      display: none;\n",
              "      fill: #1967D2;\n",
              "      height: 32px;\n",
              "      padding: 0 0 0 0;\n",
              "      width: 32px;\n",
              "    }\n",
              "\n",
              "    .colab-df-convert:hover {\n",
              "      background-color: #E2EBFA;\n",
              "      box-shadow: 0px 1px 2px rgba(60, 64, 67, 0.3), 0px 1px 3px 1px rgba(60, 64, 67, 0.15);\n",
              "      fill: #174EA6;\n",
              "    }\n",
              "\n",
              "    .colab-df-buttons div {\n",
              "      margin-bottom: 4px;\n",
              "    }\n",
              "\n",
              "    [theme=dark] .colab-df-convert {\n",
              "      background-color: #3B4455;\n",
              "      fill: #D2E3FC;\n",
              "    }\n",
              "\n",
              "    [theme=dark] .colab-df-convert:hover {\n",
              "      background-color: #434B5C;\n",
              "      box-shadow: 0px 1px 3px 1px rgba(0, 0, 0, 0.15);\n",
              "      filter: drop-shadow(0px 1px 2px rgba(0, 0, 0, 0.3));\n",
              "      fill: #FFFFFF;\n",
              "    }\n",
              "  </style>\n",
              "\n",
              "    <script>\n",
              "      const buttonEl =\n",
              "        document.querySelector('#df-1cd0837b-1774-497a-aa48-7df86f7ff613 button.colab-df-convert');\n",
              "      buttonEl.style.display =\n",
              "        google.colab.kernel.accessAllowed ? 'block' : 'none';\n",
              "\n",
              "      async function convertToInteractive(key) {\n",
              "        const element = document.querySelector('#df-1cd0837b-1774-497a-aa48-7df86f7ff613');\n",
              "        const dataTable =\n",
              "          await google.colab.kernel.invokeFunction('convertToInteractive',\n",
              "                                                    [key], {});\n",
              "        if (!dataTable) return;\n",
              "\n",
              "        const docLinkHtml = 'Like what you see? Visit the ' +\n",
              "          '<a target=\"_blank\" href=https://colab.research.google.com/notebooks/data_table.ipynb>data table notebook</a>'\n",
              "          + ' to learn more about interactive tables.';\n",
              "        element.innerHTML = '';\n",
              "        dataTable['output_type'] = 'display_data';\n",
              "        await google.colab.output.renderOutput(dataTable, element);\n",
              "        const docLink = document.createElement('div');\n",
              "        docLink.innerHTML = docLinkHtml;\n",
              "        element.appendChild(docLink);\n",
              "      }\n",
              "    </script>\n",
              "  </div>\n",
              "\n",
              "\n",
              "<div id=\"df-4dc5f0c5-dd78-454b-8705-3229f864a2c3\">\n",
              "  <button class=\"colab-df-quickchart\" onclick=\"quickchart('df-4dc5f0c5-dd78-454b-8705-3229f864a2c3')\"\n",
              "            title=\"Suggest charts.\"\n",
              "            style=\"display:none;\">\n",
              "\n",
              "<svg xmlns=\"http://www.w3.org/2000/svg\" height=\"24px\"viewBox=\"0 0 24 24\"\n",
              "     width=\"24px\">\n",
              "    <g>\n",
              "        <path d=\"M19 3H5c-1.1 0-2 .9-2 2v14c0 1.1.9 2 2 2h14c1.1 0 2-.9 2-2V5c0-1.1-.9-2-2-2zM9 17H7v-7h2v7zm4 0h-2V7h2v10zm4 0h-2v-4h2v4z\"/>\n",
              "    </g>\n",
              "</svg>\n",
              "  </button>\n",
              "\n",
              "<style>\n",
              "  .colab-df-quickchart {\n",
              "      --bg-color: #E8F0FE;\n",
              "      --fill-color: #1967D2;\n",
              "      --hover-bg-color: #E2EBFA;\n",
              "      --hover-fill-color: #174EA6;\n",
              "      --disabled-fill-color: #AAA;\n",
              "      --disabled-bg-color: #DDD;\n",
              "  }\n",
              "\n",
              "  [theme=dark] .colab-df-quickchart {\n",
              "      --bg-color: #3B4455;\n",
              "      --fill-color: #D2E3FC;\n",
              "      --hover-bg-color: #434B5C;\n",
              "      --hover-fill-color: #FFFFFF;\n",
              "      --disabled-bg-color: #3B4455;\n",
              "      --disabled-fill-color: #666;\n",
              "  }\n",
              "\n",
              "  .colab-df-quickchart {\n",
              "    background-color: var(--bg-color);\n",
              "    border: none;\n",
              "    border-radius: 50%;\n",
              "    cursor: pointer;\n",
              "    display: none;\n",
              "    fill: var(--fill-color);\n",
              "    height: 32px;\n",
              "    padding: 0;\n",
              "    width: 32px;\n",
              "  }\n",
              "\n",
              "  .colab-df-quickchart:hover {\n",
              "    background-color: var(--hover-bg-color);\n",
              "    box-shadow: 0 1px 2px rgba(60, 64, 67, 0.3), 0 1px 3px 1px rgba(60, 64, 67, 0.15);\n",
              "    fill: var(--button-hover-fill-color);\n",
              "  }\n",
              "\n",
              "  .colab-df-quickchart-complete:disabled,\n",
              "  .colab-df-quickchart-complete:disabled:hover {\n",
              "    background-color: var(--disabled-bg-color);\n",
              "    fill: var(--disabled-fill-color);\n",
              "    box-shadow: none;\n",
              "  }\n",
              "\n",
              "  .colab-df-spinner {\n",
              "    border: 2px solid var(--fill-color);\n",
              "    border-color: transparent;\n",
              "    border-bottom-color: var(--fill-color);\n",
              "    animation:\n",
              "      spin 1s steps(1) infinite;\n",
              "  }\n",
              "\n",
              "  @keyframes spin {\n",
              "    0% {\n",
              "      border-color: transparent;\n",
              "      border-bottom-color: var(--fill-color);\n",
              "      border-left-color: var(--fill-color);\n",
              "    }\n",
              "    20% {\n",
              "      border-color: transparent;\n",
              "      border-left-color: var(--fill-color);\n",
              "      border-top-color: var(--fill-color);\n",
              "    }\n",
              "    30% {\n",
              "      border-color: transparent;\n",
              "      border-left-color: var(--fill-color);\n",
              "      border-top-color: var(--fill-color);\n",
              "      border-right-color: var(--fill-color);\n",
              "    }\n",
              "    40% {\n",
              "      border-color: transparent;\n",
              "      border-right-color: var(--fill-color);\n",
              "      border-top-color: var(--fill-color);\n",
              "    }\n",
              "    60% {\n",
              "      border-color: transparent;\n",
              "      border-right-color: var(--fill-color);\n",
              "    }\n",
              "    80% {\n",
              "      border-color: transparent;\n",
              "      border-right-color: var(--fill-color);\n",
              "      border-bottom-color: var(--fill-color);\n",
              "    }\n",
              "    90% {\n",
              "      border-color: transparent;\n",
              "      border-bottom-color: var(--fill-color);\n",
              "    }\n",
              "  }\n",
              "</style>\n",
              "\n",
              "  <script>\n",
              "    async function quickchart(key) {\n",
              "      const quickchartButtonEl =\n",
              "        document.querySelector('#' + key + ' button');\n",
              "      quickchartButtonEl.disabled = true;  // To prevent multiple clicks.\n",
              "      quickchartButtonEl.classList.add('colab-df-spinner');\n",
              "      try {\n",
              "        const charts = await google.colab.kernel.invokeFunction(\n",
              "            'suggestCharts', [key], {});\n",
              "      } catch (error) {\n",
              "        console.error('Error during call to suggestCharts:', error);\n",
              "      }\n",
              "      quickchartButtonEl.classList.remove('colab-df-spinner');\n",
              "      quickchartButtonEl.classList.add('colab-df-quickchart-complete');\n",
              "    }\n",
              "    (() => {\n",
              "      let quickchartButtonEl =\n",
              "        document.querySelector('#df-4dc5f0c5-dd78-454b-8705-3229f864a2c3 button');\n",
              "      quickchartButtonEl.style.display =\n",
              "        google.colab.kernel.accessAllowed ? 'block' : 'none';\n",
              "    })();\n",
              "  </script>\n",
              "</div>\n",
              "    </div>\n",
              "  </div>\n"
            ],
            "text/plain": [
              "                                            Record_text  InRelationship  \\\n",
              "0     داشتیم چیزکیک میخوردیم گفتم حال میکنی دوست دخت...               1   \n",
              "1     [PLEADING_][PLEADING_][PLEADING_][PLEADING_][P...               1   \n",
              "2     اقا دو روزه کاملا اینجا توسط همگان شدم، امروز ...               1   \n",
              "3     الکی به خانمم گفتم من قبل تو با یه خانم   ساله...               1   \n",
              "4     دلم میخواد اینو بفرستم به پارتنر سابقم و دوبار...               0   \n",
              "...                                                 ...             ...   \n",
              "2448  دقیقا، چند روز پیش که ازش رد شدیم، همسرم همینو...               1   \n",
              "2449  این بابامهههههه میخواد منو به فرزندی قبول کنه ...               1   \n",
              "2450  شما چه پولدارید میرید تنیس با همسر جان :))))) ...               1   \n",
              "2451  با اینکه در تاریخ  / /  بزرگترین و کوچکترین فر...               1   \n",
              "2452  پام عفونت کرده باید انتی بیوتیک بخورم ولی برای...               1   \n",
              "\n",
              "      General_comment_binary  General_comment Specific_comment_binary  \\\n",
              "0                          1                0                     1.0   \n",
              "1                          1                0                     1.0   \n",
              "2                          1                2                     1.0   \n",
              "3                          1                2                     1.0   \n",
              "4                          1                1                     1.0   \n",
              "...                      ...              ...                     ...   \n",
              "2448                       1                0                     1.0   \n",
              "2449                       1                2                     1.0   \n",
              "2450                       1                1                     1.0   \n",
              "2451                       1                2                     1.0   \n",
              "2452                       1                1                     1.0   \n",
              "\n",
              "      Specific_comment     Comment  Relevance  \\\n",
              "0                    0       کامنت          1   \n",
              "1                    0         خوب          1   \n",
              "2                    2       کامنت          1   \n",
              "3                    2       کامنت          1   \n",
              "4                    1        سابق          1   \n",
              "...                ...         ...        ...   \n",
              "2448                 0   تجربه خوب          1   \n",
              "2449                 2  نظری نداره          1   \n",
              "2450                 1      مقایسه          1   \n",
              "2451                 2  نظری نداره          1   \n",
              "2452                 1       کامنت          1   \n",
              "\n",
              "                                                 tokens  \n",
              "0     [داشتیم, چیزکیک, میخوردیم, گفتم, حال, میکنی, د...  \n",
              "1     [[, PLEADING_, ], [, PLEADING_, ], [, PLEADING...  \n",
              "2     [اقا, دو, روزه, کاملا, اینجا, توسط, همگان, شدم...  \n",
              "3     [الکی, به, خانمم, گفتم, من, قبل, تو, با, یه, خ...  \n",
              "4     [دلم, میخواد, اینو, بفرستم, به, پارتنر, سابقم,...  \n",
              "...                                                 ...  \n",
              "2448  [دقیقا, ،, چند, روز, پیش, که, ازش, رد, شدیم, ،...  \n",
              "2449  [این, بابامهههههه, میخواد, منو, به, فرزندی, قب...  \n",
              "2450  [شما, چه, پولدارید, میرید, تنیس, با, همسر, جان...  \n",
              "2451  [با, اینکه, در, تاریخ, /, /, بزرگترین, و, کوچک...  \n",
              "2452  [پام, عفونت, کرده, باید, انتی, بیوتیک, بخورم, ...  \n",
              "\n",
              "[2453 rows x 9 columns]"
            ]
          },
          "execution_count": 9,
          "metadata": {},
          "output_type": "execute_result"
        }
      ],
      "source": [
        "train_related_specific_df"
      ]
    },
    {
      "cell_type": "code",
      "execution_count": 10,
      "metadata": {
        "colab": {
          "base_uri": "https://localhost:8080/"
        },
        "id": "HoW710Brx89r",
        "outputId": "d0f922bf-fb42-4a98-a575-ade871550bca"
      },
      "outputs": [
        {
          "name": "stdout",
          "output_type": "stream",
          "text": [
            "Data after tokenization\n"
          ]
        },
        {
          "data": {
            "text/plain": [
              "['موقع',\n",
              " 'خدمت',\n",
              " 'خیلی',\n",
              " 'راحت',\n",
              " 'سُفره',\n",
              " 'دلشونو',\n",
              " 'پیشت',\n",
              " 'پهن',\n",
              " 'میکردن',\n",
              " '.',\n",
              " 'یکیشون',\n",
              " 'خواستگاری',\n",
              " 'رفته_بود',\n",
              " 'و',\n",
              " 'گفته',\n",
              " 'بودن',\n",
              " 'باید',\n",
              " 'اول',\n",
              " 'خدمت',\n",
              " 'بری',\n",
              " '.',\n",
              " 'حالا',\n",
              " 'اومده',\n",
              " 'بود',\n",
              " 'خدمت',\n",
              " 'و',\n",
              " 'بعد',\n",
              " 'چندماه',\n",
              " '،',\n",
              " 'اونا',\n",
              " 'دختره',\n",
              " 'رو',\n",
              " 'شوهر',\n",
              " 'داده',\n",
              " 'بودن',\n",
              " '.',\n",
              " 'شب',\n",
              " 'ها',\n",
              " 'من',\n",
              " 'بیشتر',\n",
              " 'پُست',\n",
              " 'میدادم',\n",
              " 'تا',\n",
              " 'جوون',\n",
              " 'های',\n",
              " '،',\n",
              " 'ساله',\n",
              " 'تاصبح',\n",
              " 'تریاک',\n",
              " 'وشیشه',\n",
              " 'و…بکشن',\n",
              " '.',\n",
              " 'یکی',\n",
              " 'لیسانس',\n",
              " 'بود',\n",
              " 'وحالا',\n",
              " 'باید',\n",
              " 'اوامر']"
            ]
          },
          "execution_count": 10,
          "metadata": {},
          "output_type": "execute_result"
        }
      ],
      "source": [
        "print('Data after tokenization')\n",
        "train_related_df['tokens'][9]"
      ]
    },
    {
      "cell_type": "markdown",
      "metadata": {
        "id": "qz4oHjMpyilT"
      },
      "source": [
        "# Create vocabulary"
      ]
    },
    {
      "cell_type": "code",
      "execution_count": 11,
      "metadata": {
        "id": "B-nGcAA31ywH"
      },
      "outputs": [],
      "source": [
        "train_words = list(set([word for i in range(len(train_df)) for word in train_df['tokens'][i]]))\n",
        "test_words = list(set([word for i in range(len(test_df)) for word in test_df['tokens'][i]]))\n",
        "\n",
        "train_related_words = list(set([word for i in range(len(train_related_df)) for word in train_related_df['tokens'][i]]))\n",
        "test_related_words = list(set([word for i in range(len(test_related_df)) for word in test_related_df['tokens'][i]]))\n",
        "\n",
        "train_related_specific_words = list(set([word for i in range(len(train_related_specific_df)) for word in train_related_specific_df['tokens'][i]]))\n",
        "test_related_specific_words = list(set([word for i in range(len(test_related_specific_df)) for word in test_related_specific_df['tokens'][i]]))"
      ]
    },
    {
      "cell_type": "code",
      "execution_count": 12,
      "metadata": {
        "id": "Dz7YN0mk0udr"
      },
      "outputs": [],
      "source": [
        "unique_words_ = list(set(train_words + test_words))\n",
        "unique_words_related_words= list(set(train_related_words + test_related_words))\n",
        "unique_words_specific_words= list(set(train_related_specific_words + test_related_specific_words))\n",
        "\n",
        "\n",
        "\n",
        "unique_words=[unique_words_, unique_words_related_words, unique_words_specific_words]\n",
        "unknown_idx=[1,1,1]\n",
        "padding_idx=[0,0,0]\n",
        "\n",
        "unique_words_new = []\n",
        "for i in range(3):\n",
        "    unique_words_new.append( ['<padding_word>', '<unknown_word>'] + unique_words[i]) # .append('<unknown_word>') #add unknown token to vocab"
      ]
    },
    {
      "cell_type": "code",
      "execution_count": 15,
      "metadata": {
        "colab": {
          "base_uri": "https://localhost:8080/"
        },
        "id": "f50W_vvh-Kes",
        "outputId": "0f1745b1-f396-470a-c456-1e5e9932aaaf"
      },
      "outputs": [
        {
          "name": "stdout",
          "output_type": "stream",
          "text": [
            "number of tokens in vocabulary 31994\n",
            "number of tokens in vocabulary 20239\n",
            "number of tokens in vocabulary 11104\n"
          ]
        }
      ],
      "source": [
        "for k in unique_words_new:\n",
        "    if k==unique_words_new[0]:\n",
        "       word2idx = {}\n",
        "       idx2word = {}\n",
        "       word2idx_related = {}\n",
        "       idx2word_related= {}\n",
        "       word2idx_specific= {}\n",
        "       idx2word_specific= {}\n",
        "       for i,w in enumerate(k):\n",
        "           word2idx[w] = i\n",
        "           idx2word[i] = w\n",
        "    elif k==unique_words_new[1]:\n",
        "       for i,w in enumerate(k):\n",
        "            word2idx_related[w] = i\n",
        "            idx2word_related[i] = w\n",
        "    else:\n",
        "       for i,w in enumerate(k):\n",
        "            word2idx_specific[w] = i\n",
        "            idx2word_specific[i] = w\n",
        "\n",
        "       print(f'number of tokens in vocabulary {len(word2idx)}')\n",
        "       print(f'number of tokens in vocabulary {len(word2idx_related)}')\n",
        "       print(f'number of tokens in vocabulary {len(word2idx_specific)}')"
      ]
    },
    {
      "cell_type": "code",
      "execution_count": 16,
      "metadata": {
        "colab": {
          "base_uri": "https://localhost:8080/"
        },
        "id": "23K6BLgix4ZC",
        "outputId": "71086ab8-0618-4479-8988-9ee05c43521c"
      },
      "outputs": [
        {
          "data": {
            "text/plain": [
              "20238"
            ]
          },
          "execution_count": 16,
          "metadata": {},
          "output_type": "execute_result"
        }
      ],
      "source": [
        "np.max(list(word2idx_related.values()))"
      ]
    },
    {
      "cell_type": "code",
      "execution_count": 17,
      "metadata": {
        "id": "I0VQK-DR-KcF"
      },
      "outputs": [],
      "source": [
        "final_data = train_df['tokens'].values\n",
        "final_test_data = test_df['tokens'].values\n",
        "\n",
        "final_train_related_data = train_related_df['tokens'].values\n",
        "final_test_related_data = test_related_df['tokens'].values\n",
        "\n",
        "final_train_specific_data = train_related_specific_df['tokens'].values\n",
        "final_test_specific_data = test_related_specific_df['tokens'].values"
      ]
    },
    {
      "cell_type": "markdown",
      "metadata": {
        "id": "K9tfYatGGcFw"
      },
      "source": [
        "## Convert sentences to numerical vectors\n"
      ]
    },
    {
      "cell_type": "code",
      "execution_count": 18,
      "metadata": {
        "id": "KK6hlFiT-KZe"
      },
      "outputs": [],
      "source": [
        "train_words_vec = [[word2idx[item] if item in word2idx else unknown_idx[0] for item in i] for i in final_data[:]]\n",
        "\n",
        "train_related_words_vec = [[word2idx_related[item] if item in word2idx_related else unknown_idx[1] for item in i] for i in final_train_related_data[:]]\n",
        "\n",
        "train_specific_words_vec = [[word2idx_specific[item] if item in word2idx_specific else unknown_idx[2] for item in i] for i in final_train_specific_data[:]]"
      ]
    },
    {
      "cell_type": "code",
      "execution_count": 20,
      "metadata": {
        "id": "bduU_cqfGkk1"
      },
      "outputs": [],
      "source": [
        "test_words_vec = [[word2idx[item] if item in word2idx else unknown_idx[0] for item in i] for i in final_test_data[:]]\n",
        "\n",
        "test_related_words_vec = [[word2idx_related[item] if item in word2idx_related else unknown_idx[1] for item in i] for i in final_test_related_data[:]]\n",
        "\n",
        "test_specific_words_vec = [[word2idx_specific[item] if item in word2idx_specific else unknown_idx[2] for item in i] for i in final_test_specific_data[:]]\n"
      ]
    },
    {
      "cell_type": "code",
      "execution_count": 22,
      "metadata": {
        "id": "duWS8YZZGkiY"
      },
      "outputs": [],
      "source": [
        "train_labels = train_df['Relevance'].values[:]\n",
        "test_labels = test_df['Relevance'].values[:]\n",
        "\n",
        "train_related_labels = train_related_df['General_comment'].values[:]\n",
        "test_related_labels = test_related_df['General_comment'].values[:]\n",
        "\n",
        "train_related_InRelationship_labels = train_related_df['InRelationship'].values[:]\n",
        "test_related_InRelationship_labels = test_related_df['InRelationship'].values[:]\n",
        "\n",
        "\n",
        "train_specific_labels = train_related_specific_df['Specific_comment'].values[:]\n",
        "test_specific_labels = test_related_specific_df['Specific_comment'].values[:]"
      ]
    },
    {
      "cell_type": "code",
      "execution_count": 23,
      "metadata": {
        "colab": {
          "base_uri": "https://localhost:8080/"
        },
        "id": "5ClZNz_vIxUS",
        "outputId": "f6b14f74-fd2c-46c6-b305-2eafa92f3fc4"
      },
      "outputs": [
        {
          "data": {
            "text/plain": [
              "{0: 0.6253527486172255, 1: 7.021546261089988, 2: 0.7946069994262766}"
            ]
          },
          "execution_count": 23,
          "metadata": {},
          "output_type": "execute_result"
        }
      ],
      "source": [
        "class_weights = class_weight.compute_class_weight(\n",
        "                                        class_weight = \"balanced\",\n",
        "                                        classes = np.unique(train_labels),\n",
        "                                        y = train_labels\n",
        "                                    )\n",
        "\n",
        "class_weights_related = class_weight.compute_class_weight(\n",
        "                                        class_weight = \"balanced\",\n",
        "                                        classes = np.unique(train_related_labels),\n",
        "                                        y = train_related_labels\n",
        "                                    )\n",
        "\n",
        "weights = class_weight.compute_class_weight(\n",
        "                                        class_weight = \"balanced\",\n",
        "                                        classes = np.unique(train_related_InRelationship_labels),\n",
        "                                        y = train_related_InRelationship_labels\n",
        "                                    )\n",
        "class_weights_InRelationship_related=dict(enumerate(weights, 0))\n",
        "\n",
        "class_weights_specific = class_weight.compute_class_weight(\n",
        "                                        class_weight = \"balanced\",\n",
        "                                        classes = np.unique(train_specific_labels),\n",
        "                                        y = train_specific_labels\n",
        "                                    )\n",
        "class_weights = dict(zip(np.unique(train_labels), class_weights))\n",
        "class_weights_related = dict(zip(np.unique(train_related_labels), class_weights_related))\n",
        "class_weights_specific = dict(zip(np.unique(train_specific_labels), class_weights_specific))\n",
        "\n",
        "class_weights_InRelationship_related"
      ]
    },
    {
      "cell_type": "markdown",
      "metadata": {
        "id": "km6e7f8GKRJt"
      },
      "source": [
        "# Create Dataloader"
      ]
    },
    {
      "cell_type": "code",
      "execution_count": 24,
      "metadata": {
        "id": "KmLuZZZeKcts"
      },
      "outputs": [],
      "source": [
        "# Function to handle padding in each batch of data\n",
        "def pad_collate(batch):\n",
        "  (xx, yy) = zip(*batch)\n",
        "  x_lens = [len(x) for x in xx]\n",
        "\n",
        "  xx_pad = pad_sequence(xx, batch_first=True, padding_value=0)\n",
        "\n",
        "  return xx_pad, yy"
      ]
    },
    {
      "cell_type": "code",
      "execution_count": 25,
      "metadata": {
        "id": "1ak6eo5hK-ep"
      },
      "outputs": [],
      "source": [
        "train_data = [[torch.tensor(train_words_vec[i]), torch.tensor([train_labels[i]])] for i in range(len(train_words_vec))]\n",
        "\n",
        "train_related_data = [[torch.tensor(train_related_words_vec[i]), torch.tensor([train_related_labels[i]])] for i in range(len(train_related_words_vec))]\n",
        "\n",
        "train_related_InRelationship_data = [[torch.tensor(train_related_words_vec[i]), torch.tensor([train_related_InRelationship_labels[i]])] for i in range(len(train_related_words_vec))]\n",
        "\n",
        "train_specific_data = [[torch.tensor(train_specific_words_vec[i]), torch.tensor([train_specific_labels[i]])] for i in range(len(train_specific_words_vec))]"
      ]
    },
    {
      "cell_type": "code",
      "execution_count": 27,
      "metadata": {
        "id": "_-xd6ehpTUoI"
      },
      "outputs": [],
      "source": [
        "\n",
        "test_data = [[torch.tensor(test_words_vec[i]), torch.tensor([test_labels[i]])] for i in range(len(test_words_vec))]\n",
        "\n",
        "test_related_data = [[torch.tensor(test_related_words_vec[i]), torch.tensor([test_related_labels[i]])] for i in range(len(test_related_words_vec))]\n",
        "\n",
        "test_related_InRelationship_data = [[torch.tensor(test_related_words_vec[i]), torch.tensor([test_related_InRelationship_labels[i]])] for i in range(len(test_related_words_vec))]\n",
        "\n",
        "test_specific_data = [[torch.tensor(test_specific_words_vec[i]), torch.tensor([test_specific_labels[i]])] for i in range(len(test_specific_words_vec))]"
      ]
    },
    {
      "cell_type": "code",
      "execution_count": 37,
      "metadata": {
        "id": "lThWCooyK-Yo"
      },
      "outputs": [],
      "source": [
        "train_set, val_set = torch.utils.data.random_split(train_data, [10771, 85])\n",
        "train_related_set, val_related_set = torch.utils.data.random_split(train_related_data, [5455, 85])\n",
        "train_related_InRelationship_set, val_related_InRelationship_set = torch.utils.data.random_split(train_related_InRelationship_data, [5455, 85])\n",
        "train_specific_set, val_specific_set = torch.utils.data.random_split(train_specific_data, [2368, 85])"
      ]
    },
    {
      "cell_type": "code",
      "execution_count": 39,
      "metadata": {
        "id": "wN6SkQFHK-VX"
      },
      "outputs": [],
      "source": [
        "data_loader_Trianset = DataLoader(\n",
        "    dataset=train_set,\n",
        "    batch_size=512,\n",
        "    shuffle=True,\n",
        "    collate_fn=pad_collate\n",
        ")\n",
        "\n",
        "data_loader_Val = DataLoader(\n",
        "    dataset=val_set,\n",
        "    batch_size=512,\n",
        "    shuffle=True,\n",
        "    collate_fn=pad_collate\n",
        ")\n",
        "\n",
        "data_loader_Relatedset = DataLoader(\n",
        "    dataset=train_related_set,\n",
        "    batch_size=512,\n",
        "    shuffle=True,\n",
        "    collate_fn=pad_collate\n",
        ")\n",
        "\n",
        "data_loader_Valrelated = DataLoader(\n",
        "    dataset=val_related_set,\n",
        "    batch_size=512,\n",
        "    shuffle=True,\n",
        "    collate_fn=pad_collate\n",
        ")\n",
        "\n",
        "\n",
        "data_loader_InRelationship_Relatedset = DataLoader(\n",
        "    dataset=train_related_InRelationship_set,\n",
        "    batch_size=512,\n",
        "    shuffle=True,\n",
        "    collate_fn=pad_collate\n",
        ")\n",
        "\n",
        "data_loader_InRelationship_Valrelated = DataLoader(\n",
        "    dataset=val_related_InRelationship_set,\n",
        "    batch_size=512,\n",
        "    shuffle=True,\n",
        "    collate_fn=pad_collate\n",
        ")\n",
        "\n",
        "\n",
        "\n",
        "data_loader_Specific_set = DataLoader(\n",
        "    dataset=train_specific_set,\n",
        "    batch_size=512,\n",
        "    shuffle=True,\n",
        "    collate_fn=pad_collate\n",
        ")\n",
        "\n",
        "\n",
        "data_loader_Valspecific = DataLoader(\n",
        "    dataset=val_specific_set,\n",
        "    batch_size=512,\n",
        "    shuffle=True,\n",
        "    collate_fn=pad_collate\n",
        ")\n",
        "\n",
        "\n"
      ]
    },
    {
      "cell_type": "markdown",
      "metadata": {
        "id": "biOuM3d4UeaR"
      },
      "source": [
        "# Test_loader"
      ]
    },
    {
      "cell_type": "code",
      "execution_count": 40,
      "metadata": {
        "id": "TmWY0rGKR0s6"
      },
      "outputs": [],
      "source": [
        "test_loader = DataLoader(\n",
        "    dataset=test_data,\n",
        "    batch_size=512,\n",
        "    shuffle=True,\n",
        "    collate_fn=pad_collate\n",
        ")\n",
        "\n",
        "test_loader_Related = DataLoader(\n",
        "    dataset=test_related_data,\n",
        "    batch_size=512,\n",
        "    shuffle=True,\n",
        "    collate_fn=pad_collate\n",
        ")\n",
        "\n",
        "test_loader_InRelationship_Related = DataLoader(\n",
        "    dataset=test_related_InRelationship_data,\n",
        "    batch_size=512,\n",
        "    shuffle=True,\n",
        "    collate_fn=pad_collate\n",
        ")\n",
        "\n",
        "test_loader_Specific = DataLoader(\n",
        "    dataset=test_specific_data,\n",
        "    batch_size=512,\n",
        "    shuffle=True,\n",
        "    collate_fn=pad_collate\n",
        ")\n"
      ]
    },
    {
      "cell_type": "markdown",
      "metadata": {
        "id": "Bo88sFUUVJ3j"
      },
      "source": [
        "# Define a random embedding"
      ]
    },
    {
      "cell_type": "code",
      "execution_count": 41,
      "metadata": {
        "id": "PK9dzkE_Uqsx"
      },
      "outputs": [],
      "source": [
        "embedding_matrixs = np.random.normal(loc=0.0, scale=0.12, size=(len(word2idx),128))\n",
        "embedding_matrixs_related = np.random.normal(loc=0.0, scale=0.12, size=(len(word2idx_related),128))\n",
        "embedding_matrixs_specific = np.random.normal(loc=0.0, scale=0.12, size=(len(word2idx_specific),128))\n",
        "# embedding_matrixs"
      ]
    },
    {
      "cell_type": "markdown",
      "metadata": {
        "id": "RYbsodgsgz1i"
      },
      "source": [
        "\n",
        "\n",
        "# CNN Architecture"
      ]
    },
    {
      "cell_type": "code",
      "execution_count": 42,
      "metadata": {
        "id": "15q2PpqjUqpR"
      },
      "outputs": [],
      "source": [
        "class CNN_Model_TEXT(nn.Module):\n",
        "    def __init__(self,max_features, embed_size, embedding_matrix, num_classes,num_filters):\n",
        "        super(CNN_Model_TEXT, self).__init__()\n",
        "        filter_sizes = [3, 5, 7]\n",
        "        num_filters = num_filters\n",
        "        n_classes = num_classes\n",
        "        self.embedding = nn.Embedding(max_features, embed_size)\n",
        "        self.embedding.weight = nn.Parameter(torch.tensor(embedding_matrix, dtype=torch.float32))\n",
        "        self.embedding.weight.requires_grad = True\n",
        "        self.convs1 = nn.ModuleList([nn.Conv2d(1, num_filters, (K, embed_size)) for K in filter_sizes])\n",
        "        self.dropout = nn.Dropout(0.1)\n",
        "        self.fc1 = nn.Linear(len(filter_sizes)*num_filters, n_classes)\n",
        "        self.softmax = nn.LogSoftmax(dim=1)\n",
        "\n",
        "    def forward(self, x):\n",
        "        x = self.embedding(x)\n",
        "        # print(x.size())\n",
        "        x = x.unsqueeze(1)\n",
        "        x = [F.relu(conv(x)).squeeze(3) for conv in self.convs1]\n",
        "        x = [F.max_pool1d(i, i.size(2)).squeeze(2) for i in x]\n",
        "        x = torch.cat(x, 1)\n",
        "        x = self.dropout(x)\n",
        "        logit = self.softmax(self.fc1(x))\n",
        "        return logit"
      ]
    },
    {
      "cell_type": "markdown",
      "metadata": {
        "id": "zRSNUwaHVVGA"
      },
      "source": [
        "# Use GPU for Training"
      ]
    },
    {
      "cell_type": "code",
      "execution_count": 43,
      "metadata": {
        "colab": {
          "base_uri": "https://localhost:8080/"
        },
        "id": "Kkk0yFTjVUNG",
        "outputId": "f1deaa29-9a51-4d1f-d5bd-1a1fc93481ec"
      },
      "outputs": [
        {
          "data": {
            "text/plain": [
              "device(type='cuda')"
            ]
          },
          "execution_count": 43,
          "metadata": {},
          "output_type": "execute_result"
        }
      ],
      "source": [
        "device = torch.device(\"cuda\" if torch.cuda.is_available() else \"cpu\")\n",
        "device"
      ]
    },
    {
      "cell_type": "code",
      "execution_count": 44,
      "metadata": {
        "id": "OYpSiYYXUqmv"
      },
      "outputs": [],
      "source": [
        "embed_size = embedding_matrixs.shape[1]\n",
        "vocab_size = embedding_matrixs.shape[0]\n",
        "num_classes = 2\n",
        "num_filters=36\n",
        "\n",
        "model = CNN_Model_TEXT(vocab_size, embed_size, embedding_matrixs,num_classes,num_filters)\n",
        "model.to(device)\n",
        "\n",
        "criterion = nn.CrossEntropyLoss() # weighted negative log likelihood loss\n",
        "optimizer = optim.Adam(model.parameters(), lr=0.001, weight_decay=0.0005)\n"
      ]
    },
    {
      "cell_type": "markdown",
      "metadata": {
        "id": "ms-b_anKgt9-"
      },
      "source": [
        "# Training_loop"
      ]
    },
    {
      "cell_type": "code",
      "execution_count": 45,
      "metadata": {
        "id": "3nJ0qyTYV-Lx"
      },
      "outputs": [],
      "source": [
        "def training_loop(e, model,data_loader,valid_loader,criterion,optimizer):\n",
        "  import time\n",
        "  start_time = time.time()\n",
        "  num_epochs = e\n",
        "  train_loss = []\n",
        "  validation_loss = []\n",
        "  train_acc=[]\n",
        "  val_acc = []\n",
        "  for epoch in range(num_epochs):\n",
        "    running_loss = 0\n",
        "    running_acc=0\n",
        "    # Training loop\n",
        "    for idx, (sentence, label) in enumerate(iter(data_loader)):\n",
        "      # print(\"idx\", idx)\n",
        "      sentence, label = sentence.to(device),torch.tensor(list(label)).to(device)\n",
        "      # print(sentence)\n",
        "      # Put the model into the training mode\n",
        "      model.train()\n",
        "      # Zero out any previously calculated gradients\n",
        "      optimizer.zero_grad()\n",
        "      # Feed forward\n",
        "      outputs = model(sentence)\n",
        "      # print(outputs)\n",
        "      # Calculate the batch loss and accuracy\n",
        "      pred = torch.argmax(outputs, dim=1)\n",
        "      running_acc += sum(pred==label).item() /len(label)\n",
        "      loss = criterion(outputs, label)\n",
        "      # Backward pass\n",
        "      loss.backward()\n",
        "      # Update the parameters in the optimize.\n",
        "      optimizer.step()\n",
        "      running_loss += loss.item()\n",
        "\n",
        "      # print(loss.item())\n",
        "    # validation\n",
        "    model.eval()\n",
        "    running_loss_valid = 0.0\n",
        "    running_acc_valid = 0.0\n",
        "    for jdx, (sentence, label) in enumerate(iter(valid_loader)):\n",
        "      sentence, label = sentence.to(device),torch.tensor(list(label)).to(device)\n",
        "      # Feed forward\n",
        "      outputs = model(sentence)\n",
        "      loss = criterion(outputs, label)\n",
        "      # Calculate the batch loss and accuracy\n",
        "      running_loss_valid += loss.item()\n",
        "      pred = torch.argmax(outputs, dim=1)\n",
        "      running_acc_valid += sum(pred==label).item()/len(label)\n",
        "    # print training and validation info\n",
        "    print(f'epoch: {epoch+1} -  train loss: {running_loss / (idx+1)} - validation loss: {running_loss_valid/(jdx+1)} - train acc = {running_acc/(idx+1)} - validation acc = {running_acc_valid/(jdx+1)}')\n",
        "    train_loss.append(running_loss / (idx+1))\n",
        "    validation_loss.append(running_loss_valid/(jdx+1))\n",
        "    train_acc.append(running_acc/(idx+1))\n",
        "    val_acc.append(running_acc_valid/(jdx+1))\n",
        "    # saving model\n",
        "    torch.save(model.cpu().state_dict(), 'final_model.pth')\n",
        "    model.to(device)\n",
        "\n",
        "  running_time = time.time()-start_time\n",
        "  print(f'training Finished in {running_time} seconds')\n",
        "  return train_loss,validation_loss,train_acc,val_acc\n"
      ]
    },
    {
      "cell_type": "markdown",
      "metadata": {
        "id": "0jGp-KQ6R0q_"
      },
      "source": [
        "## Relevance_CNN"
      ]
    },
    {
      "cell_type": "code",
      "execution_count": 46,
      "metadata": {
        "colab": {
          "base_uri": "https://localhost:8080/"
        },
        "id": "EQUYSdKcYchj",
        "outputId": "4dea7cba-2317-4f87-be93-f0742ac9e1fa"
      },
      "outputs": [
        {
          "name": "stdout",
          "output_type": "stream",
          "text": [
            "epoch: 1 -  train loss: 0.6881066804582422 - validation loss: 0.6700348854064941 - train acc = 0.5358197517942584 - validation acc = 0.6235294117647059\n",
            "epoch: 2 -  train loss: 0.6611770499836315 - validation loss: 0.6325376629829407 - train acc = 0.6295650792464115 - validation acc = 0.6941176470588235\n",
            "epoch: 3 -  train loss: 0.6263849112120542 - validation loss: 0.5798651576042175 - train acc = 0.6531848086124402 - validation acc = 0.6941176470588235\n",
            "epoch: 4 -  train loss: 0.5733518194068562 - validation loss: 0.52817302942276 - train acc = 0.7169884494617225 - validation acc = 0.7294117647058823\n",
            "epoch: 5 -  train loss: 0.5124842998656359 - validation loss: 0.47984951734542847 - train acc = 0.7612000971889952 - validation acc = 0.7647058823529411\n",
            "epoch: 6 -  train loss: 0.4607725969769738 - validation loss: 0.47267451882362366 - train acc = 0.793436004784689 - validation acc = 0.7764705882352941\n",
            "epoch: 7 -  train loss: 0.393866010687568 - validation loss: 0.4476630687713623 - train acc = 0.836745850777512 - validation acc = 0.8\n",
            "epoch: 8 -  train loss: 0.3494235195896842 - validation loss: 0.4610164761543274 - train acc = 0.8664866178229665 - validation acc = 0.788235294117647\n",
            "epoch: 9 -  train loss: 0.28667411411350424 - validation loss: 0.4575637876987457 - train acc = 0.8986197293660286 - validation acc = 0.788235294117647\n",
            "epoch: 10 -  train loss: 0.2414696907455271 - validation loss: 0.4521959125995636 - train acc = 0.9190434360047847 - validation acc = 0.8117647058823529\n",
            "training Finished in 34.666709661483765 seconds\n"
          ]
        }
      ],
      "source": [
        "train_loss,validation_loss,train_acc,val_acc=training_loop(10,model,data_loader_Trianset,data_loader_Val,criterion,optimizer)"
      ]
    },
    {
      "cell_type": "code",
      "execution_count": null,
      "metadata": {
        "colab": {
          "base_uri": "https://localhost:8080/"
        },
        "id": "vBl-whTA0TQE",
        "outputId": "50e00844-4574-4214-cdb1-489d5bce2d22"
      },
      "outputs": [
        {
          "name": "stdout",
          "output_type": "stream",
          "text": [
            "epoch: 1 -  train loss: 0.6898037306964397 - validation loss: 0.6824984550476074 - train acc = 0.5404296875 - validation acc = 0.5882352941176471\n",
            "epoch: 2 -  train loss: 0.6608770303428173 - validation loss: 0.6684602499008179 - train acc = 0.6118896484375 - validation acc = 0.5529411764705883\n",
            "epoch: 3 -  train loss: 0.6344353891909122 - validation loss: 0.6276310682296753 - train acc = 0.64638671875 - validation acc = 0.6588235294117647\n",
            "epoch: 4 -  train loss: 0.5828554034233093 - validation loss: 0.594811201095581 - train acc = 0.7085205078125 - validation acc = 0.7058823529411765\n",
            "epoch: 5 -  train loss: 0.5410730894654989 - validation loss: 0.5656232833862305 - train acc = 0.744775390625 - validation acc = 0.7176470588235294\n",
            "epoch: 6 -  train loss: 0.4890931583940983 - validation loss: 0.533439040184021 - train acc = 0.7818115234375 - validation acc = 0.7294117647058823\n",
            "epoch: 7 -  train loss: 0.43466234765946865 - validation loss: 0.5161467790603638 - train acc = 0.8173828125 - validation acc = 0.7647058823529411\n",
            "epoch: 8 -  train loss: 0.3543036989867687 - validation loss: 0.5304832458496094 - train acc = 0.8654052734375 - validation acc = 0.7529411764705882\n",
            "epoch: 9 -  train loss: 0.28521566186100245 - validation loss: 0.5292832851409912 - train acc = 0.9018310546875 - validation acc = 0.7529411764705882\n",
            "epoch: 10 -  train loss: 0.22083529829978943 - validation loss: 0.5511664748191833 - train acc = 0.9354736328125 - validation acc = 0.7647058823529411\n",
            "training Finished in 18.912700653076172 seconds\n"
          ]
        }
      ],
      "source": [
        "#train_loss,validation_loss,train_acc,val_acc=training_loop(10,model,data_loader_Trianset,data_loader_Val,criterion,optimizer)"
      ]
    },
    {
      "cell_type": "code",
      "execution_count": 47,
      "metadata": {
        "id": "xDmYmCIjhsZ_"
      },
      "outputs": [],
      "source": [
        "def plot(train_loss,validation_loss,train_acc,val_acc):\n",
        "    fig = plt.figure(figsize=(15,6))\n",
        "    fig.add_subplot(121)\n",
        "    plt.plot(train_acc)\n",
        "    plt.plot(val_acc)\n",
        "    plt.legend([\"train accuracy\", \"validation accuracy\"])\n",
        "    plt.ylabel('Accuracy')\n",
        "    plt.xlabel('Epoch')\n",
        "    plt.legend(['train', 'validation'], loc='upper left')\n",
        "    plt.grid()\n",
        "\n",
        "\n",
        "    # Plot the Loss Curves\n",
        "    fig.add_subplot(122)\n",
        "    plt.plot(train_loss)\n",
        "    plt.plot(validation_loss)\n",
        "    plt.legend([\"train loss\", \"validation loss\"])\n",
        "    plt.ylabel('Loss')\n",
        "    plt.xlabel('Epoch')\n",
        "    plt.grid()\n"
      ]
    },
    {
      "cell_type": "code",
      "execution_count": null,
      "metadata": {
        "colab": {
          "base_uri": "https://localhost:8080/",
          "height": 442
        },
        "id": "LdhJILqnVyGP",
        "outputId": "96c20839-49dd-44bf-c502-9db3e9755d90"
      },
      "outputs": [
        {
          "data": {
            "image/png": "[encoded data removed]",
            "text/plain": [
              "<Figure size 1500x600 with 2 Axes>"
            ]
          },
          "metadata": {},
          "output_type": "display_data"
        }
      ],
      "source": [
        "plot(train_loss,validation_loss,train_acc,val_acc)"
      ]
    },
    {
      "cell_type": "code",
      "execution_count": 48,
      "metadata": {
        "id": "53vaBRbqVx4S"
      },
      "outputs": [],
      "source": [
        "def Evaluate(model,test_loader):\n",
        "  y_pred= []\n",
        "  y_label=[]\n",
        "  with torch.no_grad():\n",
        "    for jdx, (sentence, label) in enumerate(iter(test_loader)):\n",
        "      sentence, label = sentence.to(device),torch.tensor(list(label)).to(device)\n",
        "      # Feed forward\n",
        "      outputs = model(sentence)\n",
        "      pred = torch.argmax(outputs, dim=1)\n",
        "      for i in range(len(label)):\n",
        "        y_pred.append(pred[i].item())\n",
        "        y_label.append(label[i].item())\n",
        "  print(classification_report(y_label, y_pred))\n",
        "  print(f'''Accuracy: {round(accuracy_score(y_label, y_pred, normalize=True),6)}\n",
        "  \\nPrecision:{round(precision_score(y_label, y_pred, average='macro'),6)}\n",
        "  \\nRecall: {round(recall_score(y_label, y_pred, average='macro'),6)}\n",
        "  \\nF1 score: {round(f1_score(y_label, y_pred, average='macro'),6)}''')"
      ]
    },
    {
      "cell_type": "code",
      "execution_count": 49,
      "metadata": {
        "colab": {
          "base_uri": "https://localhost:8080/"
        },
        "id": "pqw5gZPPYqdz",
        "outputId": "2bd284e0-2d01-412b-b23e-e3d96fa1838a"
      },
      "outputs": [
        {
          "name": "stdout",
          "output_type": "stream",
          "text": [
            "              precision    recall  f1-score   support\n",
            "\n",
            "           0       0.72      0.74      0.73      1156\n",
            "           1       0.75      0.73      0.74      1227\n",
            "\n",
            "    accuracy                           0.73      2383\n",
            "   macro avg       0.73      0.73      0.73      2383\n",
            "weighted avg       0.74      0.73      0.73      2383\n",
            "\n",
            "Accuracy: 0.734788\n",
            "  \n",
            "Precision:0.734724\n",
            "  \n",
            "Recall: 0.734928\n",
            "  \n",
            "F1 score: 0.73471\n"
          ]
        }
      ],
      "source": [
        "Evaluate(model,test_loader)"
      ]
    },
    {
      "cell_type": "markdown",
      "metadata": {
        "id": "WQ8itU_-VZxc"
      },
      "source": [
        "# General_comment"
      ]
    },
    {
      "cell_type": "code",
      "execution_count": 50,
      "metadata": {
        "colab": {
          "base_uri": "https://localhost:8080/"
        },
        "id": "oaOSGDJWq2zI",
        "outputId": "181ee4ed-ed51-48cf-8e6b-115e7ff57f50"
      },
      "outputs": [
        {
          "data": {
            "text/plain": [
              "{0: 1.4844587352625938, 1: 0.7064524356031625, 2: 1.0978993261989696}"
            ]
          },
          "execution_count": 50,
          "metadata": {},
          "output_type": "execute_result"
        }
      ],
      "source": [
        "class_weights_related"
      ]
    },
    {
      "cell_type": "code",
      "execution_count": 51,
      "metadata": {
        "id": "VvVorUXBUqe0"
      },
      "outputs": [],
      "source": [
        "embed_size_ = embedding_matrixs_related.shape[1]\n",
        "vocab_size_ = embedding_matrixs_related.shape[0]\n",
        "num_classes_ = 3\n",
        "num_filters=36\n",
        "\n",
        "model_General_comment = CNN_Model_TEXT(vocab_size_, embed_size_, embedding_matrixs_related,num_classes_,num_filters)\n",
        "\n",
        "model_General_comment.to(device)\n",
        "criterion = nn.CrossEntropyLoss(weight=torch.tensor(list(class_weights_related.values())).float().to(device))\n",
        "optimizer = optim.Adam(model_General_comment.parameters(), lr=0.0001, weight_decay=0.005)"
      ]
    },
    {
      "cell_type": "code",
      "execution_count": 52,
      "metadata": {
        "colab": {
          "base_uri": "https://localhost:8080/"
        },
        "id": "rC0ivsH5YvaL",
        "outputId": "a5654a67-d1c9-44af-981f-815ea5cc462f"
      },
      "outputs": [
        {
          "name": "stdout",
          "output_type": "stream",
          "text": [
            "epoch: 1 -  train loss: 1.0990063927390359 - validation loss: 1.0966688394546509 - train acc = 0.23561524762550884 - validation acc = 0.24705882352941178\n",
            "epoch: 2 -  train loss: 1.094402248209173 - validation loss: 1.0960386991500854 - train acc = 0.2789428214043419 - validation acc = 0.2823529411764706\n",
            "epoch: 3 -  train loss: 1.0920469869266858 - validation loss: 1.0954488515853882 - train acc = 0.3231311482360923 - validation acc = 0.3411764705882353\n",
            "epoch: 4 -  train loss: 1.0904136029156772 - validation loss: 1.0950366258621216 - train acc = 0.3621401161804613 - validation acc = 0.43529411764705883\n",
            "epoch: 5 -  train loss: 1.08802668614821 - validation loss: 1.0946193933486938 - train acc = 0.40595318860244234 - validation acc = 0.4235294117647059\n",
            "epoch: 6 -  train loss: 1.0871787938204678 - validation loss: 1.0946801900863647 - train acc = 0.4343893105495251 - validation acc = 0.4235294117647059\n",
            "epoch: 7 -  train loss: 1.0858971747485073 - validation loss: 1.094414472579956 - train acc = 0.4682189196065129 - validation acc = 0.4235294117647059\n",
            "epoch: 8 -  train loss: 1.0842252644625576 - validation loss: 1.0944770574569702 - train acc = 0.48682899423337855 - validation acc = 0.43529411764705883\n",
            "epoch: 9 -  train loss: 1.0831144397908992 - validation loss: 1.0938363075256348 - train acc = 0.49455775101763905 - validation acc = 0.4\n",
            "epoch: 10 -  train loss: 1.0824811892075972 - validation loss: 1.093847393989563 - train acc = 0.4937134285956581 - validation acc = 0.4235294117647059\n",
            "epoch: 11 -  train loss: 1.0818543109026821 - validation loss: 1.0934925079345703 - train acc = 0.4961992240502035 - validation acc = 0.43529411764705883\n",
            "epoch: 12 -  train loss: 1.0810764919627796 - validation loss: 1.0931659936904907 - train acc = 0.502142342265943 - validation acc = 0.4588235294117647\n",
            "epoch: 13 -  train loss: 1.080345869064331 - validation loss: 1.0927796363830566 - train acc = 0.49952934192673 - validation acc = 0.4470588235294118\n",
            "epoch: 14 -  train loss: 1.079278122295033 - validation loss: 1.0922237634658813 - train acc = 0.5014623261533243 - validation acc = 0.4470588235294118\n",
            "epoch: 15 -  train loss: 1.0781882025978782 - validation loss: 1.0920779705047607 - train acc = 0.5045210736092266 - validation acc = 0.4588235294117647\n",
            "epoch: 16 -  train loss: 1.0774474035609851 - validation loss: 1.0919435024261475 - train acc = 0.5092546853799186 - validation acc = 0.47058823529411764\n",
            "epoch: 17 -  train loss: 1.0767428441481157 - validation loss: 1.0914758443832397 - train acc = 0.5121560167910448 - validation acc = 0.4470588235294118\n",
            "epoch: 18 -  train loss: 1.075603810223666 - validation loss: 1.0912280082702637 - train acc = 0.507402264246947 - validation acc = 0.4588235294117647\n",
            "epoch: 19 -  train loss: 1.075276797468012 - validation loss: 1.0906860828399658 - train acc = 0.5106751399253731 - validation acc = 0.4588235294117647\n",
            "epoch: 20 -  train loss: 1.0747761726379395 - validation loss: 1.0903773307800293 - train acc = 0.508239696404342 - validation acc = 0.4470588235294118\n",
            "epoch: 21 -  train loss: 1.0732929489829324 - validation loss: 1.090775966644287 - train acc = 0.5103772684871098 - validation acc = 0.4823529411764706\n",
            "epoch: 22 -  train loss: 1.0731719082052058 - validation loss: 1.0906496047973633 - train acc = 0.5106852103120759 - validation acc = 0.47058823529411764\n",
            "epoch: 23 -  train loss: 1.072279767556624 - validation loss: 1.0901994705200195 - train acc = 0.5151511618046133 - validation acc = 0.47058823529411764\n",
            "epoch: 24 -  train loss: 1.0717526782642712 - validation loss: 1.0899971723556519 - train acc = 0.5103603078358209 - validation acc = 0.47058823529411764\n",
            "epoch: 25 -  train loss: 1.0714890523390337 - validation loss: 1.090104579925537 - train acc = 0.49868501950474897 - validation acc = 0.47058823529411764\n",
            "training Finished in 35.45814371109009 seconds\n"
          ]
        }
      ],
      "source": [
        "train_loss,validation_loss,train_acc,val_acc=training_loop(25,model_General_comment,data_loader_Relatedset,data_loader_Valrelated,criterion,optimizer)"
      ]
    },
    {
      "cell_type": "code",
      "execution_count": 53,
      "metadata": {
        "colab": {
          "base_uri": "https://localhost:8080/"
        },
        "id": "K8-IWy2bZR8r",
        "outputId": "27eaf153-84cb-445c-a892-b7b03dec7adc"
      },
      "outputs": [
        {
          "name": "stdout",
          "output_type": "stream",
          "text": [
            "              precision    recall  f1-score   support\n",
            "\n",
            "           0       0.29      0.33      0.31       269\n",
            "           1       0.53      0.69      0.60       575\n",
            "           2       0.40      0.18      0.25       381\n",
            "\n",
            "    accuracy                           0.45      1225\n",
            "   macro avg       0.41      0.40      0.38      1225\n",
            "weighted avg       0.44      0.45      0.43      1225\n",
            "\n",
            "Accuracy: 0.451429\n",
            "  \n",
            "Precision:0.405874\n",
            "  \n",
            "Recall: 0.398683\n",
            "  \n",
            "F1 score: 0.384203\n"
          ]
        }
      ],
      "source": [
        "Evaluate(model_General_comment,test_loader_Related)"
      ]
    },
    {
      "cell_type": "markdown",
      "metadata": {
        "id": "c0t4UCX8AQ3_"
      },
      "source": [
        "## InRelationship"
      ]
    },
    {
      "cell_type": "code",
      "execution_count": 54,
      "metadata": {
        "id": "De9maKlw_UoR"
      },
      "outputs": [],
      "source": [
        "embed_size_ = embedding_matrixs_related.shape[1]\n",
        "vocab_size_ = embedding_matrixs_related.shape[0]\n",
        "num_classes_ = 3\n",
        "num_filters=36\n",
        "\n",
        "model_InRelationship = CNN_Model_TEXT(vocab_size_, embed_size_, embedding_matrixs_related,num_classes_,num_filters)\n",
        "\n",
        "model_InRelationship.to(device)\n",
        "criterion = nn.CrossEntropyLoss(weight=torch.tensor(list(class_weights_InRelationship_related.values())).float().to(device))\n",
        "optimizer = optim.Adam(model_InRelationship.parameters(), lr=0.001, weight_decay=0.00005)"
      ]
    },
    {
      "cell_type": "code",
      "execution_count": 55,
      "metadata": {
        "colab": {
          "base_uri": "https://localhost:8080/"
        },
        "id": "gMRlOO2SZXbk",
        "outputId": "f7a03e86-36b5-45cb-a0e7-217c52ee047d"
      },
      "outputs": [
        {
          "name": "stdout",
          "output_type": "stream",
          "text": [
            "epoch: 1 -  train loss: 1.0920855023644187 - validation loss: 1.0782760381698608 - train acc = 0.3916018275101764 - validation acc = 0.6470588235294118\n",
            "epoch: 2 -  train loss: 1.0599451390179722 - validation loss: 1.0598160028457642 - train acc = 0.5444278960312077 - validation acc = 0.5411764705882353\n",
            "epoch: 3 -  train loss: 1.0234812172976406 - validation loss: 1.0255147218704224 - train acc = 0.6791839806648575 - validation acc = 0.6352941176470588\n",
            "epoch: 4 -  train loss: 0.9740511775016785 - validation loss: 0.983102023601532 - train acc = 0.6917936948778833 - validation acc = 0.5882352941176471\n",
            "epoch: 5 -  train loss: 0.8984736691821705 - validation loss: 0.9137494564056396 - train acc = 0.7393624915196745 - validation acc = 0.7058823529411765\n",
            "epoch: 6 -  train loss: 0.8043193979696794 - validation loss: 0.8469043970108032 - train acc = 0.7865189323270013 - validation acc = 0.7294117647058823\n",
            "epoch: 7 -  train loss: 0.6991830197247592 - validation loss: 0.783989429473877 - train acc = 0.8043753180122116 - validation acc = 0.8\n",
            "epoch: 8 -  train loss: 0.5897271904078397 - validation loss: 0.7215008735656738 - train acc = 0.8460343877204884 - validation acc = 0.8\n",
            "epoch: 9 -  train loss: 0.4753152104941281 - validation loss: 0.6831598877906799 - train acc = 0.8731703697421981 - validation acc = 0.8\n",
            "epoch: 10 -  train loss: 0.37712547183036804 - validation loss: 0.6436878442764282 - train acc = 0.9045947464382632 - validation acc = 0.8705882352941177\n",
            "epoch: 11 -  train loss: 0.2971684255383231 - validation loss: 0.6708285212516785 - train acc = 0.9226954715061059 - validation acc = 0.8470588235294118\n",
            "epoch: 12 -  train loss: 0.2309898097406734 - validation loss: 0.686969518661499 - train acc = 0.9409806436567165 - validation acc = 0.8588235294117647\n",
            "epoch: 13 -  train loss: 0.17947862229563974 - validation loss: 0.6916009187698364 - train acc = 0.9568669436906376 - validation acc = 0.8588235294117647\n",
            "epoch: 14 -  train loss: 0.14353394305164163 - validation loss: 0.7511622905731201 - train acc = 0.9679056775780189 - validation acc = 0.8588235294117647\n",
            "epoch: 15 -  train loss: 0.11511668562889099 - validation loss: 0.755123496055603 - train acc = 0.9762307072591588 - validation acc = 0.8235294117647058\n",
            "epoch: 16 -  train loss: 0.09352449598637494 - validation loss: 0.8213634490966797 - train acc = 0.9799694708276797 - validation acc = 0.8352941176470589\n",
            "epoch: 17 -  train loss: 0.07522428238933737 - validation loss: 0.8380113244056702 - train acc = 0.9868305842944369 - validation acc = 0.8352941176470589\n",
            "epoch: 18 -  train loss: 0.06358458508144725 - validation loss: 0.873319685459137 - train acc = 0.9902979774423337 - validation acc = 0.8470588235294118\n",
            "epoch: 19 -  train loss: 0.053958879614418205 - validation loss: 0.9205709099769592 - train acc = 0.9924387296472184 - validation acc = 0.8470588235294118\n",
            "epoch: 20 -  train loss: 0.044964071701873436 - validation loss: 0.9375372529029846 - train acc = 0.9946732954545454 - validation acc = 0.8352941176470589\n",
            "training Finished in 28.44079351425171 seconds\n"
          ]
        }
      ],
      "source": [
        "train_loss,validation_loss,train_acc,val_acc=training_loop(20,model_InRelationship,data_loader_InRelationship_Relatedset,data_loader_InRelationship_Valrelated,criterion,optimizer)"
      ]
    },
    {
      "cell_type": "code",
      "execution_count": 56,
      "metadata": {
        "colab": {
          "base_uri": "https://localhost:8080/"
        },
        "id": "UpeXpphRZg1H",
        "outputId": "b2ecf8bb-9359-4c7e-bd3f-7e809d096522"
      },
      "outputs": [
        {
          "name": "stdout",
          "output_type": "stream",
          "text": [
            "              precision    recall  f1-score   support\n",
            "\n",
            "           0       0.83      0.78      0.80       650\n",
            "           1       0.35      0.16      0.22        51\n",
            "           2       0.73      0.82      0.77       524\n",
            "\n",
            "    accuracy                           0.77      1225\n",
            "   macro avg       0.64      0.59      0.60      1225\n",
            "weighted avg       0.77      0.77      0.77      1225\n",
            "\n",
            "Accuracy: 0.773061\n",
            "  \n",
            "Precision:0.636193\n",
            "  \n",
            "Recall: 0.587097\n",
            "  \n",
            "F1 score: 0.598409\n"
          ]
        }
      ],
      "source": [
        "Evaluate(model_InRelationship,test_loader_InRelationship_Related)"
      ]
    },
    {
      "cell_type": "markdown",
      "metadata": {
        "id": "QuVYGpEbVgKk"
      },
      "source": [
        "# Specific_comment\n"
      ]
    },
    {
      "cell_type": "code",
      "execution_count": 57,
      "metadata": {
        "colab": {
          "base_uri": "https://localhost:8080/"
        },
        "id": "kDxnFxl1IVFk",
        "outputId": "30da0004-0abe-4439-95bf-993c4057d150"
      },
      "outputs": [
        {
          "data": {
            "text/plain": [
              "{0: 1.0259305729820158, 1: 1.0233625365039634, 2: 0.9541034616880592}"
            ]
          },
          "execution_count": 57,
          "metadata": {},
          "output_type": "execute_result"
        }
      ],
      "source": [
        "class_weights_specific"
      ]
    },
    {
      "cell_type": "code",
      "execution_count": 58,
      "metadata": {
        "id": "kcecmYtXQAZC"
      },
      "outputs": [],
      "source": [
        "embed_size__ = embedding_matrixs_specific.shape[1]\n",
        "vocab_size__ = embedding_matrixs_specific.shape[0]\n",
        "num_classes__ = 3\n",
        "num_filters=36\n",
        "\n",
        "model_Specific_comment = CNN_Model_TEXT(vocab_size__, embed_size__, embedding_matrixs_specific,num_classes__,num_filters)\n",
        "\n",
        "model_Specific_comment.to(device)\n",
        "\n",
        "\n",
        "criterion = nn.CrossEntropyLoss(ignore_index=0,weight=torch.tensor(list(class_weights_specific.values())).float().to(device)) # weighted negative log likelihood loss\n",
        "optimizer = optim.Adam(model_Specific_comment.parameters(),lr=0.001, weight_decay=0.00005)"
      ]
    },
    {
      "cell_type": "code",
      "execution_count": 59,
      "metadata": {
        "colab": {
          "base_uri": "https://localhost:8080/"
        },
        "id": "KLgoUR1vZkpE",
        "outputId": "31350b08-dcbc-4d51-e481-85203cf2b0ef"
      },
      "outputs": [
        {
          "name": "stdout",
          "output_type": "stream",
          "text": [
            "epoch: 1 -  train loss: 1.0015202283859252 - validation loss: 0.8992960453033447 - train acc = 0.34734375 - validation acc = 0.3411764705882353\n",
            "epoch: 2 -  train loss: 0.8119017362594605 - validation loss: 0.7804434299468994 - train acc = 0.35164062500000004 - validation acc = 0.3411764705882353\n",
            "epoch: 3 -  train loss: 0.709375512599945 - validation loss: 0.7284325957298279 - train acc = 0.408515625 - validation acc = 0.3058823529411765\n",
            "epoch: 4 -  train loss: 0.6748887419700622 - validation loss: 0.7175107598304749 - train acc = 0.40765624999999994 - validation acc = 0.32941176470588235\n",
            "epoch: 5 -  train loss: 0.6543228149414062 - validation loss: 0.7202281951904297 - train acc = 0.451953125 - validation acc = 0.3058823529411765\n",
            "epoch: 6 -  train loss: 0.6380778431892395 - validation loss: 0.7151602506637573 - train acc = 0.473125 - validation acc = 0.32941176470588235\n",
            "epoch: 7 -  train loss: 0.6184780836105347 - validation loss: 0.7159066796302795 - train acc = 0.48851562499999995 - validation acc = 0.32941176470588235\n",
            "epoch: 8 -  train loss: 0.6004260897636413 - validation loss: 0.7175606489181519 - train acc = 0.5190625 - validation acc = 0.3058823529411765\n",
            "epoch: 9 -  train loss: 0.5773558139801025 - validation loss: 0.7179218530654907 - train acc = 0.549453125 - validation acc = 0.35294117647058826\n",
            "epoch: 10 -  train loss: 0.5537351608276367 - validation loss: 0.719316840171814 - train acc = 0.558203125 - validation acc = 0.32941176470588235\n",
            "epoch: 11 -  train loss: 0.526262617111206 - validation loss: 0.7213574051856995 - train acc = 0.582734375 - validation acc = 0.3411764705882353\n",
            "epoch: 12 -  train loss: 0.4896931231021881 - validation loss: 0.7235046029090881 - train acc = 0.601640625 - validation acc = 0.3411764705882353\n",
            "epoch: 13 -  train loss: 0.4554961800575256 - validation loss: 0.7249603867530823 - train acc = 0.612265625 - validation acc = 0.32941176470588235\n",
            "epoch: 14 -  train loss: 0.41237530708312986 - validation loss: 0.7252029180526733 - train acc = 0.6284375 - validation acc = 0.35294117647058826\n",
            "epoch: 15 -  train loss: 0.36571375727653505 - validation loss: 0.725049614906311 - train acc = 0.640703125 - validation acc = 0.35294117647058826\n",
            "epoch: 16 -  train loss: 0.3231703996658325 - validation loss: 0.7277655601501465 - train acc = 0.641328125 - validation acc = 0.36470588235294116\n",
            "epoch: 17 -  train loss: 0.27285551726818086 - validation loss: 0.7325094938278198 - train acc = 0.657734375 - validation acc = 0.4\n",
            "epoch: 18 -  train loss: 0.23157444298267366 - validation loss: 0.7390865683555603 - train acc = 0.6590625 - validation acc = 0.3764705882352941\n",
            "epoch: 19 -  train loss: 0.1883009195327759 - validation loss: 0.7514078617095947 - train acc = 0.6622656250000001 - validation acc = 0.38823529411764707\n",
            "epoch: 20 -  train loss: 0.15396228730678557 - validation loss: 0.7691126465797424 - train acc = 0.665078125 - validation acc = 0.36470588235294116\n",
            "epoch: 21 -  train loss: 0.12639198452234268 - validation loss: 0.7902429699897766 - train acc = 0.664140625 - validation acc = 0.36470588235294116\n",
            "epoch: 22 -  train loss: 0.10261304676532745 - validation loss: 0.8084802627563477 - train acc = 0.66921875 - validation acc = 0.4117647058823529\n",
            "epoch: 23 -  train loss: 0.08147549629211426 - validation loss: 0.8273187279701233 - train acc = 0.6653125 - validation acc = 0.38823529411764707\n",
            "epoch: 24 -  train loss: 0.06645267903804779 - validation loss: 0.8497329354286194 - train acc = 0.6700781250000001 - validation acc = 0.38823529411764707\n",
            "epoch: 25 -  train loss: 0.056431439518928525 - validation loss: 0.8701648116111755 - train acc = 0.67109375 - validation acc = 0.4\n",
            "epoch: 26 -  train loss: 0.04790573790669441 - validation loss: 0.8922207355499268 - train acc = 0.6739843750000001 - validation acc = 0.38823529411764707\n",
            "epoch: 27 -  train loss: 0.03954823985695839 - validation loss: 0.9139877557754517 - train acc = 0.67125 - validation acc = 0.38823529411764707\n",
            "epoch: 28 -  train loss: 0.03219344168901443 - validation loss: 0.9359028935432434 - train acc = 0.668984375 - validation acc = 0.4\n",
            "epoch: 29 -  train loss: 0.029340209439396858 - validation loss: 0.9590350985527039 - train acc = 0.67234375 - validation acc = 0.38823529411764707\n",
            "epoch: 30 -  train loss: 0.02608969770371914 - validation loss: 0.9776692986488342 - train acc = 0.668671875 - validation acc = 0.38823529411764707\n",
            "epoch: 31 -  train loss: 0.02334216795861721 - validation loss: 0.9957849979400635 - train acc = 0.6753125 - validation acc = 0.38823529411764707\n",
            "epoch: 32 -  train loss: 0.020754850655794143 - validation loss: 1.0110206604003906 - train acc = 0.67390625 - validation acc = 0.4\n",
            "epoch: 33 -  train loss: 0.02016828451305628 - validation loss: 1.0266376733779907 - train acc = 0.668203125 - validation acc = 0.4\n",
            "epoch: 34 -  train loss: 0.017362468317151068 - validation loss: 1.0427024364471436 - train acc = 0.6728125 - validation acc = 0.4\n",
            "epoch: 35 -  train loss: 0.016624733246862887 - validation loss: 1.0563918352127075 - train acc = 0.676640625 - validation acc = 0.4\n",
            "epoch: 36 -  train loss: 0.015694790333509446 - validation loss: 1.0680415630340576 - train acc = 0.67421875 - validation acc = 0.4235294117647059\n",
            "epoch: 37 -  train loss: 0.014353804476559161 - validation loss: 1.0782673358917236 - train acc = 0.6771874999999999 - validation acc = 0.4235294117647059\n",
            "epoch: 38 -  train loss: 0.014047801867127419 - validation loss: 1.090695858001709 - train acc = 0.6732812499999999 - validation acc = 0.4235294117647059\n",
            "epoch: 39 -  train loss: 0.012167282216250897 - validation loss: 1.1017005443572998 - train acc = 0.6759375000000001 - validation acc = 0.4235294117647059\n",
            "epoch: 40 -  train loss: 0.012345182150602341 - validation loss: 1.1112849712371826 - train acc = 0.673046875 - validation acc = 0.4235294117647059\n",
            "epoch: 41 -  train loss: 0.01180705539882183 - validation loss: 1.1218879222869873 - train acc = 0.673828125 - validation acc = 0.4235294117647059\n",
            "epoch: 42 -  train loss: 0.011669011041522025 - validation loss: 1.1306792497634888 - train acc = 0.670625 - validation acc = 0.4235294117647059\n",
            "epoch: 43 -  train loss: 0.010999047756195068 - validation loss: 1.136398196220398 - train acc = 0.6753125 - validation acc = 0.4235294117647059\n",
            "epoch: 44 -  train loss: 0.009102975018322468 - validation loss: 1.1434422731399536 - train acc = 0.6759375000000001 - validation acc = 0.4235294117647059\n",
            "epoch: 45 -  train loss: 0.00946151725947857 - validation loss: 1.1549081802368164 - train acc = 0.67640625 - validation acc = 0.4235294117647059\n",
            "epoch: 46 -  train loss: 0.00944477105513215 - validation loss: 1.1642334461212158 - train acc = 0.674765625 - validation acc = 0.4235294117647059\n",
            "epoch: 47 -  train loss: 0.009808070957660675 - validation loss: 1.175315499305725 - train acc = 0.67515625 - validation acc = 0.4235294117647059\n",
            "epoch: 48 -  train loss: 0.008663526456803083 - validation loss: 1.179979681968689 - train acc = 0.675546875 - validation acc = 0.43529411764705883\n",
            "epoch: 49 -  train loss: 0.008494174666702747 - validation loss: 1.1844673156738281 - train acc = 0.67421875 - validation acc = 0.43529411764705883\n",
            "epoch: 50 -  train loss: 0.007882018480449915 - validation loss: 1.1899266242980957 - train acc = 0.6713281249999999 - validation acc = 0.43529411764705883\n",
            "training Finished in 31.044147729873657 seconds\n"
          ]
        }
      ],
      "source": [
        "train_loss_,validation_loss_,train_acc_,val_acc_=training_loop(50,model_Specific_comment,data_loader_Specific_set,data_loader_Valspecific,criterion,optimizer)\n"
      ]
    },
    {
      "cell_type": "code",
      "execution_count": 60,
      "metadata": {
        "colab": {
          "base_uri": "https://localhost:8080/"
        },
        "id": "wExuaeeLaIHS",
        "outputId": "3d46d531-1817-4d4f-f4ae-eedba0b8af95"
      },
      "outputs": [
        {
          "name": "stdout",
          "output_type": "stream",
          "text": [
            "              precision    recall  f1-score   support\n",
            "\n",
            "           0       0.00      0.00      0.00       171\n",
            "           1       0.42      0.56      0.48       181\n",
            "           2       0.44      0.69      0.54       195\n",
            "\n",
            "    accuracy                           0.43       547\n",
            "   macro avg       0.29      0.42      0.34       547\n",
            "weighted avg       0.29      0.43      0.35       547\n",
            "\n",
            "Accuracy: 0.429616\n",
            "  \n",
            "Precision:0.285476\n",
            "  \n",
            "Recall: 0.415064\n",
            "  \n",
            "F1 score: 0.33783\n"
          ]
        }
      ],
      "source": [
        "Evaluate(model_Specific_comment,test_loader_Specific)"
      ]
    },
    {
      "cell_type": "markdown",
      "metadata": {
        "id": "9vXr83aiyCqO"
      },
      "source": [
        "--------------------------"
      ]
    },
    {
      "cell_type": "markdown",
      "metadata": {
        "id": "3IkylPlqhz1V"
      },
      "source": [
        "# Bilstm\n",
        "\n",
        "# Architecture"
      ]
    },
    {
      "cell_type": "code",
      "execution_count": 61,
      "metadata": {
        "id": "AA_7nhVDJCD4"
      },
      "outputs": [],
      "source": [
        "class BiLSTM(nn.Module):\n",
        "\n",
        "    def __init__(self,max_features, embed_size, embedding_matrix, num_classes, hidden_size):\n",
        "        super(BiLSTM, self).__init__()\n",
        "        self.hidden_size = hidden_size\n",
        "        drp = 0.5\n",
        "        self.embedding = nn.Embedding(max_features, embed_size)\n",
        "        self.embedding.weight = nn.Parameter(torch.tensor(embedding_matrix, dtype=torch.float32))\n",
        "        self.embedding.weight.requires_grad = True\n",
        "        self.lstm = nn.LSTM(embed_size, self.hidden_size, bidirectional=True, batch_first=True)\n",
        "        self.linear = nn.Linear(self.hidden_size*4 , 64)\n",
        "        self.relu = nn.ReLU()\n",
        "        self.dropout = nn.Dropout(drp)\n",
        "        self.out = nn.Linear(64, num_classes)\n",
        "        self.softmax = nn.LogSoftmax(dim=1)\n",
        "\n",
        "\n",
        "    def forward(self, x):\n",
        "        h_embedding = self.embedding(x)\n",
        "        h_embedding = torch.squeeze(torch.unsqueeze(h_embedding, 0))\n",
        "\n",
        "        h_lstm, _ = self.lstm(h_embedding)\n",
        "        avg_pool = torch.mean(h_lstm, 1)\n",
        "        max_pool, _ = torch.max(h_lstm, 1)\n",
        "        #print(\"avg_pool\", avg_pool.size())\n",
        "        #print(\"max_pool\", max_pool.size())\n",
        "        conc = torch.cat(( avg_pool, max_pool), 1)\n",
        "        conc = self.relu(self.linear(conc))\n",
        "        conc = self.dropout(conc)\n",
        "        out = self.out(conc)\n",
        "        out = self.softmax(out)\n",
        "        return out"
      ]
    },
    {
      "cell_type": "code",
      "execution_count": 62,
      "metadata": {
        "id": "1_4FK1Z_sibY"
      },
      "outputs": [],
      "source": [
        "def training_loop_(e, model,data_loader,valid_loader,criterion,optimizer):\n",
        "# number of epochs to train the model\n",
        "    import time\n",
        "    start_time = time.time()\n",
        "    n_epochs = e\n",
        "   # test_loss_min = np.Inf # track change in validation loss\n",
        "    train_acc=[]\n",
        "    val_acc = []\n",
        "    for epoch in range(n_epochs):\n",
        "\n",
        "        # keep track of training and validation loss\n",
        "        train_loss = 0.0\n",
        "        test_loss = 0.0\n",
        "\n",
        "        ###################\n",
        "        # train the model #\n",
        "        ###################\n",
        "        model.train()\n",
        "        running_acc=0\n",
        "        for i, (data, target) in enumerate(data_loader):\n",
        "            # move tensors to GPU if CUDA is available\n",
        "            target = torch.tensor([[t] for t in target])\n",
        "            data, target = data.to(device),torch.tensor(list(target)).to(device)\n",
        "            # clear the gradients of all optimized variables\n",
        "            optimizer.zero_grad()\n",
        "            # forward pass: compute predicted outputs by passing inputs to the model\n",
        "            output = model(data)\n",
        "            # calculate the batch loss\n",
        "            loss = criterion(output, target)\n",
        "            y_pred = torch.round(torch.sigmoid(output))\n",
        "            output =  torch.argmax(output, dim=1).float()\n",
        "\n",
        "            running_acc += torch.round((((output == target).sum().float() /len(target))) * 100)\n",
        "            # backward pass: compute gradient of the loss with respect to model parameters\n",
        "            loss.backward()\n",
        "            # perform a single optimization step (parameter update)\n",
        "            optimizer.step()\n",
        "            # update training loss\n",
        "            train_loss += loss.item()\n",
        "\n",
        "        ######################\n",
        "        # validate the model #\n",
        "        ######################\n",
        "        model.eval()\n",
        "        running_acc_valid = 0.0\n",
        "        for j,(data, target) in enumerate(valid_loader):\n",
        "            # target = target.unsqueeze(1)\n",
        "            target = torch.tensor([[t] for t in target])\n",
        "            data, target = data.to(device),torch.tensor(list(target)).to(device)\n",
        "            # forward pass: compute predicted outputs by passing inputs to the model\n",
        "            output = model(data)\n",
        "            # calculate the batch loss\n",
        "            loss = criterion(output, target)\n",
        "            output =  torch.argmax(output, dim=1).float()\n",
        "            # y_pred_tag = torch.round(torch.sigmoid(output))\n",
        "            running_acc_valid += torch.round((((output == target).sum().float() /len(target))) * 100)\n",
        "            # update average validation loss\n",
        "            test_loss += loss.item()\n",
        "\n",
        "        # calculate average losses\n",
        "        print(f'epoch: {epoch+1} -  train loss: {train_loss / (i+1)} - validation loss: {test_loss/(j+1)} - train acc = {running_acc/(i+1)} - validation acc = {running_acc_valid/(j+1)}')\n",
        "\n",
        "        train_loss = train_loss/len(data_loader)\n",
        "        test_loss = test_loss/len(valid_loader)\n",
        "        train_acc.append(running_acc/(i+1))\n",
        "        val_acc.append(running_acc_valid/(j+1))\n",
        "        torch.save(model.cpu().state_dict(), 'final_model.pth')\n",
        "        model.to(device)\n",
        "    running_time = time.time()-start_time\n",
        "    print(f'training Finished in {running_time} seconds')\n",
        "    return train_loss,test_loss,train_acc,val_acc"
      ]
    },
    {
      "cell_type": "markdown",
      "metadata": {
        "id": "pwMMOkNLRp6R"
      },
      "source": [
        "## Relevance_Bilstm"
      ]
    },
    {
      "cell_type": "code",
      "execution_count": 63,
      "metadata": {
        "id": "fZHzxdL0JCBJ"
      },
      "outputs": [],
      "source": [
        "embed_size = embedding_matrixs.shape[1]\n",
        "vocab_size = embedding_matrixs.shape[0]\n",
        "num_classes = 2\n",
        "\n",
        "model_Relevance_Bilstm = BiLSTM(vocab_size, embed_size, embedding_matrixs,num_classes,20)\n",
        "model_Relevance_Bilstm.to(device)\n",
        "criterion = nn.CrossEntropyLoss()\n",
        "\n",
        "# specify optimizer\n",
        "optimizer = optim.Adam(model_Relevance_Bilstm.parameters(), lr=0.001, weight_decay=0.0005)"
      ]
    },
    {
      "cell_type": "code",
      "execution_count": 64,
      "metadata": {
        "colab": {
          "base_uri": "https://localhost:8080/"
        },
        "id": "RkvITXfMaPS0",
        "outputId": "b4769a93-92ff-460f-a83d-e5dccdf553b2"
      },
      "outputs": [
        {
          "name": "stdout",
          "output_type": "stream",
          "text": [
            "epoch: 1 -  train loss: 0.692989240993153 - validation loss: 0.692179262638092 - train acc = 51.72727584838867 - validation acc = 54.0\n",
            "epoch: 2 -  train loss: 0.6935492672703483 - validation loss: 0.6906390190124512 - train acc = 50.5 - validation acc = 54.0\n",
            "epoch: 3 -  train loss: 0.6922976239161058 - validation loss: 0.6905774474143982 - train acc = 51.1363639831543 - validation acc = 54.0\n",
            "epoch: 4 -  train loss: 0.691797985271974 - validation loss: 0.6883116960525513 - train acc = 52.36363983154297 - validation acc = 54.0\n",
            "epoch: 5 -  train loss: 0.6902504021471197 - validation loss: 0.6866044402122498 - train acc = 52.590911865234375 - validation acc = 60.0\n",
            "epoch: 6 -  train loss: 0.6845888116142966 - validation loss: 0.6752890348434448 - train acc = 56.681819915771484 - validation acc = 62.0\n",
            "epoch: 7 -  train loss: 0.6677752462300387 - validation loss: 0.6381511092185974 - train acc = 61.81818389892578 - validation acc = 65.0\n",
            "epoch: 8 -  train loss: 0.6326286115429618 - validation loss: 0.5708093643188477 - train acc = 64.63636779785156 - validation acc = 69.0\n",
            "epoch: 9 -  train loss: 0.5696251378817991 - validation loss: 0.5025140047073364 - train acc = 71.81818389892578 - validation acc = 75.0\n",
            "epoch: 10 -  train loss: 0.4953673170371489 - validation loss: 0.4697748124599457 - train acc = 78.09091186523438 - validation acc = 79.0\n",
            "training Finished in 6.270839691162109 seconds\n"
          ]
        }
      ],
      "source": [
        "train_loss,validation_loss,train_acc,val_acc=training_loop_(10,model_Relevance_Bilstm,data_loader_Trianset,data_loader_Val,criterion,optimizer)"
      ]
    },
    {
      "cell_type": "code",
      "execution_count": 65,
      "metadata": {
        "colab": {
          "base_uri": "https://localhost:8080/"
        },
        "id": "NUvaaLpoald0",
        "outputId": "65c3a993-2dd2-4518-f22e-bcb3af85bafe"
      },
      "outputs": [
        {
          "name": "stdout",
          "output_type": "stream",
          "text": [
            "              precision    recall  f1-score   support\n",
            "\n",
            "           0       0.69      0.74      0.71      1156\n",
            "           1       0.73      0.69      0.71      1227\n",
            "\n",
            "    accuracy                           0.71      2383\n",
            "   macro avg       0.71      0.71      0.71      2383\n",
            "weighted avg       0.71      0.71      0.71      2383\n",
            "\n",
            "Accuracy: 0.711288\n",
            "  \n",
            "Precision:0.712141\n",
            "  \n",
            "Recall: 0.712033\n",
            "  \n",
            "F1 score: 0.711284\n"
          ]
        }
      ],
      "source": [
        "Evaluate(model_Relevance_Bilstm,test_loader)"
      ]
    },
    {
      "cell_type": "markdown",
      "metadata": {
        "id": "S94HNNFMRmLO"
      },
      "source": [
        "## General_comment_Bilstm"
      ]
    },
    {
      "cell_type": "code",
      "execution_count": 66,
      "metadata": {
        "id": "cwYv8U-T5le7"
      },
      "outputs": [],
      "source": [
        "embed_size_ = embedding_matrixs_related.shape[1]\n",
        "vocab_size_ = embedding_matrixs_related.shape[0]\n",
        "num_classes_ = 3\n",
        "\n",
        "model_General_comment_Bilstm = BiLSTM(vocab_size_, embed_size_, embedding_matrixs_related,num_classes_,10)\n",
        "\n",
        "\n",
        "model_General_comment_Bilstm.to(device)\n",
        "criterion = nn.CrossEntropyLoss(weight=torch.tensor(list(class_weights_related.values())).float().to(device))\n",
        "\n",
        "# specify optimizer\n",
        "optimizer = optim.Adam(model_General_comment_Bilstm.parameters(), lr=0.0001, weight_decay=0.000005)"
      ]
    },
    {
      "cell_type": "code",
      "execution_count": 67,
      "metadata": {
        "colab": {
          "base_uri": "https://localhost:8080/"
        },
        "id": "wKs_0A12ao8D",
        "outputId": "47ee09ac-e183-4068-eb1e-6e9f09fb176c"
      },
      "outputs": [
        {
          "name": "stdout",
          "output_type": "stream",
          "text": [
            "epoch: 1 -  train loss: 1.1017352884465998 - validation loss: 1.1048487424850464 - train acc = 40.181819915771484 - validation acc = 44.0\n",
            "epoch: 2 -  train loss: 1.102652289650657 - validation loss: 1.1036230325698853 - train acc = 38.0 - validation acc = 42.0\n",
            "epoch: 3 -  train loss: 1.1002997918562456 - validation loss: 1.1027157306671143 - train acc = 38.0 - validation acc = 40.0\n",
            "epoch: 4 -  train loss: 1.098748044534163 - validation loss: 1.1019070148468018 - train acc = 37.3636360168457 - validation acc = 41.0\n",
            "epoch: 5 -  train loss: 1.097134525125677 - validation loss: 1.1013667583465576 - train acc = 38.181819915771484 - validation acc = 41.0\n",
            "epoch: 6 -  train loss: 1.0971573157743975 - validation loss: 1.1008861064910889 - train acc = 38.3636360168457 - validation acc = 41.0\n",
            "epoch: 7 -  train loss: 1.0961969332261519 - validation loss: 1.1004972457885742 - train acc = 39.181819915771484 - validation acc = 42.0\n",
            "epoch: 8 -  train loss: 1.0964945879849521 - validation loss: 1.1001529693603516 - train acc = 36.6363639831543 - validation acc = 40.0\n",
            "epoch: 9 -  train loss: 1.0933515158566562 - validation loss: 1.0999127626419067 - train acc = 39.45454788208008 - validation acc = 36.0\n",
            "epoch: 10 -  train loss: 1.0945946194908835 - validation loss: 1.099643588066101 - train acc = 37.81818389892578 - validation acc = 36.0\n",
            "epoch: 11 -  train loss: 1.0941599932583896 - validation loss: 1.0994819402694702 - train acc = 38.181819915771484 - validation acc = 36.0\n",
            "epoch: 12 -  train loss: 1.0936824083328247 - validation loss: 1.099515676498413 - train acc = 39.090911865234375 - validation acc = 36.0\n",
            "epoch: 13 -  train loss: 1.0927461060610684 - validation loss: 1.099504828453064 - train acc = 39.6363639831543 - validation acc = 40.0\n",
            "epoch: 14 -  train loss: 1.092722318389199 - validation loss: 1.099483609199524 - train acc = 39.90909194946289 - validation acc = 40.0\n",
            "epoch: 15 -  train loss: 1.0924174785614014 - validation loss: 1.099484920501709 - train acc = 40.6363639831543 - validation acc = 39.0\n",
            "epoch: 16 -  train loss: 1.0913319912823765 - validation loss: 1.099379539489746 - train acc = 40.727272033691406 - validation acc = 38.0\n",
            "epoch: 17 -  train loss: 1.090564651922746 - validation loss: 1.0993576049804688 - train acc = 40.90909194946289 - validation acc = 40.0\n",
            "epoch: 18 -  train loss: 1.0894234505566684 - validation loss: 1.099371314048767 - train acc = 41.181819915771484 - validation acc = 40.0\n",
            "epoch: 19 -  train loss: 1.088310425931757 - validation loss: 1.0993101596832275 - train acc = 42.0 - validation acc = 40.0\n",
            "epoch: 20 -  train loss: 1.0875475948507136 - validation loss: 1.099661946296692 - train acc = 41.3636360168457 - validation acc = 41.0\n",
            "epoch: 21 -  train loss: 1.0862524942918257 - validation loss: 1.0995402336120605 - train acc = 42.90909194946289 - validation acc = 41.0\n",
            "epoch: 22 -  train loss: 1.0846990997141057 - validation loss: 1.099715232849121 - train acc = 44.0 - validation acc = 41.0\n",
            "epoch: 23 -  train loss: 1.084143801168962 - validation loss: 1.0997314453125 - train acc = 43.6363639831543 - validation acc = 40.0\n",
            "epoch: 24 -  train loss: 1.0841575210744685 - validation loss: 1.0998238325119019 - train acc = 44.0 - validation acc = 40.0\n",
            "epoch: 25 -  train loss: 1.0834088217128406 - validation loss: 1.0997484922409058 - train acc = 44.0 - validation acc = 39.0\n",
            "epoch: 26 -  train loss: 1.0804487683556296 - validation loss: 1.0995680093765259 - train acc = 44.54545593261719 - validation acc = 41.0\n",
            "epoch: 27 -  train loss: 1.079087799245661 - validation loss: 1.099433183670044 - train acc = 44.90909194946289 - validation acc = 41.0\n",
            "epoch: 28 -  train loss: 1.077501351183111 - validation loss: 1.0995627641677856 - train acc = 45.181819915771484 - validation acc = 41.0\n",
            "epoch: 29 -  train loss: 1.0777070630680432 - validation loss: 1.0994566679000854 - train acc = 44.81818389892578 - validation acc = 41.0\n",
            "epoch: 30 -  train loss: 1.075186317617243 - validation loss: 1.0995187759399414 - train acc = 46.54545593261719 - validation acc = 41.0\n",
            "epoch: 31 -  train loss: 1.073252255266363 - validation loss: 1.099532961845398 - train acc = 47.0 - validation acc = 41.0\n",
            "epoch: 32 -  train loss: 1.072215351191434 - validation loss: 1.099485158920288 - train acc = 47.6363639831543 - validation acc = 42.0\n",
            "epoch: 33 -  train loss: 1.0692364085804333 - validation loss: 1.0991365909576416 - train acc = 47.45454788208008 - validation acc = 41.0\n",
            "epoch: 34 -  train loss: 1.0682091279463335 - validation loss: 1.0992398262023926 - train acc = 47.090911865234375 - validation acc = 40.0\n",
            "epoch: 35 -  train loss: 1.0655775178562512 - validation loss: 1.0991451740264893 - train acc = 47.72727584838867 - validation acc = 40.0\n",
            "epoch: 36 -  train loss: 1.0624866702339866 - validation loss: 1.098954677581787 - train acc = 48.54545593261719 - validation acc = 40.0\n",
            "epoch: 37 -  train loss: 1.06090201031078 - validation loss: 1.0984464883804321 - train acc = 48.6363639831543 - validation acc = 40.0\n",
            "epoch: 38 -  train loss: 1.0588442087173462 - validation loss: 1.0982868671417236 - train acc = 48.3636360168457 - validation acc = 41.0\n",
            "epoch: 39 -  train loss: 1.0559218796816738 - validation loss: 1.0977879762649536 - train acc = 50.181819915771484 - validation acc = 41.0\n",
            "epoch: 40 -  train loss: 1.0507078929380937 - validation loss: 1.0978535413742065 - train acc = 50.6363639831543 - validation acc = 42.0\n",
            "epoch: 41 -  train loss: 1.0493152791803533 - validation loss: 1.0975043773651123 - train acc = 51.3636360168457 - validation acc = 42.0\n",
            "epoch: 42 -  train loss: 1.0451030297712847 - validation loss: 1.0966770648956299 - train acc = 51.90909194946289 - validation acc = 42.0\n",
            "epoch: 43 -  train loss: 1.0412898388775913 - validation loss: 1.096297025680542 - train acc = 52.54545593261719 - validation acc = 42.0\n",
            "epoch: 44 -  train loss: 1.036603949286721 - validation loss: 1.0950467586517334 - train acc = 54.0 - validation acc = 42.0\n",
            "epoch: 45 -  train loss: 1.032693949612704 - validation loss: 1.0938971042633057 - train acc = 53.54545593261719 - validation acc = 42.0\n",
            "epoch: 46 -  train loss: 1.0290675596757368 - validation loss: 1.0931683778762817 - train acc = 54.36363983154297 - validation acc = 42.0\n",
            "epoch: 47 -  train loss: 1.0234246037223123 - validation loss: 1.0910528898239136 - train acc = 54.81818389892578 - validation acc = 45.0\n",
            "epoch: 48 -  train loss: 1.0174776749177412 - validation loss: 1.0898350477218628 - train acc = 55.90909194946289 - validation acc = 46.0\n",
            "epoch: 49 -  train loss: 1.0108240030028603 - validation loss: 1.088241457939148 - train acc = 57.45454788208008 - validation acc = 46.0\n",
            "epoch: 50 -  train loss: 1.004680801521648 - validation loss: 1.086294412612915 - train acc = 57.54545593261719 - validation acc = 46.0\n",
            "epoch: 51 -  train loss: 0.9965553229505365 - validation loss: 1.083467721939087 - train acc = 58.090911865234375 - validation acc = 46.0\n",
            "epoch: 52 -  train loss: 0.991258523680947 - validation loss: 1.0813024044036865 - train acc = 58.90909194946289 - validation acc = 47.0\n",
            "epoch: 53 -  train loss: 0.980663619258187 - validation loss: 1.078364372253418 - train acc = 60.81818389892578 - validation acc = 47.0\n",
            "epoch: 54 -  train loss: 0.9699004780162465 - validation loss: 1.0747215747833252 - train acc = 61.90909194946289 - validation acc = 47.0\n",
            "epoch: 55 -  train loss: 0.9617103121497415 - validation loss: 1.071853518486023 - train acc = 62.090911865234375 - validation acc = 49.0\n",
            "epoch: 56 -  train loss: 0.9491468559611927 - validation loss: 1.0661587715148926 - train acc = 63.81818389892578 - validation acc = 48.0\n",
            "epoch: 57 -  train loss: 0.9401138099757108 - validation loss: 1.0631539821624756 - train acc = 64.45454406738281 - validation acc = 52.0\n",
            "epoch: 58 -  train loss: 0.9258686249906366 - validation loss: 1.0592169761657715 - train acc = 66.09091186523438 - validation acc = 52.0\n",
            "epoch: 59 -  train loss: 0.9146323691714894 - validation loss: 1.054160475730896 - train acc = 66.2727279663086 - validation acc = 51.0\n",
            "epoch: 60 -  train loss: 0.9003635915842924 - validation loss: 1.0510549545288086 - train acc = 68.7272720336914 - validation acc = 53.0\n",
            "epoch: 61 -  train loss: 0.88749699159102 - validation loss: 1.0445175170898438 - train acc = 69.90909576416016 - validation acc = 53.0\n",
            "epoch: 62 -  train loss: 0.8727434114976362 - validation loss: 1.0400142669677734 - train acc = 70.63636779785156 - validation acc = 53.0\n",
            "epoch: 63 -  train loss: 0.8526160717010498 - validation loss: 1.0352797508239746 - train acc = 72.36363983154297 - validation acc = 53.0\n",
            "epoch: 64 -  train loss: 0.8376535935835405 - validation loss: 1.0320852994918823 - train acc = 73.0 - validation acc = 53.0\n",
            "epoch: 65 -  train loss: 0.8212818124077537 - validation loss: 1.0271193981170654 - train acc = 72.81818389892578 - validation acc = 53.0\n",
            "epoch: 66 -  train loss: 0.8013832785866477 - validation loss: 1.0227611064910889 - train acc = 75.2727279663086 - validation acc = 53.0\n",
            "epoch: 67 -  train loss: 0.7818172194740989 - validation loss: 1.0217995643615723 - train acc = 76.18182373046875 - validation acc = 55.0\n",
            "epoch: 68 -  train loss: 0.7615844065492804 - validation loss: 1.0167526006698608 - train acc = 77.09091186523438 - validation acc = 52.0\n",
            "epoch: 69 -  train loss: 0.7406722523949363 - validation loss: 1.0171281099319458 - train acc = 77.90909576416016 - validation acc = 55.0\n",
            "epoch: 70 -  train loss: 0.7214852950789712 - validation loss: 1.0131189823150635 - train acc = 79.09091186523438 - validation acc = 51.0\n",
            "epoch: 71 -  train loss: 0.700882765379819 - validation loss: 1.013910174369812 - train acc = 78.63636779785156 - validation acc = 52.0\n",
            "epoch: 72 -  train loss: 0.671006977558136 - validation loss: 1.0053571462631226 - train acc = 79.18182373046875 - validation acc = 54.0\n",
            "epoch: 73 -  train loss: 0.6492796540260315 - validation loss: 1.0165138244628906 - train acc = 79.0 - validation acc = 54.0\n",
            "epoch: 74 -  train loss: 0.6290030479431152 - validation loss: 1.0272443294525146 - train acc = 79.63636779785156 - validation acc = 53.0\n",
            "epoch: 75 -  train loss: 0.6018129370429299 - validation loss: 1.0373616218566895 - train acc = 81.45454406738281 - validation acc = 54.0\n",
            "epoch: 76 -  train loss: 0.5804661512374878 - validation loss: 1.0624524354934692 - train acc = 82.54545593261719 - validation acc = 53.0\n",
            "epoch: 77 -  train loss: 0.5663958787918091 - validation loss: 1.084049940109253 - train acc = 82.2727279663086 - validation acc = 53.0\n",
            "epoch: 78 -  train loss: 0.5525727055289529 - validation loss: 1.0783263444900513 - train acc = 82.45455169677734 - validation acc = 53.0\n",
            "epoch: 79 -  train loss: 0.5274440917101774 - validation loss: 1.0976061820983887 - train acc = 82.90909576416016 - validation acc = 56.0\n",
            "epoch: 80 -  train loss: 0.5160668438131158 - validation loss: 1.1339678764343262 - train acc = 84.81818389892578 - validation acc = 53.0\n",
            "training Finished in 15.43476152420044 seconds\n"
          ]
        }
      ],
      "source": [
        "train_loss,validation_loss,train_acc,val_acc=training_loop_(80,model_General_comment_Bilstm,data_loader_Relatedset,data_loader_Valrelated,criterion,optimizer)"
      ]
    },
    {
      "cell_type": "code",
      "execution_count": 68,
      "metadata": {
        "colab": {
          "base_uri": "https://localhost:8080/"
        },
        "id": "MvzsraCIbMXL",
        "outputId": "83ac5e52-1d7d-408d-f499-d051f50a1db2"
      },
      "outputs": [
        {
          "name": "stdout",
          "output_type": "stream",
          "text": [
            "              precision    recall  f1-score   support\n",
            "\n",
            "           0       0.43      0.32      0.37       269\n",
            "           1       0.62      0.72      0.67       575\n",
            "           2       0.41      0.38      0.39       381\n",
            "\n",
            "    accuracy                           0.53      1225\n",
            "   macro avg       0.49      0.47      0.48      1225\n",
            "weighted avg       0.51      0.53      0.52      1225\n",
            "\n",
            "Accuracy: 0.527347\n",
            "  \n",
            "Precision:0.485688\n",
            "  \n",
            "Recall: 0.474371\n",
            "  \n",
            "F1 score: 0.476072\n"
          ]
        }
      ],
      "source": [
        "Evaluate(model_General_comment_Bilstm,test_loader_Related)"
      ]
    },
    {
      "cell_type": "markdown",
      "metadata": {
        "id": "4F0EH0FDRXha"
      },
      "source": [
        "## InRelationship_Bilstm"
      ]
    },
    {
      "cell_type": "code",
      "execution_count": 69,
      "metadata": {
        "id": "cmtc-OrpDESS"
      },
      "outputs": [],
      "source": [
        "embed_size_ = embedding_matrixs_related.shape[1]\n",
        "vocab_size_ = embedding_matrixs_related.shape[0]\n",
        "num_classes_ = 3\n",
        "\n",
        "model_InRelationship_Bilstm = BiLSTM(vocab_size_, embed_size_, embedding_matrixs_related,num_classes_,10)\n",
        "\n",
        "\n",
        "model_InRelationship_Bilstm.to(device)\n",
        "criterion = nn.CrossEntropyLoss(weight=torch.tensor(list(class_weights_InRelationship_related.values())).float().to(device))\n",
        "\n",
        "# specify optimizer\n",
        "optimizer = optim.Adam(model_InRelationship_Bilstm.parameters(),lr=0.0001, weight_decay=0.000005)"
      ]
    },
    {
      "cell_type": "code",
      "execution_count": 70,
      "metadata": {
        "colab": {
          "base_uri": "https://localhost:8080/"
        },
        "id": "17-xdwTLbRez",
        "outputId": "4ca537ef-cdb4-4e98-9a2c-947044f25fb0"
      },
      "outputs": [
        {
          "name": "stdout",
          "output_type": "stream",
          "text": [
            "epoch: 1 -  train loss: 1.1061491749503396 - validation loss: 1.1256499290466309 - train acc = 42.272727966308594 - validation acc = 31.0\n",
            "epoch: 2 -  train loss: 1.1038097143173218 - validation loss: 1.122794270515442 - train acc = 42.090911865234375 - validation acc = 31.0\n",
            "epoch: 3 -  train loss: 1.1022113778374412 - validation loss: 1.1198519468307495 - train acc = 42.272727966308594 - validation acc = 31.0\n",
            "epoch: 4 -  train loss: 1.1032783009789207 - validation loss: 1.1171751022338867 - train acc = 42.272727966308594 - validation acc = 31.0\n",
            "epoch: 5 -  train loss: 1.100009874864058 - validation loss: 1.1146881580352783 - train acc = 42.272727966308594 - validation acc = 31.0\n",
            "epoch: 6 -  train loss: 1.100547432899475 - validation loss: 1.112742304801941 - train acc = 41.90909194946289 - validation acc = 31.0\n",
            "epoch: 7 -  train loss: 1.0985050309788098 - validation loss: 1.1107088327407837 - train acc = 42.272727966308594 - validation acc = 31.0\n",
            "epoch: 8 -  train loss: 1.0965075276114724 - validation loss: 1.1087136268615723 - train acc = 42.45454788208008 - validation acc = 31.0\n",
            "epoch: 9 -  train loss: 1.0967789563265713 - validation loss: 1.1070505380630493 - train acc = 42.45454788208008 - validation acc = 31.0\n",
            "epoch: 10 -  train loss: 1.0966978831724687 - validation loss: 1.1054822206497192 - train acc = 43.0 - validation acc = 31.0\n",
            "epoch: 11 -  train loss: 1.0958623019131748 - validation loss: 1.103995680809021 - train acc = 43.0 - validation acc = 31.0\n",
            "epoch: 12 -  train loss: 1.0944604223424739 - validation loss: 1.102829098701477 - train acc = 43.90909194946289 - validation acc = 31.0\n",
            "epoch: 13 -  train loss: 1.0956112904982134 - validation loss: 1.101460337638855 - train acc = 44.0 - validation acc = 31.0\n",
            "epoch: 14 -  train loss: 1.0938720703125 - validation loss: 1.1003708839416504 - train acc = 45.0 - validation acc = 31.0\n",
            "epoch: 15 -  train loss: 1.0925614400343462 - validation loss: 1.0992070436477661 - train acc = 46.45454788208008 - validation acc = 31.0\n",
            "epoch: 16 -  train loss: 1.0916674353859641 - validation loss: 1.0981091260910034 - train acc = 46.81818389892578 - validation acc = 31.0\n",
            "epoch: 17 -  train loss: 1.08951875296506 - validation loss: 1.0965722799301147 - train acc = 49.0 - validation acc = 34.0\n",
            "epoch: 18 -  train loss: 1.0888866077769885 - validation loss: 1.0951123237609863 - train acc = 50.3636360168457 - validation acc = 42.0\n",
            "epoch: 19 -  train loss: 1.0872910022735596 - validation loss: 1.0930525064468384 - train acc = 50.90909194946289 - validation acc = 46.0\n",
            "epoch: 20 -  train loss: 1.0863965858112683 - validation loss: 1.0913301706314087 - train acc = 53.45454788208008 - validation acc = 49.0\n",
            "epoch: 21 -  train loss: 1.085173639384183 - validation loss: 1.0898171663284302 - train acc = 54.45454788208008 - validation acc = 48.0\n",
            "epoch: 22 -  train loss: 1.083889289335771 - validation loss: 1.0883352756500244 - train acc = 54.45454788208008 - validation acc = 51.0\n",
            "epoch: 23 -  train loss: 1.0829909281297163 - validation loss: 1.0869028568267822 - train acc = 56.72727584838867 - validation acc = 52.0\n",
            "epoch: 24 -  train loss: 1.0809766487641768 - validation loss: 1.0853575468063354 - train acc = 57.181819915771484 - validation acc = 55.0\n",
            "epoch: 25 -  train loss: 1.0780007622458718 - validation loss: 1.0834929943084717 - train acc = 58.272727966308594 - validation acc = 58.0\n",
            "epoch: 26 -  train loss: 1.077165885405107 - validation loss: 1.0817698240280151 - train acc = 58.72727584838867 - validation acc = 59.0\n",
            "epoch: 27 -  train loss: 1.0733485438606956 - validation loss: 1.0798195600509644 - train acc = 60.181819915771484 - validation acc = 59.0\n",
            "epoch: 28 -  train loss: 1.072047938000072 - validation loss: 1.077775239944458 - train acc = 61.45454788208008 - validation acc = 60.0\n",
            "epoch: 29 -  train loss: 1.0708971457047896 - validation loss: 1.0752551555633545 - train acc = 60.45454788208008 - validation acc = 64.0\n",
            "epoch: 30 -  train loss: 1.0670833587646484 - validation loss: 1.073123812675476 - train acc = 62.45454788208008 - validation acc = 64.0\n",
            "epoch: 31 -  train loss: 1.0629346479069104 - validation loss: 1.0705126523971558 - train acc = 63.0 - validation acc = 64.0\n",
            "epoch: 32 -  train loss: 1.0603481422771106 - validation loss: 1.0676889419555664 - train acc = 63.81818389892578 - validation acc = 65.0\n",
            "epoch: 33 -  train loss: 1.0559677860953591 - validation loss: 1.0644975900650024 - train acc = 64.45454406738281 - validation acc = 67.0\n",
            "epoch: 34 -  train loss: 1.0515970208428123 - validation loss: 1.0611103773117065 - train acc = 65.09091186523438 - validation acc = 67.0\n",
            "epoch: 35 -  train loss: 1.049817367033525 - validation loss: 1.0578631162643433 - train acc = 65.2727279663086 - validation acc = 67.0\n",
            "epoch: 36 -  train loss: 1.0450519973581487 - validation loss: 1.0539273023605347 - train acc = 66.7272720336914 - validation acc = 67.0\n",
            "epoch: 37 -  train loss: 1.0413800261237405 - validation loss: 1.0497406721115112 - train acc = 67.18182373046875 - validation acc = 68.0\n",
            "epoch: 38 -  train loss: 1.0331299196590076 - validation loss: 1.045404076576233 - train acc = 69.18182373046875 - validation acc = 69.0\n",
            "epoch: 39 -  train loss: 1.028281493620439 - validation loss: 1.0405919551849365 - train acc = 68.0 - validation acc = 71.0\n",
            "epoch: 40 -  train loss: 1.0247839147394353 - validation loss: 1.0350569486618042 - train acc = 69.2727279663086 - validation acc = 73.0\n",
            "epoch: 41 -  train loss: 1.0194053758274426 - validation loss: 1.0295605659484863 - train acc = 69.0 - validation acc = 74.0\n",
            "epoch: 42 -  train loss: 1.0123522606762974 - validation loss: 1.024479866027832 - train acc = 70.36363983154297 - validation acc = 75.0\n",
            "epoch: 43 -  train loss: 1.00165071812543 - validation loss: 1.0173869132995605 - train acc = 71.36363983154297 - validation acc = 75.0\n",
            "epoch: 44 -  train loss: 0.9965804165059869 - validation loss: 1.0111466646194458 - train acc = 71.90909576416016 - validation acc = 75.0\n",
            "epoch: 45 -  train loss: 0.9874759208072316 - validation loss: 1.0039952993392944 - train acc = 72.81818389892578 - validation acc = 75.0\n",
            "epoch: 46 -  train loss: 0.9784302765672858 - validation loss: 0.9959399700164795 - train acc = 73.54545593261719 - validation acc = 75.0\n",
            "epoch: 47 -  train loss: 0.96897892518477 - validation loss: 0.9880643486976624 - train acc = 74.63636779785156 - validation acc = 75.0\n",
            "epoch: 48 -  train loss: 0.9596156857230447 - validation loss: 0.9788471460342407 - train acc = 75.36363983154297 - validation acc = 76.0\n",
            "epoch: 49 -  train loss: 0.9511075074022467 - validation loss: 0.9708816409111023 - train acc = 76.0 - validation acc = 75.0\n",
            "epoch: 50 -  train loss: 0.9398056702180342 - validation loss: 0.9612944722175598 - train acc = 76.81818389892578 - validation acc = 76.0\n",
            "epoch: 51 -  train loss: 0.9267859242179177 - validation loss: 0.9503339529037476 - train acc = 77.2727279663086 - validation acc = 76.0\n",
            "epoch: 52 -  train loss: 0.9123606302521445 - validation loss: 0.9396783709526062 - train acc = 78.18182373046875 - validation acc = 76.0\n",
            "epoch: 53 -  train loss: 0.9009306322444569 - validation loss: 0.9283459186553955 - train acc = 78.63636779785156 - validation acc = 76.0\n",
            "epoch: 54 -  train loss: 0.8872329159216448 - validation loss: 0.9176933169364929 - train acc = 79.7272720336914 - validation acc = 75.0\n",
            "epoch: 55 -  train loss: 0.874362436207858 - validation loss: 0.9042547345161438 - train acc = 80.63636779785156 - validation acc = 76.0\n",
            "epoch: 56 -  train loss: 0.8581900108944286 - validation loss: 0.8934977650642395 - train acc = 81.09091186523438 - validation acc = 76.0\n",
            "epoch: 57 -  train loss: 0.843523616140539 - validation loss: 0.8801231980323792 - train acc = 81.45454406738281 - validation acc = 75.0\n",
            "epoch: 58 -  train loss: 0.8305406895550814 - validation loss: 0.8661842346191406 - train acc = 82.09091186523438 - validation acc = 76.0\n",
            "epoch: 59 -  train loss: 0.8160600120371039 - validation loss: 0.8534745573997498 - train acc = 82.54545593261719 - validation acc = 76.0\n",
            "epoch: 60 -  train loss: 0.79357741095803 - validation loss: 0.8383887410163879 - train acc = 83.63636779785156 - validation acc = 78.0\n",
            "epoch: 61 -  train loss: 0.7824484814297069 - validation loss: 0.8245387077331543 - train acc = 83.63636779785156 - validation acc = 79.0\n",
            "epoch: 62 -  train loss: 0.7632477716966108 - validation loss: 0.8113036155700684 - train acc = 84.36363983154297 - validation acc = 79.0\n",
            "epoch: 63 -  train loss: 0.7498472766442732 - validation loss: 0.7965789437294006 - train acc = 85.09091186523438 - validation acc = 80.0\n",
            "epoch: 64 -  train loss: 0.7328011718663302 - validation loss: 0.7833663821220398 - train acc = 85.45455169677734 - validation acc = 80.0\n",
            "epoch: 65 -  train loss: 0.7121415951035239 - validation loss: 0.7693120837211609 - train acc = 86.54545593261719 - validation acc = 80.0\n",
            "epoch: 66 -  train loss: 0.6948191577737982 - validation loss: 0.7571680545806885 - train acc = 86.09091186523438 - validation acc = 80.0\n",
            "epoch: 67 -  train loss: 0.6814070343971252 - validation loss: 0.7435165643692017 - train acc = 85.7272720336914 - validation acc = 82.0\n",
            "epoch: 68 -  train loss: 0.6597406701608137 - validation loss: 0.7292914986610413 - train acc = 87.0 - validation acc = 82.0\n",
            "epoch: 69 -  train loss: 0.6405832930044695 - validation loss: 0.7165104746818542 - train acc = 87.63636779785156 - validation acc = 82.0\n",
            "epoch: 70 -  train loss: 0.6194477677345276 - validation loss: 0.6717249751091003 - train acc = 88.0 - validation acc = 86.0\n",
            "training Finished in 14.229393243789673 seconds\n"
          ]
        }
      ],
      "source": [
        "train_loss,validation_loss,train_acc,val_acc=training_loop_(70,model_InRelationship_Bilstm,data_loader_InRelationship_Relatedset,data_loader_InRelationship_Valrelated,criterion,optimizer)"
      ]
    },
    {
      "cell_type": "code",
      "execution_count": 71,
      "metadata": {
        "colab": {
          "base_uri": "https://localhost:8080/"
        },
        "id": "cqDX1LapbZlT",
        "outputId": "7255ead5-9f84-46fd-97e2-228563fa7614"
      },
      "outputs": [
        {
          "name": "stdout",
          "output_type": "stream",
          "text": [
            "              precision    recall  f1-score   support\n",
            "\n",
            "           0       0.77      0.82      0.79       650\n",
            "           1       0.08      0.10      0.09        51\n",
            "           2       0.77      0.69      0.73       524\n",
            "\n",
            "    accuracy                           0.73      1225\n",
            "   macro avg       0.54      0.54      0.54      1225\n",
            "weighted avg       0.74      0.73      0.74      1225\n",
            "\n",
            "Accuracy: 0.733061\n",
            "  \n",
            "Precision:0.539284\n",
            "  \n",
            "Recall: 0.535144\n",
            "  \n",
            "F1 score: 0.535785\n"
          ]
        }
      ],
      "source": [
        "Evaluate(model_InRelationship_Bilstm,test_loader_InRelationship_Related)"
      ]
    },
    {
      "cell_type": "markdown",
      "metadata": {
        "id": "mvu7xd_MRbxv"
      },
      "source": [
        "## Specific_comment_Bilstm"
      ]
    },
    {
      "cell_type": "code",
      "execution_count": 80,
      "metadata": {
        "id": "Bam8m70zJB0O"
      },
      "outputs": [],
      "source": [
        "embed_size__ = embedding_matrixs_specific.shape[1]\n",
        "vocab_size__ = embedding_matrixs_specific.shape[0]\n",
        "num_classes__ = 3\n",
        "\n",
        "\n",
        "model_Specific_comment_Bilstm  = BiLSTM(vocab_size__, embed_size__, embedding_matrixs_specific,num_classes__,10)\n",
        "\n",
        "\n",
        "model_Specific_comment_Bilstm.to(device)\n",
        "\n",
        "\n",
        "criterion = nn.CrossEntropyLoss(weight=torch.tensor(list(class_weights_specific.values())).float().to(device))\n",
        "optimizer = optim.Adam(model_Specific_comment_Bilstm.parameters(), lr=0.0001, weight_decay=0.000005)"
      ]
    },
    {
      "cell_type": "code",
      "execution_count": 81,
      "metadata": {
        "colab": {
          "base_uri": "https://localhost:8080/"
        },
        "id": "_4hQCSIRbl3D",
        "outputId": "48229b8a-c7de-4163-ff4a-7a102ce82928"
      },
      "outputs": [
        {
          "name": "stdout",
          "output_type": "stream",
          "text": [
            "epoch: 1 -  train loss: 1.10563063621521 - validation loss: 1.0978114604949951 - train acc = 0.32625000000000004 - validation acc = 0.35294117647058826\n",
            "epoch: 2 -  train loss: 1.1035977125167846 - validation loss: 1.0977234840393066 - train acc = 0.32375 - validation acc = 0.35294117647058826\n",
            "epoch: 3 -  train loss: 1.1031521558761597 - validation loss: 1.0976746082305908 - train acc = 0.32421875 - validation acc = 0.35294117647058826\n",
            "epoch: 4 -  train loss: 1.1043853282928466 - validation loss: 1.0976344347000122 - train acc = 0.32039062500000004 - validation acc = 0.35294117647058826\n",
            "epoch: 5 -  train loss: 1.1021503686904908 - validation loss: 1.0976194143295288 - train acc = 0.32406250000000003 - validation acc = 0.35294117647058826\n",
            "epoch: 6 -  train loss: 1.1017203330993652 - validation loss: 1.0976122617721558 - train acc = 0.32515625 - validation acc = 0.35294117647058826\n",
            "epoch: 7 -  train loss: 1.10047447681427 - validation loss: 1.0976284742355347 - train acc = 0.330546875 - validation acc = 0.35294117647058826\n",
            "epoch: 8 -  train loss: 1.099654984474182 - validation loss: 1.0976648330688477 - train acc = 0.32632812499999997 - validation acc = 0.35294117647058826\n",
            "epoch: 9 -  train loss: 1.099489188194275 - validation loss: 1.0977177619934082 - train acc = 0.33046875 - validation acc = 0.35294117647058826\n",
            "epoch: 10 -  train loss: 1.0996549129486084 - validation loss: 1.097771406173706 - train acc = 0.32999999999999996 - validation acc = 0.35294117647058826\n",
            "epoch: 11 -  train loss: 1.1000226736068726 - validation loss: 1.0978258848190308 - train acc = 0.3253125 - validation acc = 0.35294117647058826\n",
            "epoch: 12 -  train loss: 1.1001201391220092 - validation loss: 1.0978838205337524 - train acc = 0.32742187500000003 - validation acc = 0.35294117647058826\n",
            "epoch: 13 -  train loss: 1.0987936496734618 - validation loss: 1.0979502201080322 - train acc = 0.32218749999999996 - validation acc = 0.35294117647058826\n",
            "epoch: 14 -  train loss: 1.0995787620544433 - validation loss: 1.0980266332626343 - train acc = 0.340078125 - validation acc = 0.35294117647058826\n",
            "epoch: 15 -  train loss: 1.0988155603408813 - validation loss: 1.0981125831604004 - train acc = 0.33734375 - validation acc = 0.35294117647058826\n",
            "epoch: 16 -  train loss: 1.0982123136520385 - validation loss: 1.0981953144073486 - train acc = 0.340078125 - validation acc = 0.35294117647058826\n",
            "epoch: 17 -  train loss: 1.097626233100891 - validation loss: 1.0982731580734253 - train acc = 0.343359375 - validation acc = 0.35294117647058826\n",
            "epoch: 18 -  train loss: 1.09813232421875 - validation loss: 1.0983589887619019 - train acc = 0.342421875 - validation acc = 0.35294117647058826\n",
            "epoch: 19 -  train loss: 1.0980647325515747 - validation loss: 1.0984406471252441 - train acc = 0.34609375 - validation acc = 0.35294117647058826\n",
            "epoch: 20 -  train loss: 1.098520565032959 - validation loss: 1.0985138416290283 - train acc = 0.33546875 - validation acc = 0.35294117647058826\n",
            "epoch: 21 -  train loss: 1.098140788078308 - validation loss: 1.0986018180847168 - train acc = 0.34890625000000003 - validation acc = 0.35294117647058826\n",
            "epoch: 22 -  train loss: 1.097354030609131 - validation loss: 1.0986909866333008 - train acc = 0.339453125 - validation acc = 0.35294117647058826\n",
            "epoch: 23 -  train loss: 1.096358346939087 - validation loss: 1.0987850427627563 - train acc = 0.35703125 - validation acc = 0.35294117647058826\n",
            "epoch: 24 -  train loss: 1.097137212753296 - validation loss: 1.0988696813583374 - train acc = 0.347421875 - validation acc = 0.35294117647058826\n",
            "epoch: 25 -  train loss: 1.095493197441101 - validation loss: 1.0989456176757812 - train acc = 0.358203125 - validation acc = 0.35294117647058826\n",
            "epoch: 26 -  train loss: 1.0961393356323241 - validation loss: 1.098989725112915 - train acc = 0.35812499999999997 - validation acc = 0.35294117647058826\n",
            "epoch: 27 -  train loss: 1.095701479911804 - validation loss: 1.0990612506866455 - train acc = 0.35281250000000003 - validation acc = 0.35294117647058826\n",
            "epoch: 28 -  train loss: 1.0956420421600341 - validation loss: 1.099120020866394 - train acc = 0.36640625 - validation acc = 0.35294117647058826\n",
            "epoch: 29 -  train loss: 1.0969004392623902 - validation loss: 1.09918212890625 - train acc = 0.348125 - validation acc = 0.35294117647058826\n",
            "epoch: 30 -  train loss: 1.0954926252365111 - validation loss: 1.099249243736267 - train acc = 0.3625 - validation acc = 0.3411764705882353\n",
            "epoch: 31 -  train loss: 1.092771863937378 - validation loss: 1.0993156433105469 - train acc = 0.38828125 - validation acc = 0.35294117647058826\n",
            "epoch: 32 -  train loss: 1.0946900844573975 - validation loss: 1.0993860960006714 - train acc = 0.36398437499999997 - validation acc = 0.36470588235294116\n",
            "epoch: 33 -  train loss: 1.0937135934829711 - validation loss: 1.099446415901184 - train acc = 0.376640625 - validation acc = 0.36470588235294116\n",
            "epoch: 34 -  train loss: 1.093890166282654 - validation loss: 1.099503755569458 - train acc = 0.38289062500000004 - validation acc = 0.3411764705882353\n",
            "epoch: 35 -  train loss: 1.0937411785125732 - validation loss: 1.0995334386825562 - train acc = 0.3828125 - validation acc = 0.32941176470588235\n",
            "epoch: 36 -  train loss: 1.091506791114807 - validation loss: 1.099568486213684 - train acc = 0.39703125 - validation acc = 0.32941176470588235\n",
            "epoch: 37 -  train loss: 1.0925360679626466 - validation loss: 1.0995768308639526 - train acc = 0.393125 - validation acc = 0.32941176470588235\n",
            "epoch: 38 -  train loss: 1.0942272663116455 - validation loss: 1.0996116399765015 - train acc = 0.38109375 - validation acc = 0.3176470588235294\n",
            "epoch: 39 -  train loss: 1.091837739944458 - validation loss: 1.0996441841125488 - train acc = 0.39859374999999997 - validation acc = 0.3058823529411765\n",
            "epoch: 40 -  train loss: 1.090481972694397 - validation loss: 1.0996472835540771 - train acc = 0.410546875 - validation acc = 0.29411764705882354\n",
            "epoch: 41 -  train loss: 1.092417335510254 - validation loss: 1.0996127128601074 - train acc = 0.38687499999999997 - validation acc = 0.29411764705882354\n",
            "epoch: 42 -  train loss: 1.090278434753418 - validation loss: 1.0996054410934448 - train acc = 0.412578125 - validation acc = 0.29411764705882354\n",
            "epoch: 43 -  train loss: 1.0906801223754883 - validation loss: 1.0996270179748535 - train acc = 0.41 - validation acc = 0.29411764705882354\n",
            "epoch: 44 -  train loss: 1.0903529405593873 - validation loss: 1.099628210067749 - train acc = 0.40421874999999996 - validation acc = 0.3058823529411765\n",
            "epoch: 45 -  train loss: 1.0908434391021729 - validation loss: 1.0996400117874146 - train acc = 0.40992187500000005 - validation acc = 0.3176470588235294\n",
            "epoch: 46 -  train loss: 1.0891808032989503 - validation loss: 1.0996261835098267 - train acc = 0.41429687499999995 - validation acc = 0.3176470588235294\n",
            "epoch: 47 -  train loss: 1.0887181043624878 - validation loss: 1.099646806716919 - train acc = 0.42265625 - validation acc = 0.32941176470588235\n",
            "epoch: 48 -  train loss: 1.0895553588867188 - validation loss: 1.0996216535568237 - train acc = 0.424453125 - validation acc = 0.3176470588235294\n",
            "epoch: 49 -  train loss: 1.0879918575286864 - validation loss: 1.0995912551879883 - train acc = 0.423984375 - validation acc = 0.3176470588235294\n",
            "epoch: 50 -  train loss: 1.0870414972305298 - validation loss: 1.099529504776001 - train acc = 0.43562500000000004 - validation acc = 0.3176470588235294\n",
            "epoch: 51 -  train loss: 1.0859479427337646 - validation loss: 1.0995081663131714 - train acc = 0.43921875000000005 - validation acc = 0.3058823529411765\n",
            "epoch: 52 -  train loss: 1.0869022846221923 - validation loss: 1.099477767944336 - train acc = 0.430859375 - validation acc = 0.3176470588235294\n",
            "epoch: 53 -  train loss: 1.086072063446045 - validation loss: 1.0994559526443481 - train acc = 0.438984375 - validation acc = 0.3176470588235294\n",
            "epoch: 54 -  train loss: 1.0838539123535156 - validation loss: 1.099400520324707 - train acc = 0.46851562500000005 - validation acc = 0.3176470588235294\n",
            "epoch: 55 -  train loss: 1.0835873126983642 - validation loss: 1.099381446838379 - train acc = 0.4646875 - validation acc = 0.3176470588235294\n",
            "epoch: 56 -  train loss: 1.0851417779922485 - validation loss: 1.0993366241455078 - train acc = 0.45359375 - validation acc = 0.3176470588235294\n",
            "epoch: 57 -  train loss: 1.0838258028030396 - validation loss: 1.0993047952651978 - train acc = 0.460546875 - validation acc = 0.3058823529411765\n",
            "epoch: 58 -  train loss: 1.0818537712097167 - validation loss: 1.099233865737915 - train acc = 0.46929687500000006 - validation acc = 0.3176470588235294\n",
            "epoch: 59 -  train loss: 1.084484338760376 - validation loss: 1.0991291999816895 - train acc = 0.454765625 - validation acc = 0.3176470588235294\n",
            "epoch: 60 -  train loss: 1.0810673475265502 - validation loss: 1.0990233421325684 - train acc = 0.4640625 - validation acc = 0.3176470588235294\n",
            "epoch: 61 -  train loss: 1.081566858291626 - validation loss: 1.0989245176315308 - train acc = 0.46015625 - validation acc = 0.3176470588235294\n",
            "epoch: 62 -  train loss: 1.0813543319702148 - validation loss: 1.098854422569275 - train acc = 0.46585937499999996 - validation acc = 0.3176470588235294\n",
            "epoch: 63 -  train loss: 1.0789746522903443 - validation loss: 1.0987473726272583 - train acc = 0.484765625 - validation acc = 0.3176470588235294\n",
            "epoch: 64 -  train loss: 1.0768149614334106 - validation loss: 1.0986638069152832 - train acc = 0.4953125 - validation acc = 0.3176470588235294\n",
            "epoch: 65 -  train loss: 1.0760273694992066 - validation loss: 1.0987035036087036 - train acc = 0.49898437500000004 - validation acc = 0.3176470588235294\n",
            "epoch: 66 -  train loss: 1.0759919166564942 - validation loss: 1.0986809730529785 - train acc = 0.5015625 - validation acc = 0.3176470588235294\n",
            "epoch: 67 -  train loss: 1.075070333480835 - validation loss: 1.0985928773880005 - train acc = 0.512734375 - validation acc = 0.3176470588235294\n",
            "epoch: 68 -  train loss: 1.0752279996871947 - validation loss: 1.098494529724121 - train acc = 0.5053124999999999 - validation acc = 0.3176470588235294\n",
            "epoch: 69 -  train loss: 1.0716855764389037 - validation loss: 1.0984665155410767 - train acc = 0.5275000000000001 - validation acc = 0.3176470588235294\n",
            "epoch: 70 -  train loss: 1.0711389541625977 - validation loss: 1.0984373092651367 - train acc = 0.53640625 - validation acc = 0.32941176470588235\n",
            "epoch: 71 -  train loss: 1.071728730201721 - validation loss: 1.0984309911727905 - train acc = 0.5213281249999999 - validation acc = 0.32941176470588235\n",
            "epoch: 72 -  train loss: 1.068602728843689 - validation loss: 1.09836745262146 - train acc = 0.5411718750000001 - validation acc = 0.32941176470588235\n",
            "epoch: 73 -  train loss: 1.0679710865020753 - validation loss: 1.0982437133789062 - train acc = 0.5348437500000001 - validation acc = 0.32941176470588235\n",
            "epoch: 74 -  train loss: 1.0671519994735719 - validation loss: 1.0981642007827759 - train acc = 0.550859375 - validation acc = 0.32941176470588235\n",
            "epoch: 75 -  train loss: 1.0659303426742555 - validation loss: 1.0981062650680542 - train acc = 0.53734375 - validation acc = 0.32941176470588235\n",
            "epoch: 76 -  train loss: 1.0624037504196167 - validation loss: 1.0980429649353027 - train acc = 0.561640625 - validation acc = 0.32941176470588235\n",
            "epoch: 77 -  train loss: 1.0639517784118653 - validation loss: 1.0979746580123901 - train acc = 0.542109375 - validation acc = 0.3411764705882353\n",
            "epoch: 78 -  train loss: 1.0604098796844483 - validation loss: 1.097946047782898 - train acc = 0.55234375 - validation acc = 0.3411764705882353\n",
            "epoch: 79 -  train loss: 1.059743618965149 - validation loss: 1.0978920459747314 - train acc = 0.5721875 - validation acc = 0.3411764705882353\n",
            "epoch: 80 -  train loss: 1.0600083589553833 - validation loss: 1.0977904796600342 - train acc = 0.5540625 - validation acc = 0.32941176470588235\n",
            "epoch: 81 -  train loss: 1.0551671743392945 - validation loss: 1.0975857973098755 - train acc = 0.575078125 - validation acc = 0.32941176470588235\n",
            "epoch: 82 -  train loss: 1.0552922248840333 - validation loss: 1.0974903106689453 - train acc = 0.5680468750000001 - validation acc = 0.32941176470588235\n",
            "epoch: 83 -  train loss: 1.0503770351409911 - validation loss: 1.0973081588745117 - train acc = 0.587890625 - validation acc = 0.32941176470588235\n",
            "epoch: 84 -  train loss: 1.0499508857727051 - validation loss: 1.0971591472625732 - train acc = 0.6038281249999999 - validation acc = 0.32941176470588235\n",
            "epoch: 85 -  train loss: 1.0473721504211426 - validation loss: 1.09695565700531 - train acc = 0.612578125 - validation acc = 0.32941176470588235\n",
            "epoch: 86 -  train loss: 1.0449490547180176 - validation loss: 1.0968220233917236 - train acc = 0.5825781250000001 - validation acc = 0.32941176470588235\n",
            "epoch: 87 -  train loss: 1.043514037132263 - validation loss: 1.096630334854126 - train acc = 0.59828125 - validation acc = 0.32941176470588235\n",
            "epoch: 88 -  train loss: 1.0410109281539917 - validation loss: 1.0964161157608032 - train acc = 0.60703125 - validation acc = 0.32941176470588235\n",
            "epoch: 89 -  train loss: 1.0362066984176637 - validation loss: 1.0961910486221313 - train acc = 0.629609375 - validation acc = 0.32941176470588235\n",
            "epoch: 90 -  train loss: 1.0348144054412842 - validation loss: 1.0959852933883667 - train acc = 0.635625 - validation acc = 0.32941176470588235\n",
            "epoch: 91 -  train loss: 1.0328055620193481 - validation loss: 1.0957672595977783 - train acc = 0.620703125 - validation acc = 0.32941176470588235\n",
            "epoch: 92 -  train loss: 1.0315134286880494 - validation loss: 1.0955685377120972 - train acc = 0.63875 - validation acc = 0.3411764705882353\n",
            "epoch: 93 -  train loss: 1.0288976907730103 - validation loss: 1.0953333377838135 - train acc = 0.6422656250000001 - validation acc = 0.32941176470588235\n",
            "epoch: 94 -  train loss: 1.0254014730453491 - validation loss: 1.095076560974121 - train acc = 0.6467968749999999 - validation acc = 0.3411764705882353\n",
            "epoch: 95 -  train loss: 1.019577145576477 - validation loss: 1.0948227643966675 - train acc = 0.63984375 - validation acc = 0.32941176470588235\n",
            "epoch: 96 -  train loss: 1.0153398036956787 - validation loss: 1.0946896076202393 - train acc = 0.668359375 - validation acc = 0.32941176470588235\n",
            "epoch: 97 -  train loss: 1.0137892961502075 - validation loss: 1.0946497917175293 - train acc = 0.65859375 - validation acc = 0.32941176470588235\n",
            "epoch: 98 -  train loss: 1.0102942943573 - validation loss: 1.0946602821350098 - train acc = 0.6599999999999999 - validation acc = 0.3176470588235294\n",
            "epoch: 99 -  train loss: 1.0094957113265992 - validation loss: 1.0944652557373047 - train acc = 0.6704687500000001 - validation acc = 0.32941176470588235\n",
            "epoch: 100 -  train loss: 1.003340196609497 - validation loss: 1.0942484140396118 - train acc = 0.68203125 - validation acc = 0.3411764705882353\n",
            "epoch: 101 -  train loss: 0.9996262311935424 - validation loss: 1.0940552949905396 - train acc = 0.684375 - validation acc = 0.35294117647058826\n",
            "epoch: 102 -  train loss: 0.9941363096237182 - validation loss: 1.0939323902130127 - train acc = 0.68703125 - validation acc = 0.3411764705882353\n",
            "epoch: 103 -  train loss: 0.9928688883781434 - validation loss: 1.0937421321868896 - train acc = 0.6780468749999999 - validation acc = 0.32941176470588235\n",
            "epoch: 104 -  train loss: 0.9869688987731934 - validation loss: 1.0936256647109985 - train acc = 0.678359375 - validation acc = 0.32941176470588235\n",
            "epoch: 105 -  train loss: 0.9832301139831543 - validation loss: 1.0934487581253052 - train acc = 0.706953125 - validation acc = 0.3411764705882353\n",
            "epoch: 106 -  train loss: 0.978861141204834 - validation loss: 1.0931776762008667 - train acc = 0.695390625 - validation acc = 0.35294117647058826\n",
            "epoch: 107 -  train loss: 0.9715330600738525 - validation loss: 1.0928432941436768 - train acc = 0.706171875 - validation acc = 0.36470588235294116\n",
            "epoch: 108 -  train loss: 0.9708441019058227 - validation loss: 1.0926867723464966 - train acc = 0.71015625 - validation acc = 0.36470588235294116\n",
            "epoch: 109 -  train loss: 0.9619533538818359 - validation loss: 1.0924674272537231 - train acc = 0.718671875 - validation acc = 0.3764705882352941\n",
            "epoch: 110 -  train loss: 0.9600717186927795 - validation loss: 1.0922443866729736 - train acc = 0.708984375 - validation acc = 0.3764705882352941\n",
            "epoch: 111 -  train loss: 0.9563162326812744 - validation loss: 1.0920249223709106 - train acc = 0.714921875 - validation acc = 0.38823529411764707\n",
            "epoch: 112 -  train loss: 0.9471830248832702 - validation loss: 1.0918676853179932 - train acc = 0.738515625 - validation acc = 0.38823529411764707\n",
            "epoch: 113 -  train loss: 0.9426369786262512 - validation loss: 1.0916237831115723 - train acc = 0.721640625 - validation acc = 0.38823529411764707\n",
            "epoch: 114 -  train loss: 0.9329008460044861 - validation loss: 1.091438889503479 - train acc = 0.7424999999999999 - validation acc = 0.3764705882352941\n",
            "epoch: 115 -  train loss: 0.9293301105499268 - validation loss: 1.0911961793899536 - train acc = 0.7365625 - validation acc = 0.3764705882352941\n",
            "epoch: 116 -  train loss: 0.9212758660316467 - validation loss: 1.0906695127487183 - train acc = 0.7407812500000001 - validation acc = 0.38823529411764707\n",
            "epoch: 117 -  train loss: 0.9176257967948913 - validation loss: 1.090443730354309 - train acc = 0.742421875 - validation acc = 0.3764705882352941\n",
            "epoch: 118 -  train loss: 0.9094163298606872 - validation loss: 1.0905332565307617 - train acc = 0.7494531249999999 - validation acc = 0.3764705882352941\n",
            "epoch: 119 -  train loss: 0.9020442605018616 - validation loss: 1.0904040336608887 - train acc = 0.7716406250000001 - validation acc = 0.3764705882352941\n",
            "epoch: 120 -  train loss: 0.8960313439369202 - validation loss: 1.0900979042053223 - train acc = 0.7540625000000001 - validation acc = 0.3764705882352941\n",
            "epoch: 121 -  train loss: 0.8887960076332092 - validation loss: 1.089746117591858 - train acc = 0.7725 - validation acc = 0.3764705882352941\n",
            "epoch: 122 -  train loss: 0.8824357509613037 - validation loss: 1.0898891687393188 - train acc = 0.7678125 - validation acc = 0.3764705882352941\n",
            "epoch: 123 -  train loss: 0.8748568177223206 - validation loss: 1.0897167921066284 - train acc = 0.766484375 - validation acc = 0.38823529411764707\n",
            "epoch: 124 -  train loss: 0.8640776395797729 - validation loss: 1.089479684829712 - train acc = 0.78328125 - validation acc = 0.38823529411764707\n",
            "epoch: 125 -  train loss: 0.8590490698814393 - validation loss: 1.0891566276550293 - train acc = 0.7833593750000001 - validation acc = 0.38823529411764707\n",
            "epoch: 126 -  train loss: 0.8497060775756836 - validation loss: 1.0888018608093262 - train acc = 0.78671875 - validation acc = 0.38823529411764707\n",
            "epoch: 127 -  train loss: 0.8459169030189514 - validation loss: 1.0888959169387817 - train acc = 0.777734375 - validation acc = 0.4\n",
            "epoch: 128 -  train loss: 0.8377614140510559 - validation loss: 1.088901400566101 - train acc = 0.802109375 - validation acc = 0.4\n",
            "epoch: 129 -  train loss: 0.8237223267555237 - validation loss: 1.0887701511383057 - train acc = 0.7970312500000001 - validation acc = 0.4117647058823529\n",
            "epoch: 130 -  train loss: 0.8148375272750854 - validation loss: 1.0884987115859985 - train acc = 0.812265625 - validation acc = 0.4117647058823529\n",
            "epoch: 131 -  train loss: 0.8090705633163452 - validation loss: 1.0879733562469482 - train acc = 0.8016406249999999 - validation acc = 0.4117647058823529\n",
            "epoch: 132 -  train loss: 0.801590621471405 - validation loss: 1.087357997894287 - train acc = 0.802734375 - validation acc = 0.4\n",
            "epoch: 133 -  train loss: 0.7867850542068482 - validation loss: 1.0870777368545532 - train acc = 0.821015625 - validation acc = 0.4117647058823529\n",
            "epoch: 134 -  train loss: 0.7838682770729065 - validation loss: 1.0870623588562012 - train acc = 0.8237500000000001 - validation acc = 0.4235294117647059\n",
            "epoch: 135 -  train loss: 0.7722690105438232 - validation loss: 1.0875825881958008 - train acc = 0.819296875 - validation acc = 0.4\n",
            "epoch: 136 -  train loss: 0.7549960255622864 - validation loss: 1.0877026319503784 - train acc = 0.821640625 - validation acc = 0.4\n",
            "epoch: 137 -  train loss: 0.7527790069580078 - validation loss: 1.0878602266311646 - train acc = 0.8270312499999999 - validation acc = 0.4\n",
            "epoch: 138 -  train loss: 0.7431622982025147 - validation loss: 1.0874680280685425 - train acc = 0.8353125 - validation acc = 0.4\n",
            "epoch: 139 -  train loss: 0.731770646572113 - validation loss: 1.0875771045684814 - train acc = 0.83375 - validation acc = 0.4\n",
            "epoch: 140 -  train loss: 0.7240942358970642 - validation loss: 1.0875537395477295 - train acc = 0.8439062500000001 - validation acc = 0.4\n",
            "epoch: 141 -  train loss: 0.7128141641616821 - validation loss: 1.0876266956329346 - train acc = 0.8358593750000001 - validation acc = 0.4\n",
            "epoch: 142 -  train loss: 0.6953110456466675 - validation loss: 1.0877556800842285 - train acc = 0.851796875 - validation acc = 0.4\n",
            "epoch: 143 -  train loss: 0.6875081419944763 - validation loss: 1.0884978771209717 - train acc = 0.845390625 - validation acc = 0.4\n",
            "epoch: 144 -  train loss: 0.6807240009307861 - validation loss: 1.0881309509277344 - train acc = 0.8428906250000001 - validation acc = 0.4\n",
            "epoch: 145 -  train loss: 0.6714988350868225 - validation loss: 1.088262915611267 - train acc = 0.8467968750000001 - validation acc = 0.4\n",
            "epoch: 146 -  train loss: 0.6657032012939453 - validation loss: 1.0888211727142334 - train acc = 0.8495312500000001 - validation acc = 0.4\n",
            "epoch: 147 -  train loss: 0.6463815569877625 - validation loss: 1.0896426439285278 - train acc = 0.850546875 - validation acc = 0.38823529411764707\n",
            "epoch: 148 -  train loss: 0.6377248644828797 - validation loss: 1.0899380445480347 - train acc = 0.863671875 - validation acc = 0.4117647058823529\n",
            "epoch: 149 -  train loss: 0.6359156489372253 - validation loss: 1.0905709266662598 - train acc = 0.8516406249999999 - validation acc = 0.4\n",
            "epoch: 150 -  train loss: 0.6221247553825379 - validation loss: 1.0910229682922363 - train acc = 0.8596875 - validation acc = 0.4235294117647059\n",
            "training Finished in 14.744261264801025 seconds\n"
          ]
        }
      ],
      "source": [
        "train_loss_,validation_loss_,train_acc_,val_acc_=training_loop(150,model_Specific_comment_Bilstm,data_loader_Specific_set,data_loader_Valspecific,criterion,optimizer)\n"
      ]
    },
    {
      "cell_type": "code",
      "execution_count": 82,
      "metadata": {
        "colab": {
          "base_uri": "https://localhost:8080/"
        },
        "id": "YtfH79A0bohC",
        "outputId": "27d37119-3cbc-476f-fa97-7a399028a817"
      },
      "outputs": [
        {
          "name": "stdout",
          "output_type": "stream",
          "text": [
            "              precision    recall  f1-score   support\n",
            "\n",
            "           0       0.46      0.55      0.50       171\n",
            "           1       0.40      0.33      0.36       181\n",
            "           2       0.42      0.42      0.42       195\n",
            "\n",
            "    accuracy                           0.43       547\n",
            "   macro avg       0.43      0.43      0.43       547\n",
            "weighted avg       0.43      0.43      0.43       547\n",
            "\n",
            "Accuracy: 0.429616\n",
            "  \n",
            "Precision:0.426886\n",
            "  \n",
            "Recall: 0.432062\n",
            "  \n",
            "F1 score: 0.426932\n"
          ]
        }
      ],
      "source": [
        "Evaluate(model_Specific_comment_Bilstm,test_loader_Specific)"
      ]
    }
  ],
  "metadata": {
    "accelerator": "GPU",
    "colab": {
      "gpuType": "T4",
      "provenance": []
    },
    "kernelspec": {
      "display_name": "Python 3",
      "name": "python3"
    },
    "language_info": {
      "name": "python"
    }
  },
  "nbformat": 4,
  "nbformat_minor": 0
}
