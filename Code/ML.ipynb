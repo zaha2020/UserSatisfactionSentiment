{
  "cells": [
    {
      "cell_type": "code",
      "execution_count": 1,
      "metadata": {
        "colab": {
          "base_uri": "https://localhost:8080/"
        },
        "id": "sWQqN_HvXnC7",
        "outputId": "330d8697-9783-42a7-e778-a37479aa7e85"
      },
      "outputs": [
        {
          "name": "stdout",
          "output_type": "stream",
          "text": [
            "Requirement already satisfied: arabic-reshaper in c:\\users\\asus\\anaconda3\\lib\\site-packages (3.0.0)\n",
            "Requirement already satisfied: python-bidi in c:\\users\\asus\\anaconda3\\lib\\site-packages (0.4.2)\n",
            "Requirement already satisfied: six in c:\\users\\asus\\anaconda3\\lib\\site-packages (from python-bidi) (1.15.0)\n"
          ]
        }
      ],
      "source": [
        "! pip install arabic-reshaper\n",
        "! pip install python-bidi"
      ]
    },
    {
      "cell_type": "code",
      "execution_count": 129,
      "metadata": {
        "id": "nl2C_Mm9XnC8"
      },
      "outputs": [],
      "source": [
        "\n",
        "import numpy as np\n",
        "import pandas as pd\n",
        "import matplotlib.pyplot as plt\n",
        "import seaborn as sns\n",
        "from bidi.algorithm import get_display\n",
        "import arabic_reshaper\n",
        "from wordcloud import WordCloud\n",
        "from wordcloud_fa import WordCloudFa\n",
        "from cleantext import clean\n",
        "import re\n",
        "from sklearn.model_selection import train_test_split\n",
        "from sklearn.metrics import confusion_matrix,classification_report\n",
        "from sklearn.feature_extraction.text import CountVectorizer, TfidfVectorizer\n",
        "from sklearn.metrics import confusion_matrix,classification_report\n",
        "from sklearn.model_selection import GridSearchCV\n",
        "from sklearn.model_selection import ShuffleSplit\n",
        "import warnings\n",
        "warnings.filterwarnings(action='ignore')\n",
        "from sklearn.neighbors import KNeighborsClassifier\n",
        "from sklearn.ensemble import RandomForestClassifier\n",
        "from sklearn.linear_model import LogisticRegression\n",
        "from sklearn.metrics import accuracy_score\n",
        "from sklearn.metrics import f1_score\n",
        "from sklearn.metrics import precision_score\n",
        "from sklearn.metrics import recall_score\n",
        "from sklearn import svm\n",
        "from sklearn.naive_bayes import MultinomialNB\n",
        "from imblearn.over_sampling import SMOTE"
      ]
    },
    {
      "cell_type": "code",
      "execution_count": 219,
      "metadata": {},
      "outputs": [
        {
          "data": {
            "text/html": [
              "<div>\n",
              "<style scoped>\n",
              "    .dataframe tbody tr th:only-of-type {\n",
              "        vertical-align: middle;\n",
              "    }\n",
              "\n",
              "    .dataframe tbody tr th {\n",
              "        vertical-align: top;\n",
              "    }\n",
              "\n",
              "    .dataframe thead th {\n",
              "        text-align: right;\n",
              "    }\n",
              "</style>\n",
              "<table border=\"1\" class=\"dataframe\">\n",
              "  <thead>\n",
              "    <tr style=\"text-align: right;\">\n",
              "      <th></th>\n",
              "      <th>record_text</th>\n",
              "      <th>تعهد</th>\n",
              "      <th>صحبت عام راجع به شریک زندگی کرده یا خیر</th>\n",
              "      <th>صحبت عام راجع به شریک زندگی</th>\n",
              "      <th>صحبت راجع به شریک زندگی خود کرده یا خیر</th>\n",
              "      <th>صحبت راجع به شریک زندگی خود</th>\n",
              "      <th>Comment</th>\n",
              "      <th>ربط</th>\n",
              "    </tr>\n",
              "  </thead>\n",
              "  <tbody>\n",
              "    <tr>\n",
              "      <th>0</th>\n",
              "      <td>از خبر درگذشت سرهنگ کیومرث جهان بینی بسیار متا...</td>\n",
              "      <td>-1</td>\n",
              "      <td>0</td>\n",
              "      <td>صحبت نکرده</td>\n",
              "      <td>0.0</td>\n",
              "      <td>صحبت نکرده</td>\n",
              "      <td>کامنت</td>\n",
              "      <td>irrelevant</td>\n",
              "    </tr>\n",
              "    <tr>\n",
              "      <th>1</th>\n",
              "      <td>اج دوپهر لاهور کی شاهی قلعی اور بادشاهی مسجد م...</td>\n",
              "      <td>-1</td>\n",
              "      <td>0</td>\n",
              "      <td>صحبت نکرده</td>\n",
              "      <td>0.0</td>\n",
              "      <td>صحبت نکرده</td>\n",
              "      <td>کامنت</td>\n",
              "      <td>irrelevant</td>\n",
              "    </tr>\n",
              "    <tr>\n",
              "      <th>2</th>\n",
              "      <td>از وقتی شنیدم مسی گفته بخاطر همسر و اینده ی فر...</td>\n",
              "      <td>-1</td>\n",
              "      <td>0</td>\n",
              "      <td>صحبت نکرده</td>\n",
              "      <td>0.0</td>\n",
              "      <td>صحبت نکرده</td>\n",
              "      <td>کامنت</td>\n",
              "      <td>irrelevant</td>\n",
              "    </tr>\n",
              "    <tr>\n",
              "      <th>3</th>\n",
              "      <td>ندیم افضل چن کی والد کی گرفتاری، حماد اظهر کی ...</td>\n",
              "      <td>-1</td>\n",
              "      <td>0</td>\n",
              "      <td>صحبت نکرده</td>\n",
              "      <td>0.0</td>\n",
              "      <td>صحبت نکرده</td>\n",
              "      <td>کامنت</td>\n",
              "      <td>irrelevant</td>\n",
              "    </tr>\n",
              "    <tr>\n",
              "      <th>4</th>\n",
              "      <td>با کسی که طبعش با شما متفاوته ازدواج نکنید من ...</td>\n",
              "      <td>1</td>\n",
              "      <td>1</td>\n",
              "      <td>ناخوشایند</td>\n",
              "      <td>1.0</td>\n",
              "      <td>ناخوشایند</td>\n",
              "      <td>کامنت</td>\n",
              "      <td>relevant</td>\n",
              "    </tr>\n",
              "    <tr>\n",
              "      <th>...</th>\n",
              "      <td>...</td>\n",
              "      <td>...</td>\n",
              "      <td>...</td>\n",
              "      <td>...</td>\n",
              "      <td>...</td>\n",
              "      <td>...</td>\n",
              "      <td>...</td>\n",
              "      <td>...</td>\n",
              "    </tr>\n",
              "    <tr>\n",
              "      <th>3075</th>\n",
              "      <td>میگفت من تا حالا از لیوان دهنی شوهرم اب نخوردم...</td>\n",
              "      <td>-1</td>\n",
              "      <td>1</td>\n",
              "      <td>خنثی</td>\n",
              "      <td>1.0</td>\n",
              "      <td>خنثی</td>\n",
              "      <td>کامنت</td>\n",
              "      <td>relevant</td>\n",
              "    </tr>\n",
              "    <tr>\n",
              "      <th>3076</th>\n",
              "      <td>دوست دخترم انقدر قشنگه که من دیگه nmt 2</td>\n",
              "      <td>1</td>\n",
              "      <td>1</td>\n",
              "      <td>خوشایند</td>\n",
              "      <td>1.0</td>\n",
              "      <td>خوشایند</td>\n",
              "      <td>کامنت</td>\n",
              "      <td>relevant</td>\n",
              "    </tr>\n",
              "    <tr>\n",
              "      <th>3077</th>\n",
              "      <td>یک اخوند در بهبهان منشی اش رو صیغه می کرده. من...</td>\n",
              "      <td>-1</td>\n",
              "      <td>0</td>\n",
              "      <td>صحبت نکرده</td>\n",
              "      <td>0.0</td>\n",
              "      <td>صحبت نکرده</td>\n",
              "      <td>کامنت</td>\n",
              "      <td>irrelevant</td>\n",
              "    </tr>\n",
              "    <tr>\n",
              "      <th>3078</th>\n",
              "      <td>مرده رفته دادگاه گفته که نمیخوام زنم شهر دیگه ...</td>\n",
              "      <td>-1</td>\n",
              "      <td>1</td>\n",
              "      <td>ناخوشایند</td>\n",
              "      <td>0.0</td>\n",
              "      <td>صحبت نکرده</td>\n",
              "      <td>کامنت</td>\n",
              "      <td>relevant</td>\n",
              "    </tr>\n",
              "    <tr>\n",
              "      <th>3079</th>\n",
              "      <td>دوست دخترم تابستون موتور سواری یاد گرفت، الان ...</td>\n",
              "      <td>1</td>\n",
              "      <td>1</td>\n",
              "      <td>خوشایند</td>\n",
              "      <td>1.0</td>\n",
              "      <td>خوشایند</td>\n",
              "      <td>کامنت</td>\n",
              "      <td>relevant</td>\n",
              "    </tr>\n",
              "  </tbody>\n",
              "</table>\n",
              "<p>3080 rows × 8 columns</p>\n",
              "</div>"
            ],
            "text/plain": [
              "                                            record_text  تعهد  \\\n",
              "0     از خبر درگذشت سرهنگ کیومرث جهان بینی بسیار متا...    -1   \n",
              "1     اج دوپهر لاهور کی شاهی قلعی اور بادشاهی مسجد م...    -1   \n",
              "2     از وقتی شنیدم مسی گفته بخاطر همسر و اینده ی فر...    -1   \n",
              "3     ندیم افضل چن کی والد کی گرفتاری، حماد اظهر کی ...    -1   \n",
              "4     با کسی که طبعش با شما متفاوته ازدواج نکنید من ...     1   \n",
              "...                                                 ...   ...   \n",
              "3075  میگفت من تا حالا از لیوان دهنی شوهرم اب نخوردم...    -1   \n",
              "3076            دوست دخترم انقدر قشنگه که من دیگه nmt 2     1   \n",
              "3077  یک اخوند در بهبهان منشی اش رو صیغه می کرده. من...    -1   \n",
              "3078  مرده رفته دادگاه گفته که نمیخوام زنم شهر دیگه ...    -1   \n",
              "3079  دوست دخترم تابستون موتور سواری یاد گرفت، الان ...     1   \n",
              "\n",
              "      صحبت عام راجع به شریک زندگی کرده یا خیر صحبت عام راجع به شریک زندگی  \\\n",
              "0                                           0                  صحبت نکرده   \n",
              "1                                           0                  صحبت نکرده   \n",
              "2                                           0                  صحبت نکرده   \n",
              "3                                           0                  صحبت نکرده   \n",
              "4                                           1                   ناخوشایند   \n",
              "...                                       ...                         ...   \n",
              "3075                                        1                        خنثی   \n",
              "3076                                        1                     خوشایند   \n",
              "3077                                        0                  صحبت نکرده   \n",
              "3078                                        1                   ناخوشایند   \n",
              "3079                                        1                     خوشایند   \n",
              "\n",
              "      صحبت راجع به شریک زندگی خود کرده یا خیر صحبت راجع به شریک زندگی خود  \\\n",
              "0                                         0.0                  صحبت نکرده   \n",
              "1                                         0.0                  صحبت نکرده   \n",
              "2                                         0.0                  صحبت نکرده   \n",
              "3                                         0.0                  صحبت نکرده   \n",
              "4                                         1.0                   ناخوشایند   \n",
              "...                                       ...                         ...   \n",
              "3075                                      1.0                        خنثی   \n",
              "3076                                      1.0                     خوشایند   \n",
              "3077                                      0.0                  صحبت نکرده   \n",
              "3078                                      0.0                  صحبت نکرده   \n",
              "3079                                      1.0                     خوشایند   \n",
              "\n",
              "     Comment         ربط  \n",
              "0      کامنت  irrelevant  \n",
              "1      کامنت  irrelevant  \n",
              "2      کامنت  irrelevant  \n",
              "3      کامنت  irrelevant  \n",
              "4      کامنت    relevant  \n",
              "...      ...         ...  \n",
              "3075   کامنت    relevant  \n",
              "3076   کامنت    relevant  \n",
              "3077   کامنت  irrelevant  \n",
              "3078   کامنت    relevant  \n",
              "3079   کامنت    relevant  \n",
              "\n",
              "[3080 rows x 8 columns]"
            ]
          },
          "execution_count": 219,
          "metadata": {},
          "output_type": "execute_result"
        }
      ],
      "source": [
        "Data=pd.read_excel('Data_.xlsx')\n",
        "Data"
      ]
    },
    {
      "cell_type": "code",
      "execution_count": 220,
      "metadata": {
        "id": "XGPtYCM5XnC9",
        "outputId": "4c999218-16d3-407b-f9fc-e4e8df3d0db1"
      },
      "outputs": [],
      "source": [
        "D_1=pd.read_excel('Social_Satisfaction.xlsx')\n",
        "#Data = pd.read_csv('Data_.csv',encoding ='utf-8')\n",
        "D_2=pd.read_excel('Data_.xlsx')\n"
      ]
    },
    {
      "cell_type": "code",
      "execution_count": 221,
      "metadata": {},
      "outputs": [],
      "source": [
        "dataframes = [D_1, D_2]"
      ]
    },
    {
      "cell_type": "code",
      "execution_count": 222,
      "metadata": {},
      "outputs": [
        {
          "data": {
            "text/html": [
              "<div>\n",
              "<style scoped>\n",
              "    .dataframe tbody tr th:only-of-type {\n",
              "        vertical-align: middle;\n",
              "    }\n",
              "\n",
              "    .dataframe tbody tr th {\n",
              "        vertical-align: top;\n",
              "    }\n",
              "\n",
              "    .dataframe thead th {\n",
              "        text-align: right;\n",
              "    }\n",
              "</style>\n",
              "<table border=\"1\" class=\"dataframe\">\n",
              "  <thead>\n",
              "    <tr style=\"text-align: right;\">\n",
              "      <th></th>\n",
              "      <th>record_text</th>\n",
              "      <th>تعهد</th>\n",
              "      <th>صحبت عام راجع به شریک زندگی کرده یا خیر</th>\n",
              "      <th>صحبت عام راجع به شریک زندگی</th>\n",
              "      <th>صحبت راجع به شریک زندگی خود کرده یا خیر</th>\n",
              "      <th>صحبت راجع به شریک زندگی خود</th>\n",
              "      <th>Comment</th>\n",
              "      <th>ربط</th>\n",
              "    </tr>\n",
              "  </thead>\n",
              "  <tbody>\n",
              "    <tr>\n",
              "      <th>0</th>\n",
              "      <td>من وسط راه بودم نتونستم خیلی تو ترندینگ باشم  ...</td>\n",
              "      <td>1</td>\n",
              "      <td>1</td>\n",
              "      <td>خوشایند</td>\n",
              "      <td>1.0</td>\n",
              "      <td>خوشایند</td>\n",
              "      <td>شوهرترین</td>\n",
              "      <td>relevant</td>\n",
              "    </tr>\n",
              "    <tr>\n",
              "      <th>1</th>\n",
              "      <td>پلیس اتریش از کشف میلیونها یورو در چمدان همسر ...</td>\n",
              "      <td>-1</td>\n",
              "      <td>0</td>\n",
              "      <td>صحبت نکرده</td>\n",
              "      <td>0.0</td>\n",
              "      <td>صحبت نکرده</td>\n",
              "      <td>همسر یک نفر دیگر و دزدی ربطی ندارد</td>\n",
              "      <td>irrelevant</td>\n",
              "    </tr>\n",
              "    <tr>\n",
              "      <th>2</th>\n",
              "      <td>حالا در مورد زید یه خاکی بریز شوهر شد دوبار خا...</td>\n",
              "      <td>-1</td>\n",
              "      <td>1</td>\n",
              "      <td>ناخوشایند</td>\n",
              "      <td>0.0</td>\n",
              "      <td>صحبت نکرده</td>\n",
              "      <td>احتمالا زید یه جیزی بوده که نوشته یه خاکی بریز</td>\n",
              "      <td>relevant</td>\n",
              "    </tr>\n",
              "    <tr>\n",
              "      <th>3</th>\n",
              "      <td>یه متن نوشته سنده؟؟ میخوای منم یه صفحه بنویسم ...</td>\n",
              "      <td>-1</td>\n",
              "      <td>0</td>\n",
              "      <td>صحبت نکرده</td>\n",
              "      <td>0.0</td>\n",
              "      <td>صحبت نکرده</td>\n",
              "      <td>نظری راجع به شریک زندگی داده نشده</td>\n",
              "      <td>irrelevant</td>\n",
              "    </tr>\n",
              "    <tr>\n",
              "      <th>4</th>\n",
              "      <td>امشب حدود 10 بار ازم پرسیدن \"خبری نیست؟\" و من ...</td>\n",
              "      <td>0</td>\n",
              "      <td>1</td>\n",
              "      <td>خنثی</td>\n",
              "      <td>0.0</td>\n",
              "      <td>صحبت نکرده</td>\n",
              "      <td>علامت سوال اخر یه جور جمله پرسشیه که نمیشه گف ...</td>\n",
              "      <td>irrelevant</td>\n",
              "    </tr>\n",
              "    <tr>\n",
              "      <th>...</th>\n",
              "      <td>...</td>\n",
              "      <td>...</td>\n",
              "      <td>...</td>\n",
              "      <td>...</td>\n",
              "      <td>...</td>\n",
              "      <td>...</td>\n",
              "      <td>...</td>\n",
              "      <td>...</td>\n",
              "    </tr>\n",
              "    <tr>\n",
              "      <th>13234</th>\n",
              "      <td>میگفت من تا حالا از لیوان دهنی شوهرم اب نخوردم...</td>\n",
              "      <td>-1</td>\n",
              "      <td>1</td>\n",
              "      <td>خنثی</td>\n",
              "      <td>1.0</td>\n",
              "      <td>خنثی</td>\n",
              "      <td>کامنت</td>\n",
              "      <td>relevant</td>\n",
              "    </tr>\n",
              "    <tr>\n",
              "      <th>13235</th>\n",
              "      <td>دوست دخترم انقدر قشنگه که من دیگه nmt 2</td>\n",
              "      <td>1</td>\n",
              "      <td>1</td>\n",
              "      <td>خوشایند</td>\n",
              "      <td>1.0</td>\n",
              "      <td>خوشایند</td>\n",
              "      <td>کامنت</td>\n",
              "      <td>relevant</td>\n",
              "    </tr>\n",
              "    <tr>\n",
              "      <th>13236</th>\n",
              "      <td>یک اخوند در بهبهان منشی اش رو صیغه می کرده. من...</td>\n",
              "      <td>-1</td>\n",
              "      <td>0</td>\n",
              "      <td>صحبت نکرده</td>\n",
              "      <td>0.0</td>\n",
              "      <td>صحبت نکرده</td>\n",
              "      <td>کامنت</td>\n",
              "      <td>irrelevant</td>\n",
              "    </tr>\n",
              "    <tr>\n",
              "      <th>13237</th>\n",
              "      <td>مرده رفته دادگاه گفته که نمیخوام زنم شهر دیگه ...</td>\n",
              "      <td>-1</td>\n",
              "      <td>1</td>\n",
              "      <td>ناخوشایند</td>\n",
              "      <td>0.0</td>\n",
              "      <td>صحبت نکرده</td>\n",
              "      <td>کامنت</td>\n",
              "      <td>relevant</td>\n",
              "    </tr>\n",
              "    <tr>\n",
              "      <th>13238</th>\n",
              "      <td>دوست دخترم تابستون موتور سواری یاد گرفت، الان ...</td>\n",
              "      <td>1</td>\n",
              "      <td>1</td>\n",
              "      <td>خوشایند</td>\n",
              "      <td>1.0</td>\n",
              "      <td>خوشایند</td>\n",
              "      <td>کامنت</td>\n",
              "      <td>relevant</td>\n",
              "    </tr>\n",
              "  </tbody>\n",
              "</table>\n",
              "<p>13239 rows × 8 columns</p>\n",
              "</div>"
            ],
            "text/plain": [
              "                                             record_text تعهد  \\\n",
              "0      من وسط راه بودم نتونستم خیلی تو ترندینگ باشم  ...    1   \n",
              "1      پلیس اتریش از کشف میلیونها یورو در چمدان همسر ...   -1   \n",
              "2      حالا در مورد زید یه خاکی بریز شوهر شد دوبار خا...   -1   \n",
              "3      یه متن نوشته سنده؟؟ میخوای منم یه صفحه بنویسم ...   -1   \n",
              "4      امشب حدود 10 بار ازم پرسیدن \"خبری نیست؟\" و من ...    0   \n",
              "...                                                  ...  ...   \n",
              "13234  میگفت من تا حالا از لیوان دهنی شوهرم اب نخوردم...   -1   \n",
              "13235            دوست دخترم انقدر قشنگه که من دیگه nmt 2    1   \n",
              "13236  یک اخوند در بهبهان منشی اش رو صیغه می کرده. من...   -1   \n",
              "13237  مرده رفته دادگاه گفته که نمیخوام زنم شهر دیگه ...   -1   \n",
              "13238  دوست دخترم تابستون موتور سواری یاد گرفت، الان ...    1   \n",
              "\n",
              "       صحبت عام راجع به شریک زندگی کرده یا خیر صحبت عام راجع به شریک زندگی  \\\n",
              "0                                            1                     خوشایند   \n",
              "1                                            0                  صحبت نکرده   \n",
              "2                                            1                   ناخوشایند   \n",
              "3                                            0                  صحبت نکرده   \n",
              "4                                            1                        خنثی   \n",
              "...                                        ...                         ...   \n",
              "13234                                        1                        خنثی   \n",
              "13235                                        1                     خوشایند   \n",
              "13236                                        0                  صحبت نکرده   \n",
              "13237                                        1                   ناخوشایند   \n",
              "13238                                        1                     خوشایند   \n",
              "\n",
              "       صحبت راجع به شریک زندگی خود کرده یا خیر صحبت راجع به شریک زندگی خود  \\\n",
              "0                                          1.0                     خوشایند   \n",
              "1                                          0.0                  صحبت نکرده   \n",
              "2                                          0.0                  صحبت نکرده   \n",
              "3                                          0.0                  صحبت نکرده   \n",
              "4                                          0.0                  صحبت نکرده   \n",
              "...                                        ...                         ...   \n",
              "13234                                      1.0                        خنثی   \n",
              "13235                                      1.0                     خوشایند   \n",
              "13236                                      0.0                  صحبت نکرده   \n",
              "13237                                      0.0                  صحبت نکرده   \n",
              "13238                                      1.0                     خوشایند   \n",
              "\n",
              "                                                 Comment         ربط  \n",
              "0                                               شوهرترین    relevant  \n",
              "1                     همسر یک نفر دیگر و دزدی ربطی ندارد  irrelevant  \n",
              "2         احتمالا زید یه جیزی بوده که نوشته یه خاکی بریز    relevant  \n",
              "3                      نظری راجع به شریک زندگی داده نشده  irrelevant  \n",
              "4      علامت سوال اخر یه جور جمله پرسشیه که نمیشه گف ...  irrelevant  \n",
              "...                                                  ...         ...  \n",
              "13234                                              کامنت    relevant  \n",
              "13235                                              کامنت    relevant  \n",
              "13236                                              کامنت  irrelevant  \n",
              "13237                                              کامنت    relevant  \n",
              "13238                                              کامنت    relevant  \n",
              "\n",
              "[13239 rows x 8 columns]"
            ]
          },
          "execution_count": 222,
          "metadata": {},
          "output_type": "execute_result"
        }
      ],
      "source": [
        "Data = pd.concat(dataframes, ignore_index=True)\n",
        "Data"
      ]
    },
    {
      "cell_type": "code",
      "execution_count": 224,
      "metadata": {},
      "outputs": [],
      "source": [
        "def pre_process_(Data):\n",
        "    Data.rename(columns = {'تعهد':'InRelationship', 'صحبت عام راجع به شریک زندگی کرده یا خیر':'General_comment_binary',\n",
        "                              'صحبت عام راجع به شریک زندگی':'General_comment',\n",
        "                              'صحبت راجع به شریک زندگی خود کرده یا خیر':'Specific_comment_binary',\n",
        "                               'صحبت راجع به شریک زندگی خود':'Specific_comment',\n",
        "                                'ربط':'Relevance', 'record_text':'Record_text'\n",
        "                              }, inplace = True)\n",
        "\n",
        "    #General_comment\n",
        "    Data['General_comment']=np.where(Data['General_comment'] =='خنی', 'خنثی', Data['General_comment'])\n",
        "    Data['General_comment']=np.where(Data['General_comment'] =='ناخوشانید', 'ناخوشابند', Data['General_comment'])\n",
        "    Data['General_comment']=np.where(Data['General_comment'] =='ناخوشلیند', 'ناخوشابند', Data['General_comment'])\n",
        "    Data['General_comment']=np.where(Data['General_comment'] =='ناحوشایند', 'ناخوشابند', Data['General_comment'])\n",
        "    Data['General_comment']=np.where(Data['General_comment'] =='حنثی', 'خنثی', Data['General_comment'])\n",
        "    Data['General_comment']=np.where(Data['General_comment'] =='خواشایند', 'خوشایند', Data['General_comment'])\n",
        "    Data['General_comment']=np.where(Data['General_comment'] =='ناخوشابند', 'ناخوشایند', Data['General_comment'])\n",
        "\n",
        "    #Specific_comment\n",
        "    Data['Specific_comment']=np.where(Data['Specific_comment'] =='حوشایند', 'خوشایند', Data['Specific_comment'])\n",
        "\n",
        "    #InRelationship\n",
        "    Data['InRelationship']=np.where(Data['InRelationship'] =='S', 0, Data['InRelationship'])\n",
        "\n",
        "    def clean(text):\n",
        "        text = re.sub(r'\\s*[A-Za-z]+\\b', '' , text)    #remove english words\n",
        "       # text = re.sub(\"\\[.*?\\]\",\" \",text)  #remove emotion_text\n",
        "        text= re.sub(\"\\d+\", \" \", text) #remove numbers\n",
        "       # text = re.sub(r'[^\\w\\s]', ' ', text) #remove remained punctuation and emojies\n",
        "        # text = re.sub(r'''(?i)\\b((?:https?://|www\\d{0,3}[.]|[a-z0-9.\\-]+[.][a-z]{2,4}/)\n",
        "        #       (?:[^\\s()<>]+|\\(([^\\s()<>]+|(\\([^\\s()<>]+\\)))*\\))+(?:\\(([^\\s()<>]+|(\\([^\\s()<>]+\\)))*\\)|[^\\s`!()\\[\\]{};:'\".,<>?«»“”‘’]))''', \" \", text) #remove \n",
        "        return text\n",
        "\n",
        "    Data['Record_text'] = Data['Record_text'].apply(lambda t: clean(t))\n",
        "    Data.drop_duplicates(subset=\"Record_text\",keep='last', inplace=True,ignore_index=True)\n",
        "\n",
        "    return Data"
      ]
    },
    {
      "cell_type": "code",
      "execution_count": 225,
      "metadata": {},
      "outputs": [],
      "source": [
        "Data= pre_process_(Data)\n"
      ]
    },
    {
      "cell_type": "code",
      "execution_count": 227,
      "metadata": {},
      "outputs": [
        {
          "data": {
            "text/plain": [
              "False    13239\n",
              "dtype: int64"
            ]
          },
          "execution_count": 227,
          "metadata": {},
          "output_type": "execute_result"
        }
      ],
      "source": [
        "Data.duplicated().value_counts()"
      ]
    },
    {
      "cell_type": "code",
      "execution_count": 228,
      "metadata": {},
      "outputs": [
        {
          "name": "stdout",
          "output_type": "stream",
          "text": [
            "Unique values of the 'InRelationship' column:'\n",
            "[1 -1 0]\n",
            "\n",
            "\n",
            "Unique values of the 'General_comment' column:'\n",
            "['خوشایند' 'صحبت نکرده' 'ناخوشایند' 'خنثی']\n",
            "\n",
            "\n",
            "Unique values of the 'Specific_comment' column:'\n",
            "['خوشایند' 'صحبت نکرده' 'ناخوشایند' 'خنثی']\n",
            "\n",
            "\n",
            "Unique values of the 'Relevance' column:'\n",
            "['relevant' 'irrelevant']\n",
            "\n",
            "\n"
          ]
        }
      ],
      "source": [
        "columns=['InRelationship','General_comment','Specific_comment','Relevance']\n",
        "for i in columns:\n",
        "    print(f\"Unique values of the '{i}' column:'\\n{Data[i].unique()}\")\n",
        "    print('\\n')"
      ]
    },
    {
      "cell_type": "code",
      "execution_count": 229,
      "metadata": {},
      "outputs": [
        {
          "name": "stdout",
          "output_type": "stream",
          "text": [
            "Frequency of each label in 'InRelationship' column:'\n",
            "-1    8049\n",
            " 1    2914\n",
            " 0    2276\n",
            "Name: InRelationship, dtype: int64\n",
            "\n",
            "\n",
            "Frequency of each label in 'General_comment' column:'\n",
            "صحبت نکرده    4300\n",
            "ناخوشایند     4149\n",
            "خنثی          2753\n",
            "خوشایند       2037\n",
            "Name: General_comment, dtype: int64\n",
            "\n",
            "\n",
            "Frequency of each label in 'Specific_comment' column:'\n",
            "صحبت نکرده    10193\n",
            "خنثی           1068\n",
            "ناخوشایند       999\n",
            "خوشایند         979\n",
            "Name: Specific_comment, dtype: int64\n",
            "\n",
            "\n",
            "Frequency of each label in 'Relevance' column:'\n",
            "relevant      6781\n",
            "irrelevant    6458\n",
            "Name: Relevance, dtype: int64\n",
            "\n",
            "\n"
          ]
        }
      ],
      "source": [
        "for i in columns:\n",
        "    print(f\"Frequency of each label in '{i}' column:'\\n{Data[i].value_counts()}\")\n",
        "    print('\\n')"
      ]
    },
    {
      "cell_type": "markdown",
      "metadata": {
        "id": "X8sUnwxMXnC9"
      },
      "source": [
        "________________________________________"
      ]
    },
    {
      "cell_type": "markdown",
      "metadata": {
        "id": "YUXra8teXnC-"
      },
      "source": [
        "## Preprocessing"
      ]
    },
    {
      "cell_type": "code",
      "execution_count": 231,
      "metadata": {
        "id": "-ilNQq7nXnC_"
      },
      "outputs": [],
      "source": [
        "def pre_process(Data):\n",
        "    Data['Record_text']= Data['Record_text'].replace({'\\\"':'','&':'',';':'','`':'','#':'','%':'','\\'':'',';':'','!':'','؟':'',\n",
        "                     '^':'','|':'','nan':0,'\\n':'',':':'','\\,':'','/':'','\\.':'','\\)':'','\\)\\)':'','\\)\\)\\)':'','،':'','<>':'',\"-\":'',\"\\?\":\"\",'\\=':''}, regex=True) #remove punctuation\n",
        " \n",
        "\n",
        "\n",
        "    def Remove_stop_words():\n",
        "      res = []\n",
        "      with open('Stop-words.txt') as f:\n",
        "          lines = f.readlines()\n",
        "      for sub in lines:\n",
        "          res.append(sub.replace(\"\\n\", \"\"))\n",
        "      return res\n",
        "    Data['Record_text'] = Data['Record_text'].apply(lambda x: ' '.join([word for word in x.split() if word not in (Remove_stop_words())]))\n",
        "\n",
        "    def clean(text):\n",
        "       # text = re.sub(r'\\s*[A-Za-z]+\\b', '' , text)    #remove english words\n",
        "        text = re.sub(\"\\[.*?\\]\",\" \",text)  #remove emotion_text\n",
        "       # text= re.sub(\"\\d+\", \" \", text) #remove numbers\n",
        "        text = re.sub(r'[^\\w\\s]', ' ', text) #remove remained punctuation and emojies\n",
        "        text = re.sub(r'''(?i)\\b((?:https?://|www\\d{0,3}[.]|[a-z0-9.\\-]+[.][a-z]{2,4}/)\n",
        "              (?:[^\\s()<>]+|\\(([^\\s()<>]+|(\\([^\\s()<>]+\\)))*\\))+(?:\\(([^\\s()<>]+|(\\([^\\s()<>]+\\)))*\\)|[^\\s`!()\\[\\]{};:'\".,<>?«»“”‘’]))''', \" \", text) #remove \n",
        "        return text\n",
        "\n",
        "    Data['Record_text'] = Data['Record_text'].apply(lambda t: clean(t))\n",
        "    Data.drop_duplicates(subset=\"Record_text\",keep='last', inplace=True,ignore_index=True)\n",
        "\n",
        "    return Data"
      ]
    },
    {
      "cell_type": "code",
      "execution_count": 232,
      "metadata": {},
      "outputs": [],
      "source": [
        "Data.replace(np.nan, 'کامنت',inplace=True)\n",
        "Data['Specific_comment_binary'] = Data['Specific_comment_binary'].replace(np.nan, 0)"
      ]
    },
    {
      "cell_type": "code",
      "execution_count": 233,
      "metadata": {},
      "outputs": [
        {
          "data": {
            "text/plain": [
              "Record_text                0\n",
              "InRelationship             0\n",
              "General_comment_binary     0\n",
              "General_comment            0\n",
              "Specific_comment_binary    0\n",
              "Specific_comment           0\n",
              "Comment                    0\n",
              "Relevance                  0\n",
              "dtype: int64"
            ]
          },
          "execution_count": 233,
          "metadata": {},
          "output_type": "execute_result"
        }
      ],
      "source": [
        "Data.isnull().sum()"
      ]
    },
    {
      "cell_type": "code",
      "execution_count": 234,
      "metadata": {},
      "outputs": [],
      "source": [
        "Data.to_csv('Clean_3_data.csv')"
      ]
    },
    {
      "cell_type": "code",
      "execution_count": 235,
      "metadata": {},
      "outputs": [
        {
          "data": {
            "text/html": [
              "<div>\n",
              "<style scoped>\n",
              "    .dataframe tbody tr th:only-of-type {\n",
              "        vertical-align: middle;\n",
              "    }\n",
              "\n",
              "    .dataframe tbody tr th {\n",
              "        vertical-align: top;\n",
              "    }\n",
              "\n",
              "    .dataframe thead th {\n",
              "        text-align: right;\n",
              "    }\n",
              "</style>\n",
              "<table border=\"1\" class=\"dataframe\">\n",
              "  <thead>\n",
              "    <tr style=\"text-align: right;\">\n",
              "      <th></th>\n",
              "      <th>Record_text</th>\n",
              "      <th>InRelationship</th>\n",
              "      <th>General_comment_binary</th>\n",
              "      <th>General_comment</th>\n",
              "      <th>Specific_comment_binary</th>\n",
              "      <th>Specific_comment</th>\n",
              "      <th>Comment</th>\n",
              "      <th>Relevance</th>\n",
              "    </tr>\n",
              "  </thead>\n",
              "  <tbody>\n",
              "    <tr>\n",
              "      <th>0</th>\n",
              "      <td>من وسط راه بودم نتونستم خیلی تو ترندینگ باشم  ...</td>\n",
              "      <td>1</td>\n",
              "      <td>1</td>\n",
              "      <td>خوشایند</td>\n",
              "      <td>1.0</td>\n",
              "      <td>خوشایند</td>\n",
              "      <td>شوهرترین</td>\n",
              "      <td>relevant</td>\n",
              "    </tr>\n",
              "    <tr>\n",
              "      <th>1</th>\n",
              "      <td>پلیس اتریش از کشف میلیونها یورو در چمدان همسر ...</td>\n",
              "      <td>-1</td>\n",
              "      <td>0</td>\n",
              "      <td>صحبت نکرده</td>\n",
              "      <td>0.0</td>\n",
              "      <td>صحبت نکرده</td>\n",
              "      <td>همسر یک نفر دیگر و دزدی ربطی ندارد</td>\n",
              "      <td>irrelevant</td>\n",
              "    </tr>\n",
              "    <tr>\n",
              "      <th>2</th>\n",
              "      <td>حالا در مورد زید یه خاکی بریز شوهر شد دوبار خا...</td>\n",
              "      <td>-1</td>\n",
              "      <td>1</td>\n",
              "      <td>ناخوشایند</td>\n",
              "      <td>0.0</td>\n",
              "      <td>صحبت نکرده</td>\n",
              "      <td>احتمالا زید یه جیزی بوده که نوشته یه خاکی بریز</td>\n",
              "      <td>relevant</td>\n",
              "    </tr>\n",
              "    <tr>\n",
              "      <th>3</th>\n",
              "      <td>یه متن نوشته سنده؟؟ میخوای منم یه صفحه بنویسم ...</td>\n",
              "      <td>-1</td>\n",
              "      <td>0</td>\n",
              "      <td>صحبت نکرده</td>\n",
              "      <td>0.0</td>\n",
              "      <td>صحبت نکرده</td>\n",
              "      <td>نظری راجع به شریک زندگی داده نشده</td>\n",
              "      <td>irrelevant</td>\n",
              "    </tr>\n",
              "    <tr>\n",
              "      <th>4</th>\n",
              "      <td>امشب حدود   بار ازم پرسیدن \"خبری نیست؟\" و من ه...</td>\n",
              "      <td>0</td>\n",
              "      <td>1</td>\n",
              "      <td>خنثی</td>\n",
              "      <td>0.0</td>\n",
              "      <td>صحبت نکرده</td>\n",
              "      <td>علامت سوال اخر یه جور جمله پرسشیه که نمیشه گف ...</td>\n",
              "      <td>irrelevant</td>\n",
              "    </tr>\n",
              "    <tr>\n",
              "      <th>...</th>\n",
              "      <td>...</td>\n",
              "      <td>...</td>\n",
              "      <td>...</td>\n",
              "      <td>...</td>\n",
              "      <td>...</td>\n",
              "      <td>...</td>\n",
              "      <td>...</td>\n",
              "      <td>...</td>\n",
              "    </tr>\n",
              "    <tr>\n",
              "      <th>13234</th>\n",
              "      <td>میگفت من تا حالا از لیوان دهنی شوهرم اب نخوردم...</td>\n",
              "      <td>-1</td>\n",
              "      <td>1</td>\n",
              "      <td>خنثی</td>\n",
              "      <td>1.0</td>\n",
              "      <td>خنثی</td>\n",
              "      <td>کامنت</td>\n",
              "      <td>relevant</td>\n",
              "    </tr>\n",
              "    <tr>\n",
              "      <th>13235</th>\n",
              "      <td>دوست دخترم انقدر قشنگه که من دیگه</td>\n",
              "      <td>1</td>\n",
              "      <td>1</td>\n",
              "      <td>خوشایند</td>\n",
              "      <td>1.0</td>\n",
              "      <td>خوشایند</td>\n",
              "      <td>کامنت</td>\n",
              "      <td>relevant</td>\n",
              "    </tr>\n",
              "    <tr>\n",
              "      <th>13236</th>\n",
              "      <td>یک اخوند در بهبهان منشی اش رو صیغه می کرده. من...</td>\n",
              "      <td>-1</td>\n",
              "      <td>0</td>\n",
              "      <td>صحبت نکرده</td>\n",
              "      <td>0.0</td>\n",
              "      <td>صحبت نکرده</td>\n",
              "      <td>کامنت</td>\n",
              "      <td>irrelevant</td>\n",
              "    </tr>\n",
              "    <tr>\n",
              "      <th>13237</th>\n",
              "      <td>مرده رفته دادگاه گفته که نمیخوام زنم شهر دیگه ...</td>\n",
              "      <td>-1</td>\n",
              "      <td>1</td>\n",
              "      <td>ناخوشایند</td>\n",
              "      <td>0.0</td>\n",
              "      <td>صحبت نکرده</td>\n",
              "      <td>کامنت</td>\n",
              "      <td>relevant</td>\n",
              "    </tr>\n",
              "    <tr>\n",
              "      <th>13238</th>\n",
              "      <td>دوست دخترم تابستون موتور سواری یاد گرفت، الان ...</td>\n",
              "      <td>1</td>\n",
              "      <td>1</td>\n",
              "      <td>خوشایند</td>\n",
              "      <td>1.0</td>\n",
              "      <td>خوشایند</td>\n",
              "      <td>کامنت</td>\n",
              "      <td>relevant</td>\n",
              "    </tr>\n",
              "  </tbody>\n",
              "</table>\n",
              "<p>13239 rows × 8 columns</p>\n",
              "</div>"
            ],
            "text/plain": [
              "                                             Record_text  InRelationship  \\\n",
              "0      من وسط راه بودم نتونستم خیلی تو ترندینگ باشم  ...               1   \n",
              "1      پلیس اتریش از کشف میلیونها یورو در چمدان همسر ...              -1   \n",
              "2      حالا در مورد زید یه خاکی بریز شوهر شد دوبار خا...              -1   \n",
              "3      یه متن نوشته سنده؟؟ میخوای منم یه صفحه بنویسم ...              -1   \n",
              "4      امشب حدود   بار ازم پرسیدن \"خبری نیست؟\" و من ه...               0   \n",
              "...                                                  ...             ...   \n",
              "13234  میگفت من تا حالا از لیوان دهنی شوهرم اب نخوردم...              -1   \n",
              "13235                دوست دخترم انقدر قشنگه که من دیگه                 1   \n",
              "13236  یک اخوند در بهبهان منشی اش رو صیغه می کرده. من...              -1   \n",
              "13237  مرده رفته دادگاه گفته که نمیخوام زنم شهر دیگه ...              -1   \n",
              "13238  دوست دخترم تابستون موتور سواری یاد گرفت، الان ...               1   \n",
              "\n",
              "       General_comment_binary General_comment Specific_comment_binary  \\\n",
              "0                           1         خوشایند                     1.0   \n",
              "1                           0      صحبت نکرده                     0.0   \n",
              "2                           1       ناخوشایند                     0.0   \n",
              "3                           0      صحبت نکرده                     0.0   \n",
              "4                           1            خنثی                     0.0   \n",
              "...                       ...             ...                     ...   \n",
              "13234                       1            خنثی                     1.0   \n",
              "13235                       1         خوشایند                     1.0   \n",
              "13236                       0      صحبت نکرده                     0.0   \n",
              "13237                       1       ناخوشایند                     0.0   \n",
              "13238                       1         خوشایند                     1.0   \n",
              "\n",
              "      Specific_comment                                            Comment  \\\n",
              "0              خوشایند                                           شوهرترین   \n",
              "1           صحبت نکرده                 همسر یک نفر دیگر و دزدی ربطی ندارد   \n",
              "2           صحبت نکرده     احتمالا زید یه جیزی بوده که نوشته یه خاکی بریز   \n",
              "3           صحبت نکرده                  نظری راجع به شریک زندگی داده نشده   \n",
              "4           صحبت نکرده  علامت سوال اخر یه جور جمله پرسشیه که نمیشه گف ...   \n",
              "...                ...                                                ...   \n",
              "13234             خنثی                                              کامنت   \n",
              "13235          خوشایند                                              کامنت   \n",
              "13236       صحبت نکرده                                              کامنت   \n",
              "13237       صحبت نکرده                                              کامنت   \n",
              "13238          خوشایند                                              کامنت   \n",
              "\n",
              "        Relevance  \n",
              "0        relevant  \n",
              "1      irrelevant  \n",
              "2        relevant  \n",
              "3      irrelevant  \n",
              "4      irrelevant  \n",
              "...           ...  \n",
              "13234    relevant  \n",
              "13235    relevant  \n",
              "13236  irrelevant  \n",
              "13237    relevant  \n",
              "13238    relevant  \n",
              "\n",
              "[13239 rows x 8 columns]"
            ]
          },
          "execution_count": 235,
          "metadata": {},
          "output_type": "execute_result"
        }
      ],
      "source": [
        "Data_ = pd.read_csv('Clean_3_data.csv',encoding ='utf-8')\n",
        "Data_.drop(['Unnamed: 0'], axis=1,inplace=True)\n",
        "Data_"
      ]
    },
    {
      "cell_type": "code",
      "execution_count": 236,
      "metadata": {},
      "outputs": [],
      "source": [
        "Column__=['General_comment','Specific_comment','Relevance']\n",
        "data_classes = [\"خوشایند\", \"ناخوشایند\", \"خنثی\",\"صحبت نکرده\"]\n",
        "Data_classes = ['irrelevant','relevant']\n",
        "for i in Column__:\n",
        "    if data_classes in Data_[i].unique():\n",
        "        d=dict(zip(data_classes, range(0,4)))\n",
        "        Data_[i]=Data_[i].map(d, na_action='ignore')\n",
        "    else:\n",
        "        d=dict(zip(Data_classes, range(0,2)))\n",
        "        Data_[i]=Data_[i].map(d, na_action='ignore')\n",
        "\n"
      ]
    },
    {
      "cell_type": "code",
      "execution_count": 237,
      "metadata": {},
      "outputs": [
        {
          "data": {
            "text/html": [
              "<div>\n",
              "<style scoped>\n",
              "    .dataframe tbody tr th:only-of-type {\n",
              "        vertical-align: middle;\n",
              "    }\n",
              "\n",
              "    .dataframe tbody tr th {\n",
              "        vertical-align: top;\n",
              "    }\n",
              "\n",
              "    .dataframe thead th {\n",
              "        text-align: right;\n",
              "    }\n",
              "</style>\n",
              "<table border=\"1\" class=\"dataframe\">\n",
              "  <thead>\n",
              "    <tr style=\"text-align: right;\">\n",
              "      <th></th>\n",
              "      <th>Record_text</th>\n",
              "      <th>InRelationship</th>\n",
              "      <th>General_comment_binary</th>\n",
              "      <th>General_comment</th>\n",
              "      <th>Specific_comment_binary</th>\n",
              "      <th>Specific_comment</th>\n",
              "      <th>Comment</th>\n",
              "      <th>Relevance</th>\n",
              "    </tr>\n",
              "  </thead>\n",
              "  <tbody>\n",
              "    <tr>\n",
              "      <th>0</th>\n",
              "      <td>من وسط راه بودم نتونستم خیلی تو ترندینگ باشم  ...</td>\n",
              "      <td>1</td>\n",
              "      <td>1</td>\n",
              "      <td>0</td>\n",
              "      <td>1.0</td>\n",
              "      <td>0</td>\n",
              "      <td>شوهرترین</td>\n",
              "      <td>1</td>\n",
              "    </tr>\n",
              "    <tr>\n",
              "      <th>1</th>\n",
              "      <td>پلیس اتریش از کشف میلیونها یورو در چمدان همسر ...</td>\n",
              "      <td>-1</td>\n",
              "      <td>0</td>\n",
              "      <td>3</td>\n",
              "      <td>0.0</td>\n",
              "      <td>3</td>\n",
              "      <td>همسر یک نفر دیگر و دزدی ربطی ندارد</td>\n",
              "      <td>0</td>\n",
              "    </tr>\n",
              "    <tr>\n",
              "      <th>2</th>\n",
              "      <td>حالا در مورد زید یه خاکی بریز شوهر شد دوبار خا...</td>\n",
              "      <td>-1</td>\n",
              "      <td>1</td>\n",
              "      <td>1</td>\n",
              "      <td>0.0</td>\n",
              "      <td>3</td>\n",
              "      <td>احتمالا زید یه جیزی بوده که نوشته یه خاکی بریز</td>\n",
              "      <td>1</td>\n",
              "    </tr>\n",
              "    <tr>\n",
              "      <th>3</th>\n",
              "      <td>یه متن نوشته سنده؟؟ میخوای منم یه صفحه بنویسم ...</td>\n",
              "      <td>-1</td>\n",
              "      <td>0</td>\n",
              "      <td>3</td>\n",
              "      <td>0.0</td>\n",
              "      <td>3</td>\n",
              "      <td>نظری راجع به شریک زندگی داده نشده</td>\n",
              "      <td>0</td>\n",
              "    </tr>\n",
              "    <tr>\n",
              "      <th>4</th>\n",
              "      <td>امشب حدود   بار ازم پرسیدن \"خبری نیست؟\" و من ه...</td>\n",
              "      <td>0</td>\n",
              "      <td>1</td>\n",
              "      <td>2</td>\n",
              "      <td>0.0</td>\n",
              "      <td>3</td>\n",
              "      <td>علامت سوال اخر یه جور جمله پرسشیه که نمیشه گف ...</td>\n",
              "      <td>0</td>\n",
              "    </tr>\n",
              "    <tr>\n",
              "      <th>...</th>\n",
              "      <td>...</td>\n",
              "      <td>...</td>\n",
              "      <td>...</td>\n",
              "      <td>...</td>\n",
              "      <td>...</td>\n",
              "      <td>...</td>\n",
              "      <td>...</td>\n",
              "      <td>...</td>\n",
              "    </tr>\n",
              "    <tr>\n",
              "      <th>13234</th>\n",
              "      <td>میگفت من تا حالا از لیوان دهنی شوهرم اب نخوردم...</td>\n",
              "      <td>-1</td>\n",
              "      <td>1</td>\n",
              "      <td>2</td>\n",
              "      <td>1.0</td>\n",
              "      <td>2</td>\n",
              "      <td>کامنت</td>\n",
              "      <td>1</td>\n",
              "    </tr>\n",
              "    <tr>\n",
              "      <th>13235</th>\n",
              "      <td>دوست دخترم انقدر قشنگه که من دیگه</td>\n",
              "      <td>1</td>\n",
              "      <td>1</td>\n",
              "      <td>0</td>\n",
              "      <td>1.0</td>\n",
              "      <td>0</td>\n",
              "      <td>کامنت</td>\n",
              "      <td>1</td>\n",
              "    </tr>\n",
              "    <tr>\n",
              "      <th>13236</th>\n",
              "      <td>یک اخوند در بهبهان منشی اش رو صیغه می کرده. من...</td>\n",
              "      <td>-1</td>\n",
              "      <td>0</td>\n",
              "      <td>3</td>\n",
              "      <td>0.0</td>\n",
              "      <td>3</td>\n",
              "      <td>کامنت</td>\n",
              "      <td>0</td>\n",
              "    </tr>\n",
              "    <tr>\n",
              "      <th>13237</th>\n",
              "      <td>مرده رفته دادگاه گفته که نمیخوام زنم شهر دیگه ...</td>\n",
              "      <td>-1</td>\n",
              "      <td>1</td>\n",
              "      <td>1</td>\n",
              "      <td>0.0</td>\n",
              "      <td>3</td>\n",
              "      <td>کامنت</td>\n",
              "      <td>1</td>\n",
              "    </tr>\n",
              "    <tr>\n",
              "      <th>13238</th>\n",
              "      <td>دوست دخترم تابستون موتور سواری یاد گرفت، الان ...</td>\n",
              "      <td>1</td>\n",
              "      <td>1</td>\n",
              "      <td>0</td>\n",
              "      <td>1.0</td>\n",
              "      <td>0</td>\n",
              "      <td>کامنت</td>\n",
              "      <td>1</td>\n",
              "    </tr>\n",
              "  </tbody>\n",
              "</table>\n",
              "<p>13239 rows × 8 columns</p>\n",
              "</div>"
            ],
            "text/plain": [
              "                                             Record_text  InRelationship  \\\n",
              "0      من وسط راه بودم نتونستم خیلی تو ترندینگ باشم  ...               1   \n",
              "1      پلیس اتریش از کشف میلیونها یورو در چمدان همسر ...              -1   \n",
              "2      حالا در مورد زید یه خاکی بریز شوهر شد دوبار خا...              -1   \n",
              "3      یه متن نوشته سنده؟؟ میخوای منم یه صفحه بنویسم ...              -1   \n",
              "4      امشب حدود   بار ازم پرسیدن \"خبری نیست؟\" و من ه...               0   \n",
              "...                                                  ...             ...   \n",
              "13234  میگفت من تا حالا از لیوان دهنی شوهرم اب نخوردم...              -1   \n",
              "13235                دوست دخترم انقدر قشنگه که من دیگه                 1   \n",
              "13236  یک اخوند در بهبهان منشی اش رو صیغه می کرده. من...              -1   \n",
              "13237  مرده رفته دادگاه گفته که نمیخوام زنم شهر دیگه ...              -1   \n",
              "13238  دوست دخترم تابستون موتور سواری یاد گرفت، الان ...               1   \n",
              "\n",
              "       General_comment_binary  General_comment Specific_comment_binary  \\\n",
              "0                           1                0                     1.0   \n",
              "1                           0                3                     0.0   \n",
              "2                           1                1                     0.0   \n",
              "3                           0                3                     0.0   \n",
              "4                           1                2                     0.0   \n",
              "...                       ...              ...                     ...   \n",
              "13234                       1                2                     1.0   \n",
              "13235                       1                0                     1.0   \n",
              "13236                       0                3                     0.0   \n",
              "13237                       1                1                     0.0   \n",
              "13238                       1                0                     1.0   \n",
              "\n",
              "       Specific_comment                                            Comment  \\\n",
              "0                     0                                           شوهرترین   \n",
              "1                     3                 همسر یک نفر دیگر و دزدی ربطی ندارد   \n",
              "2                     3     احتمالا زید یه جیزی بوده که نوشته یه خاکی بریز   \n",
              "3                     3                  نظری راجع به شریک زندگی داده نشده   \n",
              "4                     3  علامت سوال اخر یه جور جمله پرسشیه که نمیشه گف ...   \n",
              "...                 ...                                                ...   \n",
              "13234                 2                                              کامنت   \n",
              "13235                 0                                              کامنت   \n",
              "13236                 3                                              کامنت   \n",
              "13237                 3                                              کامنت   \n",
              "13238                 0                                              کامنت   \n",
              "\n",
              "       Relevance  \n",
              "0              1  \n",
              "1              0  \n",
              "2              1  \n",
              "3              0  \n",
              "4              0  \n",
              "...          ...  \n",
              "13234          1  \n",
              "13235          1  \n",
              "13236          0  \n",
              "13237          1  \n",
              "13238          1  \n",
              "\n",
              "[13239 rows x 8 columns]"
            ]
          },
          "execution_count": 237,
          "metadata": {},
          "output_type": "execute_result"
        }
      ],
      "source": [
        "Data_"
      ]
    },
    {
      "cell_type": "code",
      "execution_count": 238,
      "metadata": {},
      "outputs": [],
      "source": [
        "train_= Data_.sample(frac=0.82, random_state=100)\n",
        "test_ = Data_[~Data_.index.isin(train_.index)]"
      ]
    },
    {
      "cell_type": "code",
      "execution_count": 240,
      "metadata": {},
      "outputs": [],
      "source": [
        "train_.to_csv('train.csv')\n",
        "test_.to_csv('test.csv')"
      ]
    },
    {
      "cell_type": "code",
      "execution_count": 241,
      "metadata": {},
      "outputs": [],
      "source": [
        "train = pd.read_csv('train.csv',encoding ='utf-8')\n",
        "test = pd.read_csv('test.csv',encoding ='utf-8')\n",
        "\n",
        "\n",
        "train.drop(['Unnamed: 0'], axis=1,inplace=True)\n",
        "test.drop(['Unnamed: 0'], axis=1,inplace=True)"
      ]
    },
    {
      "cell_type": "code",
      "execution_count": 242,
      "metadata": {},
      "outputs": [],
      "source": [
        "#Relevance sentence\n",
        "index_related_train = train[(train['Relevance'] == 0) | (train['General_comment'] == 3)].index\n",
        "index_related_test= test[(test['Relevance'] == 0) | (test['General_comment'] == 3)].index\n",
        "\n",
        "train_related=(train.drop(index_related_train)).reset_index(drop=True)\n",
        "test_related=(test.drop(index_related_test)).reset_index(drop=True)\n",
        "\n",
        "\n",
        "#Relevance specific sentences\n",
        "index_related_Specific_train= train_related[(train_related['Specific_comment'] == 3)].index\n",
        "index_related_Specific_test= test_related[(test_related['Specific_comment'] == 3)].index\n",
        "\n",
        "train_related_specific=(train_related.drop(index_related_Specific_train)).reset_index(drop=True)\n",
        "test_related_specific=(test_related.drop(index_related_Specific_test)).reset_index(drop=True)"
      ]
    },
    {
      "cell_type": "code",
      "execution_count": 243,
      "metadata": {},
      "outputs": [],
      "source": [
        "train_related.to_csv('train_related.csv')\n",
        "test_related.to_csv('test_related.csv')\n",
        "train_related_specific.to_csv('train_related_specific.csv')\n",
        "test_related_specific.to_csv('test_related_specific.csv')"
      ]
    },
    {
      "cell_type": "code",
      "execution_count": 246,
      "metadata": {},
      "outputs": [
        {
          "name": "stdout",
          "output_type": "stream",
          "text": [
            "Frequency of each label in 'Relevance' train data:'\n",
            "1    5554\n",
            "0    5302\n",
            "Name: Relevance, dtype: int64\n",
            "\n",
            "\n",
            "Frequency of each label in 'InRelationship' train data:'\n",
            "-1    2953\n",
            " 1    2324\n",
            " 0     263\n",
            "Name: InRelationship, dtype: int64\n",
            "\n",
            "\n",
            "Frequency of each label in 'General_comment' train data:'\n",
            "1    2614\n",
            "2    1682\n",
            "0    1244\n",
            "Name: General_comment, dtype: int64\n",
            "\n",
            "\n",
            "Frequency of each label in 'Specific_comment' train data:'\n",
            "2    857\n",
            "1    799\n",
            "0    797\n",
            "Name: Specific_comment, dtype: int64\n",
            "\n",
            "\n"
          ]
        }
      ],
      "source": [
        "print(f\"Frequency of each label in 'Relevance' train data:'\\n{train['Relevance'].value_counts()}\")\n",
        "print('\\n')\n",
        "print(f\"Frequency of each label in 'InRelationship' train data:'\\n{train_related['InRelationship'].value_counts()}\")\n",
        "print('\\n')\n",
        "print(f\"Frequency of each label in 'General_comment' train data:'\\n{train_related['General_comment'].value_counts()}\")\n",
        "print('\\n')\n",
        "print(f\"Frequency of each label in 'Specific_comment' train data:'\\n{train_related_specific['Specific_comment'].value_counts()}\")\n",
        "print('\\n')"
      ]
    },
    {
      "cell_type": "code",
      "execution_count": 247,
      "metadata": {},
      "outputs": [
        {
          "name": "stdout",
          "output_type": "stream",
          "text": [
            "Frequency of each label in 'Relevance' test data:'\n",
            "1    1227\n",
            "0    1156\n",
            "Name: Relevance, dtype: int64\n",
            "\n",
            "\n",
            "Frequency of each label in 'InRelationship' test data:'\n",
            "-1    650\n",
            " 1    524\n",
            " 0     51\n",
            "Name: InRelationship, dtype: int64\n",
            "\n",
            "\n",
            "Frequency of each label in 'General_comment' test data:'\n",
            "1    575\n",
            "2    381\n",
            "0    269\n",
            "Name: General_comment, dtype: int64\n",
            "\n",
            "\n",
            "Frequency of each label in 'Specific_comment' test data:'\n",
            "2    195\n",
            "1    181\n",
            "0    171\n",
            "Name: Specific_comment, dtype: int64\n"
          ]
        }
      ],
      "source": [
        "\n",
        "print(f\"Frequency of each label in 'Relevance' test data:'\\n{test['Relevance'].value_counts()}\")\n",
        "print('\\n')\n",
        "print(f\"Frequency of each label in 'InRelationship' test data:'\\n{test_related['InRelationship'].value_counts()}\")\n",
        "print('\\n')\n",
        "print(f\"Frequency of each label in 'General_comment' test data:'\\n{test_related['General_comment'].value_counts()}\")\n",
        "print('\\n')\n",
        "print(f\"Frequency of each label in 'Specific_comment' test data:'\\n{test_related_specific['Specific_comment'].value_counts()}\")"
      ]
    },
    {
      "cell_type": "code",
      "execution_count": 249,
      "metadata": {},
      "outputs": [],
      "source": [
        "train_ml= pre_process(train)\n",
        "test_ml= pre_process(test)"
      ]
    },
    {
      "cell_type": "code",
      "execution_count": 251,
      "metadata": {},
      "outputs": [],
      "source": [
        "#Relevance sentence\n",
        "index_related_train_ml = train_ml[(train_ml['Relevance'] == 0) | (train_ml['General_comment'] == 3)].index\n",
        "index_related_test_ml= test_ml[(test_ml['Relevance'] == 0) | (test_ml['General_comment'] == 3)].index\n",
        "\n",
        "train_related_ml=(train_ml.drop(index_related_train_ml)).reset_index(drop=True)\n",
        "test_related_ml=(test_ml.drop(index_related_test_ml)).reset_index(drop=True)\n",
        "\n",
        "\n",
        "#Relevance specific sentences\n",
        "index_related_Specific_train_ml= train_related_ml[(train_related_ml['Specific_comment'] == 3)].index\n",
        "index_related_Specific_test_ml= test_related_ml[(test_related_ml['Specific_comment'] == 3)].index\n",
        "\n",
        "train_related_specific_ml=(train_related_ml.drop(index_related_Specific_train_ml)).reset_index(drop=True)\n",
        "test_related_specific_ml=(test_related_ml.drop(index_related_Specific_test_ml)).reset_index(drop=True)"
      ]
    },
    {
      "cell_type": "markdown",
      "metadata": {
        "id": "YfIxY6dYXnDI"
      },
      "source": [
        "----------------------------------------------------"
      ]
    },
    {
      "cell_type": "markdown",
      "metadata": {
        "id": "r6kokczaXnDI"
      },
      "source": [
        "# Plotting frequency of each Label"
      ]
    },
    {
      "cell_type": "code",
      "execution_count": 23,
      "metadata": {
        "id": "k0YHngJaXnDI"
      },
      "outputs": [],
      "source": [
        "def reshaper(text):\n",
        "    return get_display(arabic_reshaper.reshape(u'%s' % str(text)))"
      ]
    },
    {
      "cell_type": "code",
      "execution_count": 24,
      "metadata": {
        "id": "5aR6oIPlXnDI"
      },
      "outputs": [],
      "source": [
        "column_=['General_comment','Specific_comment']\n",
        "for i in column_:\n",
        "    Data[i]=Data[i].apply(lambda x : reshaper(x))\n"
      ]
    },
    {
      "cell_type": "code",
      "execution_count": 25,
      "metadata": {
        "id": "D-aorWThXnDI",
        "outputId": "f27450e7-b435-405f-c970-9808adf22906"
      },
      "outputs": [
        {
          "data": {
            "image/png": "[encoded data removed]",
            "text/plain": [
              "<Figure size 432x288 with 1 Axes>"
            ]
          },
          "metadata": {
            "needs_background": "light"
          },
          "output_type": "display_data"
        }
      ],
      "source": [
        "Data.Relevance.value_counts().plot(kind = 'bar',title=f\"Frequency of each label in 'Relevance' column\",xlabel='Label',ylabel='Frequency',width = 0.25,color=['#5cb85c','#5bc0de'],);\n",
        "plt.xticks(rotation=0)\n",
        "plt.savefig('Frequency_Relevance.pdf', format=\"pdf\", bbox_inches=\"tight\", dpi=100);\n",
        "\n"
      ]
    },
    {
      "cell_type": "code",
      "execution_count": 26,
      "metadata": {
        "id": "sQZX4C8dXnDI",
        "outputId": "c53866d3-4bc0-4b0d-81e6-0a312cbc4b59"
      },
      "outputs": [
        {
          "data": {
            "image/png": "[encoded data removed]",
            "text/plain": [
              "<Figure size 432x288 with 1 Axes>"
            ]
          },
          "metadata": {
            "needs_background": "light"
          },
          "output_type": "display_data"
        }
      ],
      "source": [
        "Data.General_comment.value_counts().plot(kind = 'bar',title=f\"Frequency of each label in 'General_comment' column\",xlabel='Label',ylabel='Frequency',width = 0.55,color=['#5cb85c','#5bc0de','cyan','gray']);\n",
        "plt.xticks(rotation=0)\n",
        "plt.savefig('Frequency_General.pdf', format=\"pdf\", bbox_inches=\"tight\", dpi=100);\n",
        "\n"
      ]
    },
    {
      "cell_type": "code",
      "execution_count": 31,
      "metadata": {
        "id": "s7JeDfKgXnDI",
        "outputId": "ef158776-6b75-40bc-ccb1-49a6eccf0ea0"
      },
      "outputs": [
        {
          "data": {
            "image/png": "[encoded data removed]",
            "text/plain": [
              "<Figure size 432x288 with 1 Axes>"
            ]
          },
          "metadata": {
            "needs_background": "light"
          },
          "output_type": "display_data"
        }
      ],
      "source": [
        "Data.Specific_comment.value_counts().plot(kind = 'bar',title=f\"Frequency of each label in 'Specific_comment' column\",xlabel='Label',ylabel='Frequency',width = 0.55,color=['#5cb85c','#5bc0de','cyan','gray'],fontsize=10);\n",
        "plt.xticks(rotation=0)\n",
        "plt.savefig('Frequency_Specific.pdf', format=\"pdf\", bbox_inches=\"tight\", dpi=100);\n",
        "\n"
      ]
    },
    {
      "cell_type": "code",
      "execution_count": 28,
      "metadata": {
        "id": "D9eCaDqrXnDI",
        "outputId": "e1b09159-2f8c-4cf0-f92b-d048dd8afd36"
      },
      "outputs": [
        {
          "data": {
            "image/png": "[encoded data removed]",
            "text/plain": [
              "<Figure size 432x288 with 1 Axes>"
            ]
          },
          "metadata": {
            "needs_background": "light"
          },
          "output_type": "display_data"
        }
      ],
      "source": [
        "Data.InRelationship.value_counts().plot(kind = 'bar',title=f\"Frequency of each label in 'InRelationship' column\",xlabel='Label',ylabel='Frequency',width = 0.40,color=['#5cb85c','#5bc0de','cyan','gray']);\n",
        "plt.xticks(rotation=0)\n",
        "plt.savefig('Frequency_InRelationship.pdf', format=\"pdf\", bbox_inches=\"tight\", dpi=100);\n"
      ]
    },
    {
      "cell_type": "markdown",
      "metadata": {
        "id": "m5MjA3VfXnDI"
      },
      "source": [
        "-----------------------------"
      ]
    },
    {
      "cell_type": "markdown",
      "metadata": {
        "id": "3d8g2asBXnDJ"
      },
      "source": [
        "Wordcloud for label"
      ]
    },
    {
      "cell_type": "code",
      "execution_count": null,
      "metadata": {
        "colab": {
          "base_uri": "https://localhost:8080/",
          "height": 606
        },
        "id": "B6F6uPeDXnDJ",
        "outputId": "55597ded-c0d1-44f8-b148-5592848bbc92"
      },
      "outputs": [],
      "source": [
        "Data_ = pd.read_csv('Clean_2_data.csv',encoding ='utf-8')\n",
        "Data_.drop(['Unnamed: 0'], axis=1,inplace=True)"
      ]
    },
    {
      "cell_type": "code",
      "execution_count": 101,
      "metadata": {
        "id": "Rl5_-LgPXnDJ",
        "outputId": "d3495dfd-0286-4a13-b445-b709ccf3076c"
      },
      "outputs": [
        {
          "data": {
            "text/plain": [
              "0                       زید خاکی بریز شوهر دوبار خاک بریز\n",
              "1       دوست پسر کاسب ساعت   پیام میدین اوج بازاره دیوونه\n",
              "2       شوهر تینا ترنر خواننده موفقی   زندگی مشترکشون ...\n",
              "3                ازدواج فامیلای دید بازدید فامیلای همسرتم\n",
              "4       بخدا هاری اصن پاچه میگرف مث هیچکی جرات نداش با...\n",
              "                              ...                        \n",
              "3373    ملکه همسرشون   زن ازدواج زنده گور میشدن برده ج...\n",
              "3374    فاااااک زنه دوست دختر باشگاه تمرینای عادی پارک...\n",
              "3375    تابستون سرکار تفریح گردش لباس مانتو شال نمیچسب...\n",
              "3376    اوایل ازدواج دوستان همسرم مرام چپ صرف نهار دعو...\n",
              "3377    شرایط مزخرف وضعیت اقتصادی سن ازدواج رفتع دیگع ...\n",
              "Name: Record_text, Length: 3378, dtype: object"
            ]
          },
          "execution_count": 101,
          "metadata": {},
          "output_type": "execute_result"
        }
      ],
      "source": [
        "text=Data_[Data_.General_comment=='ناخوشایند'].Record_text.reset_index(drop=True)\n",
        "text"
      ]
    },
    {
      "cell_type": "code",
      "execution_count": 102,
      "metadata": {
        "id": "QFZxAwM4XnDJ"
      },
      "outputs": [],
      "source": [
        "count={}\n",
        "for i in range(len(text)):\n",
        "    for i in text[i].split():\n",
        "        if arabic_reshaper.reshape(i) not in count:\n",
        "           count[arabic_reshaper.reshape(i)] = 1\n",
        "        else:\n",
        "           count[arabic_reshaper.reshape(i)] +=1"
      ]
    },
    {
      "cell_type": "code",
      "execution_count": 105,
      "metadata": {
        "id": "cshlF8tkXnDJ",
        "outputId": "145ffc34-eb08-426c-8b04-674249fbd62e"
      },
      "outputs": [
        {
          "data": {
            "text/plain": [
              "{'ﺷﻮﻫﺮ': 1071,\n",
              " 'ﺯﻥ': 645,\n",
              " 'ﻫﻤﺴﺮ': 472,\n",
              " 'ﺩﻭﺳﺖ': 386,\n",
              " 'ﺍﺯﺩﻭﺍﺝ': 371,\n",
              " 'ﭘﺎﺭﺗﻨﺮ': 303,\n",
              " 'ﺧﻮﻧﻪ': 268,\n",
              " 'ﺑﭽﻪ': 267,\n",
              " 'ﺩﺧﺘﺮ': 211,\n",
              " 'ﺯﻧﺪﮔﯽ': 206,\n",
              " 'ﻣﺮﺩ': 184,\n",
              " 'ﺯﻧﻢ': 175,\n",
              " 'ﭘﺴﺮ': 155,\n",
              " 'ﺷﻮﻫﺮﻡ': 154,\n",
              " 'ﺷﻮﻫﺮﺵ': 141,\n",
              " 'ﺭﺍﺑﻄﻪ': 139,\n",
              " 'ﺧﺎﻧﻮﺍﺩﻩ': 137,\n",
              " 'ﺯﻧﺖ': 136,\n",
              " 'ﺩﺳﺖ': 131,\n",
              " 'ﺍﺩﻡ': 127,\n",
              " 'ﻫﻤﺴﺮﯼ': 124,\n",
              " 'ﺷﻮﻫﺮﺕ': 112,\n",
              " 'ﮐﻮﺩﮎ': 102,\n",
              " 'ﻫﻤﺴﺮﻡ': 102,\n",
              " 'ﺧﺎﻧﻢ': 100,\n",
              " 'ﺧﺪﺍ': 98,\n",
              " 'ﺧﯿﺎﻧﺖ': 94,\n",
              " 'ﻫﻤﺴﺮﺵ': 92,\n",
              " 'ﻃﻼﻕ': 87,\n",
              " 'ﻣﯿﺨﻮﺍﻡ': 86,\n",
              " 'ﭘﻮﻝ': 83,\n",
              " 'ﺩﺧﺘﺮﻡ': 81,\n",
              " 'ﭘﺎﺭﺗﻨﺮﻡ': 81,\n",
              " 'ﭘﺴﺮﻡ': 79,\n",
              " 'ﻋﯿﺪ': 79,\n",
              " 'ﺩﻟﻢ': 78,\n",
              " 'ﻣﺎﺩﺭ': 76,\n",
              " 'ﺑﺰﻧﻢ': 72,\n",
              " 'ﺍﺑﯽ': 71,\n",
              " 'ﻭﻗﺖ': 67,\n",
              " 'ﺳﮑﺲ': 67,\n",
              " 'ﺍﻧﺘﺨﺎﺏ': 67,\n",
              " 'ﺍﯾﺮﺍﻥ': 66,\n",
              " 'ﻧﻈﺮ': 65,\n",
              " 'ﺑﻘﯿﻪ': 64,\n",
              " 'ﺑﺮﺍﻡ': 63,\n",
              " 'ﺩﻭﺱ': 62,\n",
              " 'ﻓﺎﻣﯿﻞ': 60,\n",
              " 'ﺑﺎﺑﺎ': 59,\n",
              " 'ﺧﺎﻧﻪ': 58}"
            ]
          },
          "execution_count": 105,
          "metadata": {},
          "output_type": "execute_result"
        }
      ],
      "source": [
        "sorted_count_dict= dict(sorted(count.items(), key=lambda x:x[1],reverse=True)[:50])   # top 200 words\n",
        "sorted_count_dict"
      ]
    },
    {
      "cell_type": "code",
      "execution_count": 106,
      "metadata": {
        "id": "14DwRHSYXnDJ",
        "outputId": "734ff444-32f5-48e5-a2c3-3092e8bba938"
      },
      "outputs": [
        {
          "data": {
            "text/plain": [
              "(-0.5, 1599.5, 799.5, -0.5)"
            ]
          },
          "execution_count": 106,
          "metadata": {},
          "output_type": "execute_result"
        },
        {
          "data": {
            "image/png": "[encoded data removed]",
            "text/plain": [
              "<Figure size 1440x720 with 1 Axes>"
            ]
          },
          "metadata": {},
          "output_type": "display_data"
        }
      ],
      "source": [
        "wordcloud = WordCloudFa( collocations=False, persian_normalize=True, include_numbers=False, width=1600, height=800)\n",
        "wc = wordcloud.generate_from_frequencies(sorted_count_dict)\n",
        "plt.figure( figsize=(20,10), facecolor='k')\n",
        "plt.imshow(wc)\n",
        "plt.axis(\"off\")"
      ]
    },
    {
      "cell_type": "markdown",
      "metadata": {
        "id": "9-IoNuQYXnDJ"
      },
      "source": [
        "----------------------------------"
      ]
    },
    {
      "cell_type": "code",
      "execution_count": 256,
      "metadata": {
        "id": "r43s0bV2NF4Y"
      },
      "outputs": [],
      "source": [
        "#TF_IDF\n",
        "def tfidf_vectorizer(X_train,X_test):\n",
        "    tfidf_vectorizer = TfidfVectorizer()\n",
        "    tfidf_train_vectors = tfidf_vectorizer.fit_transform(X_train)\n",
        "    tfidf_test_vectors = tfidf_vectorizer.transform(X_test)\n",
        "    return tfidf_train_vectors,tfidf_test_vectors\n"
      ]
    },
    {
      "cell_type": "markdown",
      "metadata": {
        "id": "wiOKh2myNMbP"
      },
      "source": [
        "________________________________________________________________________________"
      ]
    },
    {
      "cell_type": "code",
      "execution_count": 257,
      "metadata": {
        "id": "ejvZtBI1XnDL"
      },
      "outputs": [],
      "source": [
        "#Splitting relevance column to train and test based on Record_text\n",
        "X_train= train_ml['Record_text']\n",
        "y_train = train_ml ['Relevance']\n",
        "X_test = test_ml['Record_text']\n",
        "y_test=test_ml['Relevance']\n",
        "\n",
        "#Splitting InRelationship, General_comment and specific_comment column to train and test based on Record_text\n",
        "X_train_related= train_related_ml['Record_text']\n",
        "y_train_InRelationship= train_related_ml['InRelationship']\n",
        "y_train_General_comment= train_related_ml['General_comment']\n",
        "X_test_related= test_related_ml['Record_text']\n",
        "y_test_InRelationship= test_related_ml['InRelationship']\n",
        "y_test_General_comment= test_related_ml['General_comment']\n",
        "\n",
        "\n",
        "X_train_specific_comment= train_related_specific_ml['Record_text']\n",
        "y_train_Specific_comment= train_related_specific_ml['Specific_comment']\n",
        "X_test_specific_comment= test_related_specific_ml['Record_text']\n",
        "y_test_Specific_comment= test_related_specific_ml['Specific_comment']"
      ]
    },
    {
      "cell_type": "code",
      "execution_count": 259,
      "metadata": {
        "id": "xj46MJTtKDe9"
      },
      "outputs": [],
      "source": [
        "tfidf_train_vectors_InRelationship,tfidf_test_vectors_InRelationship=tfidf_vectorizer(X_train_related,X_test_related)\n",
        "smote = SMOTE(random_state=42)\n",
        "X_train_InRelationship_sm, y_train_InRelationship_sm = smote.fit_resample(tfidf_train_vectors_InRelationship, y_train_InRelationship)"
      ]
    },
    {
      "cell_type": "markdown",
      "metadata": {
        "id": "Petk5y5XMng6"
      },
      "source": [
        "-----------------------"
      ]
    },
    {
      "cell_type": "markdown",
      "metadata": {
        "id": "QFs_G9qgdS0Z"
      },
      "source": [
        "##Gridsearch"
      ]
    },
    {
      "cell_type": "code",
      "execution_count": 70,
      "metadata": {
        "id": "geYGj59hRjqC"
      },
      "outputs": [],
      "source": [
        "def KNN_Gridsearch(X_train,y_train,X_test,label):\n",
        "    tfidf_train_vectors,tfidf_test_vectors=tfidf_vectorizer(X_train,X_test)\n",
        "\n",
        "    KNN = KNeighborsClassifier()\n",
        "    grid_search_knn = GridSearchCV(KNN,param_grid={'n_neighbors':[1,2,3,4,5,6,7,8,9,10]},cv=5, n_jobs=-1, verbose=1, scoring = 'accuracy')\n",
        "    grid_search_knn.fit(tfidf_train_vectors, y_train)\n",
        "    print(f\"best parameters of the model based on '{label}' Label are:'\\n{grid_search_knn.best_params_}\")"
      ]
    },
    {
      "cell_type": "code",
      "execution_count": 71,
      "metadata": {
        "id": "Wfuuf3tAYbv-"
      },
      "outputs": [],
      "source": [
        "def SVM_Gridsearch(X_train,y_train,X_test,label):\n",
        "    tfidf_train_vectors,tfidf_test_vectors=tfidf_vectorizer(X_train,X_test)\n",
        "    svm =svm.SVC()\n",
        "    GridSearch_svm = GridSearchCV(svm,param_grid={'kernel':['linear', 'poly', 'sigmoid'],'decision_function_shape':['ovo', 'ovr'], 'C':[1,5,10,20],'degree':[1,2,3,4,5,6]},n_jobs=-1, verbose=1, scoring = 'accuracy',cv = 5)\n",
        "    GridSearch_svm.fit(tfidf_train_vectors, y_train)\n",
        "    print(f\"best parameters of the model based on '{label}' Label are:'\\n{GridSearch_svm.best_params_}\")\n"
      ]
    },
    {
      "cell_type": "code",
      "execution_count": 72,
      "metadata": {
        "id": "zVDx5aiTZNdi"
      },
      "outputs": [],
      "source": [
        "def Rfc_Grid_search(X_train,y_train,X_test,label):\n",
        "  # # Number of trees in random forest\n",
        "# n_estimators = [int(x) for x in np.linspace(start = 200, stop = 2000, num = 10)]\n",
        "# # Number of features to consider at every split\n",
        "# max_features = ['auto', 'sqrt']\n",
        "# # Maximum number of levels in tree\n",
        "# max_depth = [int(x) for x in np.linspace(10, 110, num = 11)]\n",
        "# max_depth.append(None)\n",
        "# # Minimum number of samples required to split a node\n",
        "# min_samples_split = [2, 5, 10]\n",
        "# # Minimum number of samples required at each leaf node\n",
        "# min_samples_leaf = [1, 2, 4]\n",
        "# # Method of selecting samples for training each tree\n",
        "# bootstrap = [True, False]\n",
        "# # Create the random grid\n",
        "# random_grid = {'n_estimators': n_estimators,\n",
        "#                'max_features': max_features,\n",
        "#                'max_depth': max_depth,\n",
        "#                'min_samples_split': min_samples_split,\n",
        "#                'min_samples_leaf': min_samples_leaf,\n",
        "#                'bootstrap': bootstrap}\n",
        "# pprint(random_grid)\n",
        "\n",
        "\n",
        "    tfidf_train_vectors,tfidf_test_vectors=tfidf_vectorizer(X_train,X_test)\n",
        "    rf = RandomForestClassifier()\n",
        "    # smote = SMOTE(random_state=42)\n",
        "    # tfidf_train_vectors, y_train = smote.fit_resample(tfidf_train_vectors, y_train)\n",
        "\n",
        "    param_grid = {\n",
        "\n",
        "        'bootstrap': [True],\n",
        "        'max_depth': [80, 90, 100, 110],\n",
        "        'max_features': [2, 3],\n",
        "        'min_samples_leaf': [3, 4, 5],\n",
        "        'min_samples_split': [8, 10, 12],\n",
        "        'n_estimators': [100, 200, 300, 1000]\n",
        "    }\n",
        "    # Create a based model\n",
        "    # Instantiate the grid search model\n",
        "    grid_search_rf = GridSearchCV(estimator = rf, param_grid = param_grid,cv = 5, n_jobs = -1, verbose = 2)\n",
        "    grid_search_rf.fit(tfidf_train_vectors, y_train)\n",
        "    print(f\"best parameters of the model based on '{label}' Label are:'\\n{grid_search_rf.best_params_}\")\n"
      ]
    },
    {
      "cell_type": "code",
      "execution_count": 73,
      "metadata": {
        "id": "fC9s8vCdZNA8"
      },
      "outputs": [],
      "source": [
        "def LR_Gridsearch(X_train,y_train,X_test,label):\n",
        "  # tune parameters\n",
        "    tfidf_train_vectors,tfidf_test_vectors=tfidf_vectorizer(X_train,X_test)\n",
        "    lr =LogisticRegression(random_state = 42 )\n",
        "    grid_search_lr = GridSearchCV(lr,param_grid={'penalty':['l1', 'l2', 'elasticnet', 'none'],'solver':['newton-cg', 'lbfgs', 'liblinear', 'sag', 'saga']},return_train_score='False',cv=5)\n",
        "    grid_search_lr.fit(tfidf_train_vectors, y_train)\n",
        "    print(f\"best parameters of the model based on '{label}' Label are:'\\n{grid_search_lr.best_params_}\")\n"
      ]
    },
    {
      "cell_type": "markdown",
      "metadata": {
        "id": "MF9y9Bn1iHIt"
      },
      "source": [
        "# Relevance"
      ]
    },
    {
      "cell_type": "code",
      "execution_count": 74,
      "metadata": {
        "id": "rTGZ6qtslwUk",
        "outputId": "ec94b2d0-6ab5-48a2-af5f-dd2ec71204fc"
      },
      "outputs": [
        {
          "name": "stdout",
          "output_type": "stream",
          "text": [
            "Fitting 5 folds for each of 10 candidates, totalling 50 fits\n",
            "best parameters of the model based on 'Relevance' Label are:'\n",
            "{'n_neighbors': 9}\n"
          ]
        }
      ],
      "source": [
        "KNN_Gridsearch(X_train,y_train,X_test,'Relevance')\n"
      ]
    },
    {
      "cell_type": "code",
      "execution_count": 75,
      "metadata": {
        "id": "Me-QqRI7AFzv",
        "outputId": "da526d7a-4d10-4a7a-f83c-7177a2d5f226"
      },
      "outputs": [
        {
          "name": "stdout",
          "output_type": "stream",
          "text": [
            "Fitting 5 folds for each of 288 candidates, totalling 1440 fits\n"
          ]
        }
      ],
      "source": [
        "Rfc_Grid_search(X_train,y_train,X_test,'Relevance')\n"
      ]
    },
    {
      "cell_type": "code",
      "execution_count": null,
      "metadata": {
        "colab": {
          "base_uri": "https://localhost:8080/"
        },
        "id": "EjWx-wy4AFzv",
        "outputId": "fee7fdcd-6768-4195-a034-96e8fa324241"
      },
      "outputs": [
        {
          "name": "stdout",
          "output_type": "stream",
          "text": [
            "Fitting 5 folds for each of 144 candidates, totalling 720 fits\n",
            "best parameters of the model based on 'Relevance' Label are:'\n",
            "{'C': 1, 'decision_function_shape': 'ovo', 'degree': 1, 'kernel': 'linear'}\n"
          ]
        }
      ],
      "source": [
        "SVM_Gridsearch(X_train,y_train,X_test,'Relevance')\n"
      ]
    },
    {
      "cell_type": "code",
      "execution_count": null,
      "metadata": {
        "id": "cA842dDRAFzv",
        "outputId": "023a6136-24a1-440a-f28b-c910e319be1e"
      },
      "outputs": [
        {
          "name": "stdout",
          "output_type": "stream",
          "text": [
            "best parameters of the model based on 'Relevance' Label are:'\n",
            "{'penalty': 'l2', 'solver': 'newton-cg'}\n"
          ]
        }
      ],
      "source": [
        "LR_Gridsearch(X_train,y_train,X_test,'Relevance')\n"
      ]
    },
    {
      "cell_type": "markdown",
      "metadata": {
        "id": "DAcdc75yYKTF"
      },
      "source": [
        "Models"
      ]
    },
    {
      "cell_type": "code",
      "execution_count": 260,
      "metadata": {
        "id": "6h71DZ18htav"
      },
      "outputs": [],
      "source": [
        "def Train_Models(models,X_train,y_train,X_test):\n",
        "    tfidf_train_vectors,tfidf_test_vectors=tfidf_vectorizer(X_train,X_test)\n",
        "    preds = []\n",
        "    for model in list(models.values()):\n",
        "        model.fit(tfidf_train_vectors,y_train)\n",
        "        # make predictions\n",
        "        yhat = model.predict(tfidf_test_vectors)\n",
        "        preds.append(yhat)\n",
        "    return(preds)"
      ]
    },
    {
      "cell_type": "code",
      "execution_count": 261,
      "metadata": {},
      "outputs": [],
      "source": [
        "def Evaluate_models(preds,models,y_test,label):\n",
        "    for i in range(len(preds)):\n",
        "        print(f\":::::::::::::::Performance of'{list(models.keys())[i]}' Algorithm on '{label}' Label:::::::::::::::::::\")\n",
        "        print(list(models.keys())[i], classification_report(y_test, preds[i], zero_division=0))\n",
        "        print(f'''Accuracy: {round(accuracy_score(y_test, preds[i], normalize=True),6)}\n",
        "        \\nPrecision:{round(precision_score(y_test, preds[i], average='macro'),6)}\n",
        "        \\nRecall: {round(recall_score(y_test, preds[i], average='macro'),6)}\n",
        "        \\nF1 score: {round(f1_score(y_test, preds[i], average='macro'),6)}''')\n",
        "        print('\\n')\n",
        "        print('-----------------------------------------------------------------------------------------------------------')"
      ]
    },
    {
      "cell_type": "code",
      "execution_count": 262,
      "metadata": {
        "id": "psvZF4f8blCM"
      },
      "outputs": [],
      "source": [
        "models = {'KNN':KNeighborsClassifier(n_neighbors=9), 'RFC':RandomForestClassifier(bootstrap=True, max_depth= 80, max_features= 2, min_samples_leaf= 3, min_samples_split= 8, n_estimators= 100),\n",
        "'Naivebayes':MultinomialNB(),'SVM':svm.SVC(decision_function_shape= 'ovo', degree= 1,kernel='linear', C=1, gamma=1) , 'Logistic':LogisticRegression(max_iter=5000,  multi_class='multinomial',penalty= 'l2', solver= 'newton-cg')}"
      ]
    },
    {
      "cell_type": "code",
      "execution_count": 263,
      "metadata": {},
      "outputs": [
        {
          "name": "stdout",
          "output_type": "stream",
          "text": [
            ":::::::::::::::Performance of'KNN' Algorithm on 'Relevance' Label:::::::::::::::::::\n",
            "KNN               precision    recall  f1-score   support\n",
            "\n",
            "           0       0.61      0.75      0.68      1146\n",
            "           1       0.70      0.55      0.62      1217\n",
            "\n",
            "    accuracy                           0.65      2363\n",
            "   macro avg       0.66      0.65      0.65      2363\n",
            "weighted avg       0.66      0.65      0.65      2363\n",
            "\n",
            "Accuracy: 0.649598\n",
            "        \n",
            "Precision:0.658032\n",
            "        \n",
            "Recall: 0.652565\n",
            "        \n",
            "F1 score: 0.64739\n",
            "\n",
            "\n",
            "-----------------------------------------------------------------------------------------------------------\n",
            ":::::::::::::::Performance of'RFC' Algorithm on 'Relevance' Label:::::::::::::::::::\n",
            "RFC               precision    recall  f1-score   support\n",
            "\n",
            "           0       0.00      0.00      0.00      1146\n",
            "           1       0.52      1.00      0.68      1217\n",
            "\n",
            "    accuracy                           0.52      2363\n",
            "   macro avg       0.26      0.50      0.34      2363\n",
            "weighted avg       0.27      0.52      0.35      2363\n",
            "\n",
            "Accuracy: 0.515023\n",
            "        \n",
            "Precision:0.257512\n",
            "        \n",
            "Recall: 0.5\n",
            "        \n",
            "F1 score: 0.339944\n",
            "\n",
            "\n",
            "-----------------------------------------------------------------------------------------------------------\n",
            ":::::::::::::::Performance of'Naivebayes' Algorithm on 'Relevance' Label:::::::::::::::::::\n",
            "Naivebayes               precision    recall  f1-score   support\n",
            "\n",
            "           0       0.76      0.55      0.64      1146\n",
            "           1       0.66      0.84      0.74      1217\n",
            "\n",
            "    accuracy                           0.70      2363\n",
            "   macro avg       0.71      0.69      0.69      2363\n",
            "weighted avg       0.71      0.70      0.69      2363\n",
            "\n",
            "Accuracy: 0.696572\n",
            "        \n",
            "Precision:0.711066\n",
            "        \n",
            "Recall: 0.692238\n",
            "        \n",
            "F1 score: 0.688075\n",
            "\n",
            "\n",
            "-----------------------------------------------------------------------------------------------------------\n",
            ":::::::::::::::Performance of'SVM' Algorithm on 'Relevance' Label:::::::::::::::::::\n",
            "SVM               precision    recall  f1-score   support\n",
            "\n",
            "           0       0.72      0.70      0.71      1146\n",
            "           1       0.72      0.75      0.74      1217\n",
            "\n",
            "    accuracy                           0.72      2363\n",
            "   macro avg       0.72      0.72      0.72      2363\n",
            "weighted avg       0.72      0.72      0.72      2363\n",
            "\n",
            "Accuracy: 0.72281\n",
            "        \n",
            "Precision:0.722795\n",
            "        \n",
            "Recall: 0.722012\n",
            "        \n",
            "F1 score: 0.722163\n",
            "\n",
            "\n",
            "-----------------------------------------------------------------------------------------------------------\n",
            ":::::::::::::::Performance of'Logistic' Algorithm on 'Relevance' Label:::::::::::::::::::\n",
            "Logistic               precision    recall  f1-score   support\n",
            "\n",
            "           0       0.72      0.70      0.71      1146\n",
            "           1       0.73      0.74      0.74      1217\n",
            "\n",
            "    accuracy                           0.72      2363\n",
            "   macro avg       0.72      0.72      0.72      2363\n",
            "weighted avg       0.72      0.72      0.72      2363\n",
            "\n",
            "Accuracy: 0.72408\n",
            "        \n",
            "Precision:0.723935\n",
            "        \n",
            "Recall: 0.723448\n",
            "        \n",
            "F1 score: 0.723575\n",
            "\n",
            "\n",
            "-----------------------------------------------------------------------------------------------------------\n"
          ]
        }
      ],
      "source": [
        "Evaluate_models(Train_Models(models,X_train, y_train,X_test),models,y_test,'Relevance')"
      ]
    },
    {
      "cell_type": "markdown",
      "metadata": {
        "id": "43OgbuSXiTL9"
      },
      "source": [
        "#InRelationship"
      ]
    },
    {
      "cell_type": "code",
      "execution_count": null,
      "metadata": {
        "id": "zewTGZKxmD2T",
        "outputId": "c0bedc29-a23f-4475-acad-2c9403f456f0"
      },
      "outputs": [
        {
          "name": "stdout",
          "output_type": "stream",
          "text": [
            "Fitting 5 folds for each of 10 candidates, totalling 50 fits\n",
            "best parameters of the model based on 'InRelationship' Label are:'\n",
            "{'n_neighbors': 1}\n"
          ]
        }
      ],
      "source": [
        "KNN_Gridsearch(X_train_related,y_train_InRelationship,X_test_related,'InRelationship')\n"
      ]
    },
    {
      "cell_type": "code",
      "execution_count": null,
      "metadata": {
        "id": "04RkZllNAFzx",
        "outputId": "73541156-d7cf-4d1b-962c-457a9612722f"
      },
      "outputs": [
        {
          "name": "stdout",
          "output_type": "stream",
          "text": [
            "Fitting 5 folds for each of 288 candidates, totalling 1440 fits\n",
            "best parameters of the model based on 'InRelationship' Label are:'\n",
            "{'bootstrap': True, 'max_depth': 80, 'max_features': 3, 'min_samples_leaf': 3, 'min_samples_split': 8, 'n_estimators': 1000}\n"
          ]
        }
      ],
      "source": [
        "Rfc_Grid_search(X_train_related,y_train_InRelationship,X_test_related,'InRelationship')\n"
      ]
    },
    {
      "cell_type": "code",
      "execution_count": null,
      "metadata": {
        "colab": {
          "base_uri": "https://localhost:8080/"
        },
        "id": "SzjzB2wYAFzx",
        "outputId": "8dac4f16-427b-44ff-f3fe-e128274f2456"
      },
      "outputs": [
        {
          "name": "stdout",
          "output_type": "stream",
          "text": [
            "Fitting 5 folds for each of 144 candidates, totalling 720 fits\n",
            "best parameters of the model based on 'InRelationship' Label are:'\n",
            "{'C': 5, 'decision_function_shape': 'ovo', 'degree': 2, 'kernel': 'poly'}\n"
          ]
        }
      ],
      "source": [
        "SVM_Gridsearch(X_train_related,y_train_InRelationship,X_test_related,'InRelationship')\n"
      ]
    },
    {
      "cell_type": "code",
      "execution_count": null,
      "metadata": {
        "id": "G_kjHWEuAFzx",
        "outputId": "2caaf82b-cd63-4404-c544-d5248cae61fe"
      },
      "outputs": [
        {
          "name": "stdout",
          "output_type": "stream",
          "text": [
            "best parameters of the model based on 'InRelationship' Label are:'\n",
            "{'penalty': 'l2', 'solver': 'saga'}\n"
          ]
        }
      ],
      "source": [
        "LR_Gridsearch(X_train_related,y_train_InRelationship,X_test_related,'InRelationship')\n"
      ]
    },
    {
      "cell_type": "code",
      "execution_count": null,
      "metadata": {
        "id": "REL8iBRmmTHG"
      },
      "outputs": [],
      "source": [
        "# over sampling\n"
      ]
    },
    {
      "cell_type": "code",
      "execution_count": 264,
      "metadata": {
        "id": "aL_VRSBsiSjr"
      },
      "outputs": [],
      "source": [
        "def Train_Models_InRelationship(models,X_train_related,y_train,X_test_related):\n",
        "    preds = []\n",
        "    tfidf_train_vectors_InRelationship,tfidf_test_vectors_InRelationship=tfidf_vectorizer(X_train_related,X_test_related)\n",
        "    smote = SMOTE(random_state=42)\n",
        "    X_train_InRelationship_sm, y_train_InRelationship_sm = smote.fit_resample(tfidf_train_vectors_InRelationship, y_train)\n",
        "    #print(f\"Frequency of each label in 'InRelationship' column after being balance:'\\n{y_train_InRelationship_sm.value_counts()}\")\n",
        "    for model in list(models.values()):\n",
        "        model.fit(X_train_InRelationship_sm,y_train_InRelationship_sm)\n",
        "        # make predictions\n",
        "        yhat = model.predict(tfidf_test_vectors_InRelationship)\n",
        "        preds.append(yhat)\n",
        "    return(preds)"
      ]
    },
    {
      "cell_type": "code",
      "execution_count": 265,
      "metadata": {
        "id": "aBzGtk6oiSgP"
      },
      "outputs": [],
      "source": [
        "models_InRelationship = {'KNN':KNeighborsClassifier(n_neighbors=1), 'RFC':RandomForestClassifier(bootstrap=True, max_depth= 80, max_features= 3, min_samples_leaf= 3, min_samples_split= 8, n_estimators= 1000),\n",
        "'Naivebayes':MultinomialNB(),'SVM':svm.SVC(decision_function_shape= 'ovo', degree= 2,kernel='poly', C=5, gamma=1) , 'Logistic':LogisticRegression(max_iter=5000,  multi_class='multinomial',penalty= 'l2', solver= 'saga')}"
      ]
    },
    {
      "cell_type": "code",
      "execution_count": 266,
      "metadata": {},
      "outputs": [
        {
          "name": "stdout",
          "output_type": "stream",
          "text": [
            ":::::::::::::::Performance of'KNN' Algorithm on 'InRelationship' Label:::::::::::::::::::\n",
            "KNN               precision    recall  f1-score   support\n",
            "\n",
            "          -1       0.70      0.22      0.33       646\n",
            "           0       0.07      0.55      0.12        51\n",
            "           1       0.55      0.65      0.60       518\n",
            "\n",
            "    accuracy                           0.42      1215\n",
            "   macro avg       0.44      0.47      0.35      1215\n",
            "weighted avg       0.61      0.42      0.44      1215\n",
            "\n",
            "Accuracy: 0.41893\n",
            "        \n",
            "Precision:0.440659\n",
            "        \n",
            "Recall: 0.474425\n",
            "        \n",
            "F1 score: 0.352724\n",
            "\n",
            "\n",
            "-----------------------------------------------------------------------------------------------------------\n",
            ":::::::::::::::Performance of'RFC' Algorithm on 'InRelationship' Label:::::::::::::::::::\n",
            "RFC               precision    recall  f1-score   support\n",
            "\n",
            "          -1       0.73      0.47      0.57       646\n",
            "           0       0.09      0.08      0.08        51\n",
            "           1       0.53      0.77      0.63       518\n",
            "\n",
            "    accuracy                           0.58      1215\n",
            "   macro avg       0.45      0.44      0.43      1215\n",
            "weighted avg       0.62      0.58      0.58      1215\n",
            "\n",
            "Accuracy: 0.584362\n",
            "        \n",
            "Precision:0.451045\n",
            "        \n",
            "Recall: 0.441439\n",
            "        \n",
            "F1 score: 0.429593\n",
            "\n",
            "\n",
            "-----------------------------------------------------------------------------------------------------------\n",
            ":::::::::::::::Performance of'Naivebayes' Algorithm on 'InRelationship' Label:::::::::::::::::::\n",
            "Naivebayes               precision    recall  f1-score   support\n",
            "\n",
            "          -1       0.81      0.71      0.76       646\n",
            "           0       0.10      0.35      0.16        51\n",
            "           1       0.72      0.65      0.68       518\n",
            "\n",
            "    accuracy                           0.67      1215\n",
            "   macro avg       0.54      0.57      0.53      1215\n",
            "weighted avg       0.74      0.67      0.70      1215\n",
            "\n",
            "Accuracy: 0.671605\n",
            "        \n",
            "Precision:0.544709\n",
            "        \n",
            "Recall: 0.572381\n",
            "        \n",
            "F1 score: 0.533178\n",
            "\n",
            "\n",
            "-----------------------------------------------------------------------------------------------------------\n",
            ":::::::::::::::Performance of'SVM' Algorithm on 'InRelationship' Label:::::::::::::::::::\n",
            "SVM               precision    recall  f1-score   support\n",
            "\n",
            "          -1       0.74      0.85      0.79       646\n",
            "           0       0.25      0.04      0.07        51\n",
            "           1       0.77      0.69      0.72       518\n",
            "\n",
            "    accuracy                           0.75      1215\n",
            "   macro avg       0.58      0.52      0.53      1215\n",
            "weighted avg       0.73      0.75      0.73      1215\n",
            "\n",
            "Accuracy: 0.745679\n",
            "        \n",
            "Precision:0.584881\n",
            "        \n",
            "Recall: 0.524796\n",
            "        \n",
            "F1 score: 0.527159\n",
            "\n",
            "\n",
            "-----------------------------------------------------------------------------------------------------------\n",
            ":::::::::::::::Performance of'Logistic' Algorithm on 'InRelationship' Label:::::::::::::::::::\n",
            "Logistic               precision    recall  f1-score   support\n",
            "\n",
            "          -1       0.78      0.80      0.79       646\n",
            "           0       0.20      0.18      0.19        51\n",
            "           1       0.76      0.73      0.74       518\n",
            "\n",
            "    accuracy                           0.75      1215\n",
            "   macro avg       0.58      0.57      0.57      1215\n",
            "weighted avg       0.74      0.75      0.75      1215\n",
            "\n",
            "Accuracy: 0.748148\n",
            "        \n",
            "Precision:0.578359\n",
            "        \n",
            "Recall: 0.571672\n",
            "        \n",
            "F1 score: 0.574649\n",
            "\n",
            "\n",
            "-----------------------------------------------------------------------------------------------------------\n"
          ]
        }
      ],
      "source": [
        "Evaluate_models(Train_Models_InRelationship(models_InRelationship,X_train_related, y_train_InRelationship,X_test_related),models_InRelationship,y_test_InRelationship,'InRelationship')\n"
      ]
    },
    {
      "cell_type": "markdown",
      "metadata": {
        "id": "PIbY5LEriY6f"
      },
      "source": [
        "#General_comment"
      ]
    },
    {
      "cell_type": "code",
      "execution_count": null,
      "metadata": {
        "id": "EKegYfd-iSTe",
        "outputId": "08569761-d5c0-4f1f-9d51-592de12886c5"
      },
      "outputs": [
        {
          "name": "stdout",
          "output_type": "stream",
          "text": [
            "Fitting 5 folds for each of 10 candidates, totalling 50 fits\n",
            "best parameters of the model based on 'General_comment' Label are:'\n",
            "{'n_neighbors': 10}\n"
          ]
        }
      ],
      "source": [
        "KNN_Gridsearch(X_train_related,y_train_General_comment,X_test_related,'General_comment')\n"
      ]
    },
    {
      "cell_type": "code",
      "execution_count": null,
      "metadata": {
        "id": "yaYYdZFgJwks",
        "outputId": "e5c714d6-0f66-4d7c-bb36-7d5a67b10665"
      },
      "outputs": [
        {
          "name": "stdout",
          "output_type": "stream",
          "text": [
            "Fitting 5 folds for each of 288 candidates, totalling 1440 fits\n",
            "best parameters of the model based on 'General_comment' Label are:'\n",
            "{'bootstrap': True, 'max_depth': 80, 'max_features': 2, 'min_samples_leaf': 3, 'min_samples_split': 8, 'n_estimators': 100}\n"
          ]
        }
      ],
      "source": [
        "Rfc_Grid_search(X_train_related,y_train_General_comment,X_test_related,'General_comment')\n"
      ]
    },
    {
      "cell_type": "code",
      "execution_count": null,
      "metadata": {
        "colab": {
          "base_uri": "https://localhost:8080/"
        },
        "id": "n9fjXiNgJwbd",
        "outputId": "767e6b8b-3ced-417a-af8d-5fad6e30cc66"
      },
      "outputs": [
        {
          "name": "stdout",
          "output_type": "stream",
          "text": [
            "Fitting 5 folds for each of 144 candidates, totalling 720 fits\n",
            "best parameters of the model based on 'General_comment' Label are:'\n",
            "{'C': 1, 'decision_function_shape': 'ovo', 'degree': 1, 'kernel': 'linear'}\n"
          ]
        }
      ],
      "source": [
        "SVM_Gridsearch(X_train_related,y_train_General_comment,X_test_related,'General_comment')\n"
      ]
    },
    {
      "cell_type": "code",
      "execution_count": null,
      "metadata": {
        "id": "vWm4Vm-ZJwQV",
        "outputId": "cb8de7b8-3af9-4692-d890-b7c5ecd6f9b3"
      },
      "outputs": [
        {
          "name": "stdout",
          "output_type": "stream",
          "text": [
            "best parameters of the model based on 'General_comment' Label are:'\n",
            "{'penalty': 'l2', 'solver': 'saga'}\n"
          ]
        }
      ],
      "source": [
        "LR_Gridsearch(X_train_related,y_train_General_comment,X_test_related,'General_comment')\n"
      ]
    },
    {
      "cell_type": "code",
      "execution_count": 267,
      "metadata": {
        "id": "ZK7rJP5MiSQ-"
      },
      "outputs": [],
      "source": [
        "models_General_comment = {'KNN':KNeighborsClassifier(n_neighbors=9), 'RFC':RandomForestClassifier(),'Naivebayes':MultinomialNB(),'SVM':svm.SVC(kernel='linear', C=1, gamma=1) , 'Logistic':LogisticRegression(max_iter=5000,  multi_class='multinomial')}\n"
      ]
    },
    {
      "cell_type": "code",
      "execution_count": 268,
      "metadata": {},
      "outputs": [
        {
          "name": "stdout",
          "output_type": "stream",
          "text": [
            ":::::::::::::::Performance of'KNN' Algorithm on 'General_comment' Label:::::::::::::::::::\n",
            "KNN               precision    recall  f1-score   support\n",
            "\n",
            "           0       0.38      0.36      0.37       266\n",
            "           1       0.60      0.52      0.56       571\n",
            "           2       0.37      0.46      0.41       378\n",
            "\n",
            "    accuracy                           0.47      1215\n",
            "   macro avg       0.45      0.45      0.45      1215\n",
            "weighted avg       0.48      0.47      0.47      1215\n",
            "\n",
            "Accuracy: 0.466667\n",
            "        \n",
            "Precision:0.450681\n",
            "        \n",
            "Recall: 0.446822\n",
            "        \n",
            "F1 score: 0.44634\n",
            "\n",
            "\n",
            "-----------------------------------------------------------------------------------------------------------\n",
            ":::::::::::::::Performance of'RFC' Algorithm on 'General_comment' Label:::::::::::::::::::\n",
            "RFC               precision    recall  f1-score   support\n",
            "\n",
            "           0       0.56      0.21      0.30       266\n",
            "           1       0.57      0.80      0.66       571\n",
            "           2       0.48      0.40      0.44       378\n",
            "\n",
            "    accuracy                           0.54      1215\n",
            "   macro avg       0.53      0.47      0.47      1215\n",
            "weighted avg       0.54      0.54      0.51      1215\n",
            "\n",
            "Accuracy: 0.544033\n",
            "        \n",
            "Precision:0.53442\n",
            "        \n",
            "Recall: 0.467993\n",
            "        \n",
            "F1 score: 0.467185\n",
            "\n",
            "\n",
            "-----------------------------------------------------------------------------------------------------------\n",
            ":::::::::::::::Performance of'Naivebayes' Algorithm on 'General_comment' Label:::::::::::::::::::\n",
            "Naivebayes               precision    recall  f1-score   support\n",
            "\n",
            "           0       0.50      0.02      0.04       266\n",
            "           1       0.48      0.98      0.65       571\n",
            "           2       0.57      0.07      0.12       378\n",
            "\n",
            "    accuracy                           0.49      1215\n",
            "   macro avg       0.52      0.36      0.27      1215\n",
            "weighted avg       0.51      0.49      0.35      1215\n",
            "\n",
            "Accuracy: 0.487243\n",
            "        \n",
            "Precision:0.516409\n",
            "        \n",
            "Recall: 0.357358\n",
            "        \n",
            "F1 score: 0.271318\n",
            "\n",
            "\n",
            "-----------------------------------------------------------------------------------------------------------\n",
            ":::::::::::::::Performance of'SVM' Algorithm on 'General_comment' Label:::::::::::::::::::\n",
            "SVM               precision    recall  f1-score   support\n",
            "\n",
            "           0       0.49      0.30      0.37       266\n",
            "           1       0.59      0.75      0.66       571\n",
            "           2       0.43      0.37      0.40       378\n",
            "\n",
            "    accuracy                           0.53      1215\n",
            "   macro avg       0.50      0.47      0.48      1215\n",
            "weighted avg       0.52      0.53      0.51      1215\n",
            "\n",
            "Accuracy: 0.53251\n",
            "        \n",
            "Precision:0.502404\n",
            "        \n",
            "Recall: 0.47268\n",
            "        \n",
            "F1 score: 0.475962\n",
            "\n",
            "\n",
            "-----------------------------------------------------------------------------------------------------------\n",
            ":::::::::::::::Performance of'Logistic' Algorithm on 'General_comment' Label:::::::::::::::::::\n",
            "Logistic               precision    recall  f1-score   support\n",
            "\n",
            "           0       0.55      0.24      0.33       266\n",
            "           1       0.56      0.82      0.67       571\n",
            "           2       0.46      0.33      0.39       378\n",
            "\n",
            "    accuracy                           0.54      1215\n",
            "   macro avg       0.53      0.46      0.46      1215\n",
            "weighted avg       0.53      0.54      0.51      1215\n",
            "\n",
            "Accuracy: 0.540741\n",
            "        \n",
            "Precision:0.525548\n",
            "        \n",
            "Recall: 0.463933\n",
            "        \n",
            "F1 score: 0.46353\n",
            "\n",
            "\n",
            "-----------------------------------------------------------------------------------------------------------\n"
          ]
        }
      ],
      "source": [
        "Evaluate_models(Train_Models(models_General_comment,X_train_related, y_train_General_comment,X_test_related),models_General_comment,y_test_General_comment,'General_comment')"
      ]
    },
    {
      "cell_type": "markdown",
      "metadata": {
        "id": "W4x-aOMWijY9"
      },
      "source": [
        "#Specific_comment"
      ]
    },
    {
      "cell_type": "markdown",
      "metadata": {
        "id": "A7irVO3mijVl"
      },
      "source": []
    },
    {
      "cell_type": "code",
      "execution_count": null,
      "metadata": {
        "id": "Od8KX3yZih_3",
        "outputId": "fee142d6-c7f5-4525-abe7-94393eaed248"
      },
      "outputs": [
        {
          "name": "stdout",
          "output_type": "stream",
          "text": [
            "Fitting 5 folds for each of 10 candidates, totalling 50 fits\n",
            "best parameters of the model based on 'Specific_comment' Label are:'\n",
            "{'n_neighbors': 10}\n"
          ]
        }
      ],
      "source": [
        "KNN_Gridsearch(X_train_specific_comment,y_train_Specific_comment,X_test_specific_comment,'Specific_comment')\n"
      ]
    },
    {
      "cell_type": "code",
      "execution_count": null,
      "metadata": {
        "id": "24TQ0Aq3S3gQ",
        "outputId": "12d40733-a9ce-477e-e04a-b32790df920a"
      },
      "outputs": [
        {
          "name": "stdout",
          "output_type": "stream",
          "text": [
            "Fitting 5 folds for each of 288 candidates, totalling 1440 fits\n",
            "best parameters of the model based on 'Specific_comment' Label are:'\n",
            "{'bootstrap': True, 'max_depth': 80, 'max_features': 3, 'min_samples_leaf': 4, 'min_samples_split': 8, 'n_estimators': 100}\n"
          ]
        }
      ],
      "source": [
        "Rfc_Grid_search(X_train_specific_comment,y_train_Specific_comment,X_test_specific_comment,'Specific_comment')\n"
      ]
    },
    {
      "cell_type": "code",
      "execution_count": null,
      "metadata": {
        "colab": {
          "base_uri": "https://localhost:8080/"
        },
        "id": "GmS9oczyS3gQ",
        "outputId": "e3f07939-87fb-4d11-b936-6efb6086ea7f"
      },
      "outputs": [
        {
          "name": "stdout",
          "output_type": "stream",
          "text": [
            "Fitting 5 folds for each of 144 candidates, totalling 720 fits\n",
            "best parameters of the model based on 'Specific_comment' Label are:'\n",
            "{'C': 1, 'decision_function_shape': 'ovo', 'degree': 1, 'kernel': 'linear'}\n"
          ]
        }
      ],
      "source": [
        "SVM_Gridsearch(X_train_specific_comment,y_train_Specific_comment,X_test_specific_comment,'Specific_comment')\n"
      ]
    },
    {
      "cell_type": "code",
      "execution_count": null,
      "metadata": {
        "id": "x5Mq216-S3gQ",
        "outputId": "32a1809e-2a8b-434b-84ed-c58c2ee09f1f"
      },
      "outputs": [
        {
          "name": "stdout",
          "output_type": "stream",
          "text": [
            "best parameters of the model based on 'Specific_comment' Label are:'\n",
            "{'penalty': 'l2', 'solver': 'saga'}\n"
          ]
        }
      ],
      "source": [
        "LR_Gridsearch(X_train_specific_comment,y_train_Specific_comment,X_test_specific_comment,'Specific_comment')\n"
      ]
    },
    {
      "cell_type": "code",
      "execution_count": 269,
      "metadata": {},
      "outputs": [],
      "source": [
        "models_specific_comment = {'KNN':KNeighborsClassifier(n_neighbors=10), 'RFC':RandomForestClassifier(),\n",
        "'Naivebayes':MultinomialNB(),'SVM':svm.SVC(decision_function_shape= 'ovo', degree= 1,kernel='linear', C=1, gamma=1) , 'Logistic':LogisticRegression(max_iter=5000,  multi_class='multinomial',penalty= 'l2', solver= 'saga')}"
      ]
    },
    {
      "cell_type": "code",
      "execution_count": 270,
      "metadata": {},
      "outputs": [
        {
          "name": "stdout",
          "output_type": "stream",
          "text": [
            ":::::::::::::::Performance of'KNN' Algorithm on 'Specific_comment' Label:::::::::::::::::::\n",
            "KNN               precision    recall  f1-score   support\n",
            "\n",
            "           0       0.40      0.44      0.42       169\n",
            "           1       0.49      0.26      0.34       179\n",
            "           2       0.40      0.55      0.46       193\n",
            "\n",
            "    accuracy                           0.42       541\n",
            "   macro avg       0.43      0.41      0.41       541\n",
            "weighted avg       0.43      0.42      0.41       541\n",
            "\n",
            "Accuracy: 0.417745\n",
            "        \n",
            "Precision:0.432998\n",
            "        \n",
            "Recall: 0.414692\n",
            "        \n",
            "F1 score: 0.407191\n",
            "\n",
            "\n",
            "-----------------------------------------------------------------------------------------------------------\n",
            ":::::::::::::::Performance of'RFC' Algorithm on 'Specific_comment' Label:::::::::::::::::::\n",
            "RFC               precision    recall  f1-score   support\n",
            "\n",
            "           0       0.44      0.47      0.45       169\n",
            "           1       0.59      0.42      0.49       179\n",
            "           2       0.49      0.60      0.54       193\n",
            "\n",
            "    accuracy                           0.50       541\n",
            "   macro avg       0.51      0.50      0.50       541\n",
            "weighted avg       0.51      0.50      0.50       541\n",
            "\n",
            "Accuracy: 0.499076\n",
            "        \n",
            "Precision:0.508017\n",
            "        \n",
            "Recall: 0.495964\n",
            "        \n",
            "F1 score: 0.495812\n",
            "\n",
            "\n",
            "-----------------------------------------------------------------------------------------------------------\n",
            ":::::::::::::::Performance of'Naivebayes' Algorithm on 'Specific_comment' Label:::::::::::::::::::\n",
            "Naivebayes               precision    recall  f1-score   support\n",
            "\n",
            "           0       0.46      0.40      0.42       169\n",
            "           1       0.48      0.44      0.46       179\n",
            "           2       0.47      0.56      0.51       193\n",
            "\n",
            "    accuracy                           0.47       541\n",
            "   macro avg       0.47      0.47      0.47       541\n",
            "weighted avg       0.47      0.47      0.47       541\n",
            "\n",
            "Accuracy: 0.469501\n",
            "        \n",
            "Precision:0.469018\n",
            "        \n",
            "Recall: 0.465792\n",
            "        \n",
            "F1 score: 0.46511\n",
            "\n",
            "\n",
            "-----------------------------------------------------------------------------------------------------------\n",
            ":::::::::::::::Performance of'SVM' Algorithm on 'Specific_comment' Label:::::::::::::::::::\n",
            "SVM               precision    recall  f1-score   support\n",
            "\n",
            "           0       0.42      0.40      0.41       169\n",
            "           1       0.52      0.46      0.49       179\n",
            "           2       0.47      0.54      0.50       193\n",
            "\n",
            "    accuracy                           0.47       541\n",
            "   macro avg       0.47      0.47      0.47       541\n",
            "weighted avg       0.47      0.47      0.47       541\n",
            "\n",
            "Accuracy: 0.469501\n",
            "        \n",
            "Precision:0.469776\n",
            "        \n",
            "Recall: 0.466443\n",
            "        \n",
            "F1 score: 0.466646\n",
            "\n",
            "\n",
            "-----------------------------------------------------------------------------------------------------------\n",
            ":::::::::::::::Performance of'Logistic' Algorithm on 'Specific_comment' Label:::::::::::::::::::\n",
            "Logistic               precision    recall  f1-score   support\n",
            "\n",
            "           0       0.43      0.39      0.41       169\n",
            "           1       0.53      0.47      0.50       179\n",
            "           2       0.48      0.57      0.52       193\n",
            "\n",
            "    accuracy                           0.48       541\n",
            "   macro avg       0.48      0.48      0.48       541\n",
            "weighted avg       0.48      0.48      0.48       541\n",
            "\n",
            "Accuracy: 0.48244\n",
            "        \n",
            "Precision:0.481873\n",
            "        \n",
            "Recall: 0.478447\n",
            "        \n",
            "F1 score: 0.478064\n",
            "\n",
            "\n",
            "-----------------------------------------------------------------------------------------------------------\n"
          ]
        }
      ],
      "source": [
        "Evaluate_models(Train_Models(models_specific_comment,X_train_specific_comment, y_train_Specific_comment,X_test_specific_comment),models_specific_comment,y_test_Specific_comment,'Specific_comment')"
      ]
    },
    {
      "cell_type": "code",
      "execution_count": 29,
      "metadata": {},
      "outputs": [
        {
          "data": {
            "image/png": "[encoded data removed]",
            "text/plain": [
              "<Figure size 1656x504 with 1 Axes>"
            ]
          },
          "metadata": {
            "needs_background": "light"
          },
          "output_type": "display_data"
        }
      ],
      "source": [
        "barWidth = 0.20\n",
        "fig = plt.subplots(figsize =(23, 7))\n",
        " \n",
        "# set height of bar\n",
        "Accuracy_list = [51.90,62.64,67.73,70.66,71.17,70.35,70.8633,65.68,66.6,71.07,72.25,75.18 ]\n",
        "Precision_list = [25.95, 63.28,71.51,70.71,71.30,70.40,70.8223,66.66,67.48,71.11,72.69,75.43]\n",
        "Recall_list = [50.0, 62.96,66.97,70.47,70.95,70.16,70.827,65.11,66.08,70.89,71.93,74.81]\n",
        "F1_list = [34.17, 62.50,65.54,70.49,70.96,70.18,70.8245,64.62,65.71,70.91,71.90,74.83]\n",
        "\n",
        " \n",
        "# Set position of bar on X axis\n",
        "br1 = np.arange(len(Accuracy_list))\n",
        "br2 = [x + barWidth for x in br1]\n",
        "br3 = [x + barWidth for x in br2]\n",
        "br4 = [x + barWidth for x in br3]\n",
        "\n",
        " \n",
        "# Make the plot\n",
        "plt.bar(br1, Accuracy_list, color ='gray', width = barWidth,\n",
        "        edgecolor ='grey', label ='Accuracy')\n",
        "plt.bar(br2, Precision_list, color ='cyan', width = barWidth,\n",
        "        edgecolor ='grey', label ='Precision')\n",
        "plt.bar(br3, Recall_list, color ='#5bc0de', width = barWidth,\n",
        "        edgecolor ='grey', label ='Recall')\n",
        "plt.bar(br4, F1_list, color ='#5cb85c', width = barWidth,\n",
        "        edgecolor ='grey', label ='F1')\n",
        " \n",
        "# Adding Xticks\n",
        "plt.xlabel('Models', fontweight ='bold', fontsize = 13)\n",
        "plt.ylabel('Performance of models for Relevance label', fontweight ='bold', fontsize = 13)\n",
        "plt.xticks([r + barWidth for r in range(len(Accuracy_list))],\n",
        "        ['RF', 'KNN', 'NB','SVM','LR','CNN','BiLSTM','PBERT_M2','PBERT_M3','PBERT_CNN','PBERT_BiLSTM','PBERT_M1'],fontsize = 13)\n",
        " \n",
        "plt.legend()\n",
        "plt.savefig('Relevance_performance_metrics.pdf', format=\"pdf\", bbox_inches=\"tight\", dpi=100)\n",
        "plt.show()\n"
      ]
    },
    {
      "cell_type": "code",
      "execution_count": 28,
      "metadata": {},
      "outputs": [
        {
          "data": {
            "image/png": "[encoded data removed]",
            "text/plain": [
              "<Figure size 1656x504 with 1 Axes>"
            ]
          },
          "metadata": {
            "needs_background": "light"
          },
          "output_type": "display_data"
        }
      ],
      "source": [
        "barWidth = 0.20\n",
        "fig = plt.subplots(figsize =(23, 7))\n",
        " \n",
        "# set height of bar\n",
        "Accuracy_InRelationship = [41.43,59.97,57.83,59.47,67.29,65.31,68.48,73.44,74.93,72.55,75.22,75.92 ]\n",
        "Precision_InRelationship = [44.59,48.12,51.56,52.18,55.05,54.10,54.29,69.30,59.45,58.93,60.29,63.95]\n",
        "Recall_InRelationship = [46.36,38.88,51.68,52.37,50.01,57.83,56.44,53.46,56.75,61.36,61.39,60.94]\n",
        "F1_InRelationship = [35.58,35.64,47.37,48.92,51.2,53.22,54.90,55.39,57.59,60.0,60.73,61.13]\n",
        "\n",
        " \n",
        "# Set position of bar on X axis\n",
        "br1 = np.arange(len(Accuracy_InRelationship))\n",
        "br2 = [x + barWidth for x in br1]\n",
        "br3 = [x + barWidth for x in br2]\n",
        "br4 = [x + barWidth for x in br3]\n",
        "\n",
        " \n",
        "# Make the plot\n",
        "plt.bar(br1, Accuracy_InRelationship, color ='gray', width = barWidth,\n",
        "        edgecolor ='grey', label ='Accuracy')\n",
        "plt.bar(br2, Precision_InRelationship, color ='cyan', width = barWidth,\n",
        "        edgecolor ='grey', label ='Precision')\n",
        "plt.bar(br3, Recall_InRelationship, color ='#5bc0de', width = barWidth,\n",
        "        edgecolor ='grey', label ='Recall')\n",
        "plt.bar(br4, F1_InRelationship, color ='#5cb85c', width = barWidth,\n",
        "        edgecolor ='grey', label ='F1')\n",
        " \n",
        "# Adding Xticks\n",
        "plt.xlabel('Models', fontweight ='bold', fontsize = 13)\n",
        "plt.ylabel('Performance of models for InRelationship label', fontweight ='bold', fontsize = 13)\n",
        "plt.xticks([r + barWidth for r in range(len(Accuracy_InRelationship))],\n",
        "        ['KNN', 'RF', 'PBERT_M3','PBERT_M2','PBERT_BiLSTM','NB','BiLSTM','SVM','CNN','PBERT_M1','PBERT_CNN','LR'],fontsize = 13)\n",
        " \n",
        "plt.legend()\n",
        "plt.savefig('InRelationship_performance_metrics.pdf', format=\"pdf\", bbox_inches=\"tight\", dpi=100)\n",
        "plt.show()\n"
      ]
    },
    {
      "cell_type": "code",
      "execution_count": 31,
      "metadata": {},
      "outputs": [
        {
          "data": {
            "image/png": "[encoded data removed]",
            "text/plain": [
              "<Figure size 1656x576 with 1 Axes>"
            ]
          },
          "metadata": {
            "needs_background": "light"
          },
          "output_type": "display_data"
        }
      ],
      "source": [
        "barWidth = 0.20\n",
        "fig = plt.subplots(figsize =(23, 8))\n",
        " \n",
        "# set height of bar\n",
        "Accuracy_General = [49.56,45.69,53.12,53.92,47.57,54.51,49.85,50.84,52.83,55.97,52.03,57.98 ]\n",
        "Precision_General  = [53.86,42.87,48.72,50.88,42.64,51.93,46.87,46.77,49.72,55.59,49.11,55.09]\n",
        "Recall_General  = [36.11,42.83,44.92,45.48,41.58,45.62,47.22,45.92,46.12,47.30,49.11,53.54]\n",
        "F1_General = [27.98,42.75,43.87,45.0,41.04,45.02,45.63,46.10,46.33,47.17,49.09,53.87]\n",
        "\n",
        " \n",
        "# Set position of bar on X axis\n",
        "br1 = np.arange(len(Accuracy_General))\n",
        "br2 = [x + barWidth for x in br1]\n",
        "br3 = [x + barWidth for x in br2]\n",
        "br4 = [x + barWidth for x in br3]\n",
        "\n",
        " \n",
        "# Make the plot\n",
        "plt.bar(br1, Accuracy_General, color ='gray', width = barWidth,\n",
        "        edgecolor ='grey', label ='Accuracy')\n",
        "plt.bar(br2, Precision_General, color ='cyan', width = barWidth,\n",
        "        edgecolor ='grey', label ='Precision')\n",
        "plt.bar(br3, Recall_General, color ='#5bc0de', width = barWidth,\n",
        "        edgecolor ='grey', label ='Recall')\n",
        "plt.bar(br4, F1_General, color ='#5cb85c', width = barWidth,\n",
        "        edgecolor ='grey', label ='F1')\n",
        " \n",
        "# Adding Xticks\n",
        "plt.xlabel('Models', fontweight ='bold', fontsize = 13)\n",
        "plt.ylabel('Performance of models for General_comment label', fontweight ='bold', fontsize = 13)\n",
        "plt.xticks([r + barWidth for r in range(len(Accuracy_General))],\n",
        "        ['NB', 'KNN','RF', 'LR','CNN','PBERT_M2','BiLSTM','PBERT_BiLSTM','SVM','PBERT_M3','PBERT_CNN','PBERT_M1'],fontsize = 13)\n",
        " \n",
        "plt.legend(loc=\"best\")\n",
        "plt.savefig('General_performance_metrics.pdf', format=\"pdf\", bbox_inches=\"tight\", dpi=100)\n",
        "plt.show()"
      ]
    },
    {
      "cell_type": "code",
      "execution_count": 32,
      "metadata": {},
      "outputs": [
        {
          "data": {
            "image/png": "[encoded data removed]",
            "text/plain": [
              "<Figure size 1656x576 with 1 Axes>"
            ]
          },
          "metadata": {
            "needs_background": "light"
          },
          "output_type": "display_data"
        }
      ],
      "source": [
        "barWidth = 0.20\n",
        "fig = plt.subplots(figsize =(23, 8))\n",
        " \n",
        "# set height of bar\n",
        "Accuracy_Specific = [40.96,41.21,39.28,40.48,45.54,45.30,47.47,48.43,48.68,48.92,50.12,51.33 ]\n",
        "Precision_Specific  = [27.31,27.47,39.47,40.59,45.64,46.7,47.66,50.31,48.32,48.78,50.69,51.44]\n",
        "Recall_Specific  = [40.34,40.57,39.28,40.16,45.34,45.42,47.18,48.24,48.47,48.72,49.93,51.28]\n",
        "F1_Specific = [32.58,32.76,38.74,38.92,44.69,44.87,46.49,47.35,48.17,48.43,49.54,51.32]\n",
        "\n",
        " \n",
        "# Set position of bar on X axis\n",
        "br1 = np.arange(len(Accuracy_Specific))\n",
        "br2 = [x + barWidth for x in br1]\n",
        "br3 = [x + barWidth for x in br2]\n",
        "br4 = [x + barWidth for x in br3]\n",
        "\n",
        " \n",
        "# Make the plot\n",
        "plt.bar(br1, Accuracy_Specific, color ='gray', width = barWidth,\n",
        "        edgecolor ='grey', label ='Accuracy')\n",
        "plt.bar(br2, Precision_Specific, color ='cyan', width = barWidth,\n",
        "        edgecolor ='grey', label ='Precision')\n",
        "plt.bar(br3, Recall_Specific, color ='#5bc0de', width = barWidth,\n",
        "        edgecolor ='grey', label ='Recall')\n",
        "plt.bar(br4, F1_Specific, color ='#5cb85c', width = barWidth,\n",
        "        edgecolor ='grey', label ='F1')\n",
        " \n",
        "# Adding Xticks\n",
        "plt.xlabel('Models', fontweight ='bold', fontsize = 13)\n",
        "plt.ylabel('Performance of models for Specific_comment label', fontweight ='bold', fontsize = 13)\n",
        "plt.xticks([r + barWidth for r in range(len(Accuracy_Specific))],\n",
        "        ['PBERT_CNN','CNN', 'KNN','PBERT_BiLSTM', 'RF','BiLSTM','NB','PBERT_M2','SVM','LR','PBERT_M3','PBERT_M1'],fontsize = 13)\n",
        " \n",
        "plt.legend(loc=\"best\")\n",
        "plt.savefig('Specific_performance_metrics.pdf', format=\"pdf\", bbox_inches=\"tight\", dpi=100)\n",
        "plt.show()"
      ]
    },
    {
      "cell_type": "code",
      "execution_count": null,
      "metadata": {},
      "outputs": [],
      "source": []
    }
  ],
  "metadata": {
    "colab": {
      "gpuType": "T4",
      "provenance": []
    },
    "kernelspec": {
      "display_name": "Python 3",
      "name": "python3"
    },
    "language_info": {
      "codemirror_mode": {
        "name": "ipython",
        "version": 3
      },
      "file_extension": ".py",
      "mimetype": "text/x-python",
      "name": "python",
      "nbconvert_exporter": "python",
      "pygments_lexer": "ipython3",
      "version": "3.8.8"
    },
    "orig_nbformat": 4
  },
  "nbformat": 4,
  "nbformat_minor": 0
}
