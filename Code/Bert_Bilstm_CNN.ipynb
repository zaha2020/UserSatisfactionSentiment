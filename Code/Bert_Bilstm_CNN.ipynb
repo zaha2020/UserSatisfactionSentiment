{
  "cells": [
    {
      "cell_type": "code",
      "execution_count": 1,
      "metadata": {
        "colab": {
          "base_uri": "https://localhost:8080/",
          "height": 1000
        },
        "id": "5NhRJUBMCcQw",
        "outputId": "ce8e6a0d-b386-4629-c438-832d89339b61"
      },
      "outputs": [
        {
          "name": "stdout",
          "output_type": "stream",
          "text": [
            "Collecting git+https://github.com/roshan-research/hazm.git\n",
            "  Cloning https://github.com/roshan-research/hazm.git to /tmp/pip-req-build-txt6xc0o\n",
            "  Running command git clone --filter=blob:none --quiet https://github.com/roshan-research/hazm.git /tmp/pip-req-build-txt6xc0o\n",
            "  Resolved https://github.com/roshan-research/hazm.git to commit 410e5f3e98bc267648b1f8c9e024c15c49c514b7\n",
            "  Installing build dependencies ... \u001b[?25l\u001b[?25hdone\n",
            "  Getting requirements to build wheel ... \u001b[?25l\u001b[?25hdone\n",
            "  Preparing metadata (pyproject.toml) ... \u001b[?25l\u001b[?25hdone\n",
            "Collecting fasttext-wheel<0.10.0,>=0.9.2 (from hazm==0.9.4)\n",
            "  Downloading fasttext_wheel-0.9.2-cp310-cp310-manylinux_2_17_x86_64.manylinux2014_x86_64.whl (4.4 MB)\n",
            "\u001b[2K     \u001b[90m━━━━━━━━━━━━━━━━━━━━━━━━━━━━━━━━━━━━━━━━\u001b[0m \u001b[32m4.4/4.4 MB\u001b[0m \u001b[31m16.5 MB/s\u001b[0m eta \u001b[36m0:00:00\u001b[0m\n",
            "\u001b[?25hCollecting flashtext<3.0,>=2.7 (from hazm==0.9.4)\n",
            "  Downloading flashtext-2.7.tar.gz (14 kB)\n",
            "  Preparing metadata (setup.py) ... \u001b[?25l\u001b[?25hdone\n",
            "Requirement already satisfied: gensim<5.0.0,>=4.3.1 in /usr/local/lib/python3.10/dist-packages (from hazm==0.9.4) (4.3.2)\n",
            "Requirement already satisfied: nltk<4.0.0,>=3.8.1 in /usr/local/lib/python3.10/dist-packages (from hazm==0.9.4) (3.8.1)\n",
            "Collecting numpy==1.24.3 (from hazm==0.9.4)\n",
            "  Downloading numpy-1.24.3-cp310-cp310-manylinux_2_17_x86_64.manylinux2014_x86_64.whl (17.3 MB)\n",
            "\u001b[2K     \u001b[90m━━━━━━━━━━━━━━━━━━━━━━━━━━━━━━━━━━━━━━━━\u001b[0m \u001b[32m17.3/17.3 MB\u001b[0m \u001b[31m63.6 MB/s\u001b[0m eta \u001b[36m0:00:00\u001b[0m\n",
            "\u001b[?25hCollecting python-crfsuite<0.10.0,>=0.9.9 (from hazm==0.9.4)\n",
            "  Downloading python_crfsuite-0.9.9-cp310-cp310-manylinux_2_17_x86_64.manylinux2014_x86_64.whl (993 kB)\n",
            "\u001b[2K     \u001b[90m━━━━━━━━━━━━━━━━━━━━━━━━━━━━━━━━━━━━━━━━\u001b[0m \u001b[32m993.5/993.5 kB\u001b[0m \u001b[31m78.5 MB/s\u001b[0m eta \u001b[36m0:00:00\u001b[0m\n",
            "\u001b[?25hRequirement already satisfied: scikit-learn<2.0.0,>=1.2.2 in /usr/local/lib/python3.10/dist-packages (from hazm==0.9.4) (1.2.2)\n",
            "Collecting pybind11>=2.2 (from fasttext-wheel<0.10.0,>=0.9.2->hazm==0.9.4)\n",
            "  Downloading pybind11-2.11.1-py3-none-any.whl (227 kB)\n",
            "\u001b[2K     \u001b[90m━━━━━━━━━━━━━━━━━━━━━━━━━━━━━━━━━━━━━━━━\u001b[0m \u001b[32m227.7/227.7 kB\u001b[0m \u001b[31m28.0 MB/s\u001b[0m eta \u001b[36m0:00:00\u001b[0m\n",
            "\u001b[?25hRequirement already satisfied: setuptools>=0.7.0 in /usr/local/lib/python3.10/dist-packages (from fasttext-wheel<0.10.0,>=0.9.2->hazm==0.9.4) (67.7.2)\n",
            "Requirement already satisfied: scipy>=1.7.0 in /usr/local/lib/python3.10/dist-packages (from gensim<5.0.0,>=4.3.1->hazm==0.9.4) (1.11.3)\n",
            "Requirement already satisfied: smart-open>=1.8.1 in /usr/local/lib/python3.10/dist-packages (from gensim<5.0.0,>=4.3.1->hazm==0.9.4) (6.4.0)\n",
            "Requirement already satisfied: click in /usr/local/lib/python3.10/dist-packages (from nltk<4.0.0,>=3.8.1->hazm==0.9.4) (8.1.7)\n",
            "Requirement already satisfied: joblib in /usr/local/lib/python3.10/dist-packages (from nltk<4.0.0,>=3.8.1->hazm==0.9.4) (1.3.2)\n",
            "Requirement already satisfied: regex>=2021.8.3 in /usr/local/lib/python3.10/dist-packages (from nltk<4.0.0,>=3.8.1->hazm==0.9.4) (2023.6.3)\n",
            "Requirement already satisfied: tqdm in /usr/local/lib/python3.10/dist-packages (from nltk<4.0.0,>=3.8.1->hazm==0.9.4) (4.66.1)\n",
            "Requirement already satisfied: threadpoolctl>=2.0.0 in /usr/local/lib/python3.10/dist-packages (from scikit-learn<2.0.0,>=1.2.2->hazm==0.9.4) (3.2.0)\n",
            "Building wheels for collected packages: hazm, flashtext\n",
            "  Building wheel for hazm (pyproject.toml) ... \u001b[?25l\u001b[?25hdone\n",
            "  Created wheel for hazm: filename=hazm-0.9.4-py3-none-any.whl size=882187 sha256=15782b5926e7ada6594bcfa7273e671192fb7d19d2f0d9f7bc5ae79c889912f6\n",
            "  Stored in directory: /tmp/pip-ephem-wheel-cache-qhcd7j9h/wheels/55/89/b4/56e12f36fffd749eba685e3c99fbb1d69a9029a8e0dac2a0f1\n",
            "  Building wheel for flashtext (setup.py) ... \u001b[?25l\u001b[?25hdone\n",
            "  Created wheel for flashtext: filename=flashtext-2.7-py2.py3-none-any.whl size=9297 sha256=9480507732f818dd60585eaf4b5c86eafc6bbd8dd4eaf43e8bb6adac7466ca30\n",
            "  Stored in directory: /root/.cache/pip/wheels/bc/be/39/c37ad168eb2ff644c9685f52554440372129450f0b8ed203dd\n",
            "Successfully built hazm flashtext\n",
            "Installing collected packages: python-crfsuite, flashtext, pybind11, numpy, fasttext-wheel, hazm\n",
            "  Attempting uninstall: numpy\n",
            "    Found existing installation: numpy 1.23.5\n",
            "    Uninstalling numpy-1.23.5:\n",
            "      Successfully uninstalled numpy-1.23.5\n",
            "\u001b[31mERROR: pip's dependency resolver does not currently take into account all the packages that are installed. This behaviour is the source of the following dependency conflicts.\n",
            "lida 0.0.10 requires fastapi, which is not installed.\n",
            "lida 0.0.10 requires kaleido, which is not installed.\n",
            "lida 0.0.10 requires python-multipart, which is not installed.\n",
            "lida 0.0.10 requires uvicorn, which is not installed.\n",
            "numba 0.56.4 requires numpy<1.24,>=1.18, but you have numpy 1.24.3 which is incompatible.\u001b[0m\u001b[31m\n",
            "\u001b[0mSuccessfully installed fasttext-wheel-0.9.2 flashtext-2.7 hazm-0.9.4 numpy-1.24.3 pybind11-2.11.1 python-crfsuite-0.9.9\n"
          ]
        },
        {
          "data": {
            "application/vnd.colab-display-data+json": {
              "pip_warning": {
                "packages": [
                  "numpy"
                ]
              }
            }
          },
          "metadata": {},
          "output_type": "display_data"
        }
      ],
      "source": [
        "!pip install git+https://github.com/roshan-research/hazm.git"
      ]
    },
    {
      "cell_type": "code",
      "execution_count": 1,
      "metadata": {
        "colab": {
          "base_uri": "https://localhost:8080/"
        },
        "id": "Ff2EJrdKCsAw",
        "outputId": "65dce110-bf41-42ca-95c5-589c425692a6"
      },
      "outputs": [
        {
          "name": "stdout",
          "output_type": "stream",
          "text": [
            "Collecting transformers\n",
            "  Downloading transformers-4.34.1-py3-none-any.whl (7.7 MB)\n",
            "\u001b[2K     \u001b[90m━━━━━━━━━━━━━━━━━━━━━━━━━━━━━━━━━━━━━━━━\u001b[0m \u001b[32m7.7/7.7 MB\u001b[0m \u001b[31m26.5 MB/s\u001b[0m eta \u001b[36m0:00:00\u001b[0m\n",
            "\u001b[?25hRequirement already satisfied: filelock in /usr/local/lib/python3.10/dist-packages (from transformers) (3.12.4)\n",
            "Collecting huggingface-hub<1.0,>=0.16.4 (from transformers)\n",
            "  Downloading huggingface_hub-0.18.0-py3-none-any.whl (301 kB)\n",
            "\u001b[2K     \u001b[90m━━━━━━━━━━━━━━━━━━━━━━━━━━━━━━━━━━━━━━━━\u001b[0m \u001b[32m302.0/302.0 kB\u001b[0m \u001b[31m38.0 MB/s\u001b[0m eta \u001b[36m0:00:00\u001b[0m\n",
            "\u001b[?25hRequirement already satisfied: numpy>=1.17 in /usr/local/lib/python3.10/dist-packages (from transformers) (1.24.3)\n",
            "Requirement already satisfied: packaging>=20.0 in /usr/local/lib/python3.10/dist-packages (from transformers) (23.2)\n",
            "Requirement already satisfied: pyyaml>=5.1 in /usr/local/lib/python3.10/dist-packages (from transformers) (6.0.1)\n",
            "Requirement already satisfied: regex!=2019.12.17 in /usr/local/lib/python3.10/dist-packages (from transformers) (2023.6.3)\n",
            "Requirement already satisfied: requests in /usr/local/lib/python3.10/dist-packages (from transformers) (2.31.0)\n",
            "Collecting tokenizers<0.15,>=0.14 (from transformers)\n",
            "  Downloading tokenizers-0.14.1-cp310-cp310-manylinux_2_17_x86_64.manylinux2014_x86_64.whl (3.8 MB)\n",
            "\u001b[2K     \u001b[90m━━━━━━━━━━━━━━━━━━━━━━━━━━━━━━━━━━━━━━━━\u001b[0m \u001b[32m3.8/3.8 MB\u001b[0m \u001b[31m52.2 MB/s\u001b[0m eta \u001b[36m0:00:00\u001b[0m\n",
            "\u001b[?25hCollecting safetensors>=0.3.1 (from transformers)\n",
            "  Downloading safetensors-0.4.0-cp310-cp310-manylinux_2_17_x86_64.manylinux2014_x86_64.whl (1.3 MB)\n",
            "\u001b[2K     \u001b[90m━━━━━━━━━━━━━━━━━━━━━━━━━━━━━━━━━━━━━━━━\u001b[0m \u001b[32m1.3/1.3 MB\u001b[0m \u001b[31m74.8 MB/s\u001b[0m eta \u001b[36m0:00:00\u001b[0m\n",
            "\u001b[?25hRequirement already satisfied: tqdm>=4.27 in /usr/local/lib/python3.10/dist-packages (from transformers) (4.66.1)\n",
            "Requirement already satisfied: fsspec>=2023.5.0 in /usr/local/lib/python3.10/dist-packages (from huggingface-hub<1.0,>=0.16.4->transformers) (2023.6.0)\n",
            "Requirement already satisfied: typing-extensions>=3.7.4.3 in /usr/local/lib/python3.10/dist-packages (from huggingface-hub<1.0,>=0.16.4->transformers) (4.5.0)\n",
            "Collecting huggingface-hub<1.0,>=0.16.4 (from transformers)\n",
            "  Downloading huggingface_hub-0.17.3-py3-none-any.whl (295 kB)\n",
            "\u001b[2K     \u001b[90m━━━━━━━━━━━━━━━━━━━━━━━━━━━━━━━━━━━━━━━━\u001b[0m \u001b[32m295.0/295.0 kB\u001b[0m \u001b[31m36.1 MB/s\u001b[0m eta \u001b[36m0:00:00\u001b[0m\n",
            "\u001b[?25hRequirement already satisfied: charset-normalizer<4,>=2 in /usr/local/lib/python3.10/dist-packages (from requests->transformers) (3.3.0)\n",
            "Requirement already satisfied: idna<4,>=2.5 in /usr/local/lib/python3.10/dist-packages (from requests->transformers) (3.4)\n",
            "Requirement already satisfied: urllib3<3,>=1.21.1 in /usr/local/lib/python3.10/dist-packages (from requests->transformers) (2.0.6)\n",
            "Requirement already satisfied: certifi>=2017.4.17 in /usr/local/lib/python3.10/dist-packages (from requests->transformers) (2023.7.22)\n",
            "Installing collected packages: safetensors, huggingface-hub, tokenizers, transformers\n",
            "Successfully installed huggingface-hub-0.17.3 safetensors-0.4.0 tokenizers-0.14.1 transformers-4.34.1\n"
          ]
        }
      ],
      "source": [
        "!pip install transformers\n",
        "!pip install -q scikit-plot"
      ]
    },
    {
      "cell_type": "code",
      "execution_count": 2,
      "metadata": {
        "id": "ZpqB4KpBCr9Y"
      },
      "outputs": [],
      "source": [
        "import pandas as pd\n",
        "import numpy as np\n",
        "from sklearn.utils import shuffle\n",
        "import re\n",
        "from __future__ import unicode_literals\n",
        "from hazm import Normalizer, word_tokenize\n",
        "import plotly.express as px\n",
        "import plotly.graph_objects as go\n",
        "from sklearn.utils import class_weight\n",
        "import torch\n",
        "from torch.nn.utils.rnn import pad_sequence\n",
        "from torch.utils.data import DataLoader,Dataset\n",
        "import matplotlib.pyplot as plt\n",
        "import torch.nn as nn\n",
        "import torch.nn.functional as F\n",
        "import torch.optim as optim\n",
        "from sklearn.metrics import f1_score\n",
        "from sklearn.metrics import precision_score\n",
        "from sklearn.metrics import recall_score\n",
        "from sklearn.metrics import accuracy_score\n",
        "from sklearn.metrics import confusion_matrix,classification_report\n",
        "import warnings\n",
        "warnings.filterwarnings(action='ignore')"
      ]
    },
    {
      "cell_type": "code",
      "execution_count": null,
      "metadata": {
        "id": "J4MjmOmNJ8y5"
      },
      "outputs": [],
      "source": [
        "# train_related_specific_df.Specific_comment.value_counts()"
      ]
    },
    {
      "cell_type": "code",
      "execution_count": 3,
      "metadata": {
        "id": "Ds9GSyxiCr6n"
      },
      "outputs": [],
      "source": [
        "train_df = pd.read_csv('/content/train.csv',encoding ='utf-8')\n",
        "test_df = pd.read_csv('/content/test.csv',encoding ='utf-8')\n",
        "train_related_df = pd.read_csv('/content/train_related.csv',encoding ='utf-8')\n",
        "test_related_df= pd.read_csv('/content/test_related.csv',encoding ='utf-8')\n",
        "train_related_specific_df = pd.read_csv('/content/train_related_specific.csv',encoding ='utf-8')\n",
        "test_related_specific_df = pd.read_csv('/content/test_related_specific.csv',encoding ='utf-8')\n",
        "\n",
        "\n",
        "data_classes_= [-1,0,1]\n",
        "d=dict(zip(data_classes_, range(0,3)))\n",
        "train_related_df['InRelationship']=train_related_df['InRelationship'].map(d, na_action='ignore')\n",
        "test_related_df['InRelationship']=test_related_df['InRelationship'].map(d, na_action='ignore')\n",
        "\n",
        "\n",
        "\n",
        "train_df.drop(['Unnamed: 0'], axis=1,inplace=True)\n",
        "test_df.drop(['Unnamed: 0'], axis=1,inplace=True)\n",
        "train_related_df.drop(['Unnamed: 0'], axis=1,inplace=True)\n",
        "test_related_df.drop(['Unnamed: 0'], axis=1,inplace=True)\n",
        "train_related_specific_df.drop(['Unnamed: 0'], axis=1,inplace=True)\n",
        "test_related_specific_df.drop(['Unnamed: 0'], axis=1,inplace=True)"
      ]
    },
    {
      "cell_type": "code",
      "execution_count": 4,
      "metadata": {
        "colab": {
          "base_uri": "https://localhost:8080/",
          "height": 113,
          "referenced_widgets": [
            "721178faab364933ac4219bfc1f4d2e9",
            "e9c0caeaf3614621aad9537f3e88458e",
            "093f4b96b4a2483bb47df3273f9353cb",
            "a55ce86035814923a986e3306960aaa6",
            "fa037abf397047d1a4885cddcc5d8a07",
            "33f5581e1a8541a685c9c422075fc70a",
            "556b619c3ca840af9c10666d9320c804",
            "b58af5dced2a4c918da2ca057a878383",
            "74bbc6c2ca3e47ed91188c621909d0ae",
            "4d0cf0490d3b4c59bf328ec508821f46",
            "956e44da986d4a61b1a9456ae93c51b8",
            "4fcc872c3b6a4b5a8258ecaf611d68ac",
            "85d915bc775643fc8d432da6ecb772fe",
            "e68c8e38ef174285812a2aa500f766d8",
            "3403cadac31544ceacec093dcee4e2a0",
            "52863cfd3ab94bf7bcc17b4b0f4d6576",
            "1ef44efcd9b44a9eb12c2999ba0b99bb",
            "23ba60552b6d4ab5969587750703774e",
            "45aa86a6b6f44370878c96ae1bef11a3",
            "abc67117712140318e836866df7c4fde",
            "7d1d008a3175478bbb71e2f841f671f1",
            "1a4a559be7ff4d56988f5b19c4f9bd05",
            "8b900d0b63654fb395ef42457f64ee5a",
            "fbfcafe5cf8947648ea0f56e9920d692",
            "59bb54af740b4ad8bc5ef54b6bf1c317",
            "0c238c2a1cad4cdc89fd6abd3ac7570e",
            "0544a2ff27bb4737ade0ea433754bf6c",
            "dcafbccb59d546b58017950505486d12",
            "0f41ca48c4b44d7fb12d3fcfc855915b",
            "78cb0b25d4f24f15944df0f279277a70",
            "30cc231f8b4a4508b200345b2a9c2f70",
            "b1ad34c127e0473bb81587244d3e76b0",
            "3a0306e461eb4e4c8f4df73c5e3636ed"
          ]
        },
        "id": "Jis5HR4wCr4M",
        "outputId": "2b84b581-d027-4588-8d8e-c8e940566f71"
      },
      "outputs": [
        {
          "data": {
            "application/vnd.jupyter.widget-view+json": {
              "model_id": "721178faab364933ac4219bfc1f4d2e9",
              "version_major": 2,
              "version_minor": 0
            },
            "text/plain": [
              "Downloading (…)lve/main/config.json:   0%|          | 0.00/434 [00:00<?, ?B/s]"
            ]
          },
          "metadata": {},
          "output_type": "display_data"
        },
        {
          "data": {
            "application/vnd.jupyter.widget-view+json": {
              "model_id": "4fcc872c3b6a4b5a8258ecaf611d68ac",
              "version_major": 2,
              "version_minor": 0
            },
            "text/plain": [
              "Downloading pytorch_model.bin:   0%|          | 0.00/654M [00:00<?, ?B/s]"
            ]
          },
          "metadata": {},
          "output_type": "display_data"
        },
        {
          "data": {
            "application/vnd.jupyter.widget-view+json": {
              "model_id": "8b900d0b63654fb395ef42457f64ee5a",
              "version_major": 2,
              "version_minor": 0
            },
            "text/plain": [
              "Downloading (…)solve/main/vocab.txt:   0%|          | 0.00/1.22M [00:00<?, ?B/s]"
            ]
          },
          "metadata": {},
          "output_type": "display_data"
        }
      ],
      "source": [
        "from transformers import BertModel, AutoTokenizer\n",
        "\n",
        "model = BertModel.from_pretrained(\"HooshvareLab/bert-base-parsbert-uncased\")\n",
        "tokenizer = AutoTokenizer.from_pretrained(\"HooshvareLab/bert-base-parsbert-uncased\")\n"
      ]
    },
    {
      "cell_type": "code",
      "execution_count": 5,
      "metadata": {
        "id": "SVH2m4SVCr1g"
      },
      "outputs": [],
      "source": [
        "train_df['tokens_ids'] = train_df['Record_text'].apply(lambda t: tokenizer.encode(t, add_special_tokens=True))\n",
        "test_df['tokens_ids'] = test_df['Record_text'].apply(lambda t: tokenizer.encode(t, add_special_tokens=True))\n",
        "\n",
        "train_related_df['tokens_ids'] = train_related_df['Record_text'].apply(lambda t: tokenizer.encode(t, add_special_tokens=True))\n",
        "test_related_df['tokens_ids'] = test_related_df['Record_text'].apply(lambda t: tokenizer.encode(t, add_special_tokens=True))\n",
        "\n",
        "train_related_specific_df['tokens_ids'] = train_related_specific_df['Record_text'].apply(lambda t: tokenizer.encode(t, add_special_tokens=True))\n",
        "test_related_specific_df['tokens_ids'] = test_related_specific_df['Record_text'].apply(lambda t: tokenizer.encode(t, add_special_tokens=True))"
      ]
    },
    {
      "cell_type": "code",
      "execution_count": 9,
      "metadata": {
        "id": "FhwLUEYICrtj"
      },
      "outputs": [],
      "source": [
        "train_labels = train_df['Relevance'].values[:]\n",
        "test_labels = test_df['Relevance'].values[:]\n",
        "\n",
        "\n",
        "train_related_labels = train_related_df['General_comment'].values[:]\n",
        "test_related_labels = test_related_df['General_comment'].values[:]\n",
        "\n",
        "train_related_InRelationship_labels = train_related_df['InRelationship'].values[:]\n",
        "test_related_InRelationship_labels = test_related_df['InRelationship'].values[:]\n",
        "\n",
        "\n",
        "train_specific_labels = train_related_specific_df['Specific_comment'].values[:]\n",
        "test_specific_labels = test_related_specific_df['Specific_comment'].values[:]"
      ]
    },
    {
      "cell_type": "code",
      "execution_count": 10,
      "metadata": {
        "id": "wGUpGeNoCrq5"
      },
      "outputs": [],
      "source": [
        "class_weights = class_weight.compute_class_weight(\n",
        "                                        class_weight = \"balanced\",\n",
        "                                        classes = np.unique(train_labels),\n",
        "                                        y = train_labels\n",
        "                                    )\n",
        "\n",
        "\n",
        "class_weights_specific = class_weight.compute_class_weight(\n",
        "                                        class_weight = \"balanced\",\n",
        "                                        classes = np.unique(train_specific_labels),\n",
        "                                        y = train_specific_labels\n",
        "                                    )\n",
        "\n",
        "\n",
        "\n",
        "\n",
        "\n",
        "class_weights_related = class_weight.compute_class_weight(\n",
        "                                        class_weight = \"balanced\",\n",
        "                                        classes = np.unique(train_related_labels),\n",
        "                                        y = train_related_labels\n",
        "                                    )\n",
        "\n",
        "weights = class_weight.compute_class_weight(\n",
        "                                        class_weight = \"balanced\",\n",
        "                                        classes = np.unique(train_related_InRelationship_labels),\n",
        "                                        y = train_related_InRelationship_labels\n",
        "                                    )\n",
        "\n",
        "\n",
        "class_weights = dict(zip(np.unique(train_labels), class_weights))\n",
        "class_weights_related = dict(zip(np.unique(train_related_labels), class_weights_related))\n",
        "weights = dict(zip(np.unique(train_related_InRelationship_labels), weights))\n",
        "class_weights_specific = dict(zip(np.unique(train_specific_labels), class_weights_specific))\n"
      ]
    },
    {
      "cell_type": "code",
      "execution_count": 11,
      "metadata": {
        "id": "Yv-kMnoUCroQ"
      },
      "outputs": [],
      "source": [
        "# Function to handle padding in each batch of data\n",
        "def pad_collate(batch):\n",
        "  (xx, yy) = zip(*batch)\n",
        "  x_lens = [len(x) for x in xx]\n",
        "\n",
        "  xx_pad = pad_sequence(xx, batch_first=True, padding_value=0)\n",
        "\n",
        "  return xx_pad, yy"
      ]
    },
    {
      "cell_type": "code",
      "execution_count": 12,
      "metadata": {
        "id": "rIuNlnDJCrl6"
      },
      "outputs": [],
      "source": [
        "train_data = [[torch.tensor(train_df['tokens_ids'][i]), torch.tensor([train_labels[i]])] for i in range(len(train_df['tokens_ids']))]\n",
        "\n",
        "train_related_data = [[torch.tensor(train_related_df['tokens_ids'][i]), torch.tensor([train_related_labels[i]])] for i in range(len(train_related_df['tokens_ids']))]\n",
        "\n",
        "train_related_InRelationship_data = [[torch.tensor(train_related_df['tokens_ids'][i]), torch.tensor([train_related_InRelationship_labels[i]])] for i in range(len(train_related_df['tokens_ids']))]\n",
        "\n",
        "train_specific_data =[[torch.tensor(train_related_specific_df['tokens_ids'][i]), torch.tensor([train_specific_labels[i]])] for i in range(len(train_related_specific_df['tokens_ids']))]\n",
        "\n"
      ]
    },
    {
      "cell_type": "code",
      "execution_count": 13,
      "metadata": {
        "id": "F7UpRrFdHTsv"
      },
      "outputs": [],
      "source": [
        "test_data = [[torch.tensor(test_df['tokens_ids'][i]), torch.tensor([test_labels[i]])] for i in range(len(test_df['tokens_ids']))]\n",
        "\n",
        "test_related_data = [[torch.tensor(test_related_df['tokens_ids'][i]), torch.tensor([test_related_labels[i]])] for i in range(len(test_related_df['tokens_ids']))]\n",
        "\n",
        "test_related_InRelationship_data = [[torch.tensor(test_related_df['tokens_ids'][i]), torch.tensor([test_related_InRelationship_labels[i]])] for i in range(len(test_related_df['tokens_ids']))]\n",
        "\n",
        "test_specidic_data = [[torch.tensor(test_related_specific_df['tokens_ids'][i]), torch.tensor([test_specific_labels[i]])] for i in range(len(test_related_specific_df['tokens_ids']))]\n"
      ]
    },
    {
      "cell_type": "code",
      "execution_count": 16,
      "metadata": {
        "id": "u_LM6YCcDhBu"
      },
      "outputs": [],
      "source": [
        "train_set, val_set = torch.utils.data.random_split(train_data, [10771, 85])\n",
        "train_related_set, val_related_set = torch.utils.data.random_split(train_related_data, [5455, 85])\n",
        "train_related_InRelationship_set, val_related_InRelationship_set = torch.utils.data.random_split(train_related_InRelationship_data, [5455, 85])\n",
        "train_specific_set, val_specific_set = torch.utils.data.random_split(train_specific_data, [2368, 85])\n",
        "\n",
        "data_loader_Trianset = DataLoader(\n",
        "    dataset=train_set,\n",
        "    batch_size=512,\n",
        "    shuffle=True,\n",
        "    collate_fn=pad_collate\n",
        ")\n",
        "\n",
        "data_loader_Val = DataLoader(\n",
        "    dataset=val_set,\n",
        "    batch_size=512,\n",
        "    shuffle=True,\n",
        "    collate_fn=pad_collate\n",
        ")\n",
        "\n",
        "data_loader_Relatedset = DataLoader(\n",
        "    dataset=train_related_set,\n",
        "    batch_size=512,\n",
        "    shuffle=True,\n",
        "    collate_fn=pad_collate\n",
        ")\n",
        "\n",
        "data_loader_Valrelated = DataLoader(\n",
        "    dataset=val_related_set,\n",
        "    batch_size=512,\n",
        "    shuffle=True,\n",
        "    collate_fn=pad_collate\n",
        ")\n",
        "\n",
        "\n",
        "data_loader_InRelationship_Relatedset = DataLoader(\n",
        "    dataset=train_related_InRelationship_set,\n",
        "    batch_size=512,\n",
        "    shuffle=True,\n",
        "    collate_fn=pad_collate\n",
        ")\n",
        "\n",
        "data_loader_InRelationship_Valrelated = DataLoader(\n",
        "    dataset=val_related_InRelationship_set,\n",
        "    batch_size=512,\n",
        "    shuffle=True,\n",
        "    collate_fn=pad_collate\n",
        ")\n",
        "\n",
        "\n",
        "\n",
        "data_loader_Specific_set = DataLoader(\n",
        "    dataset=train_specific_set,\n",
        "    batch_size=512,\n",
        "    shuffle=True,\n",
        "    collate_fn=pad_collate\n",
        ")\n",
        "\n",
        "\n",
        "data_loader_Valspecific = DataLoader(\n",
        "    dataset=val_specific_set,\n",
        "    batch_size=512,\n",
        "    shuffle=True,\n",
        "    collate_fn=pad_collate\n",
        ")\n",
        "\n",
        "\n"
      ]
    },
    {
      "cell_type": "code",
      "execution_count": 17,
      "metadata": {
        "id": "OE_CaJw5IacH"
      },
      "outputs": [],
      "source": [
        "test_loader = DataLoader(\n",
        "    dataset=test_data,\n",
        "    batch_size=128,\n",
        "    shuffle=True,\n",
        "    collate_fn=pad_collate\n",
        ")\n",
        "\n",
        "test_loader_Related = DataLoader(\n",
        "    dataset=test_related_data,\n",
        "    batch_size=512,\n",
        "    shuffle=True,\n",
        "    collate_fn=pad_collate\n",
        ")\n",
        "\n",
        "test_loader_InRelationship_Related = DataLoader(\n",
        "    dataset=test_related_InRelationship_data,\n",
        "    batch_size=512,\n",
        "    shuffle=True,\n",
        "    collate_fn=pad_collate\n",
        ")\n",
        "\n",
        "\n",
        "\n",
        "test_loader_Specific = DataLoader(\n",
        "    dataset=test_specidic_data,\n",
        "    batch_size=512,\n",
        "    shuffle=True,\n",
        "    collate_fn=pad_collate\n",
        ")"
      ]
    },
    {
      "cell_type": "code",
      "execution_count": 18,
      "metadata": {
        "colab": {
          "base_uri": "https://localhost:8080/"
        },
        "id": "MQMUFF8QDg-c",
        "outputId": "6efaaad7-0719-4883-df24-12214f1e6211"
      },
      "outputs": [
        {
          "name": "stdout",
          "output_type": "stream",
          "text": [
            "(100000, 768)\n"
          ]
        }
      ],
      "source": [
        "embedding_matrix = model.embeddings.word_embeddings.weight.detach().numpy()\n",
        "print(embedding_matrix.shape)"
      ]
    },
    {
      "cell_type": "code",
      "execution_count": 19,
      "metadata": {
        "id": "_YvIh4N2Dg70"
      },
      "outputs": [],
      "source": [
        "class CNN_Model_TEXT(nn.Module):\n",
        "    def __init__(self,max_features, embed_size, embedding_matrix, num_classes):\n",
        "        super(CNN_Model_TEXT, self).__init__()\n",
        "        filter_sizes = [3, 5, 7]\n",
        "        num_filters = 36\n",
        "        n_classes = num_classes\n",
        "        self.embedding = nn.Embedding(max_features, embed_size)\n",
        "        self.embedding.weight = nn.Parameter(torch.tensor(embedding_matrix, dtype=torch.float32))\n",
        "        self.embedding.weight.requires_grad = True\n",
        "        self.convs1 = nn.ModuleList([nn.Conv2d(1, num_filters, (K, embed_size)) for K in filter_sizes])\n",
        "        self.dropout = nn.Dropout(0.1)\n",
        "        self.fc1 = nn.Linear(len(filter_sizes)*num_filters, n_classes)\n",
        "        self.softmax = nn.LogSoftmax(dim=1)\n",
        "\n",
        "    def forward(self, x):\n",
        "        x = self.embedding(x)\n",
        "        # print(x.size())\n",
        "        x = x.unsqueeze(1)\n",
        "        x = [F.relu(conv(x)).squeeze(3) for conv in self.convs1]\n",
        "        x = [F.max_pool1d(i, i.size(2)).squeeze(2) for i in x]\n",
        "        x = torch.cat(x, 1)\n",
        "        x = self.dropout(x)\n",
        "        logit = self.softmax(self.fc1(x))\n",
        "        return logit"
      ]
    },
    {
      "cell_type": "code",
      "execution_count": 20,
      "metadata": {
        "colab": {
          "base_uri": "https://localhost:8080/"
        },
        "id": "A1ni32evDg5K",
        "outputId": "2a8f014e-6806-4684-f5c9-7f65b0443909"
      },
      "outputs": [
        {
          "data": {
            "text/plain": [
              "device(type='cuda')"
            ]
          },
          "execution_count": 20,
          "metadata": {},
          "output_type": "execute_result"
        }
      ],
      "source": [
        "device = torch.device(\"cuda\" if torch.cuda.is_available() else \"cpu\")\n",
        "device"
      ]
    },
    {
      "cell_type": "code",
      "execution_count": 21,
      "metadata": {
        "id": "brZEnE7yDg2z"
      },
      "outputs": [],
      "source": [
        "embed_size = embedding_matrix.shape[1]\n",
        "vocab_size = embedding_matrix.shape[0]\n",
        "num_classes = 2\n",
        "\n",
        "model = CNN_Model_TEXT(vocab_size, embed_size, embedding_matrix,num_classes)\n",
        "model.to(device)\n",
        "\n",
        "\n",
        "\n",
        "criterion = nn.CrossEntropyLoss() # weighted negative log likelihood loss\n",
        "optimizer = optim.Adam(model.parameters(), lr=0.001, weight_decay=0.0005)"
      ]
    },
    {
      "cell_type": "code",
      "execution_count": 22,
      "metadata": {
        "id": "7VnB4tG4Dg0F"
      },
      "outputs": [],
      "source": [
        "def training_loop(e, model,data_loader,valid_loader,criterion,optimizer):\n",
        "  import time\n",
        "  start_time = time.time()\n",
        "  num_epochs = e\n",
        "  train_loss = []\n",
        "  validation_loss = []\n",
        "  train_acc=[]\n",
        "  val_acc = []\n",
        "  for epoch in range(num_epochs):\n",
        "    running_loss = 0\n",
        "    running_acc=0\n",
        "    # Training loop\n",
        "    for idx, (sentence, label) in enumerate(iter(data_loader)):\n",
        "      sentence, label = sentence.to(device),torch.tensor(list(label)).to(device)\n",
        "      # Put the model into the training mode\n",
        "      model.train()\n",
        "      # Zero out any previously calculated gradients\n",
        "      optimizer.zero_grad()\n",
        "      # Feed forward\n",
        "      outputs = model(sentence)\n",
        "      # Calculate the batch loss and accuracy\n",
        "      pred = torch.argmax(outputs, dim=1)\n",
        "      running_acc += sum(pred==label).item() /len(label)\n",
        "      loss = criterion(outputs, label)\n",
        "      # Backward pass\n",
        "      loss.backward()\n",
        "      # Update the parameters in the optimize.\n",
        "      optimizer.step()\n",
        "      running_loss += loss.item()\n",
        "\n",
        "      # print(loss.item())\n",
        "    # validation\n",
        "    model.eval()\n",
        "    running_loss_valid = 0.0\n",
        "    running_acc_valid = 0.0\n",
        "    for jdx, (sentence, label) in enumerate(iter(valid_loader)):\n",
        "      sentence, label = sentence.to(device),torch.tensor(list(label)).to(device)\n",
        "      # Feed forward\n",
        "      outputs = model(sentence)\n",
        "      loss = criterion(outputs, label)\n",
        "      # Calculate the batch loss and accuracy\n",
        "      running_loss_valid += loss.item()\n",
        "      pred = torch.argmax(outputs, dim=1)\n",
        "      running_acc_valid += sum(pred==label).item()/len(label)\n",
        "    # print training and validation info\n",
        "    print(f'epoch: {epoch+1} -  train loss: {running_loss / (idx+1)} - validation loss: {running_loss_valid/(jdx+1)} - train acc = {running_acc/(idx+1)} - validation acc = {running_acc_valid/(jdx+1)}')\n",
        "    train_loss.append(running_loss / (idx+1))\n",
        "    validation_loss.append(running_loss_valid/(jdx+1))\n",
        "    train_acc.append(running_acc/(idx+1))\n",
        "    val_acc.append(running_acc_valid/(jdx+1))\n",
        "    # saving model\n",
        "    torch.save(model.cpu().state_dict(), 'final_model.pth')\n",
        "    model.to(device)\n",
        "\n",
        "  running_time = time.time()-start_time\n",
        "  print(f'training Finished in {running_time} seconds')\n",
        "  return train_loss,validation_loss,train_acc,val_acc"
      ]
    },
    {
      "cell_type": "code",
      "execution_count": 23,
      "metadata": {
        "colab": {
          "base_uri": "https://localhost:8080/"
        },
        "id": "3UarYtYcDgxl",
        "outputId": "e20a4683-9292-4390-a3af-f54f754b51bb"
      },
      "outputs": [
        {
          "name": "stdout",
          "output_type": "stream",
          "text": [
            "epoch: 1 -  train loss: 0.6842569654638117 - validation loss: 0.6647060513496399 - train acc = 0.5493047248803827 - validation acc = 0.5764705882352941\n",
            "epoch: 2 -  train loss: 0.6144132099368356 - validation loss: 0.6003327965736389 - train acc = 0.6759868421052632 - validation acc = 0.6588235294117647\n",
            "epoch: 3 -  train loss: 0.49651263518766925 - validation loss: 0.5224745869636536 - train acc = 0.7681388307416269 - validation acc = 0.7176470588235294\n",
            "epoch: 4 -  train loss: 0.3979940875010057 - validation loss: 0.5413777232170105 - train acc = 0.8285875822368421 - validation acc = 0.7529411764705882\n",
            "epoch: 5 -  train loss: 0.31844946267929947 - validation loss: 0.5759571194648743 - train acc = 0.8751822293660286 - validation acc = 0.7058823529411765\n",
            "training Finished in 42.490407943725586 seconds\n"
          ]
        }
      ],
      "source": [
        "train_loss,validation_loss,train_acc,val_acc=training_loop(5,model,data_loader_Trianset,data_loader_Val,criterion,optimizer)"
      ]
    },
    {
      "cell_type": "code",
      "execution_count": 24,
      "metadata": {
        "id": "zDzlKVYpD6Xw"
      },
      "outputs": [],
      "source": [
        "def Evaluate(model,test_loader):\n",
        "  y_pred= []\n",
        "  y_label=[]\n",
        "  with torch.no_grad():\n",
        "    for jdx, (sentence, label) in enumerate(iter(test_loader)):\n",
        "      sentence, label = sentence.to(device),torch.tensor(list(label)).to(device)\n",
        "      # Feed forward\n",
        "      outputs = model(sentence)\n",
        "      pred = torch.argmax(outputs, dim=1)\n",
        "      for i in range(len(label)):\n",
        "        y_pred.append(pred[i].item())\n",
        "        y_label.append(label[i].item())\n",
        "  print(classification_report(y_label, y_pred))\n",
        "  print(f'''Accuracy: {round(accuracy_score(y_label, y_pred, normalize=True),6)}\n",
        "  \\nPrecision:{round(precision_score(y_label, y_pred, average='macro'),6)}\n",
        "  \\nRecall: {round(recall_score(y_label, y_pred, average='macro'),6)}\n",
        "  \\nF1 score: {round(f1_score(y_label, y_pred, average='macro'),6)}''')"
      ]
    },
    {
      "cell_type": "code",
      "execution_count": 25,
      "metadata": {
        "colab": {
          "base_uri": "https://localhost:8080/"
        },
        "id": "7t-DtTSE4YTz",
        "outputId": "734ccc1b-80af-4dd6-a698-8d82149f6cf6"
      },
      "outputs": [
        {
          "name": "stdout",
          "output_type": "stream",
          "text": [
            "              precision    recall  f1-score   support\n",
            "\n",
            "           0       0.73      0.76      0.75      1156\n",
            "           1       0.77      0.74      0.75      1227\n",
            "\n",
            "    accuracy                           0.75      2383\n",
            "   macro avg       0.75      0.75      0.75      2383\n",
            "weighted avg       0.75      0.75      0.75      2383\n",
            "\n",
            "Accuracy: 0.751154\n",
            "  \n",
            "Precision:0.751321\n",
            "  \n",
            "Recall: 0.751521\n",
            "  \n",
            "F1 score: 0.751129\n"
          ]
        }
      ],
      "source": [
        "Evaluate(model,test_loader)"
      ]
    },
    {
      "cell_type": "code",
      "execution_count": 26,
      "metadata": {
        "id": "vNrcoLN7I-ya"
      },
      "outputs": [],
      "source": [
        "embed_size_ = embedding_matrix.shape[1]\n",
        "vocab_size_ = embedding_matrix.shape[0]\n",
        "num_classes_ = 3\n",
        "\n",
        "model_General_comment = CNN_Model_TEXT(vocab_size_, embed_size_, embedding_matrix,num_classes_)\n",
        "\n",
        "model_General_comment.to(device)\n",
        "criterion = nn.CrossEntropyLoss(weight=torch.tensor(list(class_weights_related.values())).float().to(device))\n",
        "optimizer = optim.Adam(model_General_comment.parameters(), lr=0.0001, weight_decay=0.0005)"
      ]
    },
    {
      "cell_type": "code",
      "execution_count": 27,
      "metadata": {
        "colab": {
          "base_uri": "https://localhost:8080/"
        },
        "id": "2-Q8ewh14fa7",
        "outputId": "253ad92d-d068-4cad-c516-6d86483e065d"
      },
      "outputs": [
        {
          "name": "stdout",
          "output_type": "stream",
          "text": [
            "epoch: 1 -  train loss: 1.0975790240547874 - validation loss: 1.0947635173797607 - train acc = 0.2430259921981004 - validation acc = 0.24705882352941178\n",
            "epoch: 2 -  train loss: 1.0944092056967996 - validation loss: 1.092331051826477 - train acc = 0.4289587220149254 - validation acc = 0.4823529411764706\n",
            "epoch: 3 -  train loss: 1.091740077192133 - validation loss: 1.089979648590088 - train acc = 0.4149147727272728 - validation acc = 0.4588235294117647\n",
            "epoch: 4 -  train loss: 1.0890755653381348 - validation loss: 1.088133692741394 - train acc = 0.46321393741519673 - validation acc = 0.4588235294117647\n",
            "epoch: 5 -  train loss: 1.086642330343073 - validation loss: 1.0856589078903198 - train acc = 0.4803966672320217 - validation acc = 0.47058823529411764\n",
            "epoch: 6 -  train loss: 1.0841818072579124 - validation loss: 1.0833202600479126 - train acc = 0.47832958785617363 - validation acc = 0.47058823529411764\n",
            "epoch: 7 -  train loss: 1.0810990116812966 - validation loss: 1.0812604427337646 - train acc = 0.48325771709633647 - validation acc = 0.4470588235294118\n",
            "epoch: 8 -  train loss: 1.0785764780911533 - validation loss: 1.0791184902191162 - train acc = 0.47878858548168246 - validation acc = 0.4470588235294118\n",
            "epoch: 9 -  train loss: 1.0756037343632092 - validation loss: 1.0768170356750488 - train acc = 0.4824335354477612 - validation acc = 0.4470588235294118\n",
            "epoch: 10 -  train loss: 1.0726100639863447 - validation loss: 1.0746217966079712 - train acc = 0.48239007377883314 - validation acc = 0.4470588235294118\n",
            "epoch: 11 -  train loss: 1.0688850988041272 - validation loss: 1.0724979639053345 - train acc = 0.48683217435549525 - validation acc = 0.4588235294117647\n",
            "epoch: 12 -  train loss: 1.065059239214117 - validation loss: 1.0706044435501099 - train acc = 0.49437012381275447 - validation acc = 0.4588235294117647\n",
            "epoch: 13 -  train loss: 1.061040921644731 - validation loss: 1.068474531173706 - train acc = 0.4940081199118046 - validation acc = 0.43529411764705883\n",
            "epoch: 14 -  train loss: 1.0573777718977495 - validation loss: 1.0664966106414795 - train acc = 0.5018577213364993 - validation acc = 0.4470588235294118\n",
            "epoch: 15 -  train loss: 1.0519997856833718 - validation loss: 1.0647573471069336 - train acc = 0.5108293758480326 - validation acc = 0.4588235294117647\n",
            "epoch: 16 -  train loss: 1.0482664758508855 - validation loss: 1.062502384185791 - train acc = 0.5181828782225237 - validation acc = 0.4588235294117647\n",
            "epoch: 17 -  train loss: 1.0425355326045642 - validation loss: 1.0607166290283203 - train acc = 0.5210004664179104 - validation acc = 0.4588235294117647\n",
            "epoch: 18 -  train loss: 1.0364192724227905 - validation loss: 1.0591979026794434 - train acc = 0.528042316824966 - validation acc = 0.4588235294117647\n",
            "epoch: 19 -  train loss: 1.0303645133972168 - validation loss: 1.0573478937149048 - train acc = 0.5341529214721845 - validation acc = 0.4823529411764706\n",
            "epoch: 20 -  train loss: 1.0225566842339255 - validation loss: 1.0556743144989014 - train acc = 0.5462469258819539 - validation acc = 0.47058823529411764\n",
            "epoch: 21 -  train loss: 1.0148259292949329 - validation loss: 1.0539454221725464 - train acc = 0.5536608505766621 - validation acc = 0.4823529411764706\n",
            "epoch: 22 -  train loss: 1.0060263817960566 - validation loss: 1.0519548654556274 - train acc = 0.5615973753392131 - validation acc = 0.49411764705882355\n",
            "epoch: 23 -  train loss: 0.9955908168445934 - validation loss: 1.049750566482544 - train acc = 0.5693462728968792 - validation acc = 0.4823529411764706\n",
            "epoch: 24 -  train loss: 0.9855591817335649 - validation loss: 1.0475690364837646 - train acc = 0.5759561567164179 - validation acc = 0.4823529411764706\n",
            "epoch: 25 -  train loss: 0.9726075584238226 - validation loss: 1.0454500913619995 - train acc = 0.5949446658751696 - validation acc = 0.4588235294117647\n",
            "epoch: 26 -  train loss: 0.9603524316440929 - validation loss: 1.0437475442886353 - train acc = 0.5983617070895523 - validation acc = 0.4470588235294118\n",
            "epoch: 27 -  train loss: 0.9442420601844788 - validation loss: 1.042963981628418 - train acc = 0.6120304019674356 - validation acc = 0.47058823529411764\n",
            "epoch: 28 -  train loss: 0.9292198419570923 - validation loss: 1.0414578914642334 - train acc = 0.6248044224898236 - validation acc = 0.47058823529411764\n",
            "epoch: 29 -  train loss: 0.9125086665153503 - validation loss: 1.0398606061935425 - train acc = 0.6330759201153324 - validation acc = 0.4470588235294118\n",
            "epoch: 30 -  train loss: 0.8939827463843606 - validation loss: 1.0401298999786377 - train acc = 0.6489892511872456 - validation acc = 0.4823529411764706\n",
            "epoch: 31 -  train loss: 0.8750250122763894 - validation loss: 1.040442705154419 - train acc = 0.6633310719131615 - validation acc = 0.47058823529411764\n",
            "epoch: 32 -  train loss: 0.8564872687513178 - validation loss: 1.043026089668274 - train acc = 0.6769828061397557 - validation acc = 0.5058823529411764\n",
            "epoch: 33 -  train loss: 0.8374083367261019 - validation loss: 1.041519284248352 - train acc = 0.685013144504749 - validation acc = 0.4823529411764706\n",
            "epoch: 34 -  train loss: 0.816204699602994 - validation loss: 1.0479921102523804 - train acc = 0.7008559828697423 - validation acc = 0.5294117647058824\n",
            "epoch: 35 -  train loss: 0.7970069971951571 - validation loss: 1.044578194618225 - train acc = 0.7166182581411126 - validation acc = 0.5058823529411764\n",
            "epoch: 36 -  train loss: 0.7766352837735956 - validation loss: 1.0441464185714722 - train acc = 0.726819559871099 - validation acc = 0.5411764705882353\n",
            "epoch: 37 -  train loss: 0.7558916698802601 - validation loss: 1.0448497533798218 - train acc = 0.7405751780868386 - validation acc = 0.5529411764705883\n",
            "epoch: 38 -  train loss: 0.7345046726140109 - validation loss: 1.0435436964035034 - train acc = 0.7484078188602442 - validation acc = 0.5647058823529412\n",
            "epoch: 39 -  train loss: 0.7107931754805825 - validation loss: 1.0456345081329346 - train acc = 0.763329481852103 - validation acc = 0.5529411764705883\n",
            "epoch: 40 -  train loss: 0.6922182115641508 - validation loss: 1.0465388298034668 - train acc = 0.771530486770692 - validation acc = 0.5647058823529412\n",
            "epoch: 41 -  train loss: 0.6704600832679055 - validation loss: 1.0466431379318237 - train acc = 0.7854806224559023 - validation acc = 0.5647058823529412\n",
            "epoch: 42 -  train loss: 0.6493148261850531 - validation loss: 1.044138789176941 - train acc = 0.7949981979308006 - validation acc = 0.5294117647058824\n",
            "epoch: 43 -  train loss: 0.6263849789446051 - validation loss: 1.0419607162475586 - train acc = 0.8032797659430121 - validation acc = 0.5294117647058824\n",
            "epoch: 44 -  train loss: 0.60653540762988 - validation loss: 1.0437407493591309 - train acc = 0.8143921726594301 - validation acc = 0.5294117647058824\n",
            "epoch: 45 -  train loss: 0.5853318897160616 - validation loss: 1.0401304960250854 - train acc = 0.8258899041723201 - validation acc = 0.5294117647058824\n",
            "epoch: 46 -  train loss: 0.564874611117623 - validation loss: 1.0442562103271484 - train acc = 0.837796281377205 - validation acc = 0.5176470588235295\n",
            "epoch: 47 -  train loss: 0.5474793477491899 - validation loss: 1.0429060459136963 - train acc = 0.8458600110244233 - validation acc = 0.5058823529411764\n",
            "epoch: 48 -  train loss: 0.5254107415676117 - validation loss: 1.0453109741210938 - train acc = 0.8544230198439621 - validation acc = 0.5176470588235295\n",
            "epoch: 49 -  train loss: 0.5065897269682451 - validation loss: 1.0507090091705322 - train acc = 0.8650228968792402 - validation acc = 0.5058823529411764\n",
            "training Finished in 250.21635723114014 seconds\n"
          ]
        }
      ],
      "source": [
        "train_loss,validation_loss,train_acc,val_acc=training_loop(50,model_General_comment,data_loader_Relatedset,data_loader_Valrelated,criterion,optimizer)"
      ]
    },
    {
      "cell_type": "code",
      "execution_count": 28,
      "metadata": {
        "colab": {
          "base_uri": "https://localhost:8080/"
        },
        "id": "565hspa85h18",
        "outputId": "0a44b5f7-32e0-493a-a295-8b7ae6099a24"
      },
      "outputs": [
        {
          "name": "stdout",
          "output_type": "stream",
          "text": [
            "              precision    recall  f1-score   support\n",
            "\n",
            "           0       0.49      0.52      0.51       269\n",
            "           1       0.66      0.64      0.65       575\n",
            "           2       0.46      0.45      0.46       381\n",
            "\n",
            "    accuracy                           0.56      1225\n",
            "   macro avg       0.54      0.54      0.54      1225\n",
            "weighted avg       0.56      0.56      0.56      1225\n",
            "\n",
            "Accuracy: 0.557551\n",
            "  \n",
            "Precision:0.535779\n",
            "  \n",
            "Recall: 0.53999\n",
            "  \n",
            "F1 score: 0.537638\n"
          ]
        }
      ],
      "source": [
        "Evaluate(model_General_comment,test_loader_Related)"
      ]
    },
    {
      "cell_type": "code",
      "execution_count": 32,
      "metadata": {
        "id": "jz7rjVQXTbYe"
      },
      "outputs": [],
      "source": [
        "embed_size_ = embedding_matrix.shape[1]\n",
        "vocab_size_ = embedding_matrix.shape[0]\n",
        "num_classes_ = 3\n",
        "\n",
        "model_InRelationship = CNN_Model_TEXT(vocab_size_, embed_size_, embedding_matrix,num_classes_)\n",
        "\n",
        "model_InRelationship.to(device)\n",
        "criterion = nn.CrossEntropyLoss(weight=torch.tensor(list(weights.values())).float().to(device))\n",
        "optimizer = optim.Adam(model_InRelationship.parameters(), lr=0.001, weight_decay=0.00005)"
      ]
    },
    {
      "cell_type": "code",
      "execution_count": 30,
      "metadata": {
        "colab": {
          "base_uri": "https://localhost:8080/"
        },
        "id": "xmJvmwR25pAq",
        "outputId": "aecc22a8-f4c2-4d10-c046-8f777e1e3ec1"
      },
      "outputs": [
        {
          "name": "stdout",
          "output_type": "stream",
          "text": [
            "epoch: 1 -  train loss: 1.0866434249010952 - validation loss: 1.0665981769561768 - train acc = 0.5122662610244233 - validation acc = 0.49411764705882355\n",
            "epoch: 2 -  train loss: 1.020786632191051 - validation loss: 1.0393606424331665 - train acc = 0.5861744190976933 - validation acc = 0.7058823529411765\n",
            "epoch: 3 -  train loss: 0.8868551850318909 - validation loss: 0.9076188206672668 - train acc = 0.7495436524762552 - validation acc = 0.6588235294117647\n",
            "epoch: 4 -  train loss: 0.7094096107916399 - validation loss: 0.8663300275802612 - train acc = 0.7954974771031207 - validation acc = 0.7176470588235294\n",
            "epoch: 5 -  train loss: 0.5299023904583671 - validation loss: 1.028816819190979 - train acc = 0.8424933217435551 - validation acc = 0.7176470588235294\n",
            "epoch: 6 -  train loss: 0.3738304999741641 - validation loss: 0.9931901693344116 - train acc = 0.8971506105834464 - validation acc = 0.7294117647058823\n",
            "training Finished in 30.337883234024048 seconds\n"
          ]
        }
      ],
      "source": [
        "train_loss,validation_loss,train_acc,val_acc=training_loop(6,model_InRelationship,data_loader_InRelationship_Relatedset,data_loader_InRelationship_Valrelated,criterion,optimizer)"
      ]
    },
    {
      "cell_type": "code",
      "execution_count": 31,
      "metadata": {
        "colab": {
          "base_uri": "https://localhost:8080/"
        },
        "id": "5mpa1LHa5z8b",
        "outputId": "99ed1120-2311-4bd2-f72c-565a416065e7"
      },
      "outputs": [
        {
          "name": "stdout",
          "output_type": "stream",
          "text": [
            "              precision    recall  f1-score   support\n",
            "\n",
            "           0       0.84      0.81      0.83       650\n",
            "           1       0.20      0.29      0.24        51\n",
            "           2       0.79      0.79      0.79       524\n",
            "\n",
            "    accuracy                           0.78      1225\n",
            "   macro avg       0.61      0.63      0.62      1225\n",
            "weighted avg       0.79      0.78      0.79      1225\n",
            "\n",
            "Accuracy: 0.781224\n",
            "  \n",
            "Precision:0.611225\n",
            "  \n",
            "Recall: 0.632291\n",
            "  \n",
            "F1 score: 0.618664\n"
          ]
        }
      ],
      "source": [
        "Evaluate(model_InRelationship,test_loader_InRelationship_Related)"
      ]
    },
    {
      "cell_type": "code",
      "execution_count": 41,
      "metadata": {
        "id": "D6lnGrrLI-p6"
      },
      "outputs": [],
      "source": [
        "embed_size__ = embedding_matrix.shape[1]\n",
        "vocab_size__ = embedding_matrix.shape[0]\n",
        "num_classes__ = 3\n",
        "\n",
        "model_Specific_comment = CNN_Model_TEXT(vocab_size__, embed_size__, embedding_matrix,num_classes__)\n",
        "\n",
        "model_Specific_comment.to(device)\n",
        "\n",
        "\n",
        "criterion = nn.CrossEntropyLoss(ignore_index=0,weight=torch.tensor(list(class_weights_specific.values())).float().to(device)) # weighted negative log likelihood loss\n",
        "optimizer = optim.Adam(model_Specific_comment.parameters(),lr=0.0001, weight_decay=0.000005)"
      ]
    },
    {
      "cell_type": "code",
      "execution_count": 42,
      "metadata": {
        "colab": {
          "base_uri": "https://localhost:8080/"
        },
        "id": "GpJ4A52v6PGL",
        "outputId": "ca3f1cb4-6218-4800-e44d-a95db1209557"
      },
      "outputs": [
        {
          "name": "stdout",
          "output_type": "stream",
          "text": [
            "epoch: 1 -  train loss: 1.0774925231933594 - validation loss: 1.0437296628952026 - train acc = 0.3509375 - validation acc = 0.38823529411764707\n",
            "epoch: 2 -  train loss: 1.0274428129196167 - validation loss: 0.9999416470527649 - train acc = 0.34671875 - validation acc = 0.38823529411764707\n",
            "epoch: 3 -  train loss: 0.9837229609489441 - validation loss: 0.9602578282356262 - train acc = 0.3565625 - validation acc = 0.4235294117647059\n",
            "epoch: 4 -  train loss: 0.9435186147689819 - validation loss: 0.923900306224823 - train acc = 0.355 - validation acc = 0.3176470588235294\n",
            "epoch: 5 -  train loss: 0.90645991563797 - validation loss: 0.8910467028617859 - train acc = 0.32671875 - validation acc = 0.3176470588235294\n",
            "epoch: 6 -  train loss: 0.8741255283355713 - validation loss: 0.8621438145637512 - train acc = 0.3265625 - validation acc = 0.3176470588235294\n",
            "epoch: 7 -  train loss: 0.8425963878631592 - validation loss: 0.8367784023284912 - train acc = 0.327734375 - validation acc = 0.3176470588235294\n",
            "epoch: 8 -  train loss: 0.8190196871757507 - validation loss: 0.814801037311554 - train acc = 0.334609375 - validation acc = 0.3176470588235294\n",
            "epoch: 9 -  train loss: 0.7981663584709168 - validation loss: 0.7961373925209045 - train acc = 0.331015625 - validation acc = 0.3176470588235294\n",
            "epoch: 10 -  train loss: 0.7814829349517822 - validation loss: 0.7796956896781921 - train acc = 0.32804687499999996 - validation acc = 0.3176470588235294\n",
            "epoch: 11 -  train loss: 0.7660925269126893 - validation loss: 0.7657872438430786 - train acc = 0.341328125 - validation acc = 0.3176470588235294\n",
            "epoch: 12 -  train loss: 0.7510464429855347 - validation loss: 0.754240870475769 - train acc = 0.36171875 - validation acc = 0.3058823529411765\n",
            "epoch: 13 -  train loss: 0.7419955015182496 - validation loss: 0.7449922561645508 - train acc = 0.36328125 - validation acc = 0.3058823529411765\n",
            "epoch: 14 -  train loss: 0.733761727809906 - validation loss: 0.7372187972068787 - train acc = 0.37046875 - validation acc = 0.3176470588235294\n",
            "epoch: 15 -  train loss: 0.7245549321174621 - validation loss: 0.7314664721488953 - train acc = 0.388984375 - validation acc = 0.3176470588235294\n",
            "epoch: 16 -  train loss: 0.7197120785713196 - validation loss: 0.7265998125076294 - train acc = 0.38851562500000003 - validation acc = 0.3176470588235294\n",
            "epoch: 17 -  train loss: 0.716899859905243 - validation loss: 0.721950352191925 - train acc = 0.37171875 - validation acc = 0.29411764705882354\n",
            "epoch: 18 -  train loss: 0.7068250894546508 - validation loss: 0.7184840440750122 - train acc = 0.398828125 - validation acc = 0.29411764705882354\n",
            "epoch: 19 -  train loss: 0.701378345489502 - validation loss: 0.7154441475868225 - train acc = 0.41328125 - validation acc = 0.29411764705882354\n",
            "epoch: 20 -  train loss: 0.6978121757507324 - validation loss: 0.7131284475326538 - train acc = 0.414453125 - validation acc = 0.2823529411764706\n",
            "epoch: 21 -  train loss: 0.6956747889518737 - validation loss: 0.7109196782112122 - train acc = 0.412578125 - validation acc = 0.3058823529411765\n",
            "epoch: 22 -  train loss: 0.6929626107215882 - validation loss: 0.7089701890945435 - train acc = 0.408046875 - validation acc = 0.3176470588235294\n",
            "epoch: 23 -  train loss: 0.690296733379364 - validation loss: 0.7074252963066101 - train acc = 0.42164062500000005 - validation acc = 0.3058823529411765\n",
            "epoch: 24 -  train loss: 0.6841400861740112 - validation loss: 0.7056252360343933 - train acc = 0.43359375 - validation acc = 0.35294117647058826\n",
            "epoch: 25 -  train loss: 0.6837917566299438 - validation loss: 0.7048529982566833 - train acc = 0.42992187499999995 - validation acc = 0.3176470588235294\n",
            "epoch: 26 -  train loss: 0.6806782007217407 - validation loss: 0.7033470869064331 - train acc = 0.440546875 - validation acc = 0.3176470588235294\n",
            "epoch: 27 -  train loss: 0.6768521666526794 - validation loss: 0.7023586630821228 - train acc = 0.44171875 - validation acc = 0.3058823529411765\n",
            "epoch: 28 -  train loss: 0.6706973075866699 - validation loss: 0.7008944153785706 - train acc = 0.468359375 - validation acc = 0.35294117647058826\n",
            "epoch: 29 -  train loss: 0.666996955871582 - validation loss: 0.6993806958198547 - train acc = 0.462265625 - validation acc = 0.4\n",
            "epoch: 30 -  train loss: 0.6644694566726684 - validation loss: 0.6994382739067078 - train acc = 0.47468750000000004 - validation acc = 0.3176470588235294\n",
            "epoch: 31 -  train loss: 0.6609042763710022 - validation loss: 0.6985853314399719 - train acc = 0.47992187499999994 - validation acc = 0.32941176470588235\n",
            "epoch: 32 -  train loss: 0.6576129198074341 - validation loss: 0.6972774863243103 - train acc = 0.476875 - validation acc = 0.3411764705882353\n",
            "epoch: 33 -  train loss: 0.6583599925041199 - validation loss: 0.6959356069564819 - train acc = 0.487109375 - validation acc = 0.38823529411764707\n",
            "epoch: 34 -  train loss: 0.6482805371284485 - validation loss: 0.6950336694717407 - train acc = 0.5064062500000001 - validation acc = 0.38823529411764707\n",
            "epoch: 35 -  train loss: 0.6464544653892517 - validation loss: 0.6948797702789307 - train acc = 0.50546875 - validation acc = 0.3411764705882353\n",
            "epoch: 36 -  train loss: 0.6372758984565735 - validation loss: 0.6939092874526978 - train acc = 0.52421875 - validation acc = 0.3411764705882353\n",
            "epoch: 37 -  train loss: 0.6355563402175903 - validation loss: 0.6924893260002136 - train acc = 0.5276562499999999 - validation acc = 0.4\n",
            "epoch: 38 -  train loss: 0.6311110973358154 - validation loss: 0.6922271847724915 - train acc = 0.52609375 - validation acc = 0.3764705882352941\n",
            "epoch: 39 -  train loss: 0.6218243956565856 - validation loss: 0.6912443041801453 - train acc = 0.54375 - validation acc = 0.3764705882352941\n",
            "epoch: 40 -  train loss: 0.6184720039367676 - validation loss: 0.6911112070083618 - train acc = 0.545859375 - validation acc = 0.3764705882352941\n",
            "epoch: 41 -  train loss: 0.6074923634529114 - validation loss: 0.689539909362793 - train acc = 0.5704687500000001 - validation acc = 0.4235294117647059\n",
            "epoch: 42 -  train loss: 0.6005370259284973 - validation loss: 0.6886789798736572 - train acc = 0.570234375 - validation acc = 0.4235294117647059\n",
            "epoch: 43 -  train loss: 0.5940585970878601 - validation loss: 0.6884677410125732 - train acc = 0.5740624999999999 - validation acc = 0.38823529411764707\n",
            "epoch: 44 -  train loss: 0.584566617012024 - validation loss: 0.689360499382019 - train acc = 0.585703125 - validation acc = 0.3764705882352941\n",
            "epoch: 45 -  train loss: 0.5788549304008483 - validation loss: 0.6875787973403931 - train acc = 0.5884375000000001 - validation acc = 0.38823529411764707\n",
            "epoch: 46 -  train loss: 0.5672027826309204 - validation loss: 0.6873961687088013 - train acc = 0.598046875 - validation acc = 0.4\n",
            "epoch: 47 -  train loss: 0.5508399248123169 - validation loss: 0.6868943572044373 - train acc = 0.60640625 - validation acc = 0.38823529411764707\n",
            "epoch: 48 -  train loss: 0.5439952135086059 - validation loss: 0.6864774823188782 - train acc = 0.613515625 - validation acc = 0.4\n",
            "epoch: 49 -  train loss: 0.5294192790985107 - validation loss: 0.6874371767044067 - train acc = 0.623046875 - validation acc = 0.3764705882352941\n",
            "epoch: 50 -  train loss: 0.5196933507919311 - validation loss: 0.6866818070411682 - train acc = 0.6212500000000001 - validation acc = 0.38823529411764707\n",
            "epoch: 51 -  train loss: 0.5052675604820251 - validation loss: 0.6866925954818726 - train acc = 0.622421875 - validation acc = 0.4235294117647059\n",
            "epoch: 52 -  train loss: 0.49216280579566957 - validation loss: 0.6875115036964417 - train acc = 0.6310156250000001 - validation acc = 0.4117647058823529\n",
            "epoch: 53 -  train loss: 0.476639050245285 - validation loss: 0.6900553703308105 - train acc = 0.639296875 - validation acc = 0.3764705882352941\n",
            "epoch: 54 -  train loss: 0.4588826060295105 - validation loss: 0.6923251748085022 - train acc = 0.633828125 - validation acc = 0.36470588235294116\n",
            "epoch: 55 -  train loss: 0.4440491616725922 - validation loss: 0.6950942873954773 - train acc = 0.640546875 - validation acc = 0.3764705882352941\n",
            "epoch: 56 -  train loss: 0.43258960247039796 - validation loss: 0.6966493725776672 - train acc = 0.64234375 - validation acc = 0.3764705882352941\n",
            "epoch: 57 -  train loss: 0.41404215097427366 - validation loss: 0.6981369853019714 - train acc = 0.64234375 - validation acc = 0.38823529411764707\n",
            "epoch: 58 -  train loss: 0.3988306522369385 - validation loss: 0.7031724452972412 - train acc = 0.63828125 - validation acc = 0.38823529411764707\n",
            "epoch: 59 -  train loss: 0.37705388069152834 - validation loss: 0.7083001136779785 - train acc = 0.654375 - validation acc = 0.38823529411764707\n",
            "epoch: 60 -  train loss: 0.36135789155960085 - validation loss: 0.7118194699287415 - train acc = 0.6498437499999999 - validation acc = 0.38823529411764707\n",
            "epoch: 61 -  train loss: 0.34846711754798887 - validation loss: 0.7173970341682434 - train acc = 0.653203125 - validation acc = 0.38823529411764707\n",
            "epoch: 63 -  train loss: 0.3188499093055725 - validation loss: 0.727304995059967 - train acc = 0.654375 - validation acc = 0.38823529411764707\n",
            "epoch: 64 -  train loss: 0.3003189504146576 - validation loss: 0.7360016703605652 - train acc = 0.6540625 - validation acc = 0.38823529411764707\n",
            "epoch: 65 -  train loss: 0.28032594323158266 - validation loss: 0.7443364262580872 - train acc = 0.659921875 - validation acc = 0.38823529411764707\n",
            "epoch: 66 -  train loss: 0.27040850520133974 - validation loss: 0.7498509287834167 - train acc = 0.6599999999999999 - validation acc = 0.3764705882352941\n",
            "epoch: 67 -  train loss: 0.2544760763645172 - validation loss: 0.7559797167778015 - train acc = 0.6528906250000001 - validation acc = 0.38823529411764707\n",
            "epoch: 68 -  train loss: 0.2437595933675766 - validation loss: 0.7656567692756653 - train acc = 0.6578906250000001 - validation acc = 0.3764705882352941\n",
            "epoch: 69 -  train loss: 0.2301178067922592 - validation loss: 0.7771896719932556 - train acc = 0.663984375 - validation acc = 0.3764705882352941\n",
            "epoch: 70 -  train loss: 0.21685695946216582 - validation loss: 0.7879478931427002 - train acc = 0.6624218749999999 - validation acc = 0.3764705882352941\n",
            "epoch: 71 -  train loss: 0.20452883541584016 - validation loss: 0.7981876730918884 - train acc = 0.667109375 - validation acc = 0.3764705882352941\n",
            "epoch: 72 -  train loss: 0.1976529836654663 - validation loss: 0.807392954826355 - train acc = 0.6583593750000001 - validation acc = 0.3764705882352941\n",
            "epoch: 73 -  train loss: 0.1832929790019989 - validation loss: 0.8163220286369324 - train acc = 0.665390625 - validation acc = 0.3764705882352941\n",
            "epoch: 74 -  train loss: 0.1717183619737625 - validation loss: 0.8264991641044617 - train acc = 0.66140625 - validation acc = 0.38823529411764707\n",
            "epoch: 75 -  train loss: 0.16342888474464418 - validation loss: 0.8363272547721863 - train acc = 0.665234375 - validation acc = 0.38823529411764707\n",
            "epoch: 76 -  train loss: 0.15737748742103577 - validation loss: 0.848960816860199 - train acc = 0.664140625 - validation acc = 0.38823529411764707\n",
            "epoch: 77 -  train loss: 0.14708107113838195 - validation loss: 0.8598406314849854 - train acc = 0.669921875 - validation acc = 0.38823529411764707\n",
            "epoch: 78 -  train loss: 0.1383993923664093 - validation loss: 0.8700651526451111 - train acc = 0.6700781250000001 - validation acc = 0.3764705882352941\n",
            "epoch: 79 -  train loss: 0.12995433658361435 - validation loss: 0.8790498971939087 - train acc = 0.6684375 - validation acc = 0.3764705882352941\n",
            "epoch: 80 -  train loss: 0.12446428388357163 - validation loss: 0.8881576061248779 - train acc = 0.6654687499999999 - validation acc = 0.3764705882352941\n",
            "epoch: 81 -  train loss: 0.11882312446832657 - validation loss: 0.8980455994606018 - train acc = 0.66875 - validation acc = 0.3764705882352941\n",
            "epoch: 82 -  train loss: 0.11134493052959442 - validation loss: 0.90887051820755 - train acc = 0.66984375 - validation acc = 0.38823529411764707\n",
            "epoch: 83 -  train loss: 0.10350789427757263 - validation loss: 0.9190873503684998 - train acc = 0.671953125 - validation acc = 0.38823529411764707\n",
            "epoch: 84 -  train loss: 0.10022442787885666 - validation loss: 0.9280746579170227 - train acc = 0.667890625 - validation acc = 0.3764705882352941\n",
            "epoch: 85 -  train loss: 0.09578637182712554 - validation loss: 0.936542809009552 - train acc = 0.6735156250000001 - validation acc = 0.3764705882352941\n",
            "epoch: 86 -  train loss: 0.08957109004259109 - validation loss: 0.9464491009712219 - train acc = 0.66875 - validation acc = 0.3764705882352941\n",
            "epoch: 87 -  train loss: 0.08651594966650009 - validation loss: 0.9554360508918762 - train acc = 0.668046875 - validation acc = 0.3764705882352941\n",
            "epoch: 88 -  train loss: 0.08109457045793533 - validation loss: 0.9665167927742004 - train acc = 0.671640625 - validation acc = 0.3764705882352941\n",
            "epoch: 89 -  train loss: 0.0774635598063469 - validation loss: 0.9775581359863281 - train acc = 0.6684375 - validation acc = 0.3764705882352941\n",
            "epoch: 90 -  train loss: 0.07405938357114791 - validation loss: 0.9842131733894348 - train acc = 0.672109375 - validation acc = 0.3764705882352941\n",
            "epoch: 91 -  train loss: 0.07074795663356781 - validation loss: 0.9913392066955566 - train acc = 0.669296875 - validation acc = 0.3764705882352941\n",
            "epoch: 92 -  train loss: 0.06590042114257813 - validation loss: 0.9988765120506287 - train acc = 0.67125 - validation acc = 0.38823529411764707\n",
            "epoch: 93 -  train loss: 0.06297074183821678 - validation loss: 1.007022738456726 - train acc = 0.673203125 - validation acc = 0.38823529411764707\n",
            "epoch: 94 -  train loss: 0.06036368608474731 - validation loss: 1.0143508911132812 - train acc = 0.671171875 - validation acc = 0.38823529411764707\n",
            "epoch: 95 -  train loss: 0.058605103939771655 - validation loss: 1.0237382650375366 - train acc = 0.6735156250000001 - validation acc = 0.38823529411764707\n",
            "epoch: 96 -  train loss: 0.05529670938849449 - validation loss: 1.0325093269348145 - train acc = 0.67078125 - validation acc = 0.38823529411764707\n",
            "epoch: 97 -  train loss: 0.05257773920893669 - validation loss: 1.041528344154358 - train acc = 0.668359375 - validation acc = 0.38823529411764707\n",
            "epoch: 98 -  train loss: 0.050061315298080444 - validation loss: 1.0497549772262573 - train acc = 0.673046875 - validation acc = 0.38823529411764707\n",
            "epoch: 99 -  train loss: 0.04987553358078003 - validation loss: 1.0576938390731812 - train acc = 0.6713281249999999 - validation acc = 0.38823529411764707\n",
            "epoch: 100 -  train loss: 0.04798444658517838 - validation loss: 1.066523790359497 - train acc = 0.6740625 - validation acc = 0.38823529411764707\n",
            "epoch: 101 -  train loss: 0.044935624301433566 - validation loss: 1.0750313997268677 - train acc = 0.67515625 - validation acc = 0.38823529411764707\n",
            "epoch: 102 -  train loss: 0.04362894669175148 - validation loss: 1.0833698511123657 - train acc = 0.6696875 - validation acc = 0.38823529411764707\n",
            "epoch: 103 -  train loss: 0.043161986768245696 - validation loss: 1.0908786058425903 - train acc = 0.6709375 - validation acc = 0.38823529411764707\n",
            "epoch: 104 -  train loss: 0.038862564414739606 - validation loss: 1.0993385314941406 - train acc = 0.671484375 - validation acc = 0.38823529411764707\n",
            "epoch: 105 -  train loss: 0.03775445520877838 - validation loss: 1.1072198152542114 - train acc = 0.670703125 - validation acc = 0.38823529411764707\n",
            "epoch: 106 -  train loss: 0.037144504487514496 - validation loss: 1.1155239343643188 - train acc = 0.674453125 - validation acc = 0.38823529411764707\n",
            "epoch: 107 -  train loss: 0.03655080758035183 - validation loss: 1.1224836111068726 - train acc = 0.6753125 - validation acc = 0.4\n",
            "epoch: 108 -  train loss: 0.033915667235851286 - validation loss: 1.1292484998703003 - train acc = 0.67015625 - validation acc = 0.4\n",
            "epoch: 109 -  train loss: 0.03285864219069481 - validation loss: 1.134829044342041 - train acc = 0.66984375 - validation acc = 0.4\n",
            "epoch: 110 -  train loss: 0.03142477311193943 - validation loss: 1.1399873495101929 - train acc = 0.675390625 - validation acc = 0.38823529411764707\n",
            "epoch: 111 -  train loss: 0.03146267160773277 - validation loss: 1.1469497680664062 - train acc = 0.6741406249999999 - validation acc = 0.38823529411764707\n",
            "epoch: 112 -  train loss: 0.029261584952473642 - validation loss: 1.154693603515625 - train acc = 0.672265625 - validation acc = 0.38823529411764707\n",
            "epoch: 113 -  train loss: 0.02877941504120827 - validation loss: 1.1629043817520142 - train acc = 0.6741406249999999 - validation acc = 0.38823529411764707\n",
            "epoch: 114 -  train loss: 0.028217167779803275 - validation loss: 1.168990969657898 - train acc = 0.67109375 - validation acc = 0.4\n",
            "epoch: 115 -  train loss: 0.026722588390111924 - validation loss: 1.1772069931030273 - train acc = 0.6759375000000001 - validation acc = 0.4\n",
            "epoch: 116 -  train loss: 0.02585109546780586 - validation loss: 1.184574007987976 - train acc = 0.6739843750000001 - validation acc = 0.4\n",
            "epoch: 117 -  train loss: 0.02472950629889965 - validation loss: 1.19098699092865 - train acc = 0.6746875 - validation acc = 0.4\n",
            "epoch: 118 -  train loss: 0.024491529911756516 - validation loss: 1.1970628499984741 - train acc = 0.672890625 - validation acc = 0.4\n",
            "epoch: 119 -  train loss: 0.024327506870031358 - validation loss: 1.2038133144378662 - train acc = 0.6713281249999999 - validation acc = 0.4\n",
            "epoch: 120 -  train loss: 0.02260116711258888 - validation loss: 1.2098420858383179 - train acc = 0.672890625 - validation acc = 0.4\n",
            "training Finished in 472.5395827293396 seconds\n"
          ]
        }
      ],
      "source": [
        "train_loss_,validation_loss_,train_acc_,val_acc_=training_loop(120,model_Specific_comment,data_loader_Specific_set,data_loader_Valspecific,criterion,optimizer)\n"
      ]
    },
    {
      "cell_type": "code",
      "execution_count": 43,
      "metadata": {
        "colab": {
          "base_uri": "https://localhost:8080/"
        },
        "id": "DxLplcMP8jmi",
        "outputId": "7470162f-7ce7-45d7-b93a-dede724c3d5f"
      },
      "outputs": [
        {
          "name": "stdout",
          "output_type": "stream",
          "text": [
            "              precision    recall  f1-score   support\n",
            "\n",
            "           0       0.00      0.00      0.00       171\n",
            "           1       0.42      0.61      0.50       181\n",
            "           2       0.43      0.62      0.51       195\n",
            "\n",
            "    accuracy                           0.42       547\n",
            "   macro avg       0.28      0.41      0.33       547\n",
            "weighted avg       0.29      0.42      0.34       547\n",
            "\n",
            "Accuracy: 0.422303\n",
            "  \n",
            "Precision:0.281436\n",
            "  \n",
            "Recall: 0.409416\n",
            "  \n",
            "F1 score: 0.333572\n"
          ]
        }
      ],
      "source": [
        "Evaluate(model_Specific_comment,test_loader_Specific)"
      ]
    },
    {
      "cell_type": "code",
      "execution_count": 44,
      "metadata": {
        "id": "CgvZQq6LD6SI"
      },
      "outputs": [],
      "source": [
        "class BiLSTM(nn.Module):\n",
        "\n",
        "    def __init__(self,max_features, embed_size, embedding_matrix, num_classes, hidden_size):\n",
        "        super(BiLSTM, self).__init__()\n",
        "        self.hidden_size = hidden_size\n",
        "        drp = 0.5\n",
        "        self.embedding = nn.Embedding(max_features, embed_size)\n",
        "        self.embedding.weight = nn.Parameter(torch.tensor(embedding_matrix, dtype=torch.float32))\n",
        "        self.embedding.weight.requires_grad = True\n",
        "        self.lstm = nn.LSTM(embed_size, self.hidden_size, bidirectional=True, batch_first=True)\n",
        "        self.linear = nn.Linear(self.hidden_size*4 , 32)\n",
        "        self.relu = nn.ReLU()\n",
        "        self.dropout = nn.Dropout(drp)\n",
        "        self.out = nn.Linear(32, num_classes)\n",
        "        self.softmax = nn.LogSoftmax(dim=1)\n",
        "\n",
        "\n",
        "    def forward(self, x):\n",
        "        h_embedding = self.embedding(x)\n",
        "        h_embedding = torch.squeeze(torch.unsqueeze(h_embedding, 0))\n",
        "\n",
        "        h_lstm, _ = self.lstm(h_embedding)\n",
        "        avg_pool = torch.mean(h_lstm, 1)\n",
        "        max_pool, _ = torch.max(h_lstm, 1)\n",
        "        conc = torch.cat(( avg_pool, max_pool), 1)\n",
        "        conc = self.relu(self.linear(conc))\n",
        "        conc = self.dropout(conc)\n",
        "        out = self.out(conc)\n",
        "        out = self.softmax(out)\n",
        "        return out"
      ]
    },
    {
      "cell_type": "code",
      "execution_count": 45,
      "metadata": {
        "id": "bdoNJw5ED6Po"
      },
      "outputs": [],
      "source": [
        "def training_loop_(e, model,data_loader,valid_loader,criterion,optimizer):\n",
        "# number of epochs to train the model\n",
        "    import time\n",
        "    start_time = time.time()\n",
        "    n_epochs = e\n",
        "   # test_loss_min = np.Inf # track change in validation loss\n",
        "    train_acc=[]\n",
        "    val_acc = []\n",
        "    for epoch in range(n_epochs):\n",
        "\n",
        "        # keep track of training and validation loss\n",
        "        train_loss = 0.0\n",
        "        test_loss = 0.0\n",
        "\n",
        "        ###################\n",
        "        # train the model #\n",
        "        ###################\n",
        "        model.train()\n",
        "        running_acc=0\n",
        "        for i, (data, target) in enumerate(data_loader):\n",
        "            # move tensors to GPU if CUDA is available\n",
        "            target = torch.tensor([[t] for t in target])\n",
        "            data, target = data.to(device),torch.tensor(list(target)).to(device)\n",
        "            # clear the gradients of all optimized variables\n",
        "            optimizer.zero_grad()\n",
        "            # forward pass: compute predicted outputs by passing inputs to the model\n",
        "            output = model(data)\n",
        "            # calculate the batch loss\n",
        "            # target = target.Long()\n",
        "            loss = criterion(output, target)\n",
        "            y_pred = torch.round(torch.sigmoid(output))\n",
        "            output =  torch.argmax(output, dim=1).float()\n",
        "\n",
        "            running_acc += torch.round((((output == target).sum().float() /len(target))) * 100)\n",
        "            # backward pass: compute gradient of the loss with respect to model parameters\n",
        "            loss.backward()\n",
        "            # perform a single optimization step (parameter update)\n",
        "            optimizer.step()\n",
        "            # update training loss\n",
        "            train_loss += loss.item()\n",
        "\n",
        "        ######################\n",
        "        # validate the model #\n",
        "        ######################\n",
        "        model.eval()\n",
        "        running_acc_valid = 0.0\n",
        "        for j,(data, target) in enumerate(valid_loader):\n",
        "            # target = target.unsqueeze(1)\n",
        "            target = torch.tensor([[t] for t in target])\n",
        "            data, target = data.to(device),torch.tensor(list(target)).to(device)\n",
        "            # forward pass: compute predicted outputs by passing inputs to the model\n",
        "            output = model(data)\n",
        "            # calculate the batch loss\n",
        "            loss = criterion(output, target)\n",
        "            output =  torch.argmax(output, dim=1).float()\n",
        "            running_acc_valid += torch.round((((output == target).sum().float() /len(target))) * 100)\n",
        "            #break\n",
        "            # update average validation loss\n",
        "            test_loss += loss.item()\n",
        "\n",
        "        # calculate average losses\n",
        "        print(f'epoch: {epoch+1} -  train loss: {train_loss / (i+1)} - validation loss: {test_loss/(j+1)} - train acc = {running_acc/(i+1)} - validation acc = {running_acc_valid/(j+1)}')\n",
        "\n",
        "        train_loss = train_loss/len(data_loader)\n",
        "        test_loss = test_loss/len(valid_loader)\n",
        "        train_acc.append(running_acc/(i+1))\n",
        "        val_acc.append(running_acc_valid/(j+1))\n",
        "        torch.save(model.cpu().state_dict(), 'final_model.pth')\n",
        "        model.to(device)\n",
        "\n",
        "    running_time = time.time()-start_time\n",
        "    print(f'training Finished in {running_time} seconds')\n",
        "    return train_loss,test_loss,train_acc,val_acc"
      ]
    },
    {
      "cell_type": "code",
      "execution_count": 46,
      "metadata": {
        "id": "GER2ROYWD6NM"
      },
      "outputs": [],
      "source": [
        "embed_size = embedding_matrix.shape[1]\n",
        "vocab_size = embedding_matrix.shape[0]\n",
        "num_classes = 2\n",
        "\n",
        "model_Relevance_Bilstm = BiLSTM(vocab_size, embed_size, embedding_matrix,num_classes,10)\n",
        "model_Relevance_Bilstm.to(device)\n",
        "criterion = nn.CrossEntropyLoss()\n",
        "\n",
        "# specify optimizer\n",
        "optimizer = optim.Adam(model_Relevance_Bilstm.parameters(), lr=0.001, weight_decay=0.0005)\n"
      ]
    },
    {
      "cell_type": "code",
      "execution_count": 47,
      "metadata": {
        "colab": {
          "base_uri": "https://localhost:8080/"
        },
        "id": "HHcP-OaU-mB7",
        "outputId": "6e2bc42a-db52-4405-b04b-da56ea01bfe9"
      },
      "outputs": [
        {
          "name": "stdout",
          "output_type": "stream",
          "text": [
            "epoch: 1 -  train loss: 0.6902062161402269 - validation loss: 0.6843487024307251 - train acc = 52.54545593261719 - validation acc = 55.0\n",
            "epoch: 2 -  train loss: 0.6771092739972201 - validation loss: 0.6669309139251709 - train acc = 59.22727584838867 - validation acc = 66.0\n",
            "epoch: 3 -  train loss: 0.643615332516757 - validation loss: 0.6338107585906982 - train acc = 66.90909576416016 - validation acc = 68.0\n",
            "epoch: 4 -  train loss: 0.5795175446705385 - validation loss: 0.5928585529327393 - train acc = 72.45454406738281 - validation acc = 68.0\n",
            "epoch: 5 -  train loss: 0.5142255574464798 - validation loss: 0.5624984502792358 - train acc = 76.7272720336914 - validation acc = 72.0\n",
            "epoch: 6 -  train loss: 0.44510172036561096 - validation loss: 0.5840638875961304 - train acc = 81.18182373046875 - validation acc = 72.0\n",
            "epoch: 7 -  train loss: 0.36472083357247437 - validation loss: 0.5547714233398438 - train acc = 85.5 - validation acc = 76.0\n",
            "epoch: 8 -  train loss: 0.30904829095710407 - validation loss: 0.5627557039260864 - train acc = 88.40909576416016 - validation acc = 72.0\n",
            "training Finished in 32.93517470359802 seconds\n"
          ]
        }
      ],
      "source": [
        "train_loss,validation_loss,train_acc,val_acc=training_loop_(8,model_Relevance_Bilstm,data_loader_Trianset,data_loader_Val,criterion,optimizer)"
      ]
    },
    {
      "cell_type": "code",
      "execution_count": 48,
      "metadata": {
        "colab": {
          "base_uri": "https://localhost:8080/"
        },
        "id": "4AuInl-X-v0L",
        "outputId": "bddcb950-ad5d-4e70-b701-239622be6fdb"
      },
      "outputs": [
        {
          "name": "stdout",
          "output_type": "stream",
          "text": [
            "              precision    recall  f1-score   support\n",
            "\n",
            "           0       0.76      0.67      0.71      1156\n",
            "           1       0.72      0.80      0.76      1227\n",
            "\n",
            "    accuracy                           0.74      2383\n",
            "   macro avg       0.74      0.73      0.73      2383\n",
            "weighted avg       0.74      0.74      0.73      2383\n",
            "\n",
            "Accuracy: 0.736047\n",
            "  \n",
            "Precision:0.738451\n",
            "  \n",
            "Recall: 0.734223\n",
            "  \n",
            "F1 score: 0.734212\n"
          ]
        }
      ],
      "source": [
        "Evaluate(model_Relevance_Bilstm,test_loader)"
      ]
    },
    {
      "cell_type": "code",
      "execution_count": 49,
      "metadata": {
        "id": "6ES8dphHLIlp"
      },
      "outputs": [],
      "source": [
        "embed_size_ = embedding_matrix.shape[1]\n",
        "vocab_size_ = embedding_matrix.shape[0]\n",
        "num_classes_ = 3\n",
        "\n",
        "model_General_comment_Bilstm = BiLSTM(vocab_size_, embed_size_, embedding_matrix,num_classes_,10)\n",
        "\n",
        "\n",
        "model_General_comment_Bilstm.to(device)\n",
        "criterion = nn.CrossEntropyLoss(weight=torch.tensor(list(class_weights_related.values())).float().to(device))\n",
        "\n",
        "# specify optimizer\n",
        "optimizer = optim.Adam(model_General_comment_Bilstm.parameters(), lr=0.001, weight_decay=0.000005)"
      ]
    },
    {
      "cell_type": "code",
      "execution_count": 50,
      "metadata": {
        "colab": {
          "base_uri": "https://localhost:8080/"
        },
        "id": "EkoDYgvt-1rL",
        "outputId": "0c46ba6b-4062-4f76-8c0f-8f09fbfe0630"
      },
      "outputs": [
        {
          "name": "stdout",
          "output_type": "stream",
          "text": [
            "epoch: 1 -  train loss: 1.1001287373629483 - validation loss: 1.0903270244598389 - train acc = 43.45454788208008 - validation acc = 48.0\n",
            "epoch: 2 -  train loss: 1.085147044875405 - validation loss: 1.076188087463379 - train acc = 44.181819915771484 - validation acc = 52.0\n",
            "epoch: 3 -  train loss: 1.0558179183439775 - validation loss: 1.054761528968811 - train acc = 51.272727966308594 - validation acc = 49.0\n",
            "epoch: 4 -  train loss: 1.0050976493141868 - validation loss: 1.0243980884552002 - train acc = 59.6363639831543 - validation acc = 54.0\n",
            "epoch: 5 -  train loss: 0.9175972450863231 - validation loss: 0.9913379549980164 - train acc = 66.63636779785156 - validation acc = 55.0\n",
            "epoch: 6 -  train loss: 0.7861078002236106 - validation loss: 0.9636892676353455 - train acc = 75.0 - validation acc = 55.0\n",
            "epoch: 7 -  train loss: 0.6408720449967817 - validation loss: 0.9985739588737488 - train acc = 80.18182373046875 - validation acc = 59.0\n",
            "epoch: 8 -  train loss: 0.49201017347249115 - validation loss: 1.0859887599945068 - train acc = 86.63636779785156 - validation acc = 53.0\n",
            "training Finished in 32.24841666221619 seconds\n"
          ]
        }
      ],
      "source": [
        "train_loss,validation_loss,train_acc,val_acc=training_loop_(8,model_General_comment_Bilstm,data_loader_Relatedset,data_loader_Valrelated,criterion,optimizer)"
      ]
    },
    {
      "cell_type": "code",
      "execution_count": 51,
      "metadata": {
        "colab": {
          "base_uri": "https://localhost:8080/"
        },
        "id": "Mu6dprvg_D6i",
        "outputId": "d56f40bf-b88e-456b-870d-ab2a45c85f15"
      },
      "outputs": [
        {
          "name": "stdout",
          "output_type": "stream",
          "text": [
            "              precision    recall  f1-score   support\n",
            "\n",
            "           0       0.42      0.48      0.45       269\n",
            "           1       0.67      0.61      0.64       575\n",
            "           2       0.45      0.47      0.46       381\n",
            "\n",
            "    accuracy                           0.54      1225\n",
            "   macro avg       0.51      0.52      0.52      1225\n",
            "weighted avg       0.55      0.54      0.54      1225\n",
            "\n",
            "Accuracy: 0.537959\n",
            "  \n",
            "Precision:0.514549\n",
            "  \n",
            "Recall: 0.51964\n",
            "  \n",
            "F1 score: 0.515887\n"
          ]
        }
      ],
      "source": [
        "Evaluate(model_General_comment_Bilstm,test_loader_Related)"
      ]
    },
    {
      "cell_type": "code",
      "execution_count": 52,
      "metadata": {
        "id": "6UJrGXqqU2_8"
      },
      "outputs": [],
      "source": [
        "embed_size_ = embedding_matrix.shape[1]\n",
        "vocab_size_ = embedding_matrix.shape[0]\n",
        "num_classes_ = 3\n",
        "\n",
        "model_InRelationship_Bilstm = BiLSTM(vocab_size_, embed_size_, embedding_matrix,num_classes_,10)\n",
        "\n",
        "\n",
        "model_InRelationship_Bilstm.to(device)\n",
        "\n",
        "criterion = nn.CrossEntropyLoss(weight=torch.tensor(list(weights.values())).float().to(device))\n",
        "\n",
        "# specify optimizer\n",
        "optimizer = optim.Adam(model_InRelationship_Bilstm.parameters(),lr=0.0001, weight_decay=0.000005)"
      ]
    },
    {
      "cell_type": "code",
      "execution_count": 53,
      "metadata": {
        "colab": {
          "base_uri": "https://localhost:8080/"
        },
        "id": "ecj-0MwA_KH6",
        "outputId": "c46fb7dd-9693-4259-a032-e4d247f6cb60"
      },
      "outputs": [
        {
          "name": "stdout",
          "output_type": "stream",
          "text": [
            "epoch: 1 -  train loss: 1.102971781383861 - validation loss: 1.1079858541488647 - train acc = 53.36363983154297 - validation acc = 51.0\n",
            "epoch: 2 -  train loss: 1.1008451093326916 - validation loss: 1.107722520828247 - train acc = 53.181819915771484 - validation acc = 51.0\n",
            "epoch: 3 -  train loss: 1.098419644615867 - validation loss: 1.1066498756408691 - train acc = 53.272727966308594 - validation acc = 51.0\n",
            "epoch: 4 -  train loss: 1.0970791469920764 - validation loss: 1.1057851314544678 - train acc = 52.90909194946289 - validation acc = 51.0\n",
            "epoch: 5 -  train loss: 1.0960886911912398 - validation loss: 1.1049580574035645 - train acc = 52.90909194946289 - validation acc = 51.0\n",
            "epoch: 6 -  train loss: 1.095172806219621 - validation loss: 1.1037323474884033 - train acc = 52.36363983154297 - validation acc = 51.0\n",
            "epoch: 7 -  train loss: 1.0918497280641035 - validation loss: 1.102733850479126 - train acc = 53.090911865234375 - validation acc = 51.0\n",
            "epoch: 8 -  train loss: 1.0892722823403098 - validation loss: 1.1017045974731445 - train acc = 53.090911865234375 - validation acc = 51.0\n",
            "epoch: 9 -  train loss: 1.0864581303163008 - validation loss: 1.1001557111740112 - train acc = 53.6363639831543 - validation acc = 51.0\n",
            "epoch: 10 -  train loss: 1.0833482959053733 - validation loss: 1.0988773107528687 - train acc = 55.6363639831543 - validation acc = 51.0\n",
            "epoch: 11 -  train loss: 1.0804508490995928 - validation loss: 1.0972305536270142 - train acc = 55.90909194946289 - validation acc = 51.0\n",
            "epoch: 12 -  train loss: 1.0761530941182917 - validation loss: 1.0959608554840088 - train acc = 57.90909194946289 - validation acc = 51.0\n",
            "epoch: 13 -  train loss: 1.0730048418045044 - validation loss: 1.0941356420516968 - train acc = 59.0 - validation acc = 52.0\n",
            "epoch: 14 -  train loss: 1.0679989728060635 - validation loss: 1.0920490026474 - train acc = 59.81818389892578 - validation acc = 54.0\n",
            "epoch: 15 -  train loss: 1.0603501146489924 - validation loss: 1.0890264511108398 - train acc = 61.81818389892578 - validation acc = 56.0\n",
            "epoch: 16 -  train loss: 1.0561660961671309 - validation loss: 1.085117220878601 - train acc = 61.90909194946289 - validation acc = 59.0\n",
            "epoch: 17 -  train loss: 1.0480687618255615 - validation loss: 1.0814043283462524 - train acc = 63.54545593261719 - validation acc = 61.0\n",
            "epoch: 18 -  train loss: 1.0385238365693525 - validation loss: 1.079407811164856 - train acc = 64.54545593261719 - validation acc = 64.0\n",
            "epoch: 19 -  train loss: 1.0280540206215598 - validation loss: 1.0755226612091064 - train acc = 67.2727279663086 - validation acc = 71.0\n",
            "epoch: 20 -  train loss: 1.0180133689533581 - validation loss: 1.071610927581787 - train acc = 67.2727279663086 - validation acc = 71.0\n",
            "epoch: 21 -  train loss: 1.0095116225155918 - validation loss: 1.0688843727111816 - train acc = 67.09091186523438 - validation acc = 71.0\n",
            "epoch: 22 -  train loss: 0.9956933476708152 - validation loss: 1.0641429424285889 - train acc = 68.81818389892578 - validation acc = 72.0\n",
            "epoch: 23 -  train loss: 0.9837672006000172 - validation loss: 1.0619888305664062 - train acc = 70.45454406738281 - validation acc = 69.0\n",
            "epoch: 24 -  train loss: 0.9717878157442267 - validation loss: 1.0578590631484985 - train acc = 69.81818389892578 - validation acc = 71.0\n",
            "epoch: 25 -  train loss: 0.9495078325271606 - validation loss: 1.0522645711898804 - train acc = 72.36363983154297 - validation acc = 71.0\n",
            "epoch: 26 -  train loss: 0.9354777823794972 - validation loss: 1.050413727760315 - train acc = 72.90909576416016 - validation acc = 69.0\n",
            "epoch: 27 -  train loss: 0.9169234904375944 - validation loss: 1.0454243421554565 - train acc = 72.81818389892578 - validation acc = 69.0\n",
            "epoch: 28 -  train loss: 0.8951116529378024 - validation loss: 1.0435291528701782 - train acc = 74.45454406738281 - validation acc = 69.0\n",
            "epoch: 29 -  train loss: 0.8763677044348284 - validation loss: 1.0388336181640625 - train acc = 75.81818389892578 - validation acc = 71.0\n",
            "epoch: 30 -  train loss: 0.8566621975465254 - validation loss: 1.032165765762329 - train acc = 75.18182373046875 - validation acc = 71.0\n",
            "epoch: 31 -  train loss: 0.8338361382484436 - validation loss: 1.029396414756775 - train acc = 77.36363983154297 - validation acc = 71.0\n",
            "epoch: 32 -  train loss: 0.8064641898328607 - validation loss: 1.0239254236221313 - train acc = 77.63636779785156 - validation acc = 71.0\n",
            "epoch: 33 -  train loss: 0.7854706319895658 - validation loss: 1.0179327726364136 - train acc = 78.7272720336914 - validation acc = 71.0\n",
            "epoch: 34 -  train loss: 0.762875882062045 - validation loss: 1.0138505697250366 - train acc = 79.18182373046875 - validation acc = 72.0\n",
            "epoch: 35 -  train loss: 0.7377144965258512 - validation loss: 1.0120909214019775 - train acc = 81.09091186523438 - validation acc = 71.0\n",
            "epoch: 36 -  train loss: 0.7055328705094077 - validation loss: 1.0065803527832031 - train acc = 81.7272720336914 - validation acc = 71.0\n",
            "epoch: 37 -  train loss: 0.6796416315165433 - validation loss: 1.0186067819595337 - train acc = 82.81818389892578 - validation acc = 72.0\n",
            "epoch: 38 -  train loss: 0.6557032086632468 - validation loss: 1.0257550477981567 - train acc = 82.7272720336914 - validation acc = 69.0\n",
            "epoch: 39 -  train loss: 0.6302256529981439 - validation loss: 1.0291268825531006 - train acc = 84.63636779785156 - validation acc = 72.0\n",
            "epoch: 40 -  train loss: 0.60031489350579 - validation loss: 1.0246319770812988 - train acc = 85.18182373046875 - validation acc = 71.0\n",
            "epoch: 41 -  train loss: 0.5698962699283253 - validation loss: 1.0536079406738281 - train acc = 86.09091186523438 - validation acc = 72.0\n",
            "epoch: 42 -  train loss: 0.561315352266485 - validation loss: 1.0551937818527222 - train acc = 86.2727279663086 - validation acc = 69.0\n",
            "epoch: 43 -  train loss: 0.5284160646525297 - validation loss: 1.0372833013534546 - train acc = 87.18182373046875 - validation acc = 72.0\n",
            "epoch: 44 -  train loss: 0.4955093345858834 - validation loss: 1.0443804264068604 - train acc = 88.18182373046875 - validation acc = 71.0\n",
            "epoch: 45 -  train loss: 0.46944529901851306 - validation loss: 1.0415109395980835 - train acc = 89.54545593261719 - validation acc = 71.0\n",
            "epoch: 46 -  train loss: 0.4641229103912007 - validation loss: 1.0513626337051392 - train acc = 90.18182373046875 - validation acc = 69.0\n",
            "epoch: 47 -  train loss: 0.43254542350769043 - validation loss: 1.0630391836166382 - train acc = 90.7272720336914 - validation acc = 69.0\n",
            "epoch: 48 -  train loss: 0.4140441959554499 - validation loss: 1.1160709857940674 - train acc = 92.0 - validation acc = 69.0\n",
            "epoch: 49 -  train loss: 0.389947693456303 - validation loss: 1.12510085105896 - train acc = 92.90909576416016 - validation acc = 69.0\n",
            "epoch: 50 -  train loss: 0.36409568244760687 - validation loss: 1.1032347679138184 - train acc = 93.63636779785156 - validation acc = 69.0\n",
            "training Finished in 172.74406051635742 seconds\n"
          ]
        }
      ],
      "source": [
        "train_loss,validation_loss,train_acc,val_acc=training_loop_(50,model_InRelationship_Bilstm,data_loader_InRelationship_Relatedset,data_loader_InRelationship_Valrelated,criterion,optimizer)"
      ]
    },
    {
      "cell_type": "code",
      "execution_count": 54,
      "metadata": {
        "colab": {
          "base_uri": "https://localhost:8080/"
        },
        "id": "XFF5xrNMADKk",
        "outputId": "20016a6c-669d-47e1-850e-ceab77aefca1"
      },
      "outputs": [
        {
          "name": "stdout",
          "output_type": "stream",
          "text": [
            "              precision    recall  f1-score   support\n",
            "\n",
            "           0       0.81      0.77      0.79       650\n",
            "           1       0.13      0.12      0.12        51\n",
            "           2       0.70      0.76      0.73       524\n",
            "\n",
            "    accuracy                           0.74      1225\n",
            "   macro avg       0.55      0.55      0.55      1225\n",
            "weighted avg       0.74      0.74      0.73      1225\n",
            "\n",
            "Accuracy: 0.73551\n",
            "  \n",
            "Precision:0.548487\n",
            "  \n",
            "Recall: 0.547022\n",
            "  \n",
            "F1 score: 0.547099\n"
          ]
        }
      ],
      "source": [
        "Evaluate(model_InRelationship_Bilstm,test_loader_InRelationship_Related)"
      ]
    },
    {
      "cell_type": "code",
      "execution_count": 55,
      "metadata": {
        "id": "COvW1AplF-pu"
      },
      "outputs": [],
      "source": [
        "embed_size__ = embedding_matrix.shape[1]\n",
        "vocab_size__ = embedding_matrix.shape[0]\n",
        "num_classes__ = 3\n",
        "\n",
        "\n",
        "model_Specific_comment_Bilstm  = BiLSTM(vocab_size__, embed_size__, embedding_matrix,num_classes__,10)\n",
        "\n",
        "\n",
        "model_Specific_comment_Bilstm.to(device)\n",
        "\n",
        "\n",
        "criterion = nn.CrossEntropyLoss(weight=torch.tensor(list(class_weights_specific.values())).float().to(device))\n",
        "optimizer = optim.Adam(model_Specific_comment_Bilstm.parameters(), lr=0.0001, weight_decay=0.000005)"
      ]
    },
    {
      "cell_type": "code",
      "execution_count": 56,
      "metadata": {
        "colab": {
          "base_uri": "https://localhost:8080/"
        },
        "id": "vfL-Gk0xAHd0",
        "outputId": "ed6d2b94-850f-4e17-f1f4-20512d6d4f58"
      },
      "outputs": [
        {
          "name": "stdout",
          "output_type": "stream",
          "text": [
            "epoch: 1 -  train loss: 1.0992408514022827 - validation loss: 1.0981965065002441 - train acc = 0.33546875 - validation acc = 0.3176470588235294\n",
            "epoch: 2 -  train loss: 1.098192572593689 - validation loss: 1.0981234312057495 - train acc = 0.34109375000000003 - validation acc = 0.3176470588235294\n",
            "epoch: 3 -  train loss: 1.0982757568359376 - validation loss: 1.0980936288833618 - train acc = 0.3434375 - validation acc = 0.3176470588235294\n",
            "epoch: 4 -  train loss: 1.0963871240615846 - validation loss: 1.0979899168014526 - train acc = 0.34921875 - validation acc = 0.32941176470588235\n",
            "epoch: 5 -  train loss: 1.0950767517089843 - validation loss: 1.0978015661239624 - train acc = 0.372109375 - validation acc = 0.36470588235294116\n",
            "epoch: 6 -  train loss: 1.095755124092102 - validation loss: 1.0977022647857666 - train acc = 0.3603125 - validation acc = 0.3764705882352941\n",
            "epoch: 7 -  train loss: 1.0957040309906005 - validation loss: 1.0976353883743286 - train acc = 0.367421875 - validation acc = 0.3764705882352941\n",
            "epoch: 8 -  train loss: 1.0939001321792603 - validation loss: 1.097479224205017 - train acc = 0.3859375 - validation acc = 0.3764705882352941\n",
            "epoch: 9 -  train loss: 1.094659686088562 - validation loss: 1.0973316431045532 - train acc = 0.373046875 - validation acc = 0.38823529411764707\n",
            "epoch: 10 -  train loss: 1.093802309036255 - validation loss: 1.0972102880477905 - train acc = 0.39382812500000003 - validation acc = 0.38823529411764707\n",
            "epoch: 11 -  train loss: 1.0922320127487182 - validation loss: 1.0970680713653564 - train acc = 0.39859374999999997 - validation acc = 0.43529411764705883\n",
            "epoch: 12 -  train loss: 1.0913145780563354 - validation loss: 1.0969045162200928 - train acc = 0.42062499999999997 - validation acc = 0.43529411764705883\n",
            "epoch: 13 -  train loss: 1.0897692441940308 - validation loss: 1.0967323780059814 - train acc = 0.43070312499999996 - validation acc = 0.43529411764705883\n",
            "epoch: 14 -  train loss: 1.089399242401123 - validation loss: 1.0965604782104492 - train acc = 0.43171875000000004 - validation acc = 0.4117647058823529\n",
            "epoch: 15 -  train loss: 1.089442539215088 - validation loss: 1.0964372158050537 - train acc = 0.43453125000000004 - validation acc = 0.4235294117647059\n",
            "epoch: 16 -  train loss: 1.0875859022140504 - validation loss: 1.0960566997528076 - train acc = 0.45421875 - validation acc = 0.43529411764705883\n",
            "epoch: 17 -  train loss: 1.086089515686035 - validation loss: 1.095660924911499 - train acc = 0.45515625000000004 - validation acc = 0.4470588235294118\n",
            "epoch: 18 -  train loss: 1.0855855226516724 - validation loss: 1.0954129695892334 - train acc = 0.47625 - validation acc = 0.43529411764705883\n",
            "epoch: 19 -  train loss: 1.084374976158142 - validation loss: 1.0952537059783936 - train acc = 0.482109375 - validation acc = 0.4235294117647059\n",
            "epoch: 20 -  train loss: 1.0834961414337159 - validation loss: 1.094952940940857 - train acc = 0.49640625 - validation acc = 0.4235294117647059\n",
            "epoch: 21 -  train loss: 1.0826596021652222 - validation loss: 1.0945696830749512 - train acc = 0.48656249999999995 - validation acc = 0.4235294117647059\n",
            "epoch: 22 -  train loss: 1.0801621198654174 - validation loss: 1.0942904949188232 - train acc = 0.506875 - validation acc = 0.4117647058823529\n",
            "epoch: 23 -  train loss: 1.07793869972229 - validation loss: 1.0939245223999023 - train acc = 0.5275000000000001 - validation acc = 0.4117647058823529\n",
            "epoch: 24 -  train loss: 1.0764125108718872 - validation loss: 1.0934431552886963 - train acc = 0.527734375 - validation acc = 0.4117647058823529\n",
            "epoch: 25 -  train loss: 1.0747759342193604 - validation loss: 1.0930356979370117 - train acc = 0.5454687500000001 - validation acc = 0.4117647058823529\n",
            "epoch: 26 -  train loss: 1.0731389284133912 - validation loss: 1.0925183296203613 - train acc = 0.541640625 - validation acc = 0.4470588235294118\n",
            "epoch: 27 -  train loss: 1.0727066040039062 - validation loss: 1.0921709537506104 - train acc = 0.55078125 - validation acc = 0.43529411764705883\n",
            "epoch: 28 -  train loss: 1.0689691066741944 - validation loss: 1.0916869640350342 - train acc = 0.589921875 - validation acc = 0.4588235294117647\n",
            "epoch: 29 -  train loss: 1.0670841455459594 - validation loss: 1.0911977291107178 - train acc = 0.581640625 - validation acc = 0.47058823529411764\n",
            "epoch: 30 -  train loss: 1.0639422416687012 - validation loss: 1.0907083749771118 - train acc = 0.60109375 - validation acc = 0.4823529411764706\n",
            "epoch: 31 -  train loss: 1.06091628074646 - validation loss: 1.0900726318359375 - train acc = 0.60609375 - validation acc = 0.4823529411764706\n",
            "epoch: 32 -  train loss: 1.0606782674789428 - validation loss: 1.0892843008041382 - train acc = 0.59609375 - validation acc = 0.5058823529411764\n",
            "epoch: 33 -  train loss: 1.0554630041122437 - validation loss: 1.0884510278701782 - train acc = 0.63578125 - validation acc = 0.49411764705882355\n",
            "epoch: 34 -  train loss: 1.0517940521240234 - validation loss: 1.0874327421188354 - train acc = 0.6470312500000001 - validation acc = 0.49411764705882355\n",
            "epoch: 35 -  train loss: 1.0481849908828735 - validation loss: 1.0861798524856567 - train acc = 0.6478906249999999 - validation acc = 0.4823529411764706\n",
            "epoch: 36 -  train loss: 1.0441002368927002 - validation loss: 1.085044503211975 - train acc = 0.6583593750000001 - validation acc = 0.49411764705882355\n",
            "epoch: 37 -  train loss: 1.040460467338562 - validation loss: 1.083990454673767 - train acc = 0.6634375 - validation acc = 0.49411764705882355\n",
            "epoch: 38 -  train loss: 1.039262294769287 - validation loss: 1.0828795433044434 - train acc = 0.6685156250000001 - validation acc = 0.5058823529411764\n",
            "epoch: 39 -  train loss: 1.031086254119873 - validation loss: 1.0815374851226807 - train acc = 0.6876562500000001 - validation acc = 0.5058823529411764\n",
            "epoch: 40 -  train loss: 1.0247497320175172 - validation loss: 1.0803824663162231 - train acc = 0.7025 - validation acc = 0.49411764705882355\n",
            "epoch: 41 -  train loss: 1.0203971862792969 - validation loss: 1.079230546951294 - train acc = 0.7150000000000001 - validation acc = 0.5176470588235295\n",
            "epoch: 42 -  train loss: 1.0144566535949706 - validation loss: 1.0778621435165405 - train acc = 0.714921875 - validation acc = 0.5294117647058824\n",
            "epoch: 43 -  train loss: 1.008673858642578 - validation loss: 1.07616126537323 - train acc = 0.7221093749999999 - validation acc = 0.5058823529411764\n",
            "epoch: 44 -  train loss: 1.0037543535232545 - validation loss: 1.0745744705200195 - train acc = 0.7301562500000001 - validation acc = 0.5058823529411764\n",
            "epoch: 45 -  train loss: 0.9945453047752381 - validation loss: 1.0733604431152344 - train acc = 0.7528125 - validation acc = 0.49411764705882355\n",
            "epoch: 46 -  train loss: 0.9878025531768799 - validation loss: 1.0715550184249878 - train acc = 0.7553124999999999 - validation acc = 0.49411764705882355\n",
            "epoch: 47 -  train loss: 0.98542720079422 - validation loss: 1.0697137117385864 - train acc = 0.746875 - validation acc = 0.5058823529411764\n",
            "epoch: 48 -  train loss: 0.9762042403221131 - validation loss: 1.0679922103881836 - train acc = 0.752734375 - validation acc = 0.49411764705882355\n",
            "epoch: 49 -  train loss: 0.9653104305267334 - validation loss: 1.0661489963531494 - train acc = 0.7731250000000001 - validation acc = 0.49411764705882355\n",
            "epoch: 50 -  train loss: 0.956733512878418 - validation loss: 1.0640699863433838 - train acc = 0.7835156249999999 - validation acc = 0.49411764705882355\n",
            "epoch: 51 -  train loss: 0.9510779500007629 - validation loss: 1.0621373653411865 - train acc = 0.7954687500000001 - validation acc = 0.5058823529411764\n",
            "epoch: 52 -  train loss: 0.9391263961791992 - validation loss: 1.0604362487792969 - train acc = 0.8040625 - validation acc = 0.5058823529411764\n",
            "epoch: 53 -  train loss: 0.9335795879364014 - validation loss: 1.059112787246704 - train acc = 0.7990625 - validation acc = 0.5176470588235295\n",
            "epoch: 54 -  train loss: 0.9224842309951782 - validation loss: 1.057357907295227 - train acc = 0.8099999999999999 - validation acc = 0.5176470588235295\n",
            "epoch: 55 -  train loss: 0.9153143882751464 - validation loss: 1.0549829006195068 - train acc = 0.8065625000000001 - validation acc = 0.5176470588235295\n",
            "epoch: 56 -  train loss: 0.9021338582038879 - validation loss: 1.0530216693878174 - train acc = 0.8215625 - validation acc = 0.5176470588235295\n",
            "epoch: 57 -  train loss: 0.8913661956787109 - validation loss: 1.0514302253723145 - train acc = 0.8292187500000001 - validation acc = 0.5058823529411764\n",
            "epoch: 58 -  train loss: 0.8828224658966064 - validation loss: 1.0495203733444214 - train acc = 0.815390625 - validation acc = 0.5176470588235295\n",
            "epoch: 59 -  train loss: 0.8691078424453735 - validation loss: 1.0478957891464233 - train acc = 0.83109375 - validation acc = 0.5176470588235295\n",
            "epoch: 60 -  train loss: 0.8547181725502014 - validation loss: 1.0463546514511108 - train acc = 0.84109375 - validation acc = 0.5058823529411764\n",
            "epoch: 61 -  train loss: 0.8438598990440369 - validation loss: 1.044371485710144 - train acc = 0.8503125 - validation acc = 0.5294117647058824\n",
            "epoch: 62 -  train loss: 0.8387216210365296 - validation loss: 1.042998194694519 - train acc = 0.84203125 - validation acc = 0.5176470588235295\n",
            "epoch: 63 -  train loss: 0.8171924710273742 - validation loss: 1.040358066558838 - train acc = 0.857109375 - validation acc = 0.5058823529411764\n",
            "epoch: 64 -  train loss: 0.8057114958763123 - validation loss: 1.0386887788772583 - train acc = 0.86421875 - validation acc = 0.49411764705882355\n",
            "epoch: 65 -  train loss: 0.7969824075698853 - validation loss: 1.037274718284607 - train acc = 0.8569531250000001 - validation acc = 0.4823529411764706\n",
            "epoch: 66 -  train loss: 0.7785353779792785 - validation loss: 1.0352455377578735 - train acc = 0.875234375 - validation acc = 0.4823529411764706\n",
            "epoch: 67 -  train loss: 0.7719538688659668 - validation loss: 1.0335246324539185 - train acc = 0.8690625000000001 - validation acc = 0.4823529411764706\n",
            "epoch: 68 -  train loss: 0.7545920729637146 - validation loss: 1.0320430994033813 - train acc = 0.8748437499999999 - validation acc = 0.4823529411764706\n",
            "epoch: 69 -  train loss: 0.7432009220123291 - validation loss: 1.0297576189041138 - train acc = 0.875625 - validation acc = 0.5058823529411764\n",
            "epoch: 70 -  train loss: 0.72917640209198 - validation loss: 1.0290184020996094 - train acc = 0.883984375 - validation acc = 0.4823529411764706\n",
            "epoch: 71 -  train loss: 0.7165439844131469 - validation loss: 1.0263991355895996 - train acc = 0.884375 - validation acc = 0.49411764705882355\n",
            "epoch: 72 -  train loss: 0.704775869846344 - validation loss: 1.0245838165283203 - train acc = 0.8891406249999999 - validation acc = 0.49411764705882355\n",
            "epoch: 73 -  train loss: 0.6906302094459533 - validation loss: 1.0219597816467285 - train acc = 0.88828125 - validation acc = 0.49411764705882355\n",
            "epoch: 74 -  train loss: 0.679226529598236 - validation loss: 1.0213655233383179 - train acc = 0.88890625 - validation acc = 0.5058823529411764\n",
            "epoch: 75 -  train loss: 0.6561239123344421 - validation loss: 1.0210040807724 - train acc = 0.903671875 - validation acc = 0.5058823529411764\n",
            "epoch: 76 -  train loss: 0.6451664328575134 - validation loss: 1.0193490982055664 - train acc = 0.909765625 - validation acc = 0.5058823529411764\n",
            "epoch: 77 -  train loss: 0.6337894678115845 - validation loss: 1.0204046964645386 - train acc = 0.9092968750000001 - validation acc = 0.5058823529411764\n",
            "epoch: 78 -  train loss: 0.6145914912223815 - validation loss: 1.0210671424865723 - train acc = 0.9109375 - validation acc = 0.5176470588235295\n",
            "epoch: 79 -  train loss: 0.6094604969024658 - validation loss: 1.0171761512756348 - train acc = 0.9135937500000001 - validation acc = 0.5176470588235295\n",
            "epoch: 80 -  train loss: 0.5853825688362122 - validation loss: 1.0242480039596558 - train acc = 0.9309375 - validation acc = 0.49411764705882355\n",
            "training Finished in 264.00694370269775 seconds\n"
          ]
        }
      ],
      "source": [
        "train_loss_,validation_loss_,train_acc_,val_acc_=training_loop(80,model_Specific_comment_Bilstm,data_loader_Specific_set,data_loader_Valspecific,criterion,optimizer)\n"
      ]
    },
    {
      "cell_type": "code",
      "execution_count": 57,
      "metadata": {
        "colab": {
          "base_uri": "https://localhost:8080/"
        },
        "id": "5GJkEbBiAbus",
        "outputId": "4a146da6-86d5-4936-d201-5bead4631b5f"
      },
      "outputs": [
        {
          "name": "stdout",
          "output_type": "stream",
          "text": [
            "              precision    recall  f1-score   support\n",
            "\n",
            "           0       0.51      0.46      0.48       171\n",
            "           1       0.46      0.46      0.46       181\n",
            "           2       0.48      0.51      0.49       195\n",
            "\n",
            "    accuracy                           0.48       547\n",
            "   macro avg       0.48      0.48      0.48       547\n",
            "weighted avg       0.48      0.48      0.48       547\n",
            "\n",
            "Accuracy: 0.478976\n",
            "  \n",
            "Precision:0.480567\n",
            "  \n",
            "Recall: 0.477683\n",
            "  \n",
            "F1 score: 0.478455\n"
          ]
        }
      ],
      "source": [
        "Evaluate(model_Specific_comment_Bilstm,test_loader_Specific)"
      ]
    }
  ],
  "metadata": {
    "accelerator": "GPU",
    "colab": {
      "gpuType": "T4",
      "provenance": []
    },
    "kernelspec": {
      "display_name": "Python 3",
      "name": "python3"
    },
    "language_info": {
      "name": "python"
    },
    "widgets": {
      "application/vnd.jupyter.widget-state+json": {
        "0544a2ff27bb4737ade0ea433754bf6c": {
          "model_module": "@jupyter-widgets/base",
          "model_module_version": "1.2.0",
          "model_name": "LayoutModel",
          "state": {
            "_model_module": "@jupyter-widgets/base",
            "_model_module_version": "1.2.0",
            "_model_name": "LayoutModel",
            "_view_count": null,
            "_view_module": "@jupyter-widgets/base",
            "_view_module_version": "1.2.0",
            "_view_name": "LayoutView",
            "align_content": null,
            "align_items": null,
            "align_self": null,
            "border": null,
            "bottom": null,
            "display": null,
            "flex": null,
            "flex_flow": null,
            "grid_area": null,
            "grid_auto_columns": null,
            "grid_auto_flow": null,
            "grid_auto_rows": null,
            "grid_column": null,
            "grid_gap": null,
            "grid_row": null,
            "grid_template_areas": null,
            "grid_template_columns": null,
            "grid_template_rows": null,
            "height": null,
            "justify_content": null,
            "justify_items": null,
            "left": null,
            "margin": null,
            "max_height": null,
            "max_width": null,
            "min_height": null,
            "min_width": null,
            "object_fit": null,
            "object_position": null,
            "order": null,
            "overflow": null,
            "overflow_x": null,
            "overflow_y": null,
            "padding": null,
            "right": null,
            "top": null,
            "visibility": null,
            "width": null
          }
        },
        "093f4b96b4a2483bb47df3273f9353cb": {
          "model_module": "@jupyter-widgets/controls",
          "model_module_version": "1.5.0",
          "model_name": "FloatProgressModel",
          "state": {
            "_dom_classes": [],
            "_model_module": "@jupyter-widgets/controls",
            "_model_module_version": "1.5.0",
            "_model_name": "FloatProgressModel",
            "_view_count": null,
            "_view_module": "@jupyter-widgets/controls",
            "_view_module_version": "1.5.0",
            "_view_name": "ProgressView",
            "bar_style": "success",
            "description": "",
            "description_tooltip": null,
            "layout": "IPY_MODEL_b58af5dced2a4c918da2ca057a878383",
            "max": 434,
            "min": 0,
            "orientation": "horizontal",
            "style": "IPY_MODEL_74bbc6c2ca3e47ed91188c621909d0ae",
            "value": 434
          }
        },
        "0c238c2a1cad4cdc89fd6abd3ac7570e": {
          "model_module": "@jupyter-widgets/controls",
          "model_module_version": "1.5.0",
          "model_name": "HTMLModel",
          "state": {
            "_dom_classes": [],
            "_model_module": "@jupyter-widgets/controls",
            "_model_module_version": "1.5.0",
            "_model_name": "HTMLModel",
            "_view_count": null,
            "_view_module": "@jupyter-widgets/controls",
            "_view_module_version": "1.5.0",
            "_view_name": "HTMLView",
            "description": "",
            "description_tooltip": null,
            "layout": "IPY_MODEL_b1ad34c127e0473bb81587244d3e76b0",
            "placeholder": "​",
            "style": "IPY_MODEL_3a0306e461eb4e4c8f4df73c5e3636ed",
            "value": " 1.22M/1.22M [00:00&lt;00:00, 3.79MB/s]"
          }
        },
        "0f41ca48c4b44d7fb12d3fcfc855915b": {
          "model_module": "@jupyter-widgets/controls",
          "model_module_version": "1.5.0",
          "model_name": "DescriptionStyleModel",
          "state": {
            "_model_module": "@jupyter-widgets/controls",
            "_model_module_version": "1.5.0",
            "_model_name": "DescriptionStyleModel",
            "_view_count": null,
            "_view_module": "@jupyter-widgets/base",
            "_view_module_version": "1.2.0",
            "_view_name": "StyleView",
            "description_width": ""
          }
        },
        "1a4a559be7ff4d56988f5b19c4f9bd05": {
          "model_module": "@jupyter-widgets/controls",
          "model_module_version": "1.5.0",
          "model_name": "DescriptionStyleModel",
          "state": {
            "_model_module": "@jupyter-widgets/controls",
            "_model_module_version": "1.5.0",
            "_model_name": "DescriptionStyleModel",
            "_view_count": null,
            "_view_module": "@jupyter-widgets/base",
            "_view_module_version": "1.2.0",
            "_view_name": "StyleView",
            "description_width": ""
          }
        },
        "1ef44efcd9b44a9eb12c2999ba0b99bb": {
          "model_module": "@jupyter-widgets/base",
          "model_module_version": "1.2.0",
          "model_name": "LayoutModel",
          "state": {
            "_model_module": "@jupyter-widgets/base",
            "_model_module_version": "1.2.0",
            "_model_name": "LayoutModel",
            "_view_count": null,
            "_view_module": "@jupyter-widgets/base",
            "_view_module_version": "1.2.0",
            "_view_name": "LayoutView",
            "align_content": null,
            "align_items": null,
            "align_self": null,
            "border": null,
            "bottom": null,
            "display": null,
            "flex": null,
            "flex_flow": null,
            "grid_area": null,
            "grid_auto_columns": null,
            "grid_auto_flow": null,
            "grid_auto_rows": null,
            "grid_column": null,
            "grid_gap": null,
            "grid_row": null,
            "grid_template_areas": null,
            "grid_template_columns": null,
            "grid_template_rows": null,
            "height": null,
            "justify_content": null,
            "justify_items": null,
            "left": null,
            "margin": null,
            "max_height": null,
            "max_width": null,
            "min_height": null,
            "min_width": null,
            "object_fit": null,
            "object_position": null,
            "order": null,
            "overflow": null,
            "overflow_x": null,
            "overflow_y": null,
            "padding": null,
            "right": null,
            "top": null,
            "visibility": null,
            "width": null
          }
        },
        "23ba60552b6d4ab5969587750703774e": {
          "model_module": "@jupyter-widgets/controls",
          "model_module_version": "1.5.0",
          "model_name": "DescriptionStyleModel",
          "state": {
            "_model_module": "@jupyter-widgets/controls",
            "_model_module_version": "1.5.0",
            "_model_name": "DescriptionStyleModel",
            "_view_count": null,
            "_view_module": "@jupyter-widgets/base",
            "_view_module_version": "1.2.0",
            "_view_name": "StyleView",
            "description_width": ""
          }
        },
        "30cc231f8b4a4508b200345b2a9c2f70": {
          "model_module": "@jupyter-widgets/controls",
          "model_module_version": "1.5.0",
          "model_name": "ProgressStyleModel",
          "state": {
            "_model_module": "@jupyter-widgets/controls",
            "_model_module_version": "1.5.0",
            "_model_name": "ProgressStyleModel",
            "_view_count": null,
            "_view_module": "@jupyter-widgets/base",
            "_view_module_version": "1.2.0",
            "_view_name": "StyleView",
            "bar_color": null,
            "description_width": ""
          }
        },
        "33f5581e1a8541a685c9c422075fc70a": {
          "model_module": "@jupyter-widgets/base",
          "model_module_version": "1.2.0",
          "model_name": "LayoutModel",
          "state": {
            "_model_module": "@jupyter-widgets/base",
            "_model_module_version": "1.2.0",
            "_model_name": "LayoutModel",
            "_view_count": null,
            "_view_module": "@jupyter-widgets/base",
            "_view_module_version": "1.2.0",
            "_view_name": "LayoutView",
            "align_content": null,
            "align_items": null,
            "align_self": null,
            "border": null,
            "bottom": null,
            "display": null,
            "flex": null,
            "flex_flow": null,
            "grid_area": null,
            "grid_auto_columns": null,
            "grid_auto_flow": null,
            "grid_auto_rows": null,
            "grid_column": null,
            "grid_gap": null,
            "grid_row": null,
            "grid_template_areas": null,
            "grid_template_columns": null,
            "grid_template_rows": null,
            "height": null,
            "justify_content": null,
            "justify_items": null,
            "left": null,
            "margin": null,
            "max_height": null,
            "max_width": null,
            "min_height": null,
            "min_width": null,
            "object_fit": null,
            "object_position": null,
            "order": null,
            "overflow": null,
            "overflow_x": null,
            "overflow_y": null,
            "padding": null,
            "right": null,
            "top": null,
            "visibility": null,
            "width": null
          }
        },
        "3403cadac31544ceacec093dcee4e2a0": {
          "model_module": "@jupyter-widgets/controls",
          "model_module_version": "1.5.0",
          "model_name": "HTMLModel",
          "state": {
            "_dom_classes": [],
            "_model_module": "@jupyter-widgets/controls",
            "_model_module_version": "1.5.0",
            "_model_name": "HTMLModel",
            "_view_count": null,
            "_view_module": "@jupyter-widgets/controls",
            "_view_module_version": "1.5.0",
            "_view_name": "HTMLView",
            "description": "",
            "description_tooltip": null,
            "layout": "IPY_MODEL_7d1d008a3175478bbb71e2f841f671f1",
            "placeholder": "​",
            "style": "IPY_MODEL_1a4a559be7ff4d56988f5b19c4f9bd05",
            "value": " 654M/654M [00:05&lt;00:00, 113MB/s]"
          }
        },
        "3a0306e461eb4e4c8f4df73c5e3636ed": {
          "model_module": "@jupyter-widgets/controls",
          "model_module_version": "1.5.0",
          "model_name": "DescriptionStyleModel",
          "state": {
            "_model_module": "@jupyter-widgets/controls",
            "_model_module_version": "1.5.0",
            "_model_name": "DescriptionStyleModel",
            "_view_count": null,
            "_view_module": "@jupyter-widgets/base",
            "_view_module_version": "1.2.0",
            "_view_name": "StyleView",
            "description_width": ""
          }
        },
        "45aa86a6b6f44370878c96ae1bef11a3": {
          "model_module": "@jupyter-widgets/base",
          "model_module_version": "1.2.0",
          "model_name": "LayoutModel",
          "state": {
            "_model_module": "@jupyter-widgets/base",
            "_model_module_version": "1.2.0",
            "_model_name": "LayoutModel",
            "_view_count": null,
            "_view_module": "@jupyter-widgets/base",
            "_view_module_version": "1.2.0",
            "_view_name": "LayoutView",
            "align_content": null,
            "align_items": null,
            "align_self": null,
            "border": null,
            "bottom": null,
            "display": null,
            "flex": null,
            "flex_flow": null,
            "grid_area": null,
            "grid_auto_columns": null,
            "grid_auto_flow": null,
            "grid_auto_rows": null,
            "grid_column": null,
            "grid_gap": null,
            "grid_row": null,
            "grid_template_areas": null,
            "grid_template_columns": null,
            "grid_template_rows": null,
            "height": null,
            "justify_content": null,
            "justify_items": null,
            "left": null,
            "margin": null,
            "max_height": null,
            "max_width": null,
            "min_height": null,
            "min_width": null,
            "object_fit": null,
            "object_position": null,
            "order": null,
            "overflow": null,
            "overflow_x": null,
            "overflow_y": null,
            "padding": null,
            "right": null,
            "top": null,
            "visibility": null,
            "width": null
          }
        },
        "4d0cf0490d3b4c59bf328ec508821f46": {
          "model_module": "@jupyter-widgets/base",
          "model_module_version": "1.2.0",
          "model_name": "LayoutModel",
          "state": {
            "_model_module": "@jupyter-widgets/base",
            "_model_module_version": "1.2.0",
            "_model_name": "LayoutModel",
            "_view_count": null,
            "_view_module": "@jupyter-widgets/base",
            "_view_module_version": "1.2.0",
            "_view_name": "LayoutView",
            "align_content": null,
            "align_items": null,
            "align_self": null,
            "border": null,
            "bottom": null,
            "display": null,
            "flex": null,
            "flex_flow": null,
            "grid_area": null,
            "grid_auto_columns": null,
            "grid_auto_flow": null,
            "grid_auto_rows": null,
            "grid_column": null,
            "grid_gap": null,
            "grid_row": null,
            "grid_template_areas": null,
            "grid_template_columns": null,
            "grid_template_rows": null,
            "height": null,
            "justify_content": null,
            "justify_items": null,
            "left": null,
            "margin": null,
            "max_height": null,
            "max_width": null,
            "min_height": null,
            "min_width": null,
            "object_fit": null,
            "object_position": null,
            "order": null,
            "overflow": null,
            "overflow_x": null,
            "overflow_y": null,
            "padding": null,
            "right": null,
            "top": null,
            "visibility": null,
            "width": null
          }
        },
        "4fcc872c3b6a4b5a8258ecaf611d68ac": {
          "model_module": "@jupyter-widgets/controls",
          "model_module_version": "1.5.0",
          "model_name": "HBoxModel",
          "state": {
            "_dom_classes": [],
            "_model_module": "@jupyter-widgets/controls",
            "_model_module_version": "1.5.0",
            "_model_name": "HBoxModel",
            "_view_count": null,
            "_view_module": "@jupyter-widgets/controls",
            "_view_module_version": "1.5.0",
            "_view_name": "HBoxView",
            "box_style": "",
            "children": [
              "IPY_MODEL_85d915bc775643fc8d432da6ecb772fe",
              "IPY_MODEL_e68c8e38ef174285812a2aa500f766d8",
              "IPY_MODEL_3403cadac31544ceacec093dcee4e2a0"
            ],
            "layout": "IPY_MODEL_52863cfd3ab94bf7bcc17b4b0f4d6576"
          }
        },
        "52863cfd3ab94bf7bcc17b4b0f4d6576": {
          "model_module": "@jupyter-widgets/base",
          "model_module_version": "1.2.0",
          "model_name": "LayoutModel",
          "state": {
            "_model_module": "@jupyter-widgets/base",
            "_model_module_version": "1.2.0",
            "_model_name": "LayoutModel",
            "_view_count": null,
            "_view_module": "@jupyter-widgets/base",
            "_view_module_version": "1.2.0",
            "_view_name": "LayoutView",
            "align_content": null,
            "align_items": null,
            "align_self": null,
            "border": null,
            "bottom": null,
            "display": null,
            "flex": null,
            "flex_flow": null,
            "grid_area": null,
            "grid_auto_columns": null,
            "grid_auto_flow": null,
            "grid_auto_rows": null,
            "grid_column": null,
            "grid_gap": null,
            "grid_row": null,
            "grid_template_areas": null,
            "grid_template_columns": null,
            "grid_template_rows": null,
            "height": null,
            "justify_content": null,
            "justify_items": null,
            "left": null,
            "margin": null,
            "max_height": null,
            "max_width": null,
            "min_height": null,
            "min_width": null,
            "object_fit": null,
            "object_position": null,
            "order": null,
            "overflow": null,
            "overflow_x": null,
            "overflow_y": null,
            "padding": null,
            "right": null,
            "top": null,
            "visibility": null,
            "width": null
          }
        },
        "556b619c3ca840af9c10666d9320c804": {
          "model_module": "@jupyter-widgets/controls",
          "model_module_version": "1.5.0",
          "model_name": "DescriptionStyleModel",
          "state": {
            "_model_module": "@jupyter-widgets/controls",
            "_model_module_version": "1.5.0",
            "_model_name": "DescriptionStyleModel",
            "_view_count": null,
            "_view_module": "@jupyter-widgets/base",
            "_view_module_version": "1.2.0",
            "_view_name": "StyleView",
            "description_width": ""
          }
        },
        "59bb54af740b4ad8bc5ef54b6bf1c317": {
          "model_module": "@jupyter-widgets/controls",
          "model_module_version": "1.5.0",
          "model_name": "FloatProgressModel",
          "state": {
            "_dom_classes": [],
            "_model_module": "@jupyter-widgets/controls",
            "_model_module_version": "1.5.0",
            "_model_name": "FloatProgressModel",
            "_view_count": null,
            "_view_module": "@jupyter-widgets/controls",
            "_view_module_version": "1.5.0",
            "_view_name": "ProgressView",
            "bar_style": "success",
            "description": "",
            "description_tooltip": null,
            "layout": "IPY_MODEL_78cb0b25d4f24f15944df0f279277a70",
            "max": 1215509,
            "min": 0,
            "orientation": "horizontal",
            "style": "IPY_MODEL_30cc231f8b4a4508b200345b2a9c2f70",
            "value": 1215509
          }
        },
        "721178faab364933ac4219bfc1f4d2e9": {
          "model_module": "@jupyter-widgets/controls",
          "model_module_version": "1.5.0",
          "model_name": "HBoxModel",
          "state": {
            "_dom_classes": [],
            "_model_module": "@jupyter-widgets/controls",
            "_model_module_version": "1.5.0",
            "_model_name": "HBoxModel",
            "_view_count": null,
            "_view_module": "@jupyter-widgets/controls",
            "_view_module_version": "1.5.0",
            "_view_name": "HBoxView",
            "box_style": "",
            "children": [
              "IPY_MODEL_e9c0caeaf3614621aad9537f3e88458e",
              "IPY_MODEL_093f4b96b4a2483bb47df3273f9353cb",
              "IPY_MODEL_a55ce86035814923a986e3306960aaa6"
            ],
            "layout": "IPY_MODEL_fa037abf397047d1a4885cddcc5d8a07"
          }
        },
        "74bbc6c2ca3e47ed91188c621909d0ae": {
          "model_module": "@jupyter-widgets/controls",
          "model_module_version": "1.5.0",
          "model_name": "ProgressStyleModel",
          "state": {
            "_model_module": "@jupyter-widgets/controls",
            "_model_module_version": "1.5.0",
            "_model_name": "ProgressStyleModel",
            "_view_count": null,
            "_view_module": "@jupyter-widgets/base",
            "_view_module_version": "1.2.0",
            "_view_name": "StyleView",
            "bar_color": null,
            "description_width": ""
          }
        },
        "78cb0b25d4f24f15944df0f279277a70": {
          "model_module": "@jupyter-widgets/base",
          "model_module_version": "1.2.0",
          "model_name": "LayoutModel",
          "state": {
            "_model_module": "@jupyter-widgets/base",
            "_model_module_version": "1.2.0",
            "_model_name": "LayoutModel",
            "_view_count": null,
            "_view_module": "@jupyter-widgets/base",
            "_view_module_version": "1.2.0",
            "_view_name": "LayoutView",
            "align_content": null,
            "align_items": null,
            "align_self": null,
            "border": null,
            "bottom": null,
            "display": null,
            "flex": null,
            "flex_flow": null,
            "grid_area": null,
            "grid_auto_columns": null,
            "grid_auto_flow": null,
            "grid_auto_rows": null,
            "grid_column": null,
            "grid_gap": null,
            "grid_row": null,
            "grid_template_areas": null,
            "grid_template_columns": null,
            "grid_template_rows": null,
            "height": null,
            "justify_content": null,
            "justify_items": null,
            "left": null,
            "margin": null,
            "max_height": null,
            "max_width": null,
            "min_height": null,
            "min_width": null,
            "object_fit": null,
            "object_position": null,
            "order": null,
            "overflow": null,
            "overflow_x": null,
            "overflow_y": null,
            "padding": null,
            "right": null,
            "top": null,
            "visibility": null,
            "width": null
          }
        },
        "7d1d008a3175478bbb71e2f841f671f1": {
          "model_module": "@jupyter-widgets/base",
          "model_module_version": "1.2.0",
          "model_name": "LayoutModel",
          "state": {
            "_model_module": "@jupyter-widgets/base",
            "_model_module_version": "1.2.0",
            "_model_name": "LayoutModel",
            "_view_count": null,
            "_view_module": "@jupyter-widgets/base",
            "_view_module_version": "1.2.0",
            "_view_name": "LayoutView",
            "align_content": null,
            "align_items": null,
            "align_self": null,
            "border": null,
            "bottom": null,
            "display": null,
            "flex": null,
            "flex_flow": null,
            "grid_area": null,
            "grid_auto_columns": null,
            "grid_auto_flow": null,
            "grid_auto_rows": null,
            "grid_column": null,
            "grid_gap": null,
            "grid_row": null,
            "grid_template_areas": null,
            "grid_template_columns": null,
            "grid_template_rows": null,
            "height": null,
            "justify_content": null,
            "justify_items": null,
            "left": null,
            "margin": null,
            "max_height": null,
            "max_width": null,
            "min_height": null,
            "min_width": null,
            "object_fit": null,
            "object_position": null,
            "order": null,
            "overflow": null,
            "overflow_x": null,
            "overflow_y": null,
            "padding": null,
            "right": null,
            "top": null,
            "visibility": null,
            "width": null
          }
        },
        "85d915bc775643fc8d432da6ecb772fe": {
          "model_module": "@jupyter-widgets/controls",
          "model_module_version": "1.5.0",
          "model_name": "HTMLModel",
          "state": {
            "_dom_classes": [],
            "_model_module": "@jupyter-widgets/controls",
            "_model_module_version": "1.5.0",
            "_model_name": "HTMLModel",
            "_view_count": null,
            "_view_module": "@jupyter-widgets/controls",
            "_view_module_version": "1.5.0",
            "_view_name": "HTMLView",
            "description": "",
            "description_tooltip": null,
            "layout": "IPY_MODEL_1ef44efcd9b44a9eb12c2999ba0b99bb",
            "placeholder": "​",
            "style": "IPY_MODEL_23ba60552b6d4ab5969587750703774e",
            "value": "Downloading pytorch_model.bin: 100%"
          }
        },
        "8b900d0b63654fb395ef42457f64ee5a": {
          "model_module": "@jupyter-widgets/controls",
          "model_module_version": "1.5.0",
          "model_name": "HBoxModel",
          "state": {
            "_dom_classes": [],
            "_model_module": "@jupyter-widgets/controls",
            "_model_module_version": "1.5.0",
            "_model_name": "HBoxModel",
            "_view_count": null,
            "_view_module": "@jupyter-widgets/controls",
            "_view_module_version": "1.5.0",
            "_view_name": "HBoxView",
            "box_style": "",
            "children": [
              "IPY_MODEL_fbfcafe5cf8947648ea0f56e9920d692",
              "IPY_MODEL_59bb54af740b4ad8bc5ef54b6bf1c317",
              "IPY_MODEL_0c238c2a1cad4cdc89fd6abd3ac7570e"
            ],
            "layout": "IPY_MODEL_0544a2ff27bb4737ade0ea433754bf6c"
          }
        },
        "956e44da986d4a61b1a9456ae93c51b8": {
          "model_module": "@jupyter-widgets/controls",
          "model_module_version": "1.5.0",
          "model_name": "DescriptionStyleModel",
          "state": {
            "_model_module": "@jupyter-widgets/controls",
            "_model_module_version": "1.5.0",
            "_model_name": "DescriptionStyleModel",
            "_view_count": null,
            "_view_module": "@jupyter-widgets/base",
            "_view_module_version": "1.2.0",
            "_view_name": "StyleView",
            "description_width": ""
          }
        },
        "a55ce86035814923a986e3306960aaa6": {
          "model_module": "@jupyter-widgets/controls",
          "model_module_version": "1.5.0",
          "model_name": "HTMLModel",
          "state": {
            "_dom_classes": [],
            "_model_module": "@jupyter-widgets/controls",
            "_model_module_version": "1.5.0",
            "_model_name": "HTMLModel",
            "_view_count": null,
            "_view_module": "@jupyter-widgets/controls",
            "_view_module_version": "1.5.0",
            "_view_name": "HTMLView",
            "description": "",
            "description_tooltip": null,
            "layout": "IPY_MODEL_4d0cf0490d3b4c59bf328ec508821f46",
            "placeholder": "​",
            "style": "IPY_MODEL_956e44da986d4a61b1a9456ae93c51b8",
            "value": " 434/434 [00:00&lt;00:00, 9.75kB/s]"
          }
        },
        "abc67117712140318e836866df7c4fde": {
          "model_module": "@jupyter-widgets/controls",
          "model_module_version": "1.5.0",
          "model_name": "ProgressStyleModel",
          "state": {
            "_model_module": "@jupyter-widgets/controls",
            "_model_module_version": "1.5.0",
            "_model_name": "ProgressStyleModel",
            "_view_count": null,
            "_view_module": "@jupyter-widgets/base",
            "_view_module_version": "1.2.0",
            "_view_name": "StyleView",
            "bar_color": null,
            "description_width": ""
          }
        },
        "b1ad34c127e0473bb81587244d3e76b0": {
          "model_module": "@jupyter-widgets/base",
          "model_module_version": "1.2.0",
          "model_name": "LayoutModel",
          "state": {
            "_model_module": "@jupyter-widgets/base",
            "_model_module_version": "1.2.0",
            "_model_name": "LayoutModel",
            "_view_count": null,
            "_view_module": "@jupyter-widgets/base",
            "_view_module_version": "1.2.0",
            "_view_name": "LayoutView",
            "align_content": null,
            "align_items": null,
            "align_self": null,
            "border": null,
            "bottom": null,
            "display": null,
            "flex": null,
            "flex_flow": null,
            "grid_area": null,
            "grid_auto_columns": null,
            "grid_auto_flow": null,
            "grid_auto_rows": null,
            "grid_column": null,
            "grid_gap": null,
            "grid_row": null,
            "grid_template_areas": null,
            "grid_template_columns": null,
            "grid_template_rows": null,
            "height": null,
            "justify_content": null,
            "justify_items": null,
            "left": null,
            "margin": null,
            "max_height": null,
            "max_width": null,
            "min_height": null,
            "min_width": null,
            "object_fit": null,
            "object_position": null,
            "order": null,
            "overflow": null,
            "overflow_x": null,
            "overflow_y": null,
            "padding": null,
            "right": null,
            "top": null,
            "visibility": null,
            "width": null
          }
        },
        "b58af5dced2a4c918da2ca057a878383": {
          "model_module": "@jupyter-widgets/base",
          "model_module_version": "1.2.0",
          "model_name": "LayoutModel",
          "state": {
            "_model_module": "@jupyter-widgets/base",
            "_model_module_version": "1.2.0",
            "_model_name": "LayoutModel",
            "_view_count": null,
            "_view_module": "@jupyter-widgets/base",
            "_view_module_version": "1.2.0",
            "_view_name": "LayoutView",
            "align_content": null,
            "align_items": null,
            "align_self": null,
            "border": null,
            "bottom": null,
            "display": null,
            "flex": null,
            "flex_flow": null,
            "grid_area": null,
            "grid_auto_columns": null,
            "grid_auto_flow": null,
            "grid_auto_rows": null,
            "grid_column": null,
            "grid_gap": null,
            "grid_row": null,
            "grid_template_areas": null,
            "grid_template_columns": null,
            "grid_template_rows": null,
            "height": null,
            "justify_content": null,
            "justify_items": null,
            "left": null,
            "margin": null,
            "max_height": null,
            "max_width": null,
            "min_height": null,
            "min_width": null,
            "object_fit": null,
            "object_position": null,
            "order": null,
            "overflow": null,
            "overflow_x": null,
            "overflow_y": null,
            "padding": null,
            "right": null,
            "top": null,
            "visibility": null,
            "width": null
          }
        },
        "dcafbccb59d546b58017950505486d12": {
          "model_module": "@jupyter-widgets/base",
          "model_module_version": "1.2.0",
          "model_name": "LayoutModel",
          "state": {
            "_model_module": "@jupyter-widgets/base",
            "_model_module_version": "1.2.0",
            "_model_name": "LayoutModel",
            "_view_count": null,
            "_view_module": "@jupyter-widgets/base",
            "_view_module_version": "1.2.0",
            "_view_name": "LayoutView",
            "align_content": null,
            "align_items": null,
            "align_self": null,
            "border": null,
            "bottom": null,
            "display": null,
            "flex": null,
            "flex_flow": null,
            "grid_area": null,
            "grid_auto_columns": null,
            "grid_auto_flow": null,
            "grid_auto_rows": null,
            "grid_column": null,
            "grid_gap": null,
            "grid_row": null,
            "grid_template_areas": null,
            "grid_template_columns": null,
            "grid_template_rows": null,
            "height": null,
            "justify_content": null,
            "justify_items": null,
            "left": null,
            "margin": null,
            "max_height": null,
            "max_width": null,
            "min_height": null,
            "min_width": null,
            "object_fit": null,
            "object_position": null,
            "order": null,
            "overflow": null,
            "overflow_x": null,
            "overflow_y": null,
            "padding": null,
            "right": null,
            "top": null,
            "visibility": null,
            "width": null
          }
        },
        "e68c8e38ef174285812a2aa500f766d8": {
          "model_module": "@jupyter-widgets/controls",
          "model_module_version": "1.5.0",
          "model_name": "FloatProgressModel",
          "state": {
            "_dom_classes": [],
            "_model_module": "@jupyter-widgets/controls",
            "_model_module_version": "1.5.0",
            "_model_name": "FloatProgressModel",
            "_view_count": null,
            "_view_module": "@jupyter-widgets/controls",
            "_view_module_version": "1.5.0",
            "_view_name": "ProgressView",
            "bar_style": "success",
            "description": "",
            "description_tooltip": null,
            "layout": "IPY_MODEL_45aa86a6b6f44370878c96ae1bef11a3",
            "max": 654186735,
            "min": 0,
            "orientation": "horizontal",
            "style": "IPY_MODEL_abc67117712140318e836866df7c4fde",
            "value": 654186735
          }
        },
        "e9c0caeaf3614621aad9537f3e88458e": {
          "model_module": "@jupyter-widgets/controls",
          "model_module_version": "1.5.0",
          "model_name": "HTMLModel",
          "state": {
            "_dom_classes": [],
            "_model_module": "@jupyter-widgets/controls",
            "_model_module_version": "1.5.0",
            "_model_name": "HTMLModel",
            "_view_count": null,
            "_view_module": "@jupyter-widgets/controls",
            "_view_module_version": "1.5.0",
            "_view_name": "HTMLView",
            "description": "",
            "description_tooltip": null,
            "layout": "IPY_MODEL_33f5581e1a8541a685c9c422075fc70a",
            "placeholder": "​",
            "style": "IPY_MODEL_556b619c3ca840af9c10666d9320c804",
            "value": "Downloading (…)lve/main/config.json: 100%"
          }
        },
        "fa037abf397047d1a4885cddcc5d8a07": {
          "model_module": "@jupyter-widgets/base",
          "model_module_version": "1.2.0",
          "model_name": "LayoutModel",
          "state": {
            "_model_module": "@jupyter-widgets/base",
            "_model_module_version": "1.2.0",
            "_model_name": "LayoutModel",
            "_view_count": null,
            "_view_module": "@jupyter-widgets/base",
            "_view_module_version": "1.2.0",
            "_view_name": "LayoutView",
            "align_content": null,
            "align_items": null,
            "align_self": null,
            "border": null,
            "bottom": null,
            "display": null,
            "flex": null,
            "flex_flow": null,
            "grid_area": null,
            "grid_auto_columns": null,
            "grid_auto_flow": null,
            "grid_auto_rows": null,
            "grid_column": null,
            "grid_gap": null,
            "grid_row": null,
            "grid_template_areas": null,
            "grid_template_columns": null,
            "grid_template_rows": null,
            "height": null,
            "justify_content": null,
            "justify_items": null,
            "left": null,
            "margin": null,
            "max_height": null,
            "max_width": null,
            "min_height": null,
            "min_width": null,
            "object_fit": null,
            "object_position": null,
            "order": null,
            "overflow": null,
            "overflow_x": null,
            "overflow_y": null,
            "padding": null,
            "right": null,
            "top": null,
            "visibility": null,
            "width": null
          }
        },
        "fbfcafe5cf8947648ea0f56e9920d692": {
          "model_module": "@jupyter-widgets/controls",
          "model_module_version": "1.5.0",
          "model_name": "HTMLModel",
          "state": {
            "_dom_classes": [],
            "_model_module": "@jupyter-widgets/controls",
            "_model_module_version": "1.5.0",
            "_model_name": "HTMLModel",
            "_view_count": null,
            "_view_module": "@jupyter-widgets/controls",
            "_view_module_version": "1.5.0",
            "_view_name": "HTMLView",
            "description": "",
            "description_tooltip": null,
            "layout": "IPY_MODEL_dcafbccb59d546b58017950505486d12",
            "placeholder": "​",
            "style": "IPY_MODEL_0f41ca48c4b44d7fb12d3fcfc855915b",
            "value": "Downloading (…)solve/main/vocab.txt: 100%"
          }
        }
      }
    }
  },
  "nbformat": 4,
  "nbformat_minor": 0
}
